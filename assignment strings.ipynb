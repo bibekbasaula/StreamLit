{
 "cells": [
  {
   "cell_type": "code",
   "execution_count": 1,
   "id": "2f3c2c4f-fabd-450a-8944-4ddcad4a6c24",
   "metadata": {},
   "outputs": [
    {
     "name": "stdout",
     "output_type": "stream",
     "text": [
      "Python 4 data science\n"
     ]
    }
   ],
   "source": [
    "print('Python 4 data science')"
   ]
  },
  {
   "cell_type": "code",
   "execution_count": 3,
   "id": "6a868517-0fb0-4370-b478-f37b2a8210a9",
   "metadata": {},
   "outputs": [
    {
     "name": "stdout",
     "output_type": "stream",
     "text": [
      "Python 4 data science \n"
     ]
    }
   ],
   "source": [
    "x='Python '\n",
    "y= '4 '\n",
    "z='data '\n",
    "k = 'science '\n",
    "\n",
    "print(x + y + z + k)\n"
   ]
  },
  {
   "cell_type": "code",
   "execution_count": 4,
   "id": "7732dedc-1eac-4359-a64a-a07bee3325c2",
   "metadata": {},
   "outputs": [],
   "source": [
    "course = 'Python 4 Data Science'"
   ]
  },
  {
   "cell_type": "code",
   "execution_count": 5,
   "id": "b1247c20-59db-412a-9f10-d2ea773398a1",
   "metadata": {},
   "outputs": [
    {
     "data": {
      "text/plain": [
       "21"
      ]
     },
     "execution_count": 5,
     "metadata": {},
     "output_type": "execute_result"
    }
   ],
   "source": [
    "len(course)"
   ]
  },
  {
   "cell_type": "code",
   "execution_count": 9,
   "id": "3a12b89b-0683-4362-8d7c-44bfa2db092b",
   "metadata": {},
   "outputs": [
    {
     "name": "stdout",
     "output_type": "stream",
     "text": [
      "broadway info sys\n",
      "BROADWAY INFO SYS\n"
     ]
    }
   ],
   "source": [
    "company = 'Broadway Info SYS'\n",
    "print(company.lower())\n",
    "print(company.upper())"
   ]
  },
  {
   "cell_type": "code",
   "execution_count": 11,
   "id": "6f73a597-8311-4a27-88a0-c723898ff533",
   "metadata": {},
   "outputs": [
    {
     "name": "stdout",
     "output_type": "stream",
     "text": [
      "Python 4 data science\n",
      "Python 4 Data Science\n",
      "pYTHON 4 dATA sCIENCE\n"
     ]
    }
   ],
   "source": [
    "print(course.capitalize())\n",
    "print(course.title())\n",
    "print(course.swapcase())"
   ]
  },
  {
   "cell_type": "code",
   "execution_count": 14,
   "id": "aba4ec51-fb45-4985-b377-50c053864d91",
   "metadata": {},
   "outputs": [
    {
     "name": "stdout",
     "output_type": "stream",
     "text": [
      "Python\n"
     ]
    }
   ],
   "source": [
    "print(course[0:6])"
   ]
  },
  {
   "cell_type": "code",
   "execution_count": 15,
   "id": "d5eba532-78c2-405c-ae96-9f91c9d0c27f",
   "metadata": {},
   "outputs": [
    {
     "data": {
      "text/plain": [
       "0"
      ]
     },
     "execution_count": 15,
     "metadata": {},
     "output_type": "execute_result"
    }
   ],
   "source": [
    "course.index('Python')"
   ]
  },
  {
   "cell_type": "code",
   "execution_count": 20,
   "id": "5a51281a-8ba6-4100-8301-fe4ebdc76461",
   "metadata": {},
   "outputs": [
    {
     "data": {
      "text/plain": [
       "0"
      ]
     },
     "execution_count": 20,
     "metadata": {},
     "output_type": "execute_result"
    }
   ],
   "source": [
    "course.find('Python')"
   ]
  },
  {
   "cell_type": "code",
   "execution_count": 22,
   "id": "f4c78e93-1b79-4b52-890d-f7e018131668",
   "metadata": {},
   "outputs": [
    {
     "data": {
      "text/plain": [
       "True"
      ]
     },
     "execution_count": 22,
     "metadata": {},
     "output_type": "execute_result"
    }
   ],
   "source": [
    "'Python' in course"
   ]
  },
  {
   "cell_type": "code",
   "execution_count": 29,
   "id": "801f6f6b-47dc-4b68-b52d-d1974b6ae9da",
   "metadata": {},
   "outputs": [],
   "source": [
    "#course.replace('Data Science','Everybody')"
   ]
  },
  {
   "cell_type": "code",
   "execution_count": 24,
   "id": "6583158b-e2ce-41b7-b1f5-5e841b6507eb",
   "metadata": {},
   "outputs": [
    {
     "name": "stdout",
     "output_type": "stream",
     "text": [
      "Help on method_descriptor:\n",
      "\n",
      "replace(self, old, new, /, count=-1) unbound builtins.str method\n",
      "    Return a copy with all occurrences of substring old replaced by new.\n",
      "\n",
      "      count\n",
      "        Maximum number of occurrences to replace.\n",
      "        -1 (the default value) means replace all occurrences.\n",
      "\n",
      "    If the optional argument count is given, only the first count occurrences are\n",
      "    replaced.\n",
      "\n"
     ]
    }
   ],
   "source": [
    "help(str.replace)"
   ]
  },
  {
   "cell_type": "code",
   "execution_count": 30,
   "id": "46e26bb0-0258-414f-aa32-4c652034c16a",
   "metadata": {},
   "outputs": [],
   "source": [
    "s = \"Python for Data Science\""
   ]
  },
  {
   "cell_type": "code",
   "execution_count": 36,
   "id": "1e7c6e37-848f-42cd-9457-b794f4768ef9",
   "metadata": {},
   "outputs": [
    {
     "data": {
      "text/plain": [
       "['Python', 'for', 'Data', 'Science']"
      ]
     },
     "execution_count": 36,
     "metadata": {},
     "output_type": "execute_result"
    }
   ],
   "source": [
    "s.split(\" \")"
   ]
  },
  {
   "cell_type": "code",
   "execution_count": 32,
   "id": "0bc38587-efd7-4bf1-ba5a-a231e0ffc778",
   "metadata": {},
   "outputs": [
    {
     "name": "stdout",
     "output_type": "stream",
     "text": [
      "Help on method_descriptor:\n",
      "\n",
      "split(self, /, sep=None, maxsplit=-1) unbound builtins.str method\n",
      "    Return a list of the substrings in the string, using sep as the separator string.\n",
      "\n",
      "      sep\n",
      "        The separator used to split the string.\n",
      "\n",
      "        When set to None (the default value), will split on any whitespace\n",
      "        character (including \\n \\r \\t \\f and spaces) and will discard\n",
      "        empty strings from the result.\n",
      "      maxsplit\n",
      "        Maximum number of splits.\n",
      "        -1 (the default value) means no limit.\n",
      "\n",
      "    Splitting starts at the front of the string and works to the end.\n",
      "\n",
      "    Note, str.split() is mainly useful for data that has been intentionally\n",
      "    delimited.  With natural text that includes punctuation, consider using\n",
      "    the regular expression module.\n",
      "\n"
     ]
    }
   ],
   "source": [
    "help(str.split)"
   ]
  },
  {
   "cell_type": "code",
   "execution_count": 33,
   "id": "dcbfafec-9125-49c3-a06f-bbb7aaa669e8",
   "metadata": {},
   "outputs": [],
   "source": [
    "c = 'Google, Facebook, Microsoft, Apple, IBM, Oracle, Amazon'"
   ]
  },
  {
   "cell_type": "code",
   "execution_count": 35,
   "id": "4ea71b30-c900-4343-9f2b-2261a7f48442",
   "metadata": {},
   "outputs": [
    {
     "name": "stdout",
     "output_type": "stream",
     "text": [
      "['Google', ' Facebook', ' Microsoft', ' Apple', ' IBM', ' Oracle', ' Amazon']\n"
     ]
    }
   ],
   "source": [
    "print(c.split(','))"
   ]
  },
  {
   "cell_type": "code",
   "execution_count": 37,
   "id": "b94f881e-a79f-4557-a554-023825903933",
   "metadata": {},
   "outputs": [
    {
     "name": "stdout",
     "output_type": "stream",
     "text": [
      "a\n"
     ]
    }
   ],
   "source": [
    "print(c[9])"
   ]
  },
  {
   "cell_type": "code",
   "execution_count": 38,
   "id": "b2f56335-ca65-4656-b17b-f62d10e99686",
   "metadata": {},
   "outputs": [
    {
     "name": "stdout",
     "output_type": "stream",
     "text": [
      "o\n"
     ]
    }
   ],
   "source": [
    "print(c[-2])"
   ]
  },
  {
   "cell_type": "code",
   "execution_count": 46,
   "id": "cb658885-8c8a-4cb2-a285-8491c7f510a5",
   "metadata": {},
   "outputs": [
    {
     "data": {
      "text/plain": [
       "['Python', '4', 'Data', 'Science']"
      ]
     },
     "execution_count": 46,
     "metadata": {},
     "output_type": "execute_result"
    }
   ],
   "source": [
    "course.split(\" \")\n",
    "print(course[0], course["
   ]
  },
  {
   "cell_type": "code",
   "execution_count": 47,
   "id": "cd6e50ad-3d1e-4806-8cd5-8b1dd6046c82",
   "metadata": {},
   "outputs": [
    {
     "data": {
      "text/plain": [
       "21"
      ]
     },
     "execution_count": 47,
     "metadata": {},
     "output_type": "execute_result"
    }
   ],
   "source": [
    "len(course)\n"
   ]
  },
  {
   "cell_type": "code",
   "execution_count": 49,
   "id": "ff4bb956-a500-4a26-808e-95afd6d695b7",
   "metadata": {},
   "outputs": [
    {
     "name": "stdout",
     "output_type": "stream",
     "text": [
      "The \"for\" statement\n",
      "*******************\n",
      "\n",
      "The \"for\" statement is used to iterate over the elements of a sequence\n",
      "(such as a string, tuple or list) or other iterable object:\n",
      "\n",
      "   for_stmt ::= \"for\" target_list \"in\" starred_list \":\" suite\n",
      "                [\"else\" \":\" suite]\n",
      "\n",
      "The \"starred_list\" expression is evaluated once; it should yield an\n",
      "*iterable* object.  An *iterator* is created for that iterable. The\n",
      "first item provided by the iterator is then assigned to the target\n",
      "list using the standard rules for assignments (see Assignment\n",
      "statements), and the suite is executed.  This repeats for each item\n",
      "provided by the iterator.  When the iterator is exhausted, the suite\n",
      "in the \"else\" clause, if present, is executed, and the loop\n",
      "terminates.\n",
      "\n",
      "A \"break\" statement executed in the first suite terminates the loop\n",
      "without executing the \"else\" clause’s suite.  A \"continue\" statement\n",
      "executed in the first suite skips the rest of the suite and continues\n",
      "with the next item, or with the \"else\" clause if there is no next\n",
      "item.\n",
      "\n",
      "The for-loop makes assignments to the variables in the target list.\n",
      "This overwrites all previous assignments to those variables including\n",
      "those made in the suite of the for-loop:\n",
      "\n",
      "   for i in range(10):\n",
      "       print(i)\n",
      "       i = 5             # this will not affect the for-loop\n",
      "                         # because i will be overwritten with the next\n",
      "                         # index in the range\n",
      "\n",
      "Names in the target list are not deleted when the loop is finished,\n",
      "but if the sequence is empty, they will not have been assigned to at\n",
      "all by the loop.  Hint: the built-in type \"range()\" represents\n",
      "immutable arithmetic sequences of integers. For instance, iterating\n",
      "\"range(3)\" successively yields 0, 1, and then 2.\n",
      "\n",
      "Changed in version 3.11: Starred elements are now allowed in the\n",
      "expression list.\n",
      "\n",
      "Related help topics: break, continue, while\n",
      "\n"
     ]
    }
   ],
   "source": [
    "help('for')"
   ]
  },
  {
   "cell_type": "code",
   "execution_count": 74,
   "id": "ccb3a8cf-b7f1-45f4-b3cc-bc29d42f8fb5",
   "metadata": {},
   "outputs": [
    {
     "name": "stdout",
     "output_type": "stream",
     "text": [
      "4DS"
     ]
    }
   ],
   "source": [
    "if course:\n",
    "    result = ''\n",
    "    result += course[0].upper()\n",
    "for i in range(21):    \n",
    "    if course[i] == ' ':\n",
    "           print(course[i+1], end='')\n",
    "   "
   ]
  },
  {
   "cell_type": "code",
   "execution_count": 69,
   "id": "6d05fd7e-933c-4f5e-8768-67cd94b54afa",
   "metadata": {},
   "outputs": [
    {
     "data": {
      "text/plain": [
       "9"
      ]
     },
     "execution_count": 69,
     "metadata": {},
     "output_type": "execute_result"
    }
   ],
   "source": [
    "course.index('D')"
   ]
  },
  {
   "cell_type": "code",
   "execution_count": 70,
   "id": "9b730d38-8540-4a3d-b0f3-812732101679",
   "metadata": {},
   "outputs": [
    {
     "data": {
      "text/plain": [
       "20"
      ]
     },
     "execution_count": 70,
     "metadata": {},
     "output_type": "execute_result"
    }
   ],
   "source": [
    "course.rfind('e')"
   ]
  },
  {
   "cell_type": "code",
   "execution_count": 71,
   "id": "fd6709c9-a52d-481e-b665-7f5045596ea9",
   "metadata": {},
   "outputs": [
    {
     "data": {
      "text/plain": [
       "-1"
      ]
     },
     "execution_count": 71,
     "metadata": {},
     "output_type": "execute_result"
    }
   ],
   "source": [
    "course.find('because')"
   ]
  },
  {
   "cell_type": "code",
   "execution_count": 81,
   "id": "26c4eac2-1447-4a8d-ae4e-a4ac46a0d537",
   "metadata": {},
   "outputs": [],
   "source": [
    "g = 'We cannont end the sentence with \"because\" because \"because\" is a conjuction'"
   ]
  },
  {
   "cell_type": "code",
   "execution_count": 91,
   "id": "0328764a-5f1e-4a72-8ba6-4abf2a4b8e98",
   "metadata": {},
   "outputs": [
    {
     "data": {
      "text/plain": [
       "34"
      ]
     },
     "execution_count": 91,
     "metadata": {},
     "output_type": "execute_result"
    }
   ],
   "source": [
    "g.find('because')"
   ]
  },
  {
   "cell_type": "code",
   "execution_count": 83,
   "id": "79dd72b7-064e-4336-9ce4-8429ed296d60",
   "metadata": {},
   "outputs": [
    {
     "data": {
      "text/plain": [
       "52"
      ]
     },
     "execution_count": 83,
     "metadata": {},
     "output_type": "execute_result"
    }
   ],
   "source": [
    "g.rindex('because')"
   ]
  },
  {
   "cell_type": "code",
   "execution_count": 90,
   "id": "f15a962e-979c-4dac-9ff6-eab98b78b5ff",
   "metadata": {},
   "outputs": [
    {
     "data": {
      "text/plain": [
       "43"
      ]
     },
     "execution_count": 90,
     "metadata": {},
     "output_type": "execute_result"
    }
   ],
   "source": [
    "g.index('because', 35)"
   ]
  },
  {
   "cell_type": "code",
   "execution_count": 88,
   "id": "ee127ca8-438c-4808-93e4-d829e7472ef0",
   "metadata": {
    "scrolled": true
   },
   "outputs": [
    {
     "data": {
      "text/plain": [
       "('because', 'because', 'because')"
      ]
     },
     "execution_count": 88,
     "metadata": {},
     "output_type": "execute_result"
    }
   ],
   "source": [
    "g[34:41],g[43:50],g[52:59]"
   ]
  },
  {
   "cell_type": "code",
   "execution_count": null,
   "id": "5e287caa-1826-452a-b95c-85f04e8ca92e",
   "metadata": {},
   "outputs": [],
   "source": []
  }
 ],
 "metadata": {
  "kernelspec": {
   "display_name": "Python 3 (ipykernel)",
   "language": "python",
   "name": "python3"
  },
  "language_info": {
   "codemirror_mode": {
    "name": "ipython",
    "version": 3
   },
   "file_extension": ".py",
   "mimetype": "text/x-python",
   "name": "python",
   "nbconvert_exporter": "python",
   "pygments_lexer": "ipython3",
   "version": "3.13.3"
  }
 },
 "nbformat": 4,
 "nbformat_minor": 5
}
