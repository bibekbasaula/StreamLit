{
 "cells": [
  {
   "cell_type": "code",
   "execution_count": 1,
   "id": "6b46daab-9ad4-49aa-9611-590fca98e9a7",
   "metadata": {},
   "outputs": [
    {
     "name": "stdout",
     "output_type": "stream",
     "text": [
      "(1, 2, 3, 4, 5) <class 'tuple'>\n"
     ]
    }
   ],
   "source": [
    "x = (1,2,3,4,5)\n",
    "print(x, type(x))"
   ]
  },
  {
   "cell_type": "code",
   "execution_count": 2,
   "id": "e3bf65aa-bfde-47d2-89b5-a4c1f2cdfe60",
   "metadata": {},
   "outputs": [
    {
     "name": "stdout",
     "output_type": "stream",
     "text": [
      "(1, 1.5j, 4j, 'string', [1, 2, 3], (1, 2, 3), {1, 2}, {'name': 'bibek'}) <class 'tuple'>\n"
     ]
    }
   ],
   "source": [
    "#supports any type of data structure\n",
    "#orderd collection \n",
    "x = (1, 1.5j, 4j, 'string', [1,2,3], (1,2,3), {1,2}, {'name':'bibek'})\n",
    "print(x, type(x))"
   ]
  },
  {
   "cell_type": "code",
   "execution_count": 7,
   "id": "19a3ae88-b6f3-4f80-80ff-15f6aff051b5",
   "metadata": {},
   "outputs": [],
   "source": [
    "# tuple => immutable datastructure => cannot be changed once defined"
   ]
  },
  {
   "cell_type": "code",
   "execution_count": 8,
   "id": "2e970f47-6e9d-48fb-b9df-932cdd9eb1ca",
   "metadata": {},
   "outputs": [
    {
     "ename": "TypeError",
     "evalue": "'tuple' object does not support item assignment",
     "output_type": "error",
     "traceback": [
      "\u001b[31m---------------------------------------------------------------------------\u001b[39m",
      "\u001b[31mTypeError\u001b[39m                                 Traceback (most recent call last)",
      "\u001b[36mCell\u001b[39m\u001b[36m \u001b[39m\u001b[32mIn[8]\u001b[39m\u001b[32m, line 2\u001b[39m\n\u001b[32m      1\u001b[39m x = (\u001b[32m1\u001b[39m,\u001b[32m2\u001b[39m,\u001b[32m3\u001b[39m,\u001b[32m4\u001b[39m)\n\u001b[32m----> \u001b[39m\u001b[32m2\u001b[39m \u001b[43mx\u001b[49m\u001b[43m[\u001b[49m\u001b[32;43m0\u001b[39;49m\u001b[43m]\u001b[49m = \u001b[33m'\u001b[39m\u001b[33mram\u001b[39m\u001b[33m'\u001b[39m\n",
      "\u001b[31mTypeError\u001b[39m: 'tuple' object does not support item assignment"
     ]
    }
   ],
   "source": [
    "x = (1,2,3,4)\n",
    "x[0] = 'ram'"
   ]
  },
  {
   "cell_type": "code",
   "execution_count": 9,
   "id": "b14a5adc-ccda-43f2-a79f-babde5815e3a",
   "metadata": {},
   "outputs": [
    {
     "ename": "TypeError",
     "evalue": "'tuple' object doesn't support item deletion",
     "output_type": "error",
     "traceback": [
      "\u001b[31m---------------------------------------------------------------------------\u001b[39m",
      "\u001b[31mTypeError\u001b[39m                                 Traceback (most recent call last)",
      "\u001b[36mCell\u001b[39m\u001b[36m \u001b[39m\u001b[32mIn[9]\u001b[39m\u001b[32m, line 2\u001b[39m\n\u001b[32m      1\u001b[39m x = (\u001b[32m1\u001b[39m,\u001b[32m2\u001b[39m,\u001b[32m3\u001b[39m,\u001b[32m4\u001b[39m)\n\u001b[32m----> \u001b[39m\u001b[32m2\u001b[39m \u001b[38;5;28;01mdel\u001b[39;00m \u001b[43mx\u001b[49m\u001b[43m[\u001b[49m\u001b[32;43m0\u001b[39;49m\u001b[43m]\u001b[49m\n\u001b[32m      3\u001b[39m \u001b[38;5;28mprint\u001b[39m(x)\n",
      "\u001b[31mTypeError\u001b[39m: 'tuple' object doesn't support item deletion"
     ]
    }
   ],
   "source": [
    "x = (1,2,3,4)\n",
    "del x[0]\n",
    "print(x)"
   ]
  },
  {
   "cell_type": "code",
   "execution_count": 10,
   "id": "6cf5208b-ad80-4ee2-9e01-e302b8575655",
   "metadata": {},
   "outputs": [
    {
     "data": {
      "text/plain": [
       "3"
      ]
     },
     "execution_count": 10,
     "metadata": {},
     "output_type": "execute_result"
    }
   ],
   "source": [
    "x = (1,2,3,4,5)\n",
    "x[2]"
   ]
  },
  {
   "cell_type": "code",
   "execution_count": 15,
   "id": "dcf93679-8695-45cc-b281-96bd16017202",
   "metadata": {},
   "outputs": [
    {
     "data": {
      "text/plain": [
       "(2, 3, 4, 5)"
      ]
     },
     "execution_count": 15,
     "metadata": {},
     "output_type": "execute_result"
    }
   ],
   "source": [
    "x[1:]"
   ]
  },
  {
   "cell_type": "code",
   "execution_count": 18,
   "id": "89860b1f-519c-45eb-b316-d11c0b5fa448",
   "metadata": {},
   "outputs": [
    {
     "name": "stdout",
     "output_type": "stream",
     "text": [
      "0\n"
     ]
    }
   ],
   "source": [
    "x = (1,2,3,4,5)\n",
    "print(x.index(1))"
   ]
  },
  {
   "cell_type": "code",
   "execution_count": 25,
   "id": "61e81866-3f57-465c-8850-68f91e0f46a9",
   "metadata": {},
   "outputs": [
    {
     "name": "stdout",
     "output_type": "stream",
     "text": [
      "1\n"
     ]
    }
   ],
   "source": [
    "x = (1,2,3,4,5)\n",
    "print(x.count(3))"
   ]
  },
  {
   "cell_type": "code",
   "execution_count": 20,
   "id": "0adecc08-d288-4e86-be63-13bff598edc2",
   "metadata": {},
   "outputs": [
    {
     "name": "stdout",
     "output_type": "stream",
     "text": [
      "1 <class 'int'>\n"
     ]
    }
   ],
   "source": [
    "x = (1)\n",
    "print(x,type(x))"
   ]
  },
  {
   "cell_type": "code",
   "execution_count": 21,
   "id": "a01e6268-569c-4fd9-86d4-59a2ce2b77eb",
   "metadata": {},
   "outputs": [
    {
     "name": "stdout",
     "output_type": "stream",
     "text": [
      "(1,) <class 'tuple'>\n"
     ]
    }
   ],
   "source": [
    "x = (1,)\n",
    "print(x, type(x))"
   ]
  },
  {
   "cell_type": "code",
   "execution_count": 23,
   "id": "bf189e75-8b2f-43ed-91d6-a84897638ba5",
   "metadata": {},
   "outputs": [
    {
     "data": {
      "text/plain": [
       "tuple"
      ]
     },
     "execution_count": 23,
     "metadata": {},
     "output_type": "execute_result"
    }
   ],
   "source": [
    "x = 1,2,3,4\n",
    "type(x)"
   ]
  },
  {
   "cell_type": "code",
   "execution_count": 24,
   "id": "81f840f1-f106-4f7a-a0cb-682fae21db10",
   "metadata": {},
   "outputs": [
    {
     "name": "stdout",
     "output_type": "stream",
     "text": [
      "Help on class tuple in module builtins:\n",
      "\n",
      "class tuple(object)\n",
      " |  tuple(iterable=(), /)\n",
      " |\n",
      " |  Built-in immutable sequence.\n",
      " |\n",
      " |  If no argument is given, the constructor returns an empty tuple.\n",
      " |  If iterable is specified the tuple is initialized from iterable's items.\n",
      " |\n",
      " |  If the argument is a tuple, the return value is the same object.\n",
      " |\n",
      " |  Built-in subclasses:\n",
      " |      asyncgen_hooks\n",
      " |      UnraisableHookArgs\n",
      " |\n",
      " |  Methods defined here:\n",
      " |\n",
      " |  __add__(self, value, /)\n",
      " |      Return self+value.\n",
      " |\n",
      " |  __contains__(self, key, /)\n",
      " |      Return bool(key in self).\n",
      " |\n",
      " |  __eq__(self, value, /)\n",
      " |      Return self==value.\n",
      " |\n",
      " |  __ge__(self, value, /)\n",
      " |      Return self>=value.\n",
      " |\n",
      " |  __getattribute__(self, name, /)\n",
      " |      Return getattr(self, name).\n",
      " |\n",
      " |  __getitem__(self, key, /)\n",
      " |      Return self[key].\n",
      " |\n",
      " |  __getnewargs__(self, /)\n",
      " |\n",
      " |  __gt__(self, value, /)\n",
      " |      Return self>value.\n",
      " |\n",
      " |  __hash__(self, /)\n",
      " |      Return hash(self).\n",
      " |\n",
      " |  __iter__(self, /)\n",
      " |      Implement iter(self).\n",
      " |\n",
      " |  __le__(self, value, /)\n",
      " |      Return self<=value.\n",
      " |\n",
      " |  __len__(self, /)\n",
      " |      Return len(self).\n",
      " |\n",
      " |  __lt__(self, value, /)\n",
      " |      Return self<value.\n",
      " |\n",
      " |  __mul__(self, value, /)\n",
      " |      Return self*value.\n",
      " |\n",
      " |  __ne__(self, value, /)\n",
      " |      Return self!=value.\n",
      " |\n",
      " |  __repr__(self, /)\n",
      " |      Return repr(self).\n",
      " |\n",
      " |  __rmul__(self, value, /)\n",
      " |      Return value*self.\n",
      " |\n",
      " |  count(self, value, /)\n",
      " |      Return number of occurrences of value.\n",
      " |\n",
      " |  index(self, value, start=0, stop=9223372036854775807, /)\n",
      " |      Return first index of value.\n",
      " |\n",
      " |      Raises ValueError if the value is not present.\n",
      " |\n",
      " |  ----------------------------------------------------------------------\n",
      " |  Class methods defined here:\n",
      " |\n",
      " |  __class_getitem__(object, /)\n",
      " |      See PEP 585\n",
      " |\n",
      " |  ----------------------------------------------------------------------\n",
      " |  Static methods defined here:\n",
      " |\n",
      " |  __new__(*args, **kwargs)\n",
      " |      Create and return a new object.  See help(type) for accurate signature.\n",
      "\n"
     ]
    }
   ],
   "source": [
    "help(tuple)"
   ]
  },
  {
   "cell_type": "code",
   "execution_count": 30,
   "id": "d2be976e-a182-4d51-9e9a-dbdf2a497173",
   "metadata": {},
   "outputs": [
    {
     "name": "stdout",
     "output_type": "stream",
     "text": [
      "1 2 3\n"
     ]
    }
   ],
   "source": [
    "#tuple unpacking\n",
    "x,y,z = 1,2,3\n",
    "print(x,y,z)"
   ]
  },
  {
   "cell_type": "code",
   "execution_count": 33,
   "id": "188be63c-a1a2-4719-9dfb-8d0f95e3dfe6",
   "metadata": {},
   "outputs": [],
   "source": [
    "#list vs tuple\n",
    "#list => mutable, tuple => immutable\n",
    "#list => [] , tuple => may need () but comma is necessary\n",
    "#list => slower than tuple, tuple => faster than list\n",
    "#list => takes more memory than tuple, tuple => takes less memory than list\n",
    "#list => homogenous datastructure, tuple => heterogenous data structure"
   ]
  },
  {
   "cell_type": "code",
   "execution_count": 34,
   "id": "f18aa63f-d851-47fe-b93a-9e540c5330b6",
   "metadata": {},
   "outputs": [],
   "source": [
    "fruits = ['apple', 'orange', 'mango', 'orange'] #same types of data sets is called homogenous\n",
    "person = (1, 'ram', 22, 34332, 323442.6) # different types of data sets is called heteregenous"
   ]
  },
  {
   "cell_type": "code",
   "execution_count": 35,
   "id": "9a571637-dd2a-4344-8d22-a62a5137f643",
   "metadata": {},
   "outputs": [],
   "source": [
    "#dictionary "
   ]
  },
  {
   "cell_type": "code",
   "execution_count": 37,
   "id": "5494df56-6615-45c4-90eb-0b2dc522ad76",
   "metadata": {},
   "outputs": [
    {
     "name": "stdout",
     "output_type": "stream",
     "text": [
      "{'id': 1, 'name': 'ram', 'age': 22, 'salary': 34332} <class 'dict'>\n"
     ]
    }
   ],
   "source": [
    "person = { \n",
    "    'id':1,\n",
    "    'name':'ram',\n",
    "    'age':22,\n",
    "    'salary':34332,\n",
    "}\n",
    "print(person, type(person))"
   ]
  },
  {
   "cell_type": "code",
   "execution_count": 38,
   "id": "98903ffe-30dd-4e97-82d3-b45bec2a1760",
   "metadata": {},
   "outputs": [
    {
     "name": "stdout",
     "output_type": "stream",
     "text": [
      "Help on class dict in module builtins:\n",
      "\n",
      "class dict(object)\n",
      " |  dict() -> new empty dictionary\n",
      " |  dict(mapping) -> new dictionary initialized from a mapping object's\n",
      " |      (key, value) pairs\n",
      " |  dict(iterable) -> new dictionary initialized as if via:\n",
      " |      d = {}\n",
      " |      for k, v in iterable:\n",
      " |          d[k] = v\n",
      " |  dict(**kwargs) -> new dictionary initialized with the name=value pairs\n",
      " |      in the keyword argument list.  For example:  dict(one=1, two=2)\n",
      " |\n",
      " |  Methods defined here:\n",
      " |\n",
      " |  __contains__(self, key, /)\n",
      " |      True if the dictionary has the specified key, else False.\n",
      " |\n",
      " |  __delitem__(self, key, /)\n",
      " |      Delete self[key].\n",
      " |\n",
      " |  __eq__(self, value, /)\n",
      " |      Return self==value.\n",
      " |\n",
      " |  __ge__(self, value, /)\n",
      " |      Return self>=value.\n",
      " |\n",
      " |  __getattribute__(self, name, /)\n",
      " |      Return getattr(self, name).\n",
      " |\n",
      " |  __getitem__(self, key, /)\n",
      " |      Return self[key].\n",
      " |\n",
      " |  __gt__(self, value, /)\n",
      " |      Return self>value.\n",
      " |\n",
      " |  __init__(self, /, *args, **kwargs)\n",
      " |      Initialize self.  See help(type(self)) for accurate signature.\n",
      " |\n",
      " |  __ior__(self, value, /)\n",
      " |      Return self|=value.\n",
      " |\n",
      " |  __iter__(self, /)\n",
      " |      Implement iter(self).\n",
      " |\n",
      " |  __le__(self, value, /)\n",
      " |      Return self<=value.\n",
      " |\n",
      " |  __len__(self, /)\n",
      " |      Return len(self).\n",
      " |\n",
      " |  __lt__(self, value, /)\n",
      " |      Return self<value.\n",
      " |\n",
      " |  __ne__(self, value, /)\n",
      " |      Return self!=value.\n",
      " |\n",
      " |  __or__(self, value, /)\n",
      " |      Return self|value.\n",
      " |\n",
      " |  __repr__(self, /)\n",
      " |      Return repr(self).\n",
      " |\n",
      " |  __reversed__(self, /)\n",
      " |      Return a reverse iterator over the dict keys.\n",
      " |\n",
      " |  __ror__(self, value, /)\n",
      " |      Return value|self.\n",
      " |\n",
      " |  __setitem__(self, key, value, /)\n",
      " |      Set self[key] to value.\n",
      " |\n",
      " |  __sizeof__(self, /)\n",
      " |      Return the size of the dict in memory, in bytes.\n",
      " |\n",
      " |  clear(self, /)\n",
      " |      Remove all items from the dict.\n",
      " |\n",
      " |  copy(self, /)\n",
      " |      Return a shallow copy of the dict.\n",
      " |\n",
      " |  get(self, key, default=None, /)\n",
      " |      Return the value for key if key is in the dictionary, else default.\n",
      " |\n",
      " |  items(self, /)\n",
      " |      Return a set-like object providing a view on the dict's items.\n",
      " |\n",
      " |  keys(self, /)\n",
      " |      Return a set-like object providing a view on the dict's keys.\n",
      " |\n",
      " |  pop(self, key, default=<unrepresentable>, /)\n",
      " |      D.pop(k[,d]) -> v, remove specified key and return the corresponding value.\n",
      " |\n",
      " |      If the key is not found, return the default if given; otherwise,\n",
      " |      raise a KeyError.\n",
      " |\n",
      " |  popitem(self, /)\n",
      " |      Remove and return a (key, value) pair as a 2-tuple.\n",
      " |\n",
      " |      Pairs are returned in LIFO (last-in, first-out) order.\n",
      " |      Raises KeyError if the dict is empty.\n",
      " |\n",
      " |  setdefault(self, key, default=None, /)\n",
      " |      Insert key with a value of default if key is not in the dictionary.\n",
      " |\n",
      " |      Return the value for key if key is in the dictionary, else default.\n",
      " |\n",
      " |  update(...)\n",
      " |      D.update([E, ]**F) -> None.  Update D from mapping/iterable E and F.\n",
      " |      If E is present and has a .keys() method, then does:  for k in E.keys(): D[k] = E[k]\n",
      " |      If E is present and lacks a .keys() method, then does:  for k, v in E: D[k] = v\n",
      " |      In either case, this is followed by: for k in F:  D[k] = F[k]\n",
      " |\n",
      " |  values(self, /)\n",
      " |      Return an object providing a view on the dict's values.\n",
      " |\n",
      " |  ----------------------------------------------------------------------\n",
      " |  Class methods defined here:\n",
      " |\n",
      " |  __class_getitem__(object, /)\n",
      " |      See PEP 585\n",
      " |\n",
      " |  fromkeys(iterable, value=None, /)\n",
      " |      Create a new dictionary with keys from iterable and values set to value.\n",
      " |\n",
      " |  ----------------------------------------------------------------------\n",
      " |  Static methods defined here:\n",
      " |\n",
      " |  __new__(*args, **kwargs)\n",
      " |      Create and return a new object.  See help(type) for accurate signature.\n",
      " |\n",
      " |  ----------------------------------------------------------------------\n",
      " |  Data and other attributes defined here:\n",
      " |\n",
      " |  __hash__ = None\n",
      "\n"
     ]
    }
   ],
   "source": [
    "help(dict)"
   ]
  },
  {
   "cell_type": "code",
   "execution_count": 39,
   "id": "b7baa606-0600-43b2-bfc8-e4ba0ec154e2",
   "metadata": {},
   "outputs": [
    {
     "data": {
      "text/plain": [
       "'ram'"
      ]
     },
     "execution_count": 39,
     "metadata": {},
     "output_type": "execute_result"
    }
   ],
   "source": [
    "person['name']"
   ]
  },
  {
   "cell_type": "code",
   "execution_count": 40,
   "id": "87376ecf-4ce4-4ed3-953d-20e2e5437b87",
   "metadata": {},
   "outputs": [
    {
     "ename": "KeyError",
     "evalue": "1",
     "output_type": "error",
     "traceback": [
      "\u001b[31m---------------------------------------------------------------------------\u001b[39m",
      "\u001b[31mKeyError\u001b[39m                                  Traceback (most recent call last)",
      "\u001b[36mCell\u001b[39m\u001b[36m \u001b[39m\u001b[32mIn[40]\u001b[39m\u001b[32m, line 1\u001b[39m\n\u001b[32m----> \u001b[39m\u001b[32m1\u001b[39m \u001b[43mperson\u001b[49m\u001b[43m[\u001b[49m\u001b[32;43m1\u001b[39;49m\u001b[43m]\u001b[49m\n",
      "\u001b[31mKeyError\u001b[39m: 1"
     ]
    }
   ],
   "source": [
    "person[1]"
   ]
  },
  {
   "cell_type": "code",
   "execution_count": 41,
   "id": "fbbfa7e5-27be-4d83-8a80-d8c77710f91e",
   "metadata": {},
   "outputs": [
    {
     "ename": "KeyError",
     "evalue": "'email'",
     "output_type": "error",
     "traceback": [
      "\u001b[31m---------------------------------------------------------------------------\u001b[39m",
      "\u001b[31mKeyError\u001b[39m                                  Traceback (most recent call last)",
      "\u001b[36mCell\u001b[39m\u001b[36m \u001b[39m\u001b[32mIn[41]\u001b[39m\u001b[32m, line 1\u001b[39m\n\u001b[32m----> \u001b[39m\u001b[32m1\u001b[39m \u001b[43mperson\u001b[49m\u001b[43m[\u001b[49m\u001b[33;43m'\u001b[39;49m\u001b[33;43memail\u001b[39;49m\u001b[33;43m'\u001b[39;49m\u001b[43m]\u001b[49m\n",
      "\u001b[31mKeyError\u001b[39m: 'email'"
     ]
    }
   ],
   "source": [
    "person['email']"
   ]
  },
  {
   "cell_type": "code",
   "execution_count": 43,
   "id": "106c450d-72f8-4724-b3a5-be79d768d4d3",
   "metadata": {},
   "outputs": [
    {
     "data": {
      "text/plain": [
       "{'id': 1,\n",
       " 'name': 'ram',\n",
       " 'age': 22,\n",
       " 'salary': 34332,\n",
       " 'email': 'radhikabasaula12@gmail.com'}"
      ]
     },
     "execution_count": 43,
     "metadata": {},
     "output_type": "execute_result"
    }
   ],
   "source": [
    "person['email'] = 'radhikabasaula12@gmail.com'\n",
    "person"
   ]
  },
  {
   "cell_type": "code",
   "execution_count": 46,
   "id": "37515652-ead8-4ae6-8133-ce53ca9e54c3",
   "metadata": {},
   "outputs": [
    {
     "data": {
      "text/plain": [
       "{'id': 1, 'name': 'ram', 'salary': 34332}"
      ]
     },
     "execution_count": 46,
     "metadata": {},
     "output_type": "execute_result"
    }
   ],
   "source": [
    "person = { \n",
    "    'id':1,\n",
    "    'name':'ram',\n",
    "    'age':22,\n",
    "    'salary':34332,\n",
    "}\n",
    "del person['age']\n",
    "person"
   ]
  },
  {
   "cell_type": "code",
   "execution_count": 48,
   "id": "bbaa5ce1-8df4-44aa-a2be-756849b9d246",
   "metadata": {},
   "outputs": [
    {
     "data": {
      "text/plain": [
       "{}"
      ]
     },
     "execution_count": 48,
     "metadata": {},
     "output_type": "execute_result"
    }
   ],
   "source": [
    "person.clear()\n",
    "person"
   ]
  },
  {
   "cell_type": "code",
   "execution_count": 62,
   "id": "1eea039b-1a65-47d0-80d0-a6493e634edf",
   "metadata": {
    "scrolled": true
   },
   "outputs": [
    {
     "name": "stdout",
     "output_type": "stream",
     "text": [
      "{'id': 1, 'name': 'ram', 'age': 22, 'salary': 34332}\n",
      "{'id': 1, 'name': 'ram', 'age': 22, 'salary': 34332, 'email': 'ram@gmail.com'}\n"
     ]
    }
   ],
   "source": [
    "x = { \n",
    "    'id':1,\n",
    "    'name':'ram',\n",
    "    'age':22,\n",
    "    'salary':34332,\n",
    "}\n",
    "y = x.copy()\n",
    "y['email']= 'ram@gmail.com'\n",
    "print(x)\n",
    "print(y)"
   ]
  },
  {
   "cell_type": "code",
   "execution_count": 64,
   "id": "0e36f346-1398-46ff-871a-397bd78b4c5e",
   "metadata": {},
   "outputs": [
    {
     "ename": "KeyError",
     "evalue": "'email'",
     "output_type": "error",
     "traceback": [
      "\u001b[31m---------------------------------------------------------------------------\u001b[39m",
      "\u001b[31mKeyError\u001b[39m                                  Traceback (most recent call last)",
      "\u001b[36mCell\u001b[39m\u001b[36m \u001b[39m\u001b[32mIn[64]\u001b[39m\u001b[32m, line 8\u001b[39m\n\u001b[32m      1\u001b[39m x = { \n\u001b[32m      2\u001b[39m     \u001b[33m'\u001b[39m\u001b[33mid\u001b[39m\u001b[33m'\u001b[39m:\u001b[32m1\u001b[39m,\n\u001b[32m      3\u001b[39m     \u001b[33m'\u001b[39m\u001b[33mname\u001b[39m\u001b[33m'\u001b[39m:\u001b[33m'\u001b[39m\u001b[33mram\u001b[39m\u001b[33m'\u001b[39m,\n\u001b[32m      4\u001b[39m     \u001b[33m'\u001b[39m\u001b[33mage\u001b[39m\u001b[33m'\u001b[39m:\u001b[32m22\u001b[39m,\n\u001b[32m      5\u001b[39m     \u001b[33m'\u001b[39m\u001b[33msalary\u001b[39m\u001b[33m'\u001b[39m:\u001b[32m34332\u001b[39m,\n\u001b[32m      6\u001b[39m }\n\u001b[32m----> \u001b[39m\u001b[32m8\u001b[39m \u001b[43mx\u001b[49m\u001b[43m[\u001b[49m\u001b[33;43m'\u001b[39;49m\u001b[33;43memail\u001b[39;49m\u001b[33;43m'\u001b[39;49m\u001b[43m]\u001b[49m\n\u001b[32m      9\u001b[39m \u001b[38;5;28mprint\u001b[39m(\u001b[33m'\u001b[39m\u001b[33mhello\u001b[39m\u001b[33m'\u001b[39m)\n",
      "\u001b[31mKeyError\u001b[39m: 'email'"
     ]
    }
   ],
   "source": [
    "x = { \n",
    "    'id':1,\n",
    "    'name':'ram',\n",
    "    'age':22,\n",
    "    'salary':34332,\n",
    "}\n",
    "\n",
    "x['email']\n",
    "print('hello')"
   ]
  },
  {
   "cell_type": "code",
   "execution_count": 69,
   "id": "36426bf9-610d-405d-890c-52c90f2fff2c",
   "metadata": {},
   "outputs": [
    {
     "name": "stdout",
     "output_type": "stream",
     "text": [
      "None\n",
      "22\n"
     ]
    }
   ],
   "source": [
    "x = { \n",
    "    'id':1,\n",
    "    'name':'ram',\n",
    "    'age':22,\n",
    "    'salary':34332,\n",
    "}\n",
    "\n",
    "print(x.get('email'))\n",
    "print(x.get('age'))"
   ]
  },
  {
   "cell_type": "code",
   "execution_count": 71,
   "id": "87fa6d1f-9734-4205-8a2e-c5ecf8e12f04",
   "metadata": {},
   "outputs": [
    {
     "name": "stdout",
     "output_type": "stream",
     "text": [
      "ram@gmail.com\n"
     ]
    }
   ],
   "source": [
    "x = { \n",
    "    'id':1,\n",
    "    'name':'ram',\n",
    "    'age':22,\n",
    "    'salary':34332,\n",
    "}\n",
    "\n",
    "print(x.get('email', 'ram@gmail.com'))"
   ]
  },
  {
   "cell_type": "code",
   "execution_count": 73,
   "id": "a2913417-5af2-46fe-8593-50467393ee98",
   "metadata": {},
   "outputs": [
    {
     "name": "stdout",
     "output_type": "stream",
     "text": [
      "22\n"
     ]
    }
   ],
   "source": [
    "x = { \n",
    "    'id':1,\n",
    "    'name':'ram',\n",
    "    'age':22,\n",
    "    'salary':34332,\n",
    "}\n",
    "\n",
    "print(x.get('age', 'ram@gmail.com'))"
   ]
  },
  {
   "cell_type": "code",
   "execution_count": 74,
   "id": "fe80eb43-260b-4274-ab06-00104e8ded5c",
   "metadata": {},
   "outputs": [
    {
     "name": "stdout",
     "output_type": "stream",
     "text": [
      "dict_keys(['id', 'name', 'age', 'salary'])\n"
     ]
    }
   ],
   "source": [
    "x = { \n",
    "    'id':1,\n",
    "    'name':'ram',\n",
    "    'age':22,\n",
    "    'salary':34332,\n",
    "}\n",
    "\n",
    "print(x.keys())"
   ]
  },
  {
   "cell_type": "code",
   "execution_count": 75,
   "id": "2ac6fb41-5b28-44cc-9041-1f14d08070ef",
   "metadata": {},
   "outputs": [
    {
     "name": "stdout",
     "output_type": "stream",
     "text": [
      "dict_values([1, 'ram', 22, 34332])\n"
     ]
    }
   ],
   "source": [
    "x = { \n",
    "    'id':1,\n",
    "    'name':'ram',\n",
    "    'age':22,\n",
    "    'salary':34332,\n",
    "}\n",
    "\n",
    "print(x.values())"
   ]
  },
  {
   "cell_type": "code",
   "execution_count": 76,
   "id": "3ec97493-4ac3-4622-a89c-c34aebaf945b",
   "metadata": {},
   "outputs": [
    {
     "name": "stdout",
     "output_type": "stream",
     "text": [
      "dict_items([('id', 1), ('name', 'ram'), ('age', 22), ('salary', 34332)])\n"
     ]
    }
   ],
   "source": [
    "x = { \n",
    "    'id':1,\n",
    "    'name':'ram',\n",
    "    'age':22,\n",
    "    'salary':34332,\n",
    "}\n",
    "\n",
    "print(x.items())"
   ]
  },
  {
   "cell_type": "code",
   "execution_count": 77,
   "id": "f9ad6ee6-99a0-48b6-a358-0a007b8518a1",
   "metadata": {},
   "outputs": [
    {
     "name": "stdout",
     "output_type": "stream",
     "text": [
      "dict_items([('id', 1), ('age', 22), ('salary', 34332)])\n"
     ]
    }
   ],
   "source": [
    "x = { \n",
    "    'id':1,\n",
    "    'name':'ram',\n",
    "    'age':22,\n",
    "    'salary':34332,\n",
    "}\n",
    "x.pop('name')\n",
    "print(x.items())"
   ]
  },
  {
   "cell_type": "code",
   "execution_count": 79,
   "id": "e7b82f26-5ef6-4ab6-9fe7-d44cfb95b3c4",
   "metadata": {},
   "outputs": [
    {
     "name": "stdout",
     "output_type": "stream",
     "text": [
      "dict_items([('id', 1), ('age', 22), ('salary', 34332)])\n"
     ]
    }
   ],
   "source": [
    "x = { \n",
    "    'id':1,\n",
    "    'name':'ram',\n",
    "    'age':22,\n",
    "    'salary':34332,\n",
    "}\n",
    "del x['name']\n",
    "print(x.items())"
   ]
  },
  {
   "cell_type": "code",
   "execution_count": 90,
   "id": "5b8449cd-69bb-4d90-93b0-6194d909f71a",
   "metadata": {},
   "outputs": [
    {
     "data": {
      "text/plain": [
       "{'id': 1,\n",
       " 'name': 'ram',\n",
       " 'age': 22,\n",
       " 'salary': 34332,\n",
       " 'email': 'ram@gmail.com',\n",
       " 'college': 'Broadway'}"
      ]
     },
     "execution_count": 90,
     "metadata": {},
     "output_type": "execute_result"
    }
   ],
   "source": [
    "x = { \n",
    "    'id':1,\n",
    "    'name':'ram',\n",
    "    'age':22,\n",
    "    'salary':34332,\n",
    "}\n",
    "(x.update({'email': 'ram@gmail.com' , 'college': 'Broadway'}))\n",
    "x"
   ]
  },
  {
   "cell_type": "code",
   "execution_count": 86,
   "id": "af8fda8f-1a9b-450f-bd10-eea88b485483",
   "metadata": {},
   "outputs": [
    {
     "data": {
      "text/plain": [
       "{'id': 1, 'name': 'ram', 'age': 22, 'salary': 34332, 'email': 'ram@gmail.com'}"
      ]
     },
     "execution_count": 86,
     "metadata": {},
     "output_type": "execute_result"
    }
   ],
   "source": [
    "x = { \n",
    "    'id':1,\n",
    "    'name':'ram',\n",
    "    'age':22,\n",
    "    'salary':34332,\n",
    "}\n",
    "x['email'] = 'ram@gmail.com'\n",
    "x"
   ]
  },
  {
   "cell_type": "code",
   "execution_count": null,
   "id": "cee855c7-4810-4e63-9628-b667fa5958be",
   "metadata": {},
   "outputs": [],
   "source": []
  }
 ],
 "metadata": {
  "kernelspec": {
   "display_name": "Python 3 (ipykernel)",
   "language": "python",
   "name": "python3"
  },
  "language_info": {
   "codemirror_mode": {
    "name": "ipython",
    "version": 3
   },
   "file_extension": ".py",
   "mimetype": "text/x-python",
   "name": "python",
   "nbconvert_exporter": "python",
   "pygments_lexer": "ipython3",
   "version": "3.13.3"
  }
 },
 "nbformat": 4,
 "nbformat_minor": 5
}
