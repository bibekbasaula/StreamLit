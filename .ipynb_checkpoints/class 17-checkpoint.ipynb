{
 "cells": [
  {
   "cell_type": "code",
   "execution_count": 4,
   "id": "adbf25bf-9e20-4deb-9bf6-fbbc642bc783",
   "metadata": {},
   "outputs": [],
   "source": [
    "class rectangle:\n",
    "\n",
    "    #public attribute\n",
    "    def __init__(self, length, breadth):\n",
    "        self.length = length\n",
    "        self.breadth = breadth\n",
    "\n",
    "    #public method\n",
    "    def area(self):\n",
    "        return self.length * self.breadth\n",
    "        \n",
    "    def perimeter(self):\n",
    "        return 2*(self.length + self.breadth)\n",
    "    "
   ]
  },
  {
   "cell_type": "code",
   "execution_count": 5,
   "id": "7f1e508c-1205-4059-8409-cc5d328b7d6e",
   "metadata": {},
   "outputs": [],
   "source": [
    "r1 = rectangle(4,5)"
   ]
  },
  {
   "cell_type": "code",
   "execution_count": 6,
   "id": "a94432a2-249a-49bb-a66a-d69e6de24188",
   "metadata": {},
   "outputs": [
    {
     "data": {
      "text/plain": [
       "4"
      ]
     },
     "execution_count": 6,
     "metadata": {},
     "output_type": "execute_result"
    }
   ],
   "source": [
    "r1.length"
   ]
  },
  {
   "cell_type": "code",
   "execution_count": 24,
   "id": "72d05689-d3df-4b56-b87f-5c4b5acb8695",
   "metadata": {},
   "outputs": [
    {
     "data": {
      "text/plain": [
       "20"
      ]
     },
     "execution_count": 24,
     "metadata": {},
     "output_type": "execute_result"
    }
   ],
   "source": [
    "r1.area()"
   ]
  },
  {
   "cell_type": "code",
   "execution_count": 26,
   "id": "369b44af-f4b5-4717-9ba5-71c5e00b66df",
   "metadata": {},
   "outputs": [],
   "source": [
    "r1.length = 'ram'"
   ]
  },
  {
   "cell_type": "code",
   "execution_count": null,
   "id": "6a0a51dc-a8b7-4d56-848f-458421a0e107",
   "metadata": {},
   "outputs": [],
   "source": []
  },
  {
   "cell_type": "code",
   "execution_count": 27,
   "id": "61a3ae93-d3a2-494d-ab4f-639bc393d944",
   "metadata": {},
   "outputs": [],
   "source": [
    "class Rectangle:\n",
    "\n",
    "    #public attribute\n",
    "    def __init__(self, length, breadth):\n",
    "        self.__length = length\n",
    "        self.__breadth = breadth\n",
    "\n",
    "    #public method\n",
    "    def area(self):\n",
    "        return self.__length * self.__breadth\n",
    "    \n",
    "    def perimeter(self):\n",
    "        return 2*(self.__length + self.__breadth)\n",
    "    "
   ]
  },
  {
   "cell_type": "code",
   "execution_count": 21,
   "id": "706443f1-6076-4bff-a324-6a0d3dcb1218",
   "metadata": {},
   "outputs": [],
   "source": [
    "r1 = rectangle(4,5)"
   ]
  },
  {
   "cell_type": "code",
   "execution_count": 22,
   "id": "507d8fd7-3d4c-45dd-bd5b-146825a8a78f",
   "metadata": {},
   "outputs": [
    {
     "ename": "AttributeError",
     "evalue": "'rectangle' object has no attribute '__length'",
     "output_type": "error",
     "traceback": [
      "\u001b[31m---------------------------------------------------------------------------\u001b[39m",
      "\u001b[31mAttributeError\u001b[39m                            Traceback (most recent call last)",
      "\u001b[36mCell\u001b[39m\u001b[36m \u001b[39m\u001b[32mIn[22]\u001b[39m\u001b[32m, line 1\u001b[39m\n\u001b[32m----> \u001b[39m\u001b[32m1\u001b[39m \u001b[43mr1\u001b[49m\u001b[43m.\u001b[49m\u001b[43m__length\u001b[49m\n",
      "\u001b[31mAttributeError\u001b[39m: 'rectangle' object has no attribute '__length'"
     ]
    }
   ],
   "source": [
    "r1.__length"
   ]
  },
  {
   "cell_type": "code",
   "execution_count": 23,
   "id": "74cc217a-0e50-4945-b121-d8f75a863ffc",
   "metadata": {},
   "outputs": [
    {
     "data": {
      "text/plain": [
       "20"
      ]
     },
     "execution_count": 23,
     "metadata": {},
     "output_type": "execute_result"
    }
   ],
   "source": [
    "r1.area()"
   ]
  },
  {
   "cell_type": "code",
   "execution_count": 28,
   "id": "fadb7b05-acd8-4cdc-a61d-046594bfabd7",
   "metadata": {},
   "outputs": [],
   "source": [
    "r1.length = 'ram'"
   ]
  },
  {
   "cell_type": "code",
   "execution_count": 29,
   "id": "0dab7041-2b29-4a62-99d4-ebdd6b6d17d4",
   "metadata": {},
   "outputs": [
    {
     "data": {
      "text/plain": [
       "20"
      ]
     },
     "execution_count": 29,
     "metadata": {},
     "output_type": "execute_result"
    }
   ],
   "source": [
    "r1.area()"
   ]
  },
  {
   "cell_type": "code",
   "execution_count": 30,
   "id": "f186bff5-7eff-4225-898f-dd8b2544ddb6",
   "metadata": {},
   "outputs": [
    {
     "data": {
      "text/plain": [
       "18"
      ]
     },
     "execution_count": 30,
     "metadata": {},
     "output_type": "execute_result"
    }
   ],
   "source": [
    "r1.perimeter()"
   ]
  },
  {
   "cell_type": "code",
   "execution_count": 49,
   "id": "d3767cd6-0dd0-4b71-a799-f75c6dddfd1a",
   "metadata": {},
   "outputs": [],
   "source": [
    "class Rectangle:\n",
    "\n",
    "    #public attribute\n",
    "    def __init__(self, length, breadth):\n",
    "        self.__length = length\n",
    "        self.__breadth = breadth\n",
    "\n",
    "    #public method\n",
    "    def area(self):\n",
    "        return self.__length * self.__breadth\n",
    "    \n",
    "    def perimeter(self):\n",
    "        return 2*(self.__length + self.__breadth)\n",
    "\n",
    "\n",
    "    # to ascess length in private attribute\n",
    "    def length_getter(self):\n",
    "        return self.__length\n",
    "\n",
    "    def length_setter(self, value):\n",
    "        self.__length = value\n",
    "\n",
    "    def breadth_getter(self):\n",
    "        return self.__breadth\n",
    "\n",
    "    def breadth_setter(self , value):\n",
    "        self.__breadth = value"
   ]
  },
  {
   "cell_type": "code",
   "execution_count": 50,
   "id": "39d9bc90-69a1-4ca3-9687-ba5a0708d553",
   "metadata": {},
   "outputs": [],
   "source": [
    "r1 = Rectangle(4,5)"
   ]
  },
  {
   "cell_type": "code",
   "execution_count": 51,
   "id": "4aaa13f1-ca3b-4423-b4f9-b641e55723b8",
   "metadata": {},
   "outputs": [
    {
     "ename": "AttributeError",
     "evalue": "'Rectangle' object has no attribute 'length'",
     "output_type": "error",
     "traceback": [
      "\u001b[31m---------------------------------------------------------------------------\u001b[39m",
      "\u001b[31mAttributeError\u001b[39m                            Traceback (most recent call last)",
      "\u001b[36mCell\u001b[39m\u001b[36m \u001b[39m\u001b[32mIn[51]\u001b[39m\u001b[32m, line 1\u001b[39m\n\u001b[32m----> \u001b[39m\u001b[32m1\u001b[39m \u001b[43mr1\u001b[49m\u001b[43m.\u001b[49m\u001b[43mlength\u001b[49m()\n",
      "\u001b[31mAttributeError\u001b[39m: 'Rectangle' object has no attribute 'length'"
     ]
    }
   ],
   "source": [
    "r1.length()"
   ]
  },
  {
   "cell_type": "code",
   "execution_count": 52,
   "id": "7db2c4f9-de26-4614-b31b-86f79dd0864f",
   "metadata": {},
   "outputs": [
    {
     "data": {
      "text/plain": [
       "4"
      ]
     },
     "execution_count": 52,
     "metadata": {},
     "output_type": "execute_result"
    }
   ],
   "source": [
    "r1.length_getter()"
   ]
  },
  {
   "cell_type": "code",
   "execution_count": 53,
   "id": "17a103c2-4b96-4e3f-9d01-0ab5b466f3c2",
   "metadata": {},
   "outputs": [
    {
     "data": {
      "text/plain": [
       "5"
      ]
     },
     "execution_count": 53,
     "metadata": {},
     "output_type": "execute_result"
    }
   ],
   "source": [
    "r1.breadth_getter()"
   ]
  },
  {
   "cell_type": "code",
   "execution_count": 54,
   "id": "4a22952e-5b80-4b48-8641-9db1b145cde7",
   "metadata": {},
   "outputs": [],
   "source": [
    "r1.length_setter(9)"
   ]
  },
  {
   "cell_type": "code",
   "execution_count": 55,
   "id": "c313afd5-e4c5-4373-82a4-470bb4643cb3",
   "metadata": {},
   "outputs": [
    {
     "data": {
      "text/plain": [
       "9"
      ]
     },
     "execution_count": 55,
     "metadata": {},
     "output_type": "execute_result"
    }
   ],
   "source": [
    "r1.length_getter()"
   ]
  },
  {
   "cell_type": "code",
   "execution_count": 56,
   "id": "d2bb4e03-203e-4ef2-83f4-fed0939a928a",
   "metadata": {},
   "outputs": [],
   "source": [
    "r1.breadth_setter(10)"
   ]
  },
  {
   "cell_type": "code",
   "execution_count": 57,
   "id": "2f178f3f-8c86-4545-8420-9aecfea5803d",
   "metadata": {},
   "outputs": [
    {
     "data": {
      "text/plain": [
       "10"
      ]
     },
     "execution_count": 57,
     "metadata": {},
     "output_type": "execute_result"
    }
   ],
   "source": [
    "r1.breadth_getter()"
   ]
  },
  {
   "cell_type": "code",
   "execution_count": 58,
   "id": "0e53545c-f242-4922-98f1-21007f59fd98",
   "metadata": {},
   "outputs": [
    {
     "data": {
      "text/plain": [
       "90"
      ]
     },
     "execution_count": 58,
     "metadata": {},
     "output_type": "execute_result"
    }
   ],
   "source": [
    "r1.area()"
   ]
  },
  {
   "cell_type": "code",
   "execution_count": 131,
   "id": "47b32fc0-8036-416f-a7dd-508c7e027e88",
   "metadata": {},
   "outputs": [],
   "source": [
    "class Rectangle:\n",
    "\n",
    "    #public attribute\n",
    "    def __init__(self, length, breadth):\n",
    "        self.__length = length\n",
    "        self.__breadth = breadth\n",
    "\n",
    "    #public method\n",
    "    def area(self):\n",
    "        return self.__length * self.__breadth\n",
    "    \n",
    "    def perimeter(self):\n",
    "        return 2*(self.__length + self.__breadth)\n",
    "\n",
    "\n",
    "    # to ascess length in private attribute\n",
    "    def length_getter(self):\n",
    "        return self.__length\n",
    "\n",
    "    def length_setter(self, value):\n",
    "        self.validate(value)\n",
    "        #if isinstance(value , (int,float)):\n",
    "        self.__length = value    \n",
    "    \n",
    "    def breadth_getter(self):\n",
    "        return self.__breadth\n",
    "    \n",
    "    def breadth_setter(self , value):\n",
    "        if isinstance(value,(int,float)):\n",
    "            self.__breadth = value\n",
    "\n",
    "    def validate(self , value):\n",
    "        if isinstance(value,(int,float)):\n",
    "            pass"
   ]
  },
  {
   "cell_type": "code",
   "execution_count": 132,
   "id": "8626f14d-f08d-4016-a749-14f918598bbc",
   "metadata": {},
   "outputs": [],
   "source": [
    "r1 = Rectangle(4,5)"
   ]
  },
  {
   "cell_type": "code",
   "execution_count": 133,
   "id": "8799e931-110c-4a45-abf9-faaffcff5216",
   "metadata": {},
   "outputs": [],
   "source": [
    "r1.length_setter(4.6)"
   ]
  },
  {
   "cell_type": "code",
   "execution_count": 134,
   "id": "66754150-3b7b-4a81-b520-6074d51592b0",
   "metadata": {},
   "outputs": [
    {
     "data": {
      "text/plain": [
       "4.6"
      ]
     },
     "execution_count": 134,
     "metadata": {},
     "output_type": "execute_result"
    }
   ],
   "source": [
    "r1.length_getter()"
   ]
  },
  {
   "cell_type": "code",
   "execution_count": 137,
   "id": "4e2d257f-96fe-45c5-9a3a-eb48f2bfdd13",
   "metadata": {},
   "outputs": [],
   "source": [
    "r1.breadth_setter('ram')"
   ]
  },
  {
   "cell_type": "code",
   "execution_count": 138,
   "id": "eafb909c-3ea4-4117-aa3f-bcd35f1c8b86",
   "metadata": {},
   "outputs": [
    {
     "data": {
      "text/plain": [
       "5.5"
      ]
     },
     "execution_count": 138,
     "metadata": {},
     "output_type": "execute_result"
    }
   ],
   "source": [
    "r1.breadth_getter()"
   ]
  },
  {
   "cell_type": "code",
   "execution_count": null,
   "id": "a0bbb1ed-c9f0-4a61-8d29-6225863e59bd",
   "metadata": {},
   "outputs": [],
   "source": [
    "\n",
    "\n",
    "class Rectangle:\n",
    "\n",
    "    # Private attribute or encapsulation\n",
    "    def __init__(self, length, breadth):\n",
    "        self.__length = length\n",
    "        self.__breadth = breadth\n",
    "\n",
    "    #public method\n",
    "    def area(self):\n",
    "        return self.__length * self.__breadth\n",
    "    \n",
    "    def perimeter(self):\n",
    "        return 2*(self.__length + self.__breadth)\n",
    "\n",
    "\n",
    "    # to ascess length in private attribute\n",
    "    def length_getter(self):\n",
    "        return self.__length\n",
    "\n",
    "    def length_setter(self, value):\n",
    "        self.validate(value)\n",
    "        #if isinstance(value , (int,float)):\n",
    "        self.__length = value    \n",
    "    \n",
    "    def breadth_getter(self):\n",
    "        return self.__breadth\n",
    "    \n",
    "    def breadth_setter(self , value):\n",
    "        if isinstance(value,(int,float)):\n",
    "            self.__breadth = value\n",
    "\n",
    "    def validate(self , value):\n",
    "        if isinstance(value,(int,float)):\n",
    "            pass"
   ]
  },
  {
   "cell_type": "code",
   "execution_count": 139,
   "id": "fb456eca-007d-4a8b-8ea1-d0ca24a7af99",
   "metadata": {},
   "outputs": [],
   "source": [
    "#file handling"
   ]
  },
  {
   "cell_type": "code",
   "execution_count": 140,
   "id": "ac868fb9-8afb-4a2d-bfd2-23774d9ee0d0",
   "metadata": {},
   "outputs": [],
   "source": [
    "f = open('hello.txt' , 'w')\n",
    "f.write('Hello World!')\n",
    "f.close()"
   ]
  },
  {
   "cell_type": "code",
   "execution_count": null,
   "id": "1a1c233a-725c-4b77-9823-ade6cf0e22aa",
   "metadata": {},
   "outputs": [],
   "source": []
  }
 ],
 "metadata": {
  "kernelspec": {
   "display_name": "Python 3 (ipykernel)",
   "language": "python",
   "name": "python3"
  },
  "language_info": {
   "codemirror_mode": {
    "name": "ipython",
    "version": 3
   },
   "file_extension": ".py",
   "mimetype": "text/x-python",
   "name": "python",
   "nbconvert_exporter": "python",
   "pygments_lexer": "ipython3",
   "version": "3.13.3"
  }
 },
 "nbformat": 4,
 "nbformat_minor": 5
}
