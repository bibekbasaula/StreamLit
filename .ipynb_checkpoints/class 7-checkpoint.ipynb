{
 "cells": [
  {
   "cell_type": "code",
   "execution_count": 1,
   "id": "99cc4d1e-fec1-4167-8898-1b9610e7c4e6",
   "metadata": {},
   "outputs": [
    {
     "name": "stdout",
     "output_type": "stream",
     "text": [
      "[1, 2, 3, 4] <class 'list'>\n"
     ]
    }
   ],
   "source": [
    "#list\n",
    "x = [1, 2, 3, 4]\n",
    "print(x, type(x))"
   ]
  },
  {
   "cell_type": "code",
   "execution_count": 2,
   "id": "dc05d08c-b9f4-4345-9751-af6961acc3e8",
   "metadata": {},
   "outputs": [
    {
     "name": "stdout",
     "output_type": "stream",
     "text": [
      "[1, 1.5, 'ram', '1', 5j, (1, 2, 3), {1, 2, 3}, {'name': 'ram'}, [1, 2, 3], 1, 2]\n"
     ]
    }
   ],
   "source": [
    "#supports any type of datastruture\n",
    "x = [1, 1.5, 'ram', '1', 5j, (1,2,3), {1,2,3}, {'name':'ram'}, [1,2,3], 1, 2]\n",
    "print(x)"
   ]
  },
  {
   "cell_type": "code",
   "execution_count": 7,
   "id": "987e11e0-e6df-423a-a775-301c9804a63f",
   "metadata": {},
   "outputs": [
    {
     "name": "stdout",
     "output_type": "stream",
     "text": [
      "['ram', {1, 2, 3}, [1, 2, 3], 1, 1, 5j, {'name': 'ram'}, 2, '1', 1.5, (1, 2, 3)]\n"
     ]
    }
   ],
   "source": [
    "import random \n",
    "x = [1, 1.5, 'ram', '1', 5j, (1,2,3), {1,2,3}, {'name':'ram'}, [1,2,3], 1, 2]\n",
    "(random.shuffle(x))\n",
    "print(x)"
   ]
  },
  {
   "cell_type": "code",
   "execution_count": 8,
   "id": "9a3c7294-bc03-42b0-9f09-ac35880f5501",
   "metadata": {},
   "outputs": [
    {
     "data": {
      "text/plain": [
       "['banana', 'mango']"
      ]
     },
     "execution_count": 8,
     "metadata": {},
     "output_type": "execute_result"
    }
   ],
   "source": [
    "fruits = ['apple', 'banana', 'mango', 'orange']\n",
    "fruits[1:3]"
   ]
  },
  {
   "cell_type": "code",
   "execution_count": 17,
   "id": "943f0516-f66f-40f4-adb7-58caf7183351",
   "metadata": {},
   "outputs": [
    {
     "data": {
      "text/plain": [
       "4"
      ]
     },
     "execution_count": 17,
     "metadata": {},
     "output_type": "execute_result"
    }
   ],
   "source": [
    "x = [1,2,[3,4,5,6],7,8,9] #nested list\n",
    "x[2][1]"
   ]
  },
  {
   "cell_type": "code",
   "execution_count": 21,
   "id": "0a5eda3f-ce11-4c92-8e42-76a104152e2b",
   "metadata": {},
   "outputs": [
    {
     "data": {
      "text/plain": [
       "[4, 5, 6]"
      ]
     },
     "execution_count": 21,
     "metadata": {},
     "output_type": "execute_result"
    }
   ],
   "source": [
    "x = [1,2,[3,4,5,6],7,8,9] #nested list\n",
    "x[2][1:]"
   ]
  },
  {
   "cell_type": "code",
   "execution_count": 22,
   "id": "194ac09b-33fd-41ae-b4d2-4d521fae2fb9",
   "metadata": {},
   "outputs": [
    {
     "data": {
      "text/plain": [
       "4"
      ]
     },
     "execution_count": 22,
     "metadata": {},
     "output_type": "execute_result"
    }
   ],
   "source": [
    "x = [1,[2,[3,4,5,6],7],8,9] #nested list\n",
    "x[1][1][1]"
   ]
  },
  {
   "cell_type": "code",
   "execution_count": 24,
   "id": "3e079a9d-7b5e-4544-bfb4-fd367795b96e",
   "metadata": {},
   "outputs": [
    {
     "data": {
      "text/plain": [
       "5"
      ]
     },
     "execution_count": 24,
     "metadata": {},
     "output_type": "execute_result"
    }
   ],
   "source": [
    "x = [1,[[2,[3,4,5,6],7],8],9]\n",
    "x[1][0][1][2]"
   ]
  },
  {
   "cell_type": "code",
   "execution_count": 32,
   "id": "fa994527-e8f8-4881-8661-7b0264eba9ee",
   "metadata": {},
   "outputs": [
    {
     "data": {
      "text/plain": [
       "['apple', 'orange', 'mango', 'banana']"
      ]
     },
     "execution_count": 32,
     "metadata": {},
     "output_type": "execute_result"
    }
   ],
   "source": [
    "fruits = ['apple', 'orange', 'mango', 'orange']\n",
    "fruits[3] = 'banana'\n",
    "fruits"
   ]
  },
  {
   "cell_type": "code",
   "execution_count": 31,
   "id": "335fc7f1-7ebc-4a86-adbe-5a6da679f6ae",
   "metadata": {},
   "outputs": [
    {
     "name": "stdout",
     "output_type": "stream",
     "text": [
      "['orange', 'mango', 'orange']\n"
     ]
    }
   ],
   "source": [
    "fruits = ['apple', 'orange', 'mango', 'orange']\n",
    "del fruits[0]\n",
    "print(fruits)"
   ]
  },
  {
   "cell_type": "code",
   "execution_count": 33,
   "id": "04987bfb-6384-4024-9289-e3821522fdb4",
   "metadata": {},
   "outputs": [],
   "source": [
    "# list is mutable\n",
    "# int and str are immutable"
   ]
  },
  {
   "cell_type": "code",
   "execution_count": 34,
   "id": "68d37172-0bff-42c4-ad93-6597c23fc004",
   "metadata": {},
   "outputs": [
    {
     "ename": "TypeError",
     "evalue": "'str' object does not support item assignment",
     "output_type": "error",
     "traceback": [
      "\u001b[31m---------------------------------------------------------------------------\u001b[39m",
      "\u001b[31mTypeError\u001b[39m                                 Traceback (most recent call last)",
      "\u001b[36mCell\u001b[39m\u001b[36m \u001b[39m\u001b[32mIn[34]\u001b[39m\u001b[32m, line 2\u001b[39m\n\u001b[32m      1\u001b[39m x = \u001b[33m'\u001b[39m\u001b[33mram\u001b[39m\u001b[33m'\u001b[39m\n\u001b[32m----> \u001b[39m\u001b[32m2\u001b[39m \u001b[43mx\u001b[49m\u001b[43m[\u001b[49m\u001b[32;43m0\u001b[39;49m\u001b[43m]\u001b[49m = \u001b[33m'\u001b[39m\u001b[33mb\u001b[39m\u001b[33m'\u001b[39m\n",
      "\u001b[31mTypeError\u001b[39m: 'str' object does not support item assignment"
     ]
    }
   ],
   "source": [
    "x = 'ram'\n",
    "x[0] = 'b'"
   ]
  },
  {
   "cell_type": "code",
   "execution_count": null,
   "id": "d870e5df-b71e-4f45-83af-d79adf36bc79",
   "metadata": {},
   "outputs": [],
   "source": []
  }
 ],
 "metadata": {
  "kernelspec": {
   "display_name": "Python 3 (ipykernel)",
   "language": "python",
   "name": "python3"
  },
  "language_info": {
   "codemirror_mode": {
    "name": "ipython",
    "version": 3
   },
   "file_extension": ".py",
   "mimetype": "text/x-python",
   "name": "python",
   "nbconvert_exporter": "python",
   "pygments_lexer": "ipython3",
   "version": "3.13.3"
  }
 },
 "nbformat": 4,
 "nbformat_minor": 5
}
