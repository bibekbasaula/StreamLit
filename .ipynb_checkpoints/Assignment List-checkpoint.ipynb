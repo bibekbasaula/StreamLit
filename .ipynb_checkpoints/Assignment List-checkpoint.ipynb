{
 "cells": [
  {
   "cell_type": "code",
   "execution_count": 1,
   "id": "8b80f2a8-68e6-4190-8b90-387adb65d8c0",
   "metadata": {},
   "outputs": [],
   "source": [
    "list = ['ram', 1, True, 5j, 3.5]"
   ]
  },
  {
   "cell_type": "code",
   "execution_count": 2,
   "id": "64226b77-6e63-4712-bffe-22fa0178d298",
   "metadata": {},
   "outputs": [
    {
     "data": {
      "text/plain": [
       "5"
      ]
     },
     "execution_count": 2,
     "metadata": {},
     "output_type": "execute_result"
    }
   ],
   "source": [
    "len(list)"
   ]
  },
  {
   "cell_type": "code",
   "execution_count": 10,
   "id": "27776cf9-757b-4cb2-86c7-46b3489032b1",
   "metadata": {},
   "outputs": [
    {
     "name": "stdout",
     "output_type": "stream",
     "text": [
      "ram True 3.5\n"
     ]
    }
   ],
   "source": [
    "print(list[0] ,list[2] ,list[4])"
   ]
  },
  {
   "cell_type": "code",
   "execution_count": 11,
   "id": "48c4a23e-d9c8-40fa-8413-9182a38dcaa6",
   "metadata": {},
   "outputs": [],
   "source": [
    "myinfo = ['Bibek', '18', '6', 'Single', 'Nepal']"
   ]
  },
  {
   "cell_type": "code",
   "execution_count": 12,
   "id": "836ffbb8-1e35-4752-911c-43c41552ba8f",
   "metadata": {},
   "outputs": [],
   "source": [
    "mixfruits = ['Guava', 'Mango', 'Apple', 'Pear', 'Fig', 'Orange', 'Banana']"
   ]
  },
  {
   "cell_type": "code",
   "execution_count": 13,
   "id": "646a8d9a-e234-457b-af8d-028eeaa3cda8",
   "metadata": {},
   "outputs": [
    {
     "name": "stdout",
     "output_type": "stream",
     "text": [
      "['Guava', 'Mango', 'Apple', 'Pear', 'Fig', 'Orange', 'Banana']\n"
     ]
    }
   ],
   "source": [
    "print(mixfruits)"
   ]
  },
  {
   "cell_type": "code",
   "execution_count": 21,
   "id": "28083263-58b9-4781-9284-cee36ba1d617",
   "metadata": {},
   "outputs": [
    {
     "data": {
      "text/plain": [
       "('Guava', 'Pear', 'Banana')"
      ]
     },
     "execution_count": 21,
     "metadata": {},
     "output_type": "execute_result"
    }
   ],
   "source": [
    "mixfruits[0], mixfruits[int(len(mixfruits)/2)], mixfruits[-1]"
   ]
  },
  {
   "cell_type": "code",
   "execution_count": 22,
   "id": "1aef3240-8332-4c3d-b869-1130d90590c2",
   "metadata": {},
   "outputs": [
    {
     "data": {
      "text/plain": [
       "7"
      ]
     },
     "execution_count": 22,
     "metadata": {},
     "output_type": "execute_result"
    }
   ],
   "source": [
    "len(mixfruits)"
   ]
  },
  {
   "cell_type": "code",
   "execution_count": 32,
   "id": "d4368f19-2bc6-4bb2-9793-9fab990cf805",
   "metadata": {},
   "outputs": [
    {
     "name": "stdout",
     "output_type": "stream",
     "text": [
      "['Guava', 'Mango', 'Apple', 'Pear', 'Fig', 'Orange', 'Banana', 'Papaya']\n"
     ]
    }
   ],
   "source": [
    "mixfruits = ['Guava', 'Mango', 'Apple', 'Pear', 'Fig', 'Orange', 'Banana']\n",
    "mixfruits.append('Papaya')\n",
    "print(mixfruits)"
   ]
  },
  {
   "cell_type": "code",
   "execution_count": 38,
   "id": "a0f48fc9-5d1d-4a28-b12e-568014b1e0c1",
   "metadata": {},
   "outputs": [
    {
     "data": {
      "text/plain": [
       "['Guava', 'Mango', 'Apple', 'Pear', 'melon', 'Fig', 'Orange', 'Banana']"
      ]
     },
     "execution_count": 38,
     "metadata": {},
     "output_type": "execute_result"
    }
   ],
   "source": [
    "mixfruits = ['Guava', 'Mango', 'Apple', 'Pear', 'Fig', 'Orange', 'Banana']\n",
    "mixfruits.insert(4,'melon')\n",
    "mixfruits"
   ]
  },
  {
   "cell_type": "code",
   "execution_count": 35,
   "id": "5a4b7c52-4356-449d-924f-d45b7bd6af69",
   "metadata": {},
   "outputs": [
    {
     "name": "stdout",
     "output_type": "stream",
     "text": [
      "Help on built-in function insert:\n",
      "\n",
      "insert(index, object, /) method of builtins.list instance\n",
      "    Insert object before index.\n",
      "\n"
     ]
    }
   ],
   "source": [
    "help(list.insert)"
   ]
  },
  {
   "cell_type": "code",
   "execution_count": 49,
   "id": "ee065dfc-a4c4-49b9-8c2e-6e62c80f9384",
   "metadata": {},
   "outputs": [
    {
     "data": {
      "text/plain": [
       "'GUAVA'"
      ]
     },
     "execution_count": 49,
     "metadata": {},
     "output_type": "execute_result"
    }
   ],
   "source": [
    "mixfruits = ['Guava', 'Mango', 'Apple', 'Pear', 'Fig', 'Orange', 'Banana']\n",
    "mixfruits[0].upper()"
   ]
  },
  {
   "cell_type": "code",
   "execution_count": 55,
   "id": "46d97c4a-3b41-4cdc-8b09-c6b18c901710",
   "metadata": {},
   "outputs": [
    {
     "data": {
      "text/plain": [
       "'Guava#Mango#Apple#Pear#Fig#Orange#Banana'"
      ]
     },
     "execution_count": 55,
     "metadata": {},
     "output_type": "execute_result"
    }
   ],
   "source": [
    "\"#\".join(mixfruits)"
   ]
  },
  {
   "cell_type": "code",
   "execution_count": 60,
   "id": "79893297-389b-46c0-9997-05a62c52edfa",
   "metadata": {},
   "outputs": [
    {
     "data": {
      "text/plain": [
       "2"
      ]
     },
     "execution_count": 60,
     "metadata": {},
     "output_type": "execute_result"
    }
   ],
   "source": [
    "mixfruits.index('Apple')"
   ]
  },
  {
   "cell_type": "code",
   "execution_count": 64,
   "id": "aed5f105-f921-4156-b038-8e55df8b99cb",
   "metadata": {},
   "outputs": [
    {
     "data": {
      "text/plain": [
       "['Apple', 'Banana', 'Fig', 'Guava', 'Mango', 'Orange', 'Pear']"
      ]
     },
     "execution_count": 64,
     "metadata": {},
     "output_type": "execute_result"
    }
   ],
   "source": [
    "mixfruits = ['Guava', 'Mango', 'Apple', 'Pear', 'Fig', 'Orange', 'Banana']\n",
    "mixfruits.sort()\n",
    "mixfruits"
   ]
  },
  {
   "cell_type": "code",
   "execution_count": 65,
   "id": "a224a9dd-6430-49b3-8adb-273c322dbf8e",
   "metadata": {},
   "outputs": [
    {
     "data": {
      "text/plain": [
       "['Pear', 'Orange', 'Mango', 'Guava', 'Fig', 'Banana', 'Apple']"
      ]
     },
     "execution_count": 65,
     "metadata": {},
     "output_type": "execute_result"
    }
   ],
   "source": [
    "mixfruits = ['Guava', 'Mango', 'Apple', 'Pear', 'Fig', 'Orange', 'Banana']\n",
    "mixfruits.sort(reverse=True)\n",
    "mixfruits"
   ]
  },
  {
   "cell_type": "code",
   "execution_count": 67,
   "id": "9c66d4f6-8314-44c9-a0f2-9275a2f6ff86",
   "metadata": {},
   "outputs": [
    {
     "data": {
      "text/plain": [
       "['Pear', 'Orange', 'Mango']"
      ]
     },
     "execution_count": 67,
     "metadata": {},
     "output_type": "execute_result"
    }
   ],
   "source": [
    "mixfruits[0:3]"
   ]
  },
  {
   "cell_type": "code",
   "execution_count": 71,
   "id": "74dac57f-f869-4593-8e65-52ed36d36ecb",
   "metadata": {},
   "outputs": [
    {
     "data": {
      "text/plain": [
       "['Guava', 'Fig', 'Banana']"
      ]
     },
     "execution_count": 71,
     "metadata": {},
     "output_type": "execute_result"
    }
   ],
   "source": [
    "mixfruits[-4:-1]"
   ]
  },
  {
   "cell_type": "code",
   "execution_count": 72,
   "id": "061ac1c9-6222-4e1f-a346-6bd590f34163",
   "metadata": {},
   "outputs": [
    {
     "data": {
      "text/plain": [
       "['Mango', 'Guava']"
      ]
     },
     "execution_count": 72,
     "metadata": {},
     "output_type": "execute_result"
    }
   ],
   "source": [
    "mixfruits[2:4]"
   ]
  },
  {
   "cell_type": "code",
   "execution_count": 74,
   "id": "6b4dce2e-1541-4a06-a84b-a4bc1a7cef4c",
   "metadata": {},
   "outputs": [
    {
     "data": {
      "text/plain": [
       "['Mango', 'Guava', 'Fig', 'Banana', 'Apple']"
      ]
     },
     "execution_count": 74,
     "metadata": {},
     "output_type": "execute_result"
    }
   ],
   "source": [
    "mixfruits = ['Guava', 'Mango', 'Apple', 'Pear', 'Fig', 'Orange', 'Banana']\n",
    "del mixfruits[0]\n",
    "mixfruits"
   ]
  },
  {
   "cell_type": "code",
   "execution_count": 77,
   "id": "31af0565-0eae-490b-ba6e-5232db595644",
   "metadata": {},
   "outputs": [
    {
     "data": {
      "text/plain": [
       "['Guava', 'Mango', 'Apple', 'Fig', 'Orange', 'Banana']"
      ]
     },
     "execution_count": 77,
     "metadata": {},
     "output_type": "execute_result"
    }
   ],
   "source": [
    "mixfruits = ['Guava', 'Mango', 'Apple', 'Pear', 'Fig', 'Orange', 'Banana']\n",
    "del mixfruits[3]\n",
    "mixfruits"
   ]
  },
  {
   "cell_type": "code",
   "execution_count": 76,
   "id": "b2d9373d-ec76-46a5-a010-6a2f2f52d6e5",
   "metadata": {},
   "outputs": [
    {
     "data": {
      "text/plain": [
       "['Guava', 'Mango', 'Apple', 'Pear', 'Fig', 'Orange']"
      ]
     },
     "execution_count": 76,
     "metadata": {},
     "output_type": "execute_result"
    }
   ],
   "source": [
    "mixfruits = ['Guava', 'Mango', 'Apple', 'Pear', 'Fig', 'Orange', 'Banana']\n",
    "del mixfruits[-1]\n",
    "mixfruits"
   ]
  },
  {
   "cell_type": "code",
   "execution_count": 79,
   "id": "969e0935-8b75-49b9-90eb-a300b9680b68",
   "metadata": {},
   "outputs": [
    {
     "data": {
      "text/plain": [
       "[]"
      ]
     },
     "execution_count": 79,
     "metadata": {},
     "output_type": "execute_result"
    }
   ],
   "source": [
    "mixfruits.clear()\n",
    "mixfruits"
   ]
  },
  {
   "cell_type": "code",
   "execution_count": 81,
   "id": "84683c14-08d1-47eb-a00a-bc62f64d70d5",
   "metadata": {},
   "outputs": [
    {
     "ename": "NameError",
     "evalue": "name 'mixfruits' is not defined",
     "output_type": "error",
     "traceback": [
      "\u001b[31m---------------------------------------------------------------------------\u001b[39m",
      "\u001b[31mNameError\u001b[39m                                 Traceback (most recent call last)",
      "\u001b[36mCell\u001b[39m\u001b[36m \u001b[39m\u001b[32mIn[81]\u001b[39m\u001b[32m, line 1\u001b[39m\n\u001b[32m----> \u001b[39m\u001b[32m1\u001b[39m \u001b[38;5;28;01mdel\u001b[39;00m \u001b[43mmixfruits\u001b[49m\n\u001b[32m      2\u001b[39m mixfruits\n",
      "\u001b[31mNameError\u001b[39m: name 'mixfruits' is not defined"
     ]
    }
   ],
   "source": [
    "del mixfruits\n",
    "mixfruits"
   ]
  },
  {
   "cell_type": "code",
   "execution_count": 88,
   "id": "e0f25fb4-70e0-4dee-88da-73fd65dfa458",
   "metadata": {},
   "outputs": [
    {
     "data": {
      "text/plain": [
       "['HTML', 'CSS', 'JS', 'React', 'Redux', 'Node', 'Express', 'MongoDB']"
      ]
     },
     "execution_count": 88,
     "metadata": {},
     "output_type": "execute_result"
    }
   ],
   "source": [
    "front_end = ['HTML', 'CSS', 'JS', 'React', 'Redux']\n",
    "back_end = ['Node', 'Express', 'MongoDB']\n",
    "\n",
    "front_end.extend(back_end)\n",
    "front_end"
   ]
  },
  {
   "cell_type": "code",
   "execution_count": 96,
   "id": "b77dc617-f524-4b27-a45e-e707bde3b709",
   "metadata": {},
   "outputs": [
    {
     "name": "stdout",
     "output_type": "stream",
     "text": [
      "['HTML', 'CSS', 'JS', 'React', 'Redux', 'Python', 'SQL', 'Node', 'Express', 'MongoDB']\n"
     ]
    }
   ],
   "source": [
    "full_stack = front_end.copy()\n",
    "full_stack.insert(5,'Python')\n",
    "full_stack.insert(6,'SQL')\n",
    "print(full_stack)"
   ]
  },
  {
   "cell_type": "code",
   "execution_count": null,
   "id": "c1194037-a60e-4ab8-8387-cd54ade678a6",
   "metadata": {},
   "outputs": [],
   "source": []
  }
 ],
 "metadata": {
  "kernelspec": {
   "display_name": "Python 3 (ipykernel)",
   "language": "python",
   "name": "python3"
  },
  "language_info": {
   "codemirror_mode": {
    "name": "ipython",
    "version": 3
   },
   "file_extension": ".py",
   "mimetype": "text/x-python",
   "name": "python",
   "nbconvert_exporter": "python",
   "pygments_lexer": "ipython3",
   "version": "3.13.3"
  }
 },
 "nbformat": 4,
 "nbformat_minor": 5
}
