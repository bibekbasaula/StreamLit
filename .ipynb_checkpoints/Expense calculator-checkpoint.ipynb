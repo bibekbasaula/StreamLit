{
 "cells": [
  {
   "cell_type": "code",
   "execution_count": null,
   "id": "5c8057d5-8030-43a0-837f-614149b4ca02",
   "metadata": {},
   "outputs": [],
   "source": [
    "y = 'yes'\n",
    "dic = {}\n",
    "final={}\n",
    "total = 0\n",
    "while y != 'done':\n",
    "    year = int(input('Enter year'))\n",
    "    month = int(input('Enter month'))\n",
    "    day = int(input('Enter day'))\n",
    "    category = str(input('Enter category'))\n",
    "    expense = float(input('Enter expenses'))\n",
    "\n",
    "    dic.update({'date': f'{year}' + '-' + f'{month}' + '-' + f'{day}'})\n",
    "    #dic['date'] = year + '-' + month + '-' day\n",
    "    dic['category'] = category\n",
    "    dic['expense'] = expense\n",
    "    final.update(dic)\n",
    "    total = expense + total\n",
    "    \n",
    "    y = str(input('Say \"done\" if you want to end'))\n",
    "\n",
    "\n",
    "print(total)\n",
    "\n",
    "print(final)\n",
    "\n",
    "\n",
    "\n",
    "\n",
    "    \n",
    "    \n",
    "\n",
    "    "
   ]
  }
 ],
 "metadata": {
  "kernelspec": {
   "display_name": "Python 3 (ipykernel)",
   "language": "python",
   "name": "python3"
  },
  "language_info": {
   "codemirror_mode": {
    "name": "ipython",
    "version": 3
   },
   "file_extension": ".py",
   "mimetype": "text/x-python",
   "name": "python",
   "nbconvert_exporter": "python",
   "pygments_lexer": "ipython3",
   "version": "3.13.3"
  }
 },
 "nbformat": 4,
 "nbformat_minor": 5
}
