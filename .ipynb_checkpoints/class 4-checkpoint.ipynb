{
 "cells": [
  {
   "cell_type": "code",
   "execution_count": 1,
   "id": "821e8efc-9ed3-4dfe-9daf-888e8305dae4",
   "metadata": {},
   "outputs": [
    {
     "data": {
      "text/plain": [
       "3"
      ]
     },
     "execution_count": 1,
     "metadata": {},
     "output_type": "execute_result"
    }
   ],
   "source": [
    "1 + 2"
   ]
  },
  {
   "cell_type": "code",
   "execution_count": 2,
   "id": "96749b9e-9d12-466b-a0bc-eba0b9f24eec",
   "metadata": {},
   "outputs": [
    {
     "data": {
      "text/plain": [
       "1"
      ]
     },
     "execution_count": 2,
     "metadata": {},
     "output_type": "execute_result"
    }
   ],
   "source": [
    "2-1"
   ]
  },
  {
   "cell_type": "code",
   "execution_count": 3,
   "id": "5d45fc79-caa7-47e4-b614-8812d45f410c",
   "metadata": {},
   "outputs": [
    {
     "data": {
      "text/plain": [
       "2"
      ]
     },
     "execution_count": 3,
     "metadata": {},
     "output_type": "execute_result"
    }
   ],
   "source": [
    "9%7 #remainder/modulus operator"
   ]
  },
  {
   "cell_type": "code",
   "execution_count": 4,
   "id": "a55a6d55-be61-449b-b859-5432dbaebda6",
   "metadata": {},
   "outputs": [
    {
     "data": {
      "text/plain": [
       "2"
      ]
     },
     "execution_count": 4,
     "metadata": {},
     "output_type": "execute_result"
    }
   ],
   "source": [
    "5 // 2 #floor division/integerr division"
   ]
  },
  {
   "cell_type": "code",
   "execution_count": 5,
   "id": "097f16de-3265-41aa-9968-3e30c5fdd360",
   "metadata": {},
   "outputs": [
    {
     "data": {
      "text/plain": [
       "2"
      ]
     },
     "execution_count": 5,
     "metadata": {},
     "output_type": "execute_result"
    }
   ],
   "source": [
    "int(5/2)"
   ]
  },
  {
   "cell_type": "code",
   "execution_count": 7,
   "id": "0f1a5ba8-9d65-4180-b43d-dbbbbaf0d1a3",
   "metadata": {},
   "outputs": [
    {
     "data": {
      "text/plain": [
       "32"
      ]
     },
     "execution_count": 7,
     "metadata": {},
     "output_type": "execute_result"
    }
   ],
   "source": [
    "2 ** 5 #power"
   ]
  },
  {
   "cell_type": "code",
   "execution_count": 8,
   "id": "78cd215b-1c22-46ba-a13f-6af5ad18b592",
   "metadata": {},
   "outputs": [],
   "source": [
    "#comparison "
   ]
  },
  {
   "cell_type": "code",
   "execution_count": 9,
   "id": "7c5db6cd-ca8e-4dba-9a98-211178552019",
   "metadata": {},
   "outputs": [
    {
     "data": {
      "text/plain": [
       "True"
      ]
     },
     "execution_count": 9,
     "metadata": {},
     "output_type": "execute_result"
    }
   ],
   "source": [
    "5 > 2 # greater than"
   ]
  },
  {
   "cell_type": "code",
   "execution_count": 10,
   "id": "45f788dc-846a-4443-908d-ab9704d52105",
   "metadata": {},
   "outputs": [
    {
     "data": {
      "text/plain": [
       "False"
      ]
     },
     "execution_count": 10,
     "metadata": {},
     "output_type": "execute_result"
    }
   ],
   "source": [
    "2 > 5 # less than"
   ]
  },
  {
   "cell_type": "code",
   "execution_count": 11,
   "id": "8862e682-6de6-4c6b-bfc8-d9b8e68baca0",
   "metadata": {},
   "outputs": [
    {
     "data": {
      "text/plain": [
       "False"
      ]
     },
     "execution_count": 11,
     "metadata": {},
     "output_type": "execute_result"
    }
   ],
   "source": [
    "2 == 5 # equal to"
   ]
  },
  {
   "cell_type": "code",
   "execution_count": 12,
   "id": "35a75418-45c8-47dc-a590-f9a18195374e",
   "metadata": {},
   "outputs": [
    {
     "data": {
      "text/plain": [
       "True"
      ]
     },
     "execution_count": 12,
     "metadata": {},
     "output_type": "execute_result"
    }
   ],
   "source": [
    "2 != 5 # not equals to"
   ]
  },
  {
   "cell_type": "code",
   "execution_count": 13,
   "id": "68570490-5fcc-498c-822f-65c41c20acbb",
   "metadata": {},
   "outputs": [
    {
     "data": {
      "text/plain": [
       "False"
      ]
     },
     "execution_count": 13,
     "metadata": {},
     "output_type": "execute_result"
    }
   ],
   "source": [
    "2 >= 5 # greater than or equal to"
   ]
  },
  {
   "cell_type": "code",
   "execution_count": 17,
   "id": "f6a9b086-a92f-4392-8919-0d9ada88d471",
   "metadata": {},
   "outputs": [
    {
     "data": {
      "text/plain": [
       "False"
      ]
     },
     "execution_count": 17,
     "metadata": {},
     "output_type": "execute_result"
    }
   ],
   "source": [
    "12 <= 5 # less than or equal to"
   ]
  },
  {
   "cell_type": "code",
   "execution_count": 18,
   "id": "cc65ea03-5eb4-4354-80d5-55e1778e430c",
   "metadata": {},
   "outputs": [
    {
     "data": {
      "text/plain": [
       "6"
      ]
     },
     "execution_count": 18,
     "metadata": {},
     "output_type": "execute_result"
    }
   ],
   "source": [
    "name = 'ramesh'\n",
    "len(name)"
   ]
  },
  {
   "cell_type": "code",
   "execution_count": 19,
   "id": "d1b7ac54-7b67-49de-a475-9589e7cfb656",
   "metadata": {},
   "outputs": [
    {
     "data": {
      "text/plain": [
       "False"
      ]
     },
     "execution_count": 19,
     "metadata": {},
     "output_type": "execute_result"
    }
   ],
   "source": [
    "len('apple') == len('banana')"
   ]
  },
  {
   "cell_type": "code",
   "execution_count": 20,
   "id": "aafb6aa6-3d75-4ac2-aa32-2ae7973b1d98",
   "metadata": {},
   "outputs": [],
   "source": [
    "# logical operator \n",
    "# and ==> all value True ==> True\n",
    "# or ==> anyone value True ==> True\n",
    "# not ==> opposite value\n"
   ]
  },
  {
   "cell_type": "code",
   "execution_count": 21,
   "id": "53524acb-5cd2-4980-8e77-16b3089eae59",
   "metadata": {},
   "outputs": [
    {
     "data": {
      "text/plain": [
       "False"
      ]
     },
     "execution_count": 21,
     "metadata": {},
     "output_type": "execute_result"
    }
   ],
   "source": [
    "5>3 and 3>4"
   ]
  },
  {
   "cell_type": "code",
   "execution_count": 22,
   "id": "7aa4e56c-ec0f-466f-985e-a002f4b898b3",
   "metadata": {},
   "outputs": [
    {
     "data": {
      "text/plain": [
       "True"
      ]
     },
     "execution_count": 22,
     "metadata": {},
     "output_type": "execute_result"
    }
   ],
   "source": [
    "False or True"
   ]
  },
  {
   "cell_type": "code",
   "execution_count": 23,
   "id": "2878fc02-ebe6-4fc0-b663-62d4b149dee7",
   "metadata": {},
   "outputs": [
    {
     "data": {
      "text/plain": [
       "True"
      ]
     },
     "execution_count": 23,
     "metadata": {},
     "output_type": "execute_result"
    }
   ],
   "source": [
    "5>3 or 3>4"
   ]
  },
  {
   "cell_type": "code",
   "execution_count": 24,
   "id": "becf48e8-54e9-4cde-b9d7-bfe5c58312f8",
   "metadata": {},
   "outputs": [
    {
     "data": {
      "text/plain": [
       "False"
      ]
     },
     "execution_count": 24,
     "metadata": {},
     "output_type": "execute_result"
    }
   ],
   "source": [
    "not 5>3"
   ]
  },
  {
   "cell_type": "code",
   "execution_count": 30,
   "id": "16ec3523-a900-4cd0-bf97-a90fb4ddac48",
   "metadata": {},
   "outputs": [
    {
     "data": {
      "text/plain": [
       "True"
      ]
     },
     "execution_count": 30,
     "metadata": {},
     "output_type": "execute_result"
    }
   ],
   "source": [
    "not not 5 == 5"
   ]
  },
  {
   "cell_type": "code",
   "execution_count": 28,
   "id": "bdc94ae5-5487-40ac-a4ce-80577b05e53c",
   "metadata": {},
   "outputs": [
    {
     "data": {
      "text/plain": [
       "True"
      ]
     },
     "execution_count": 28,
     "metadata": {},
     "output_type": "execute_result"
    }
   ],
   "source": [
    "True or False and False # and is prior "
   ]
  },
  {
   "cell_type": "code",
   "execution_count": 29,
   "id": "1f5bdeac-13f9-4c66-9975-a1d3fa485327",
   "metadata": {},
   "outputs": [
    {
     "data": {
      "text/plain": [
       "False"
      ]
     },
     "execution_count": 29,
     "metadata": {},
     "output_type": "execute_result"
    }
   ],
   "source": [
    "(True or False) and False"
   ]
  },
  {
   "cell_type": "code",
   "execution_count": 31,
   "id": "db81348d-28a8-466f-8d6f-49af43b70e16",
   "metadata": {},
   "outputs": [],
   "source": [
    "# precedence\n",
    "# small barcket\n",
    "# and \n",
    "# or"
   ]
  },
  {
   "cell_type": "code",
   "execution_count": 32,
   "id": "852d9311-f54e-433c-8fc1-9b0eb1870d67",
   "metadata": {},
   "outputs": [
    {
     "data": {
      "text/plain": [
       "False"
      ]
     },
     "execution_count": 32,
     "metadata": {},
     "output_type": "execute_result"
    }
   ],
   "source": [
    "True and (not(not False)) or (True and (not True))"
   ]
  },
  {
   "cell_type": "code",
   "execution_count": 33,
   "id": "5d1388e2-5cc9-43ab-a9aa-302dd6cb81e3",
   "metadata": {},
   "outputs": [
    {
     "data": {
      "text/plain": [
       "2"
      ]
     },
     "execution_count": 33,
     "metadata": {},
     "output_type": "execute_result"
    }
   ],
   "source": [
    "# bitwise operator\n",
    "a = 2 # 0010\n",
    "b = 3 # 0011\n",
    "# 0 0 1 0\n",
    "# & & & &\n",
    "# 0 0 1 1\n",
    "# 0 0 1 0 =====> 2\n",
    "#taking & on both sides\n",
    "#====0010\n",
    "a & b"
   ]
  },
  {
   "cell_type": "code",
   "execution_count": 35,
   "id": "0cd252ec-9aa1-4fd0-991b-93de41008bc1",
   "metadata": {},
   "outputs": [
    {
     "data": {
      "text/plain": [
       "3"
      ]
     },
     "execution_count": 35,
     "metadata": {},
     "output_type": "execute_result"
    }
   ],
   "source": [
    "a = 2 # 0010\n",
    "b = 3 # 0011\n",
    "# 0 0 1 0\n",
    "# | | | |\n",
    "# 0 0 1 1\n",
    "# 0 0 1 1 =====> 3\n",
    "#taking | on both sides\n",
    "#====0011\n",
    "a | b"
   ]
  },
  {
   "cell_type": "code",
   "execution_count": 36,
   "id": "9c763a7b-21e4-4702-8d49-e50d5514b326",
   "metadata": {},
   "outputs": [],
   "source": [
    "# assignment operator"
   ]
  },
  {
   "cell_type": "code",
   "execution_count": 37,
   "id": "e7efb0b9-9ed7-4624-9efb-d68f296667a8",
   "metadata": {},
   "outputs": [],
   "source": [
    "x = 5"
   ]
  },
  {
   "cell_type": "code",
   "execution_count": null,
   "id": "9f9c2a79-f402-43bc-8e6d-2db19587c620",
   "metadata": {},
   "outputs": [],
   "source": []
  }
 ],
 "metadata": {
  "kernelspec": {
   "display_name": "Python 3 (ipykernel)",
   "language": "python",
   "name": "python3"
  },
  "language_info": {
   "codemirror_mode": {
    "name": "ipython",
    "version": 3
   },
   "file_extension": ".py",
   "mimetype": "text/x-python",
   "name": "python",
   "nbconvert_exporter": "python",
   "pygments_lexer": "ipython3",
   "version": "3.13.3"
  }
 },
 "nbformat": 4,
 "nbformat_minor": 5
}
