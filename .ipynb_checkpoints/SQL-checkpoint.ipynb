{
 "cells": [
  {
   "cell_type": "code",
   "execution_count": 2,
   "id": "df2609ac-10ef-4299-970e-8000024d1bf8",
   "metadata": {},
   "outputs": [],
   "source": [
    "import sqlite3"
   ]
  },
  {
   "cell_type": "code",
   "execution_count": 7,
   "id": "98e9f2ea-4f89-45a9-a11a-9bdfe300c2aa",
   "metadata": {},
   "outputs": [],
   "source": [
    "con = sqlite3.connect('student2.sqlite3')"
   ]
  },
  {
   "cell_type": "code",
   "execution_count": 9,
   "id": "2cad6dce-0f90-4e35-91db-12f1d95d4308",
   "metadata": {},
   "outputs": [],
   "source": [
    "cur = con.cursor()"
   ]
  },
  {
   "cell_type": "code",
   "execution_count": 13,
   "id": "593f7e76-21d8-4851-b13d-06914d7f7779",
   "metadata": {},
   "outputs": [
    {
     "ename": "OperationalError",
     "evalue": "table student2 already exists",
     "output_type": "error",
     "traceback": [
      "\u001b[31m---------------------------------------------------------------------------\u001b[39m",
      "\u001b[31mOperationalError\u001b[39m                          Traceback (most recent call last)",
      "\u001b[36mCell\u001b[39m\u001b[36m \u001b[39m\u001b[32mIn[13]\u001b[39m\u001b[32m, line 14\u001b[39m\n\u001b[32m      1\u001b[39m create_table_query = \u001b[33m'''\u001b[39m\n\u001b[32m      2\u001b[39m \n\u001b[32m      3\u001b[39m \u001b[33mcreate table student2(\u001b[39m\n\u001b[32m   (...)\u001b[39m\u001b[32m     12\u001b[39m \n\u001b[32m     13\u001b[39m \u001b[33m'''\u001b[39m\n\u001b[32m---> \u001b[39m\u001b[32m14\u001b[39m \u001b[43mcur\u001b[49m\u001b[43m.\u001b[49m\u001b[43mexecute\u001b[49m\u001b[43m \u001b[49m\u001b[43m(\u001b[49m\u001b[43mcreate_table_query\u001b[49m\u001b[43m)\u001b[49m\n",
      "\u001b[31mOperationalError\u001b[39m: table student2 already exists"
     ]
    }
   ],
   "source": [
    "create_table_query = '''\n",
    "\n",
    "create table student2(\n",
    "id int primary key,\n",
    "name varchar(200) not null,\n",
    "address varchar(200) not null,\n",
    "college varchar(200) not null,\n",
    "faculty varchar(20) not null,\n",
    "age int not null,\n",
    "gender varchar(1) not null\n",
    ");\n",
    "\n",
    "'''\n",
    "cur.execute (create_table_query)"
   ]
  },
  {
   "cell_type": "code",
   "execution_count": 17,
   "id": "d408ec9d-19a3-4757-9520-f06010e4d783",
   "metadata": {},
   "outputs": [
    {
     "ename": "OperationalError",
     "evalue": "near \")\": syntax error",
     "output_type": "error",
     "traceback": [
      "\u001b[31m---------------------------------------------------------------------------\u001b[39m",
      "\u001b[31mOperationalError\u001b[39m                          Traceback (most recent call last)",
      "\u001b[36mCell\u001b[39m\u001b[36m \u001b[39m\u001b[32mIn[17]\u001b[39m\u001b[32m, line 12\u001b[39m\n\u001b[32m      1\u001b[39m insert_data = \u001b[33m'''\u001b[39m\n\u001b[32m      2\u001b[39m \u001b[33minsert into student2\u001b[39m\n\u001b[32m      3\u001b[39m \u001b[33m(\u001b[39m\u001b[33m'\u001b[39m\u001b[33mid\u001b[39m\u001b[33m'\u001b[39m\u001b[33m , \u001b[39m\u001b[33m'\u001b[39m\u001b[33mname\u001b[39m\u001b[33m'\u001b[39m\u001b[33m , \u001b[39m\u001b[33m'\u001b[39m\u001b[33maddress\u001b[39m\u001b[33m'\u001b[39m\u001b[33m, \u001b[39m\u001b[33m'\u001b[39m\u001b[33mcollege \u001b[39m\u001b[33m'\u001b[39m\u001b[33m, \u001b[39m\u001b[33m'\u001b[39m\u001b[33mfaculty\u001b[39m\u001b[33m'\u001b[39m\u001b[33m , \u001b[39m\u001b[33m'\u001b[39m\u001b[33mage\u001b[39m\u001b[33m'\u001b[39m\u001b[33m , \u001b[39m\u001b[33m'\u001b[39m\u001b[33mgender\u001b[39m\u001b[33m'\u001b[39m\u001b[33m)\u001b[39m\n\u001b[32m   (...)\u001b[39m\u001b[32m      9\u001b[39m \n\u001b[32m     10\u001b[39m \u001b[33m'''\u001b[39m\n\u001b[32m---> \u001b[39m\u001b[32m12\u001b[39m \u001b[43mcur\u001b[49m\u001b[43m.\u001b[49m\u001b[43mexecute\u001b[49m\u001b[43m(\u001b[49m\u001b[43minsert_data\u001b[49m\u001b[43m)\u001b[49m\n",
      "\u001b[31mOperationalError\u001b[39m: near \")\": syntax error"
     ]
    }
   ],
   "source": [
    "insert_data = '''\n",
    "insert into student2\n",
    "('id' , 'name' , 'address', 'college ', 'faculty' , 'age' , 'gender')\n",
    "values\n",
    "(1,'ram' , 'kathmandu', 'ncit',  'IT' , 18, 'm'),\n",
    "(2, 'shyam', 'lalitpur', 'kmc' , 'CSIT' ,20, 'm' ,),\n",
    "(3, 'gita', 'pokhara' , 'ncit', 'SE',20, 'm' ,),\n",
    "(4, 'sita' , 'kathmandu', 'ioe pulchowk',  'CE', 24, 'f');\n",
    "\n",
    "'''\n",
    "\n",
    "cur.execute(insert_data)\n"
   ]
  }
 ],
 "metadata": {
  "kernelspec": {
   "display_name": "Python 3 (ipykernel)",
   "language": "python",
   "name": "python3"
  },
  "language_info": {
   "codemirror_mode": {
    "name": "ipython",
    "version": 3
   },
   "file_extension": ".py",
   "mimetype": "text/x-python",
   "name": "python",
   "nbconvert_exporter": "python",
   "pygments_lexer": "ipython3",
   "version": "3.13.3"
  }
 },
 "nbformat": 4,
 "nbformat_minor": 5
}
