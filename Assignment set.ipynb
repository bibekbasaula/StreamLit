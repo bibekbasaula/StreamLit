{
 "cells": [
  {
   "cell_type": "code",
   "execution_count": 2,
   "id": "1189da52-a3ca-4e04-a3a0-42709154971d",
   "metadata": {},
   "outputs": [],
   "source": [
    "mix_fruits= {'guava', 'pear', 'mango', 'apple', 'fig', 'orange', 'banana'}\n",
    "A = {19, 22, 24, 20, 25, 26}\n",
    "B = {19, 22, 20, 25, 26, 24, 28, 27}\n",
    "num = [22, 19, 24, 25, 26, 24, 25, 24]"
   ]
  },
  {
   "cell_type": "code",
   "execution_count": 3,
   "id": "e364b774-52f7-44f3-8502-aadfebab9d62",
   "metadata": {},
   "outputs": [
    {
     "data": {
      "text/plain": [
       "7"
      ]
     },
     "execution_count": 3,
     "metadata": {},
     "output_type": "execute_result"
    }
   ],
   "source": [
    "len(mix_fruits)"
   ]
  },
  {
   "cell_type": "code",
   "execution_count": 5,
   "id": "662256cc-7861-4ee8-aa58-1cea76bf4950",
   "metadata": {},
   "outputs": [
    {
     "name": "stdout",
     "output_type": "stream",
     "text": [
      "{'kiwi', 'mango', 'orange', 'banana', 'fig', 'pear', 'guava', 'apple'}\n"
     ]
    }
   ],
   "source": [
    "mix_fruits.add('kiwi')\n",
    "print(mix_fruits)"
   ]
  },
  {
   "cell_type": "code",
   "execution_count": 15,
   "id": "54ef658a-9234-479b-b294-a19baa79c929",
   "metadata": {},
   "outputs": [
    {
     "data": {
      "text/plain": [
       "{'apple',\n",
       " 'banana',\n",
       " 'fig',\n",
       " 'ggaa',\n",
       " 'grapes',\n",
       " 'guava',\n",
       " 'kiwi',\n",
       " 'orange',\n",
       " 'papaya',\n",
       " 'pear',\n",
       " 'sdgdf'}"
      ]
     },
     "execution_count": 15,
     "metadata": {},
     "output_type": "execute_result"
    }
   ],
   "source": [
    "mix_fruits.update(['sdgdf','ggaa'])\n",
    "mix_fruits"
   ]
  },
  {
   "cell_type": "code",
   "execution_count": 16,
   "id": "0c1e4027-487b-4afd-b6f8-46845281850b",
   "metadata": {},
   "outputs": [
    {
     "data": {
      "text/plain": [
       "'papaya'"
      ]
     },
     "execution_count": 16,
     "metadata": {},
     "output_type": "execute_result"
    }
   ],
   "source": [
    "mix_fruits.pop()"
   ]
  },
  {
   "cell_type": "code",
   "execution_count": 19,
   "id": "83ca140c-d28a-4f4a-9567-5cb3194bd258",
   "metadata": {},
   "outputs": [
    {
     "ename": "KeyError",
     "evalue": "'carrot'",
     "output_type": "error",
     "traceback": [
      "\u001b[31m---------------------------------------------------------------------------\u001b[39m",
      "\u001b[31mKeyError\u001b[39m                                  Traceback (most recent call last)",
      "\u001b[36mCell\u001b[39m\u001b[36m \u001b[39m\u001b[32mIn[19]\u001b[39m\u001b[32m, line 2\u001b[39m\n\u001b[32m      1\u001b[39m mix_fruits= {\u001b[33m'\u001b[39m\u001b[33mguava\u001b[39m\u001b[33m'\u001b[39m, \u001b[33m'\u001b[39m\u001b[33mpear\u001b[39m\u001b[33m'\u001b[39m, \u001b[33m'\u001b[39m\u001b[33mmango\u001b[39m\u001b[33m'\u001b[39m, \u001b[33m'\u001b[39m\u001b[33mapple\u001b[39m\u001b[33m'\u001b[39m, \u001b[33m'\u001b[39m\u001b[33mfig\u001b[39m\u001b[33m'\u001b[39m, \u001b[33m'\u001b[39m\u001b[33morange\u001b[39m\u001b[33m'\u001b[39m, \u001b[33m'\u001b[39m\u001b[33mbanana\u001b[39m\u001b[33m'\u001b[39m}\n\u001b[32m----> \u001b[39m\u001b[32m2\u001b[39m \u001b[43mmix_fruits\u001b[49m\u001b[43m.\u001b[49m\u001b[43mremove\u001b[49m\u001b[43m(\u001b[49m\u001b[33;43m'\u001b[39;49m\u001b[33;43mcarrot\u001b[39;49m\u001b[33;43m'\u001b[39;49m\u001b[43m)\u001b[49m\n",
      "\u001b[31mKeyError\u001b[39m: 'carrot'"
     ]
    }
   ],
   "source": [
    "mix_fruits= {'guava', 'pear', 'mango', 'apple', 'fig', 'orange', 'banana'}\n",
    "mix_fruits.remove('carrot')"
   ]
  },
  {
   "cell_type": "code",
   "execution_count": 20,
   "id": "89a12dbc-c5f7-4fae-a2af-396cdcafa5e4",
   "metadata": {},
   "outputs": [],
   "source": [
    "mix_fruits.discard('carrot')"
   ]
  },
  {
   "cell_type": "code",
   "execution_count": 21,
   "id": "1a6de6ec-767e-47d1-afbf-d986aa159f55",
   "metadata": {},
   "outputs": [],
   "source": [
    "#lvl 2"
   ]
  },
  {
   "cell_type": "code",
   "execution_count": 22,
   "id": "fce024bb-0606-4b7e-ac72-c9f1bda7d5a3",
   "metadata": {},
   "outputs": [
    {
     "data": {
      "text/plain": [
       "{19, 20, 22, 24, 25, 26, 27, 28}"
      ]
     },
     "execution_count": 22,
     "metadata": {},
     "output_type": "execute_result"
    }
   ],
   "source": [
    "A.union(B)"
   ]
  },
  {
   "cell_type": "code",
   "execution_count": 23,
   "id": "6cc90fc0-9535-4740-819d-1ebed5d3b976",
   "metadata": {},
   "outputs": [
    {
     "data": {
      "text/plain": [
       "{19, 20, 22, 24, 25, 26}"
      ]
     },
     "execution_count": 23,
     "metadata": {},
     "output_type": "execute_result"
    }
   ],
   "source": [
    "A.intersection(B)"
   ]
  },
  {
   "cell_type": "code",
   "execution_count": 24,
   "id": "c6a7f97a-229c-484a-ac81-9d45d5d95ef0",
   "metadata": {},
   "outputs": [
    {
     "data": {
      "text/plain": [
       "False"
      ]
     },
     "execution_count": 24,
     "metadata": {},
     "output_type": "execute_result"
    }
   ],
   "source": [
    "A in B"
   ]
  },
  {
   "cell_type": "code",
   "execution_count": 25,
   "id": "265ed2cb-4bcb-41e4-8128-3474e5cb4e4a",
   "metadata": {},
   "outputs": [
    {
     "data": {
      "text/plain": [
       "False"
      ]
     },
     "execution_count": 25,
     "metadata": {},
     "output_type": "execute_result"
    }
   ],
   "source": [
    "A.isdisjoint(B)"
   ]
  },
  {
   "cell_type": "code",
   "execution_count": 28,
   "id": "fd9db5a1-ebca-46c0-a701-e690bebfeef2",
   "metadata": {},
   "outputs": [
    {
     "data": {
      "text/plain": [
       "({19, 20, 22, 24, 25, 26, 27, 28}, {19, 20, 22, 24, 25, 26, 27, 28})"
      ]
     },
     "execution_count": 28,
     "metadata": {},
     "output_type": "execute_result"
    }
   ],
   "source": [
    "A|B, B|A"
   ]
  },
  {
   "cell_type": "code",
   "execution_count": 32,
   "id": "973c0787-c582-453a-8e0e-13781c772b69",
   "metadata": {},
   "outputs": [
    {
     "data": {
      "text/plain": [
       "{27, 28}"
      ]
     },
     "execution_count": 32,
     "metadata": {},
     "output_type": "execute_result"
    }
   ],
   "source": [
    "A = {19, 22, 24, 20, 25, 26}\n",
    "B = {19, 22, 20, 25, 26, 24, 28, 27}\n",
    "B - A"
   ]
  },
  {
   "cell_type": "code",
   "execution_count": 33,
   "id": "63e02ddb-99aa-41d3-a6e6-d62256a4eb3c",
   "metadata": {},
   "outputs": [],
   "source": [
    "del(B)"
   ]
  },
  {
   "cell_type": "code",
   "execution_count": 35,
   "id": "6debbcd8-3d51-4436-81ee-bcd5b2a685bc",
   "metadata": {},
   "outputs": [],
   "source": [
    "del(A)"
   ]
  },
  {
   "cell_type": "code",
   "execution_count": 40,
   "id": "dbb3802e-83ce-497b-abf9-458163066b9b",
   "metadata": {},
   "outputs": [
    {
     "name": "stdout",
     "output_type": "stream",
     "text": [
      "8\n"
     ]
    },
    {
     "data": {
      "text/plain": [
       "8"
      ]
     },
     "execution_count": 40,
     "metadata": {},
     "output_type": "execute_result"
    }
   ],
   "source": [
    "print(len(num))\n",
    "set(num)\n",
    "len(num)"
   ]
  },
  {
   "cell_type": "code",
   "execution_count": 41,
   "id": "a0c04051-b6e3-4f8f-8d54-c70eb88820bd",
   "metadata": {},
   "outputs": [],
   "source": [
    "#tuple and string are immutable\n",
    "#list and sets are mutable"
   ]
  },
  {
   "cell_type": "code",
   "execution_count": 48,
   "id": "8a38e837-35a6-4928-876e-4e0694815325",
   "metadata": {},
   "outputs": [
    {
     "data": {
      "text/plain": [
       "14"
      ]
     },
     "execution_count": 48,
     "metadata": {},
     "output_type": "execute_result"
    }
   ],
   "source": [
    "x = 'I am a researcher cum teacher and I love to inspire and teach people.'\n",
    "y = x.split()\n",
    "set(y)\n",
    "len(y)"
   ]
  },
  {
   "cell_type": "code",
   "execution_count": null,
   "id": "f5e57200-b023-49d2-b01b-a7d1f8db91f3",
   "metadata": {},
   "outputs": [],
   "source": []
  },
  {
   "cell_type": "code",
   "execution_count": null,
   "id": "ff3f6c20-1395-4345-b7a6-66a10d1a0d07",
   "metadata": {},
   "outputs": [],
   "source": []
  }
 ],
 "metadata": {
  "kernelspec": {
   "display_name": "Python 3 (ipykernel)",
   "language": "python",
   "name": "python3"
  },
  "language_info": {
   "codemirror_mode": {
    "name": "ipython",
    "version": 3
   },
   "file_extension": ".py",
   "mimetype": "text/x-python",
   "name": "python",
   "nbconvert_exporter": "python",
   "pygments_lexer": "ipython3",
   "version": "3.13.3"
  }
 },
 "nbformat": 4,
 "nbformat_minor": 5
}
