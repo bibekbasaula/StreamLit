{
 "cells": [
  {
   "cell_type": "code",
   "execution_count": 2,
   "id": "04c07062-4d14-42db-957a-31c479ecc7d8",
   "metadata": {},
   "outputs": [
    {
     "name": "stdout",
     "output_type": "stream",
     "text": [
      "3\n"
     ]
    }
   ],
   "source": [
    "x = 1 #variable => valuee store => integer value / data type / data structure\n",
    "y = 2\n",
    "\n",
    "sum = x+y\n",
    "\n",
    "print (sum)\n"
   ]
  },
  {
   "cell_type": "code",
   "execution_count": 3,
   "id": "e206e738-58f7-47b0-93f5-ab9cd739aa4f",
   "metadata": {},
   "outputs": [
    {
     "ename": "SyntaxError",
     "evalue": "invalid syntax (1284364588.py, line 1)",
     "output_type": "error",
     "traceback": [
      "  \u001b[36mCell\u001b[39m\u001b[36m \u001b[39m\u001b[32mIn[3]\u001b[39m\u001b[32m, line 1\u001b[39m\n\u001b[31m    \u001b[39m\u001b[31mreturn = 3\u001b[39m\n           ^\n\u001b[31mSyntaxError\u001b[39m\u001b[31m:\u001b[39m invalid syntax\n"
     ]
    }
   ],
   "source": [
    "return = 3 "
   ]
  },
  {
   "cell_type": "code",
   "execution_count": 4,
   "id": "9747524c-69d7-46dc-b44a-9f1b875e58b1",
   "metadata": {},
   "outputs": [],
   "source": [
    "dsagdsfgdg = 3"
   ]
  },
  {
   "cell_type": "code",
   "execution_count": 5,
   "id": "3a073613-193b-4274-bf6b-bfc854611a89",
   "metadata": {},
   "outputs": [
    {
     "ename": "SyntaxError",
     "evalue": "invalid decimal literal (3246722604.py, line 1)",
     "output_type": "error",
     "traceback": [
      "  \u001b[36mCell\u001b[39m\u001b[36m \u001b[39m\u001b[32mIn[5]\u001b[39m\u001b[32m, line 1\u001b[39m\n\u001b[31m    \u001b[39m\u001b[31m1___ = 3\u001b[39m\n     ^\n\u001b[31mSyntaxError\u001b[39m\u001b[31m:\u001b[39m invalid decimal literal\n"
     ]
    }
   ],
   "source": [
    "1___ = 3"
   ]
  },
  {
   "cell_type": "code",
   "execution_count": 6,
   "id": "02a48083-cccb-480b-a640-eb27aa99b8d2",
   "metadata": {},
   "outputs": [
    {
     "ename": "SyntaxError",
     "evalue": "invalid syntax (191355952.py, line 1)",
     "output_type": "error",
     "traceback": [
      "  \u001b[36mCell\u001b[39m\u001b[36m \u001b[39m\u001b[32mIn[6]\u001b[39m\u001b[32m, line 1\u001b[39m\n\u001b[31m    \u001b[39m\u001b[31mfor = 3\u001b[39m\n        ^\n\u001b[31mSyntaxError\u001b[39m\u001b[31m:\u001b[39m invalid syntax\n"
     ]
    }
   ],
   "source": [
    "for = 3"
   ]
  },
  {
   "cell_type": "code",
   "execution_count": 7,
   "id": "b6cfbfc5-b668-4368-ae5e-ce85214c3c3a",
   "metadata": {},
   "outputs": [],
   "source": [
    "_ = 9"
   ]
  },
  {
   "cell_type": "code",
   "execution_count": 8,
   "id": "e578e970-8b19-41a7-8fb1-da93c6262da1",
   "metadata": {},
   "outputs": [],
   "source": [
    "_____ = 4\n"
   ]
  },
  {
   "cell_type": "code",
   "execution_count": 9,
   "id": "07168b3e-6b65-48d3-a75a-c02041faceb3",
   "metadata": {},
   "outputs": [
    {
     "ename": "SyntaxError",
     "evalue": "cannot assign to expression here. Maybe you meant '==' instead of '='? (2919456776.py, line 1)",
     "output_type": "error",
     "traceback": [
      "  \u001b[36mCell\u001b[39m\u001b[36m \u001b[39m\u001b[32mIn[9]\u001b[39m\u001b[32m, line 1\u001b[39m\n\u001b[31m    \u001b[39m\u001b[31mfirst-name = 'ram'\u001b[39m\n    ^\n\u001b[31mSyntaxError\u001b[39m\u001b[31m:\u001b[39m cannot assign to expression here. Maybe you meant '==' instead of '='?\n"
     ]
    }
   ],
   "source": [
    "first-name = 'ram'"
   ]
  },
  {
   "cell_type": "code",
   "execution_count": 10,
   "id": "ed2b1478-a51e-4be2-ace3-f6475ffac548",
   "metadata": {},
   "outputs": [
    {
     "ename": "IndentationError",
     "evalue": "unexpected indent (3032733127.py, line 4)",
     "output_type": "error",
     "traceback": [
      "  \u001b[36mCell\u001b[39m\u001b[36m \u001b[39m\u001b[32mIn[10]\u001b[39m\u001b[32m, line 4\u001b[39m\n\u001b[31m    \u001b[39m\u001b[31msum = x+y\u001b[39m\n    ^\n\u001b[31mIndentationError\u001b[39m\u001b[31m:\u001b[39m unexpected indent\n"
     ]
    }
   ],
   "source": [
    "x = 1 #variable => valuee store => integer value / data type / data structure\n",
    "y = 2\n",
    "\n",
    " sum = x+y # indentation error\n",
    "\n",
    "print (sum)\n"
   ]
  },
  {
   "cell_type": "code",
   "execution_count": 11,
   "id": "71129024-bd98-465b-b589-d1a207fb7758",
   "metadata": {},
   "outputs": [],
   "source": [
    "# is used for commenting\n"
   ]
  },
  {
   "cell_type": "code",
   "execution_count": 12,
   "id": "0e407754-c683-4be3-a628-833479760364",
   "metadata": {},
   "outputs": [],
   "source": [
    "gravity = 9.8\n",
    "GRAVITY = 9.8\n",
    "#costant are represented by capital letters"
   ]
  },
  {
   "cell_type": "code",
   "execution_count": 13,
   "id": "35473992-c86c-44d6-be76-f9e5e401c32f",
   "metadata": {},
   "outputs": [
    {
     "name": "stdout",
     "output_type": "stream",
     "text": [
      "10 100 200 4831\n"
     ]
    }
   ],
   "source": [
    "# binary, octal, decimal, hexadecimal\n",
    "\n",
    "a = 0b1010 # Binary Literals ==> 2 digits 0,1\n",
    "b = 100    # Decimal Literals ==> 10 digits 0-9\n",
    "c = 0o310  # Octal Literal ==> 8 digit 0-7\n",
    "d = 0x12df # HExadecimal Literal ==> 16 digits 0-9 & a-f\n",
    "\n",
    "print(a,b,c,d)\n"
   ]
  },
  {
   "cell_type": "code",
   "execution_count": 15,
   "id": "572d541f-2086-4efa-828e-72a4d19c6d62",
   "metadata": {},
   "outputs": [
    {
     "name": "stdout",
     "output_type": "stream",
     "text": [
      "10 100 200 4831\n"
     ]
    }
   ],
   "source": [
    "a, b, c, d = 0b1010, 100, 0o310, 0x12df\n",
    "print(a,b,c,d)"
   ]
  },
  {
   "cell_type": "code",
   "execution_count": 21,
   "id": "3c84fe44-5396-4ffa-be9b-16bb28486d21",
   "metadata": {},
   "outputs": [
    {
     "name": "stdout",
     "output_type": "stream",
     "text": [
      "<class 'float'> <class 'float'>\n"
     ]
    }
   ],
   "source": [
    "a = 5 #integer\n",
    "b = 6.5 #float\n",
    "print(type(a), type(b))"
   ]
  },
  {
   "cell_type": "code",
   "execution_count": 22,
   "id": "38b05da3-1712-43b2-b7e5-2aada478de75",
   "metadata": {},
   "outputs": [],
   "source": [
    "# dynamically typed language => can change the datatype of variable in run time"
   ]
  },
  {
   "cell_type": "code",
   "execution_count": 25,
   "id": "f63202d0-92b5-41c6-bcd2-64df4a694c15",
   "metadata": {},
   "outputs": [
    {
     "name": "stdout",
     "output_type": "stream",
     "text": [
      "<class 'str'>\n",
      "<class 'int'>\n"
     ]
    }
   ],
   "source": [
    "a = 'ram'\n",
    "print(type(a))\n",
    "a = 1\n",
    "print(type(a))"
   ]
  },
  {
   "cell_type": "code",
   "execution_count": 28,
   "id": "cd2ffb05-576e-4ab9-8bae-436fd1f7b52a",
   "metadata": {},
   "outputs": [
    {
     "name": "stdout",
     "output_type": "stream",
     "text": [
      "4330138328\n",
      "4383397744\n"
     ]
    }
   ],
   "source": [
    "a = 5\n",
    "print(id(a))\n",
    "a = 'ram'\n",
    "print(id(a))\n",
    "# 4330138328 is garbage value"
   ]
  },
  {
   "cell_type": "code",
   "execution_count": 29,
   "id": "a2c1e801-c014-4401-bc6c-0dc5b5c9cec7",
   "metadata": {},
   "outputs": [],
   "source": [
    "# garbage collected language ==> removes unused / garbage value from the memory"
   ]
  },
  {
   "cell_type": "code",
   "execution_count": 31,
   "id": "08f199e5-5b0d-4ad1-9e43-4a8cc2f4f47d",
   "metadata": {},
   "outputs": [
    {
     "name": "stdout",
     "output_type": "stream",
     "text": [
      "<class 'str'>\n",
      "<class 'str'>\n",
      "<class 'str'>\n",
      "<class 'str'>\n"
     ]
    }
   ],
   "source": [
    "a = 'ram'\n",
    "print(type(a))\n",
    "a = '''ram'''\n",
    "print(type(a))\n",
    "a = \"ram\"\n",
    "print(type(a))\n",
    "a = \"\"\"ram\"\"\"\n",
    "print(type(a))"
   ]
  },
  {
   "cell_type": "code",
   "execution_count": 36,
   "id": "b20f6267-edf6-4ecc-92ef-fed466b4b6cd",
   "metadata": {},
   "outputs": [
    {
     "name": "stdout",
     "output_type": "stream",
     "text": [
      "False\n",
      "<class 'bool'>\n"
     ]
    }
   ],
   "source": [
    "# boolean\n",
    "a = 1\n",
    "b = 2\n",
    "c = a>b\n",
    "print (c)\n",
    "print (type(c))"
   ]
  },
  {
   "cell_type": "code",
   "execution_count": 38,
   "id": "15570b9e-80f3-492d-adcb-e98fa31e4542",
   "metadata": {},
   "outputs": [
    {
     "name": "stdout",
     "output_type": "stream",
     "text": [
      "<class 'NoneType'>\n"
     ]
    }
   ],
   "source": [
    "# None datatype\n",
    "x = None\n",
    "print (type(x))"
   ]
  },
  {
   "cell_type": "code",
   "execution_count": 39,
   "id": "b0ba9b9e-6cc9-4723-874f-e90c85f37a9a",
   "metadata": {},
   "outputs": [],
   "source": [
    "# Exercise"
   ]
  },
  {
   "cell_type": "code",
   "execution_count": 40,
   "id": "6a1ac328-7080-434b-9486-a2e477668037",
   "metadata": {},
   "outputs": [],
   "source": [
    "a = 25 # variable\n",
    "GRAVITY = 9.8 # constant"
   ]
  },
  {
   "cell_type": "code",
   "execution_count": 52,
   "id": "c97d0445-92ef-4e23-b60d-4c61a37480b8",
   "metadata": {},
   "outputs": [
    {
     "name": "stdout",
     "output_type": "stream",
     "text": [
      "Ram Bahadur\n"
     ]
    }
   ],
   "source": [
    "first_name = 'Ram' # variable\n",
    "last_name = 'Bahadur' # variable\n",
    "full_name = first_name + \" \" + last_name\n",
    "print(full_name)"
   ]
  },
  {
   "cell_type": "code",
   "execution_count": 46,
   "id": "c272e29c-e102-4474-afa9-44b59883752f",
   "metadata": {},
   "outputs": [],
   "source": [
    "is_light_on = True"
   ]
  },
  {
   "cell_type": "code",
   "execution_count": 47,
   "id": "15438d31-fbab-4d36-b3ba-f713889c1c50",
   "metadata": {},
   "outputs": [],
   "source": [
    "a,b,c = 1,2,3"
   ]
  },
  {
   "cell_type": "code",
   "execution_count": 48,
   "id": "85230238-1798-4736-b5a8-15250430ad15",
   "metadata": {},
   "outputs": [],
   "source": [
    "# End"
   ]
  },
  {
   "cell_type": "code",
   "execution_count": 55,
   "id": "e5d022b8-f99c-4303-9a66-a1193f2069dc",
   "metadata": {},
   "outputs": [
    {
     "name": "stdout",
     "output_type": "stream",
     "text": [
      "[1, 2, 3, 4] <class 'list'>\n"
     ]
    }
   ],
   "source": [
    "# list datatype\n",
    "a = [1, 2, 3, 4]\n",
    "print(a, type(a))"
   ]
  },
  {
   "cell_type": "code",
   "execution_count": 56,
   "id": "a284b502-94d0-4129-8fc5-078020dadf88",
   "metadata": {},
   "outputs": [
    {
     "name": "stdout",
     "output_type": "stream",
     "text": [
      "(1, 2, 3, 4) <class 'tuple'>\n"
     ]
    }
   ],
   "source": [
    "# tuple datatype\n",
    "a = (1,2,3,4)\n",
    "print(a, type(a))"
   ]
  },
  {
   "cell_type": "code",
   "execution_count": 57,
   "id": "c9dafb2e-406c-4223-bc52-cf9837b689de",
   "metadata": {},
   "outputs": [
    {
     "name": "stdout",
     "output_type": "stream",
     "text": [
      "{1, 2, 3, 4} <class 'set'>\n"
     ]
    }
   ],
   "source": [
    "# set datatype\n",
    "a = {1,2,3,4}\n",
    "print(a, type(a))"
   ]
  },
  {
   "cell_type": "code",
   "execution_count": 73,
   "id": "4ffeaa51-44c0-4ab5-9294-8239ab012992",
   "metadata": {},
   "outputs": [
    {
     "name": "stdout",
     "output_type": "stream",
     "text": [
      "{'first_name': 'ram', 'last_name': 'bahadur', 'age': 23} <class 'dict'>\n"
     ]
    }
   ],
   "source": [
    "# dictionary datatype\n",
    "a = {\n",
    "    'first_name' : \"ram\",  # key:value with comma separated \n",
    "    'last_name' : \"bahadur\",\n",
    "    \"age\" : 23  #last comma is optional    \n",
    "    }\n",
    "print(a , type(a))"
   ]
  },
  {
   "cell_type": "code",
   "execution_count": 71,
   "id": "63a3e00e-8a93-483b-8104-75e0c739946a",
   "metadata": {},
   "outputs": [],
   "source": [
    "# integer ==> 12\n",
    "# float ==> 12.1\n",
    "# string ==> abc\n",
    "# complex ==> 4j\n",
    "# boolean ==> True False\n",
    "# None \n",
    "# list => []\n",
    "# tuple => ()\n",
    "# set => {}\n",
    "# dictionary => {} => key : value pair "
   ]
  },
  {
   "cell_type": "code",
   "execution_count": 74,
   "id": "cac72d28-0176-4cf8-bdc6-facd99273a69",
   "metadata": {},
   "outputs": [
    {
     "name": "stdout",
     "output_type": "stream",
     "text": [
      "My name is Bibek. I am a boy. I am I.\n"
     ]
    }
   ],
   "source": [
    "s = \"My name is Bibek. I am a boy. I am I.\"\n",
    "print(s)\n"
   ]
  },
  {
   "cell_type": "code",
   "execution_count": 76,
   "id": "ae9bddbd-8a2a-4122-8bfc-abdf1d2fda3d",
   "metadata": {},
   "outputs": [
    {
     "ename": "SyntaxError",
     "evalue": "unterminated string literal (detected at line 1) (3770135507.py, line 1)",
     "output_type": "error",
     "traceback": [
      "  \u001b[36mCell\u001b[39m\u001b[36m \u001b[39m\u001b[32mIn[76]\u001b[39m\u001b[32m, line 1\u001b[39m\n\u001b[31m    \u001b[39m\u001b[31ms = \"My name is Bibek.\u001b[39m\n        ^\n\u001b[31mSyntaxError\u001b[39m\u001b[31m:\u001b[39m unterminated string literal (detected at line 1)\n"
     ]
    }
   ],
   "source": [
    "s = \"My name is Bibek. \n",
    "I am a boy. \n",
    "I am I.\"\n",
    "print(s)"
   ]
  },
  {
   "cell_type": "code",
   "execution_count": 80,
   "id": "5757da95-bb26-4e84-9247-ec599f211d37",
   "metadata": {},
   "outputs": [
    {
     "name": "stdout",
     "output_type": "stream",
     "text": [
      "My name is Bibek.\n",
      "I am a boy.\n",
      "I am I.\n"
     ]
    }
   ],
   "source": [
    "s = \"My name is Bibek.\\nI am a boy.\\nI am I.\"\n",
    "print(s)"
   ]
  },
  {
   "cell_type": "code",
   "execution_count": 81,
   "id": "49e2807e-87b1-46da-aa5e-7176a06b2dae",
   "metadata": {},
   "outputs": [
    {
     "name": "stdout",
     "output_type": "stream",
     "text": [
      "My name is Bibek. \n",
      "I am a boy. \n",
      "I am I.\n"
     ]
    }
   ],
   "source": [
    "# \"\"\" ==> multiple quotation ==> multiline string\n",
    "s = \"\"\"My name is Bibek. \n",
    "I am a boy. \n",
    "I am I.\"\"\"\n",
    "print(s)"
   ]
  },
  {
   "cell_type": "code",
   "execution_count": 83,
   "id": "2d6564a4-033a-4dd7-96dd-f2115ff91fb9",
   "metadata": {},
   "outputs": [
    {
     "name": "stdout",
     "output_type": "stream",
     "text": [
      "My name is Bibek.\\nI am a boy.\\nI am I.\n"
     ]
    }
   ],
   "source": [
    "#escaping character\n",
    "s = \"My name is Bibek.\\\\nI am a boy.\\\\nI am I.\"\n",
    "print(s)"
   ]
  },
  {
   "cell_type": "code",
   "execution_count": 84,
   "id": "abe62a3b-4295-4a70-a186-cd5034897bad",
   "metadata": {},
   "outputs": [
    {
     "name": "stdout",
     "output_type": "stream",
     "text": [
      "My name is Bibek.\\\\nI am a boy.\\\\nI am I.\n"
     ]
    }
   ],
   "source": [
    "#r means raw character \n",
    "s = r\"My name is Bibek.\\\\nI am a boy.\\\\nI am I.\"\n",
    "print(s)"
   ]
  },
  {
   "cell_type": "code",
   "execution_count": 91,
   "id": "1e8e8647-8c93-4fd6-ba91-a1feb1d4938b",
   "metadata": {},
   "outputs": [
    {
     "name": "stdin",
     "output_type": "stream",
     "text": [
      "Enter a number for x  2\n",
      "ENter a number for y 4\n"
     ]
    },
    {
     "name": "stdout",
     "output_type": "stream",
     "text": [
      "24\n",
      "<class 'str'> <class 'str'>\n"
     ]
    }
   ],
   "source": [
    "x = (input(\"Enter a number for x \"))\n",
    "y = (input(\"ENter a number for y\"))\n",
    "\n",
    "sum = x+y\n",
    "print(sum)\n",
    "print(type(x) , type(y))"
   ]
  },
  {
   "cell_type": "code",
   "execution_count": 87,
   "id": "b9b5d9fd-3d7a-4b86-9311-6354772adb24",
   "metadata": {},
   "outputs": [
    {
     "data": {
      "text/plain": [
       "'12'"
      ]
     },
     "execution_count": 87,
     "metadata": {},
     "output_type": "execute_result"
    }
   ],
   "source": [
    "'1' + '2'\n",
    "#concatenation "
   ]
  },
  {
   "cell_type": "code",
   "execution_count": 89,
   "id": "05c1d545-0e5f-414b-9790-a40d0b8a3de7",
   "metadata": {},
   "outputs": [
    {
     "data": {
      "text/plain": [
       "3"
      ]
     },
     "execution_count": 89,
     "metadata": {},
     "output_type": "execute_result"
    }
   ],
   "source": [
    "1 + 2 "
   ]
  },
  {
   "cell_type": "code",
   "execution_count": 92,
   "id": "01e9b0bc-5d6e-4b17-a471-7c797be74fa9",
   "metadata": {},
   "outputs": [
    {
     "name": "stdin",
     "output_type": "stream",
     "text": [
      "Enter a number for x  3\n",
      "ENter a number for y 5\n"
     ]
    },
    {
     "name": "stdout",
     "output_type": "stream",
     "text": [
      "8\n",
      "<class 'int'> <class 'int'>\n"
     ]
    }
   ],
   "source": [
    "x = int(input(\"Enter a number for x \"))\n",
    "y = int(input(\"ENter a number for y\"))\n",
    "\n",
    "sum = x+y\n",
    "print(sum)\n",
    "print(type(x) , type(y))"
   ]
  },
  {
   "cell_type": "code",
   "execution_count": 93,
   "id": "12f17d6e-3660-488b-b717-ef81f83456ce",
   "metadata": {},
   "outputs": [
    {
     "data": {
      "text/plain": [
       "5.0"
      ]
     },
     "execution_count": 93,
     "metadata": {},
     "output_type": "execute_result"
    }
   ],
   "source": [
    "float(5)"
   ]
  },
  {
   "cell_type": "code",
   "execution_count": 94,
   "id": "4ebd738c-ca68-4a7f-aaf9-41f1e98111ee",
   "metadata": {},
   "outputs": [
    {
     "data": {
      "text/plain": [
       "10"
      ]
     },
     "execution_count": 94,
     "metadata": {},
     "output_type": "execute_result"
    }
   ],
   "source": [
    "int(10.6)\n"
   ]
  },
  {
   "cell_type": "code",
   "execution_count": 95,
   "id": "94ec2a9f-e32d-41d8-beed-fb55aa83d70c",
   "metadata": {},
   "outputs": [
    {
     "data": {
      "text/plain": [
       "2.5"
      ]
     },
     "execution_count": 95,
     "metadata": {},
     "output_type": "execute_result"
    }
   ],
   "source": [
    "float('2.5')"
   ]
  },
  {
   "cell_type": "code",
   "execution_count": 96,
   "id": "0d7a3e89-fde7-4210-9c64-47fe3639180c",
   "metadata": {},
   "outputs": [
    {
     "data": {
      "text/plain": [
       "'25'"
      ]
     },
     "execution_count": 96,
     "metadata": {},
     "output_type": "execute_result"
    }
   ],
   "source": [
    "str(25)\n"
   ]
  },
  {
   "cell_type": "code",
   "execution_count": 97,
   "id": "f95e1226-2d81-4fe6-87c0-902d726b2875",
   "metadata": {},
   "outputs": [
    {
     "data": {
      "text/plain": [
       "{1, 2, 3}"
      ]
     },
     "execution_count": 97,
     "metadata": {},
     "output_type": "execute_result"
    }
   ],
   "source": [
    "set([1,2,3])"
   ]
  },
  {
   "cell_type": "code",
   "execution_count": 98,
   "id": "df3999a0-5e8f-472c-b180-ae3f52fb67a8",
   "metadata": {},
   "outputs": [
    {
     "data": {
      "text/plain": [
       "(1, 2, 3)"
      ]
     },
     "execution_count": 98,
     "metadata": {},
     "output_type": "execute_result"
    }
   ],
   "source": [
    "tuple({1,2,3})"
   ]
  },
  {
   "cell_type": "code",
   "execution_count": 99,
   "id": "8f3d8452-7aab-4c98-a947-be7dbb7f0cfd",
   "metadata": {},
   "outputs": [
    {
     "data": {
      "text/plain": [
       "['h', 'e', 'l', 'l', 'o']"
      ]
     },
     "execution_count": 99,
     "metadata": {},
     "output_type": "execute_result"
    }
   ],
   "source": [
    "list('hello')"
   ]
  },
  {
   "cell_type": "code",
   "execution_count": 102,
   "id": "f8b1012f-b111-4b26-b2c1-6165e3c9fdb0",
   "metadata": {},
   "outputs": [
    {
     "data": {
      "text/plain": [
       "{3: 4, 5: 6}"
      ]
     },
     "execution_count": 102,
     "metadata": {},
     "output_type": "execute_result"
    }
   ],
   "source": [
    "dict((({3,4} , {5,6})))"
   ]
  },
  {
   "cell_type": "code",
   "execution_count": 105,
   "id": "891dcc84-d604-4f7e-b7d0-37832705611d",
   "metadata": {},
   "outputs": [
    {
     "data": {
      "text/plain": [
       "{3: 5, 9: 6}"
      ]
     },
     "execution_count": 105,
     "metadata": {},
     "output_type": "execute_result"
    }
   ],
   "source": [
    "dict([(3,5) , (9,6)])"
   ]
  },
  {
   "cell_type": "code",
   "execution_count": 104,
   "id": "885dda71-c8f5-4e0f-93aa-a2c96eb11173",
   "metadata": {},
   "outputs": [
    {
     "data": {
      "text/plain": [
       "{3: 5, 4: 6}"
      ]
     },
     "execution_count": 104,
     "metadata": {},
     "output_type": "execute_result"
    }
   ],
   "source": [
    "dict([{3,5} , {4,6}])"
   ]
  },
  {
   "cell_type": "code",
   "execution_count": 108,
   "id": "283c7e50-6052-43f9-addc-dc8eeeb8d260",
   "metadata": {},
   "outputs": [
    {
     "data": {
      "text/plain": [
       "{3: 5, 4: 6}"
      ]
     },
     "execution_count": 108,
     "metadata": {},
     "output_type": "execute_result"
    }
   ],
   "source": [
    "dict(((3,5) , (4,6)))"
   ]
  },
  {
   "cell_type": "code",
   "execution_count": 110,
   "id": "10244d5d-6bb1-4093-9808-c969414dfd61",
   "metadata": {},
   "outputs": [
    {
     "name": "stdin",
     "output_type": "stream",
     "text": [
      "Enter x 2\n",
      "enter y 4\n"
     ]
    },
    {
     "name": "stdout",
     "output_type": "stream",
     "text": [
      "6\n"
     ]
    }
   ],
   "source": [
    "x = int(input(\"Enter x\"))\n",
    "y = int(input(\"Enter y\"))\n",
    "sum = x+y\n",
    "print(sum)\n",
    "\n"
   ]
  },
  {
   "cell_type": "code",
   "execution_count": 117,
   "id": "0b783e02-40fd-453e-9176-7b1b3b4fbf5e",
   "metadata": {},
   "outputs": [
    {
     "name": "stdin",
     "output_type": "stream",
     "text": [
      "Enter a principle 50_000_000_000\n",
      "Enter time 4\n",
      "Enter rate 3\n"
     ]
    },
    {
     "name": "stdout",
     "output_type": "stream",
     "text": [
      "Simple intrest is  6000000000.0\n"
     ]
    }
   ],
   "source": [
    "#simple interst\n",
    "p = int(input(\"Enter a principle\"))\n",
    "t = int(input(\"Enter time\"))\n",
    "r = int(input(\"Enter rate\"))\n",
    "Si = float((p * t * r)/100)\n",
    "print (\"Simple intrest is \",Si )"
   ]
  },
  {
   "cell_type": "code",
   "execution_count": 123,
   "id": "7a628067-b51e-4f48-ba91-f6771608a9db",
   "metadata": {},
   "outputs": [
    {
     "name": "stdin",
     "output_type": "stream",
     "text": [
      "Enter a principle 412\n",
      "Enter time 2\n",
      "Enter rate 3\n"
     ]
    },
    {
     "name": "stdout",
     "output_type": "stream",
     "text": [
      "Simple intrest is 24.72 \n"
     ]
    }
   ],
   "source": [
    "#simple interst\n",
    "p = int(input(\"Enter a principle\"))\n",
    "t = int(input(\"Enter time\"))\n",
    "r = int(input(\"Enter rate\"))\n",
    "Si = float((p * t * r)/100)\n",
    "#f string interpolation\n",
    "print(f\"Simple intrest is {Si} \")"
   ]
  },
  {
   "cell_type": "code",
   "execution_count": 126,
   "id": "18cef0ca-1f19-4812-9eb4-edb454a489cb",
   "metadata": {},
   "outputs": [
    {
     "name": "stdin",
     "output_type": "stream",
     "text": [
      "Enter the length 10\n",
      "Enter the breadth 8\n"
     ]
    },
    {
     "name": "stdout",
     "output_type": "stream",
     "text": [
      " Area is 80 and Perimeter is 36 \n"
     ]
    }
   ],
   "source": [
    "# Area and Peri\n",
    "l = int(input(\"Enter the length\"))\n",
    "b = int(input(\"Enter the breadth\"))\n",
    "area = float(l * b)\n",
    "perimeter = float(2*(l+b))\n",
    "print(f\" Area is {area} and Perimeter is {perimeter} \")"
   ]
  },
  {
   "cell_type": "code",
   "execution_count": 132,
   "id": "37fd1699-01c1-49c3-9384-ac2c1fb3efcf",
   "metadata": {},
   "outputs": [
    {
     "name": "stdin",
     "output_type": "stream",
     "text": [
      "Enter the radius 7\n"
     ]
    },
    {
     "name": "stdout",
     "output_type": "stream",
     "text": [
      "Area of circle is 153.86 and perimeter is 43.96\n"
     ]
    }
   ],
   "source": [
    "r = float(input(\"Enter the radius\"))\n",
    "PI = 3.14\n",
    "area = float(PI * (r  ** 2))\n",
    "perimeter = float(2 * PI * r)\n",
    "print(f\"Area of circle is {area} and perimeter is {perimeter}\")"
   ]
  },
  {
   "cell_type": "code",
   "execution_count": 133,
   "id": "7be17cb3-84cd-4640-964f-d8b16f97dc2f",
   "metadata": {},
   "outputs": [
    {
     "name": "stdout",
     "output_type": "stream",
     "text": [
      "3.141592653589793\n"
     ]
    }
   ],
   "source": [
    "from math import pi\n",
    "\n",
    "print(pi)"
   ]
  },
  {
   "cell_type": "code",
   "execution_count": 135,
   "id": "de3cdbaa-3d0e-4355-9556-83dba0023844",
   "metadata": {},
   "outputs": [
    {
     "data": {
      "text/plain": [
       "1"
      ]
     },
     "execution_count": 135,
     "metadata": {},
     "output_type": "execute_result"
    }
   ],
   "source": [
    "5 % 2"
   ]
  },
  {
   "cell_type": "code",
   "execution_count": null,
   "id": "42751654-1faf-4a71-9b20-ada36c5e7cc0",
   "metadata": {},
   "outputs": [],
   "source": []
  }
 ],
 "metadata": {
  "kernelspec": {
   "display_name": "Python 3 (ipykernel)",
   "language": "python",
   "name": "python3"
  },
  "language_info": {
   "codemirror_mode": {
    "name": "ipython",
    "version": 3
   },
   "file_extension": ".py",
   "mimetype": "text/x-python",
   "name": "python",
   "nbconvert_exporter": "python",
   "pygments_lexer": "ipython3",
   "version": "3.13.3"
  }
 },
 "nbformat": 4,
 "nbformat_minor": 5
}
