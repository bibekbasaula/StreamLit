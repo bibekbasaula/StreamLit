{
 "cells": [
  {
   "cell_type": "code",
   "execution_count": 1,
   "id": "cdb5c2ea-b209-44f4-87ae-060649a65e71",
   "metadata": {},
   "outputs": [
    {
     "ename": "SyntaxError",
     "evalue": "invalid syntax. Perhaps you forgot a comma? (205647746.py, line 1)",
     "output_type": "error",
     "traceback": [
      "  \u001b[36mCell\u001b[39m\u001b[36m \u001b[39m\u001b[32mIn[1]\u001b[39m\u001b[32m, line 1\u001b[39m\n\u001b[31m    \u001b[39m\u001b[31mset = {1 ,2 ,3 ,4 5}\u001b[39m\n                    ^\n\u001b[31mSyntaxError\u001b[39m\u001b[31m:\u001b[39m invalid syntax. Perhaps you forgot a comma?\n"
     ]
    }
   ],
   "source": [
    "set = {1 ,2 ,3 ,4 ,5}\n"
   ]
  },
  {
   "cell_type": "code",
   "execution_count": 32,
   "id": "160bada1-e6a2-49e9-bcd3-32a7cd45fb3a",
   "metadata": {},
   "outputs": [
    {
     "name": "stdout",
     "output_type": "stream",
     "text": [
      "{1, 3, 4, 'ram'}\n"
     ]
    }
   ],
   "source": [
    "#unordered collection\n",
    "s = {'ram', 1, 3, 4, True}\n",
    "print(s)"
   ]
  },
  {
   "cell_type": "code",
   "execution_count": 5,
   "id": "51337adb-7b5a-455c-acec-3194b968441a",
   "metadata": {},
   "outputs": [
    {
     "name": "stdout",
     "output_type": "stream",
     "text": [
      "{1, 3, 4, 'ram'}\n"
     ]
    }
   ],
   "source": [
    "#unique unordered collection\n",
    "s = {'ram', 1, 3, 4, 'ram', 'ram', True}\n",
    "print(s)"
   ]
  },
  {
   "cell_type": "code",
   "execution_count": 6,
   "id": "477f5749-047e-4ea4-96b2-ee1a63d8f0c1",
   "metadata": {},
   "outputs": [],
   "source": [
    "#tuple, int, float, complex , string => immutable\n",
    "# list, dictionary, set => mutable"
   ]
  },
  {
   "cell_type": "code",
   "execution_count": 7,
   "id": "5a3e3929-b248-44c8-8150-daa43ef3daaa",
   "metadata": {},
   "outputs": [
    {
     "ename": "TypeError",
     "evalue": "unhashable type: 'list'",
     "output_type": "error",
     "traceback": [
      "\u001b[31m---------------------------------------------------------------------------\u001b[39m",
      "\u001b[31mTypeError\u001b[39m                                 Traceback (most recent call last)",
      "\u001b[36mCell\u001b[39m\u001b[36m \u001b[39m\u001b[32mIn[7]\u001b[39m\u001b[32m, line 2\u001b[39m\n\u001b[32m      1\u001b[39m \u001b[38;5;66;03m#cannot store mutable/unhashable datastructure\u001b[39;00m\n\u001b[32m----> \u001b[39m\u001b[32m2\u001b[39m s = {\u001b[33m'\u001b[39m\u001b[33mram\u001b[39m\u001b[33m'\u001b[39m , \u001b[32m1\u001b[39m, \u001b[33m'\u001b[39m\u001b[33mhari\u001b[39m\u001b[33m'\u001b[39m, \u001b[32m4.5\u001b[39m ,\u001b[32m3\u001b[39m, \u001b[33m'\u001b[39m\u001b[33mshyam\u001b[39m\u001b[33m'\u001b[39m, (\u001b[32m7\u001b[39m,\u001b[32m8\u001b[39m,\u001b[32m9\u001b[39m), [\u001b[32m1\u001b[39m,\u001b[32m2\u001b[39m,\u001b[32m3\u001b[39m]}\n\u001b[32m      3\u001b[39m \u001b[38;5;28mprint\u001b[39m(s)\n",
      "\u001b[31mTypeError\u001b[39m: unhashable type: 'list'"
     ]
    }
   ],
   "source": [
    "#cannot store mutable/unhashable datastructure\n",
    "s = {'ram' , 1, 'hari', 4.5 ,3, 'shyam', (7,8,9), [1,2,3]}\n",
    "print(s)"
   ]
  },
  {
   "cell_type": "code",
   "execution_count": 8,
   "id": "d5a091f0-2bc4-463d-8853-ead83548d57f",
   "metadata": {},
   "outputs": [],
   "source": [
    "empty_string =''"
   ]
  },
  {
   "cell_type": "code",
   "execution_count": 9,
   "id": "271fac0e-1320-4875-898d-333b39a02619",
   "metadata": {},
   "outputs": [],
   "source": [
    "empty_string = str()"
   ]
  },
  {
   "cell_type": "code",
   "execution_count": 10,
   "id": "026d867a-58f8-4ea1-b493-644f854dda3a",
   "metadata": {},
   "outputs": [],
   "source": [
    "empty_string = ''\n",
    "empty_list = []\n",
    "empty_tuple = ()\n",
    "empty_dict = {}\n",
    "empty_set = set()"
   ]
  },
  {
   "cell_type": "code",
   "execution_count": 12,
   "id": "9f977ed8-11de-424e-834f-f6792587d99a",
   "metadata": {},
   "outputs": [
    {
     "name": "stdout",
     "output_type": "stream",
     "text": [
      "{'fsd', 'shyam', 'xyz', 'gita', 'sita', 'abc'}\n"
     ]
    }
   ],
   "source": [
    "tea = { 'abc' , 'xyz', 'fsd'}\n",
    "coffee = { 'shyam', 'sita', 'gita'}\n",
    "\n",
    "tea_or_coffee = tea | coffee\n",
    "print(tea_or_coffee)"
   ]
  },
  {
   "cell_type": "code",
   "execution_count": 13,
   "id": "42fec8d1-69fd-4e66-a8bc-f55737fa4b38",
   "metadata": {},
   "outputs": [
    {
     "name": "stdout",
     "output_type": "stream",
     "text": [
      "{'fsd', 'shyam', 'xyz', 'gita', 'sita', 'abc'}\n"
     ]
    }
   ],
   "source": [
    "tea = { 'abc' , 'xyz', 'fsd', 'gita'}\n",
    "coffee = { 'shyam', 'sita', 'gita'}\n",
    "\n",
    "tea_or_coffee = tea.union(coffee)\n",
    "print(tea_or_coffee)"
   ]
  },
  {
   "cell_type": "code",
   "execution_count": 14,
   "id": "0f7fa96b-4672-4804-82ed-fdfac09733f5",
   "metadata": {},
   "outputs": [
    {
     "name": "stdout",
     "output_type": "stream",
     "text": [
      "{'gita'}\n"
     ]
    }
   ],
   "source": [
    "tea = { 'abc' , 'xyz', 'fsd', 'gita'}\n",
    "coffee = { 'shyam', 'sita', 'gita'}\n",
    "\n",
    "tea_or_coffee = tea.intersection(coffee)\n",
    "print(tea_or_coffee)"
   ]
  },
  {
   "cell_type": "code",
   "execution_count": 15,
   "id": "ce56a8f8-e8e4-4bb7-b564-c4affcabacde",
   "metadata": {},
   "outputs": [
    {
     "name": "stdout",
     "output_type": "stream",
     "text": [
      "{'gita'}\n"
     ]
    }
   ],
   "source": [
    "tea = { 'abc' , 'xyz', 'fsd', 'gita'}\n",
    "coffee = { 'shyam', 'sita', 'gita'}\n",
    "\n",
    "tea_or_coffee = tea&coffee\n",
    "print(tea_or_coffee)"
   ]
  },
  {
   "cell_type": "code",
   "execution_count": 17,
   "id": "6e2f93fa-0129-4316-ba15-ffd11663629d",
   "metadata": {},
   "outputs": [
    {
     "name": "stdout",
     "output_type": "stream",
     "text": [
      "{'xyz', 'abc', 'fsd'}\n"
     ]
    }
   ],
   "source": [
    "tea = { 'abc' , 'xyz', 'fsd', 'gita'}\n",
    "coffee = { 'shyam', 'sita', 'gita'}\n",
    "\n",
    "tea_or_coffee = tea - coffee\n",
    "print(tea_or_coffee)"
   ]
  },
  {
   "cell_type": "code",
   "execution_count": 19,
   "id": "719107f6-5406-41a2-aed5-70e438fa429e",
   "metadata": {},
   "outputs": [
    {
     "name": "stdout",
     "output_type": "stream",
     "text": [
      "{'xyz', 'abc', 'fsd'}\n"
     ]
    }
   ],
   "source": [
    "tea = { 'abc' , 'xyz', 'fsd', 'gita'}\n",
    "coffee = { 'shyam', 'sita', 'gita'}\n",
    "\n",
    "tea_or_coffee = tea.difference(coffee)\n",
    "print(tea_or_coffee)"
   ]
  },
  {
   "cell_type": "code",
   "execution_count": 20,
   "id": "a2ad1262-7367-4d27-a547-fd5ec9a592c2",
   "metadata": {},
   "outputs": [
    {
     "name": "stdout",
     "output_type": "stream",
     "text": [
      "{'sita', 'shyam'}\n"
     ]
    }
   ],
   "source": [
    "tea = { 'abc' , 'xyz', 'fsd', 'gita'}\n",
    "coffee = { 'shyam', 'sita', 'gita'}\n",
    "\n",
    "tea_or_coffee = coffee - tea\n",
    "print(tea_or_coffee)"
   ]
  },
  {
   "cell_type": "code",
   "execution_count": 21,
   "id": "92f23b88-3d7f-4fa3-86bd-1d0753d0622a",
   "metadata": {},
   "outputs": [
    {
     "name": "stdout",
     "output_type": "stream",
     "text": [
      "{'sita', 'shyam'}\n"
     ]
    }
   ],
   "source": [
    "tea = { 'abc' , 'xyz', 'fsd', 'gita'}\n",
    "coffee = { 'shyam', 'sita', 'gita'}\n",
    "\n",
    "tea_or_coffee = coffee.difference(tea)\n",
    "print(tea_or_coffee)"
   ]
  },
  {
   "cell_type": "code",
   "execution_count": 22,
   "id": "b5b071bc-f627-4b8d-a0e4-dd1708df099e",
   "metadata": {},
   "outputs": [
    {
     "name": "stdout",
     "output_type": "stream",
     "text": [
      "Help on class set in module builtins:\n",
      "\n",
      "class set(object)\n",
      " |  set(iterable=(), /)\n",
      " |\n",
      " |  Build an unordered collection of unique elements.\n",
      " |\n",
      " |  Methods defined here:\n",
      " |\n",
      " |  __and__(self, value, /)\n",
      " |      Return self&value.\n",
      " |\n",
      " |  __contains__(self, object, /)\n",
      " |      x.__contains__(y) <==> y in x.\n",
      " |\n",
      " |  __eq__(self, value, /)\n",
      " |      Return self==value.\n",
      " |\n",
      " |  __ge__(self, value, /)\n",
      " |      Return self>=value.\n",
      " |\n",
      " |  __getattribute__(self, name, /)\n",
      " |      Return getattr(self, name).\n",
      " |\n",
      " |  __gt__(self, value, /)\n",
      " |      Return self>value.\n",
      " |\n",
      " |  __iand__(self, value, /)\n",
      " |      Return self&=value.\n",
      " |\n",
      " |  __init__(self, /, *args, **kwargs)\n",
      " |      Initialize self.  See help(type(self)) for accurate signature.\n",
      " |\n",
      " |  __ior__(self, value, /)\n",
      " |      Return self|=value.\n",
      " |\n",
      " |  __isub__(self, value, /)\n",
      " |      Return self-=value.\n",
      " |\n",
      " |  __iter__(self, /)\n",
      " |      Implement iter(self).\n",
      " |\n",
      " |  __ixor__(self, value, /)\n",
      " |      Return self^=value.\n",
      " |\n",
      " |  __le__(self, value, /)\n",
      " |      Return self<=value.\n",
      " |\n",
      " |  __len__(self, /)\n",
      " |      Return len(self).\n",
      " |\n",
      " |  __lt__(self, value, /)\n",
      " |      Return self<value.\n",
      " |\n",
      " |  __ne__(self, value, /)\n",
      " |      Return self!=value.\n",
      " |\n",
      " |  __or__(self, value, /)\n",
      " |      Return self|value.\n",
      " |\n",
      " |  __rand__(self, value, /)\n",
      " |      Return value&self.\n",
      " |\n",
      " |  __reduce__(self, /)\n",
      " |      Return state information for pickling.\n",
      " |\n",
      " |  __repr__(self, /)\n",
      " |      Return repr(self).\n",
      " |\n",
      " |  __ror__(self, value, /)\n",
      " |      Return value|self.\n",
      " |\n",
      " |  __rsub__(self, value, /)\n",
      " |      Return value-self.\n",
      " |\n",
      " |  __rxor__(self, value, /)\n",
      " |      Return value^self.\n",
      " |\n",
      " |  __sizeof__(self, /)\n",
      " |      S.__sizeof__() -> size of S in memory, in bytes.\n",
      " |\n",
      " |  __sub__(self, value, /)\n",
      " |      Return self-value.\n",
      " |\n",
      " |  __xor__(self, value, /)\n",
      " |      Return self^value.\n",
      " |\n",
      " |  add(self, object, /)\n",
      " |      Add an element to a set.\n",
      " |\n",
      " |      This has no effect if the element is already present.\n",
      " |\n",
      " |  clear(self, /)\n",
      " |      Remove all elements from this set.\n",
      " |\n",
      " |  copy(self, /)\n",
      " |      Return a shallow copy of a set.\n",
      " |\n",
      " |  difference(self, /, *others)\n",
      " |      Return a new set with elements in the set that are not in the others.\n",
      " |\n",
      " |  difference_update(self, /, *others)\n",
      " |      Update the set, removing elements found in others.\n",
      " |\n",
      " |  discard(self, object, /)\n",
      " |      Remove an element from a set if it is a member.\n",
      " |\n",
      " |      Unlike set.remove(), the discard() method does not raise\n",
      " |      an exception when an element is missing from the set.\n",
      " |\n",
      " |  intersection(self, /, *others)\n",
      " |      Return a new set with elements common to the set and all others.\n",
      " |\n",
      " |  intersection_update(self, /, *others)\n",
      " |      Update the set, keeping only elements found in it and all others.\n",
      " |\n",
      " |  isdisjoint(self, other, /)\n",
      " |      Return True if two sets have a null intersection.\n",
      " |\n",
      " |  issubset(self, other, /)\n",
      " |      Report whether another set contains this set.\n",
      " |\n",
      " |  issuperset(self, other, /)\n",
      " |      Report whether this set contains another set.\n",
      " |\n",
      " |  pop(self, /)\n",
      " |      Remove and return an arbitrary set element.\n",
      " |\n",
      " |      Raises KeyError if the set is empty.\n",
      " |\n",
      " |  remove(self, object, /)\n",
      " |      Remove an element from a set; it must be a member.\n",
      " |\n",
      " |      If the element is not a member, raise a KeyError.\n",
      " |\n",
      " |  symmetric_difference(self, other, /)\n",
      " |      Return a new set with elements in either the set or other but not both.\n",
      " |\n",
      " |  symmetric_difference_update(self, other, /)\n",
      " |      Update the set, keeping only elements found in either set, but not in both.\n",
      " |\n",
      " |  union(self, /, *others)\n",
      " |      Return a new set with elements from the set and all others.\n",
      " |\n",
      " |  update(self, /, *others)\n",
      " |      Update the set, adding elements from all others.\n",
      " |\n",
      " |  ----------------------------------------------------------------------\n",
      " |  Class methods defined here:\n",
      " |\n",
      " |  __class_getitem__(object, /)\n",
      " |      See PEP 585\n",
      " |\n",
      " |  ----------------------------------------------------------------------\n",
      " |  Static methods defined here:\n",
      " |\n",
      " |  __new__(*args, **kwargs)\n",
      " |      Create and return a new object.  See help(type) for accurate signature.\n",
      " |\n",
      " |  ----------------------------------------------------------------------\n",
      " |  Data and other attributes defined here:\n",
      " |\n",
      " |  __hash__ = None\n",
      "\n"
     ]
    }
   ],
   "source": [
    "help(set)"
   ]
  },
  {
   "cell_type": "code",
   "execution_count": 25,
   "id": "935903d7-59a2-4eb4-8b37-c56e290b3a3b",
   "metadata": {},
   "outputs": [
    {
     "name": "stdout",
     "output_type": "stream",
     "text": [
      "{'sita', 'gita', 'ram', 'shyam'}\n"
     ]
    }
   ],
   "source": [
    "coffee.add(\"ram\")\n",
    "print(coffee)"
   ]
  },
  {
   "cell_type": "code",
   "execution_count": 27,
   "id": "d71239d9-1696-4126-8c55-e5fda4063dc7",
   "metadata": {},
   "outputs": [
    {
     "data": {
      "text/plain": [
       "{(4, 5, 6), 1, 3, 4, 'ram'}"
      ]
     },
     "execution_count": 27,
     "metadata": {},
     "output_type": "execute_result"
    }
   ],
   "source": [
    "s.add((4,5,6))\n",
    "s"
   ]
  },
  {
   "cell_type": "code",
   "execution_count": 31,
   "id": "172704d0-ce20-44e6-a13a-f23941e675b9",
   "metadata": {},
   "outputs": [
    {
     "data": {
      "text/plain": [
       "{1, 3, 4, 5, 6, 'ram'}"
      ]
     },
     "execution_count": 31,
     "metadata": {},
     "output_type": "execute_result"
    }
   ],
   "source": [
    "s = {'ram', 1, 3, 4, True}\n",
    "s.update((4,5,6))\n",
    "s"
   ]
  },
  {
   "cell_type": "code",
   "execution_count": 34,
   "id": "071f2ff4-a00c-441c-b387-ac1767a840a9",
   "metadata": {},
   "outputs": [],
   "source": [
    "s = {'ram', 1, 3, 4, True}\n",
    "s.remove(1)"
   ]
  },
  {
   "cell_type": "code",
   "execution_count": 36,
   "id": "c2ff144d-0b01-442c-9b1b-131adb192056",
   "metadata": {},
   "outputs": [
    {
     "name": "stdout",
     "output_type": "stream",
     "text": [
      "Help on method_descriptor:\n",
      "\n",
      "remove(self, object, /) unbound builtins.set method\n",
      "    Remove an element from a set; it must be a member.\n",
      "\n",
      "    If the element is not a member, raise a KeyError.\n",
      "\n"
     ]
    }
   ],
   "source": [
    "help(set.remove)"
   ]
  },
  {
   "cell_type": "code",
   "execution_count": 37,
   "id": "ac788ca5-c046-43d9-9416-04426855302a",
   "metadata": {},
   "outputs": [
    {
     "ename": "KeyError",
     "evalue": "11",
     "output_type": "error",
     "traceback": [
      "\u001b[31m---------------------------------------------------------------------------\u001b[39m",
      "\u001b[31mKeyError\u001b[39m                                  Traceback (most recent call last)",
      "\u001b[36mCell\u001b[39m\u001b[36m \u001b[39m\u001b[32mIn[37]\u001b[39m\u001b[32m, line 2\u001b[39m\n\u001b[32m      1\u001b[39m s = {\u001b[33m'\u001b[39m\u001b[33mram\u001b[39m\u001b[33m'\u001b[39m, \u001b[32m1\u001b[39m, \u001b[32m3\u001b[39m, \u001b[32m4\u001b[39m, \u001b[38;5;28;01mTrue\u001b[39;00m}\n\u001b[32m----> \u001b[39m\u001b[32m2\u001b[39m \u001b[43ms\u001b[49m\u001b[43m.\u001b[49m\u001b[43mremove\u001b[49m\u001b[43m(\u001b[49m\u001b[32;43m11\u001b[39;49m\u001b[43m)\u001b[49m\n",
      "\u001b[31mKeyError\u001b[39m: 11"
     ]
    }
   ],
   "source": [
    "s = {'ram', 1, 3, 4, True}\n",
    "s.remove(11)"
   ]
  },
  {
   "cell_type": "code",
   "execution_count": 39,
   "id": "20c4b1a8-096d-44e5-bd71-5aa96a7fced1",
   "metadata": {},
   "outputs": [
    {
     "data": {
      "text/plain": [
       "{1, 3, 4, 'ram'}"
      ]
     },
     "execution_count": 39,
     "metadata": {},
     "output_type": "execute_result"
    }
   ],
   "source": [
    "s = {'ram', 1, 3, 4, True}\n",
    "s.discard(11)\n",
    "s"
   ]
  },
  {
   "cell_type": "code",
   "execution_count": 40,
   "id": "52b2a8df-7760-409f-96d9-ac71b6b4f0d1",
   "metadata": {},
   "outputs": [
    {
     "name": "stdout",
     "output_type": "stream",
     "text": [
      "Help on method_descriptor:\n",
      "\n",
      "discard(self, object, /) unbound builtins.set method\n",
      "    Remove an element from a set if it is a member.\n",
      "\n",
      "    Unlike set.remove(), the discard() method does not raise\n",
      "    an exception when an element is missing from the set.\n",
      "\n"
     ]
    }
   ],
   "source": [
    "help(set.discard)"
   ]
  },
  {
   "cell_type": "code",
   "execution_count": 43,
   "id": "2d6e676f-1664-4fd7-8c6b-4f904706f918",
   "metadata": {},
   "outputs": [
    {
     "data": {
      "text/plain": [
       "1"
      ]
     },
     "execution_count": 43,
     "metadata": {},
     "output_type": "execute_result"
    }
   ],
   "source": [
    "s = {'ram', 1, 3, 4, True}\n",
    "s.pop()"
   ]
  },
  {
   "cell_type": "code",
   "execution_count": 44,
   "id": "1f1eeb74-cbfc-495c-b419-2660127a1043",
   "metadata": {},
   "outputs": [
    {
     "name": "stdout",
     "output_type": "stream",
     "text": [
      "Help on method_descriptor:\n",
      "\n",
      "pop(self, /) unbound builtins.set method\n",
      "    Remove and return an arbitrary set element.\n",
      "\n",
      "    Raises KeyError if the set is empty.\n",
      "\n"
     ]
    }
   ],
   "source": [
    "help(set.pop)"
   ]
  },
  {
   "cell_type": "code",
   "execution_count": 46,
   "id": "47e26154-5234-40d6-8458-ca514fa1b0cd",
   "metadata": {},
   "outputs": [
    {
     "name": "stdout",
     "output_type": "stream",
     "text": [
      "frozenset({1, 2, 3, 4}) <class 'frozenset'>\n"
     ]
    }
   ],
   "source": [
    "x = frozenset([1,2,3,4])\n",
    "print(x, type(x))"
   ]
  },
  {
   "cell_type": "code",
   "execution_count": 47,
   "id": "e9c676c2-6b70-4ff7-89c3-37e18bede7c1",
   "metadata": {},
   "outputs": [
    {
     "ename": "AttributeError",
     "evalue": "'frozenset' object has no attribute 'add'",
     "output_type": "error",
     "traceback": [
      "\u001b[31m---------------------------------------------------------------------------\u001b[39m",
      "\u001b[31mAttributeError\u001b[39m                            Traceback (most recent call last)",
      "\u001b[36mCell\u001b[39m\u001b[36m \u001b[39m\u001b[32mIn[47]\u001b[39m\u001b[32m, line 1\u001b[39m\n\u001b[32m----> \u001b[39m\u001b[32m1\u001b[39m \u001b[43mx\u001b[49m\u001b[43m.\u001b[49m\u001b[43madd\u001b[49m(\u001b[32m1\u001b[39m)\n",
      "\u001b[31mAttributeError\u001b[39m: 'frozenset' object has no attribute 'add'"
     ]
    }
   ],
   "source": [
    "x.add(1)"
   ]
  },
  {
   "cell_type": "code",
   "execution_count": null,
   "id": "2cf493d6-b15f-497f-8db5-1f2f64519006",
   "metadata": {},
   "outputs": [],
   "source": []
  }
 ],
 "metadata": {
  "kernelspec": {
   "display_name": "Python 3 (ipykernel)",
   "language": "python",
   "name": "python3"
  },
  "language_info": {
   "codemirror_mode": {
    "name": "ipython",
    "version": 3
   },
   "file_extension": ".py",
   "mimetype": "text/x-python",
   "name": "python",
   "nbconvert_exporter": "python",
   "pygments_lexer": "ipython3",
   "version": "3.13.3"
  }
 },
 "nbformat": 4,
 "nbformat_minor": 5
}
