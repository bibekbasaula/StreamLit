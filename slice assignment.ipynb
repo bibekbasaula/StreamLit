{
 "cells": [
  {
   "cell_type": "code",
   "execution_count": 1,
   "id": "113e9783-b404-46ce-9a8e-83ddea916148",
   "metadata": {},
   "outputs": [
    {
     "data": {
      "text/plain": [
       "'P'"
      ]
     },
     "execution_count": 1,
     "metadata": {},
     "output_type": "execute_result"
    }
   ],
   "source": [
    "s = 'Python 4 Data science'\n",
    "s[0]"
   ]
  },
  {
   "cell_type": "code",
   "execution_count": 13,
   "id": "f1a31c38-8002-4dd2-80a7-36514308ad00",
   "metadata": {},
   "outputs": [
    {
     "data": {
      "text/plain": [
       "\"because' , because ' because'\""
      ]
     },
     "execution_count": 13,
     "metadata": {},
     "output_type": "execute_result"
    }
   ],
   "source": [
    "s = \"We cannot end this sentence with 'because' , because ' because' is a conjunction\"\n",
    "\n",
    "s[-46:-17:1]"
   ]
  },
  {
   "cell_type": "code",
   "execution_count": 20,
   "id": "a30b91ab-121e-4f10-b952-7845f3f4183b",
   "metadata": {},
   "outputs": [
    {
     "name": "stdout",
     "output_type": "stream",
     "text": [
      "Data\n",
      "Fun\n",
      "Science\n",
      "DtSinesu\n",
      "nuFsIecneicSataD\n"
     ]
    }
   ],
   "source": [
    "text = \"DataScienceIsFun\"\n",
    "print(text[:4])\n",
    "print(text[-3:])\n",
    "print(text[4:11])\n",
    "print(text[::2])\n",
    "print(text[-1::-1])"
   ]
  },
  {
   "cell_type": "code",
   "execution_count": 25,
   "id": "efeb05b0-5b79-44de-9c33-746c6cfd0366",
   "metadata": {},
   "outputs": [
    {
     "name": "stdout",
     "output_type": "stream",
     "text": [
      "Machine\n",
      "Learning\n",
      "Python\n"
     ]
    }
   ],
   "source": [
    "s = \"Machine Learning with Python\"\n",
    "\n",
    "print(s[:7])\n",
    "print(s[8:16])\n",
    "print(s[-6:])\n"
   ]
  },
  {
   "cell_type": "code",
   "execution_count": 27,
   "id": "6a46c629-77b1-4660-886a-b7e082d68956",
   "metadata": {},
   "outputs": [
    {
     "data": {
      "text/plain": [
       "'Chris'"
      ]
     },
     "execution_count": 27,
     "metadata": {},
     "output_type": "execute_result"
    }
   ],
   "source": [
    "n = 'Christopher'\n",
    "n[:5]\n"
   ]
  },
  {
   "cell_type": "code",
   "execution_count": null,
   "id": "f80e85f5-7184-44a2-9faa-5c1873e39a72",
   "metadata": {},
   "outputs": [],
   "source": []
  }
 ],
 "metadata": {
  "kernelspec": {
   "display_name": "Python 3 (ipykernel)",
   "language": "python",
   "name": "python3"
  },
  "language_info": {
   "codemirror_mode": {
    "name": "ipython",
    "version": 3
   },
   "file_extension": ".py",
   "mimetype": "text/x-python",
   "name": "python",
   "nbconvert_exporter": "python",
   "pygments_lexer": "ipython3",
   "version": "3.13.3"
  }
 },
 "nbformat": 4,
 "nbformat_minor": 5
}
