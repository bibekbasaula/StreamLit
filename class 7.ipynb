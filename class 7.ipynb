{
 "cells": [
  {
   "cell_type": "code",
   "execution_count": 1,
   "id": "99cc4d1e-fec1-4167-8898-1b9610e7c4e6",
   "metadata": {},
   "outputs": [
    {
     "name": "stdout",
     "output_type": "stream",
     "text": [
      "[1, 2, 3, 4] <class 'list'>\n"
     ]
    }
   ],
   "source": [
    "#list\n",
    "x = [1, 2, 3, 4]\n",
    "print(x, type(x))"
   ]
  },
  {
   "cell_type": "code",
   "execution_count": 2,
   "id": "dc05d08c-b9f4-4345-9751-af6961acc3e8",
   "metadata": {},
   "outputs": [
    {
     "name": "stdout",
     "output_type": "stream",
     "text": [
      "[1, 1.5, 'ram', '1', 5j, (1, 2, 3), {1, 2, 3}, {'name': 'ram'}, [1, 2, 3], 1, 2]\n"
     ]
    }
   ],
   "source": [
    "#supports any type of datastruture\n",
    "x = [1, 1.5, 'ram', '1', 5j, (1,2,3), {1,2,3}, {'name':'ram'}, [1,2,3], 1, 2]\n",
    "print(x)"
   ]
  },
  {
   "cell_type": "code",
   "execution_count": 7,
   "id": "987e11e0-e6df-423a-a775-301c9804a63f",
   "metadata": {},
   "outputs": [
    {
     "name": "stdout",
     "output_type": "stream",
     "text": [
      "['ram', {1, 2, 3}, [1, 2, 3], 1, 1, 5j, {'name': 'ram'}, 2, '1', 1.5, (1, 2, 3)]\n"
     ]
    }
   ],
   "source": [
    "import random \n",
    "x = [1, 1.5, 'ram', '1', 5j, (1,2,3), {1,2,3}, {'name':'ram'}, [1,2,3], 1, 2]\n",
    "(random.shuffle(x))\n",
    "print(x)"
   ]
  },
  {
   "cell_type": "code",
   "execution_count": 8,
   "id": "9a3c7294-bc03-42b0-9f09-ac35880f5501",
   "metadata": {},
   "outputs": [
    {
     "data": {
      "text/plain": [
       "['banana', 'mango']"
      ]
     },
     "execution_count": 8,
     "metadata": {},
     "output_type": "execute_result"
    }
   ],
   "source": [
    "fruits = ['apple', 'banana', 'mango', 'orange']\n",
    "fruits[1:3]"
   ]
  },
  {
   "cell_type": "code",
   "execution_count": 17,
   "id": "943f0516-f66f-40f4-adb7-58caf7183351",
   "metadata": {},
   "outputs": [
    {
     "data": {
      "text/plain": [
       "4"
      ]
     },
     "execution_count": 17,
     "metadata": {},
     "output_type": "execute_result"
    }
   ],
   "source": [
    "x = [1,2,[3,4,5,6],7,8,9] #nested list\n",
    "x[2][1]"
   ]
  },
  {
   "cell_type": "code",
   "execution_count": 21,
   "id": "0a5eda3f-ce11-4c92-8e42-76a104152e2b",
   "metadata": {},
   "outputs": [
    {
     "data": {
      "text/plain": [
       "[4, 5, 6]"
      ]
     },
     "execution_count": 21,
     "metadata": {},
     "output_type": "execute_result"
    }
   ],
   "source": [
    "x = [1,2,[3,4,5,6],7,8,9] #nested list\n",
    "x[2][1:]"
   ]
  },
  {
   "cell_type": "code",
   "execution_count": 22,
   "id": "194ac09b-33fd-41ae-b4d2-4d521fae2fb9",
   "metadata": {},
   "outputs": [
    {
     "data": {
      "text/plain": [
       "4"
      ]
     },
     "execution_count": 22,
     "metadata": {},
     "output_type": "execute_result"
    }
   ],
   "source": [
    "x = [1,[2,[3,4,5,6],7],8,9] #nested list\n",
    "x[1][1][1]"
   ]
  },
  {
   "cell_type": "code",
   "execution_count": 24,
   "id": "3e079a9d-7b5e-4544-bfb4-fd367795b96e",
   "metadata": {},
   "outputs": [
    {
     "data": {
      "text/plain": [
       "5"
      ]
     },
     "execution_count": 24,
     "metadata": {},
     "output_type": "execute_result"
    }
   ],
   "source": [
    "x = [1,[[2,[3,4,5,6],7],8],9]\n",
    "x[1][0][1][2]"
   ]
  },
  {
   "cell_type": "code",
   "execution_count": 32,
   "id": "fa994527-e8f8-4881-8661-7b0264eba9ee",
   "metadata": {},
   "outputs": [
    {
     "data": {
      "text/plain": [
       "['apple', 'orange', 'mango', 'banana']"
      ]
     },
     "execution_count": 32,
     "metadata": {},
     "output_type": "execute_result"
    }
   ],
   "source": [
    "fruits = ['apple', 'orange', 'mango', 'orange']\n",
    "fruits[3] = 'banana'\n",
    "fruits"
   ]
  },
  {
   "cell_type": "code",
   "execution_count": 31,
   "id": "335fc7f1-7ebc-4a86-adbe-5a6da679f6ae",
   "metadata": {},
   "outputs": [
    {
     "name": "stdout",
     "output_type": "stream",
     "text": [
      "['orange', 'mango', 'orange']\n"
     ]
    }
   ],
   "source": [
    "fruits = ['apple', 'orange', 'mango', 'orange']\n",
    "del fruits[0]\n",
    "print(fruits)"
   ]
  },
  {
   "cell_type": "code",
   "execution_count": 33,
   "id": "04987bfb-6384-4024-9289-e3821522fdb4",
   "metadata": {},
   "outputs": [],
   "source": [
    "# list is mutable\n",
    "# int and str are immutable"
   ]
  },
  {
   "cell_type": "code",
   "execution_count": 34,
   "id": "68d37172-0bff-42c4-ad93-6597c23fc004",
   "metadata": {},
   "outputs": [
    {
     "ename": "TypeError",
     "evalue": "'str' object does not support item assignment",
     "output_type": "error",
     "traceback": [
      "\u001b[31m---------------------------------------------------------------------------\u001b[39m",
      "\u001b[31mTypeError\u001b[39m                                 Traceback (most recent call last)",
      "\u001b[36mCell\u001b[39m\u001b[36m \u001b[39m\u001b[32mIn[34]\u001b[39m\u001b[32m, line 2\u001b[39m\n\u001b[32m      1\u001b[39m x = \u001b[33m'\u001b[39m\u001b[33mram\u001b[39m\u001b[33m'\u001b[39m\n\u001b[32m----> \u001b[39m\u001b[32m2\u001b[39m \u001b[43mx\u001b[49m\u001b[43m[\u001b[49m\u001b[32;43m0\u001b[39;49m\u001b[43m]\u001b[49m = \u001b[33m'\u001b[39m\u001b[33mb\u001b[39m\u001b[33m'\u001b[39m\n",
      "\u001b[31mTypeError\u001b[39m: 'str' object does not support item assignment"
     ]
    }
   ],
   "source": [
    "x = 'ram'\n",
    "x[0] = 'b'"
   ]
  },
  {
   "cell_type": "code",
   "execution_count": 45,
   "id": "d870e5df-b71e-4f45-83af-d79adf36bc79",
   "metadata": {},
   "outputs": [
    {
     "name": "stdout",
     "output_type": "stream",
     "text": [
      "Help on class list in module builtins:\n",
      "\n",
      "class list(object)\n",
      " |  list(iterable=(), /)\n",
      " |\n",
      " |  Built-in mutable sequence.\n",
      " |\n",
      " |  If no argument is given, the constructor creates a new empty list.\n",
      " |  The argument must be an iterable if specified.\n",
      " |\n",
      " |  Methods defined here:\n",
      " |\n",
      " |  __add__(self, value, /)\n",
      " |      Return self+value.\n",
      " |\n",
      " |  __contains__(self, key, /)\n",
      " |      Return bool(key in self).\n",
      " |\n",
      " |  __delitem__(self, key, /)\n",
      " |      Delete self[key].\n",
      " |\n",
      " |  __eq__(self, value, /)\n",
      " |      Return self==value.\n",
      " |\n",
      " |  __ge__(self, value, /)\n",
      " |      Return self>=value.\n",
      " |\n",
      " |  __getattribute__(self, name, /)\n",
      " |      Return getattr(self, name).\n",
      " |\n",
      " |  __getitem__(self, index, /)\n",
      " |      Return self[index].\n",
      " |\n",
      " |  __gt__(self, value, /)\n",
      " |      Return self>value.\n",
      " |\n",
      " |  __iadd__(self, value, /)\n",
      " |      Implement self+=value.\n",
      " |\n",
      " |  __imul__(self, value, /)\n",
      " |      Implement self*=value.\n",
      " |\n",
      " |  __init__(self, /, *args, **kwargs)\n",
      " |      Initialize self.  See help(type(self)) for accurate signature.\n",
      " |\n",
      " |  __iter__(self, /)\n",
      " |      Implement iter(self).\n",
      " |\n",
      " |  __le__(self, value, /)\n",
      " |      Return self<=value.\n",
      " |\n",
      " |  __len__(self, /)\n",
      " |      Return len(self).\n",
      " |\n",
      " |  __lt__(self, value, /)\n",
      " |      Return self<value.\n",
      " |\n",
      " |  __mul__(self, value, /)\n",
      " |      Return self*value.\n",
      " |\n",
      " |  __ne__(self, value, /)\n",
      " |      Return self!=value.\n",
      " |\n",
      " |  __repr__(self, /)\n",
      " |      Return repr(self).\n",
      " |\n",
      " |  __reversed__(self, /)\n",
      " |      Return a reverse iterator over the list.\n",
      " |\n",
      " |  __rmul__(self, value, /)\n",
      " |      Return value*self.\n",
      " |\n",
      " |  __setitem__(self, key, value, /)\n",
      " |      Set self[key] to value.\n",
      " |\n",
      " |  __sizeof__(self, /)\n",
      " |      Return the size of the list in memory, in bytes.\n",
      " |\n",
      " |  append(self, object, /)\n",
      " |      Append object to the end of the list.\n",
      " |\n",
      " |  clear(self, /)\n",
      " |      Remove all items from list.\n",
      " |\n",
      " |  copy(self, /)\n",
      " |      Return a shallow copy of the list.\n",
      " |\n",
      " |  count(self, value, /)\n",
      " |      Return number of occurrences of value.\n",
      " |\n",
      " |  extend(self, iterable, /)\n",
      " |      Extend list by appending elements from the iterable.\n",
      " |\n",
      " |  index(self, value, start=0, stop=9223372036854775807, /)\n",
      " |      Return first index of value.\n",
      " |\n",
      " |      Raises ValueError if the value is not present.\n",
      " |\n",
      " |  insert(self, index, object, /)\n",
      " |      Insert object before index.\n",
      " |\n",
      " |  pop(self, index=-1, /)\n",
      " |      Remove and return item at index (default last).\n",
      " |\n",
      " |      Raises IndexError if list is empty or index is out of range.\n",
      " |\n",
      " |  remove(self, value, /)\n",
      " |      Remove first occurrence of value.\n",
      " |\n",
      " |      Raises ValueError if the value is not present.\n",
      " |\n",
      " |  reverse(self, /)\n",
      " |      Reverse *IN PLACE*.\n",
      " |\n",
      " |  sort(self, /, *, key=None, reverse=False)\n",
      " |      Sort the list in ascending order and return None.\n",
      " |\n",
      " |      The sort is in-place (i.e. the list itself is modified) and stable (i.e. the\n",
      " |      order of two equal elements is maintained).\n",
      " |\n",
      " |      If a key function is given, apply it once to each list item and sort them,\n",
      " |      ascending or descending, according to their function values.\n",
      " |\n",
      " |      The reverse flag can be set to sort in descending order.\n",
      " |\n",
      " |  ----------------------------------------------------------------------\n",
      " |  Class methods defined here:\n",
      " |\n",
      " |  __class_getitem__(object, /)\n",
      " |      See PEP 585\n",
      " |\n",
      " |  ----------------------------------------------------------------------\n",
      " |  Static methods defined here:\n",
      " |\n",
      " |  __new__(*args, **kwargs)\n",
      " |      Create and return a new object.  See help(type) for accurate signature.\n",
      " |\n",
      " |  ----------------------------------------------------------------------\n",
      " |  Data and other attributes defined here:\n",
      " |\n",
      " |  __hash__ = None\n",
      "\n"
     ]
    }
   ],
   "source": [
    "help(list)"
   ]
  },
  {
   "cell_type": "code",
   "execution_count": 37,
   "id": "7b2035bf-e596-459a-b90f-e581bf312ac5",
   "metadata": {},
   "outputs": [
    {
     "name": "stdout",
     "output_type": "stream",
     "text": [
      "['apple', 'orange', 'mango', 'orange', 'grapes']\n"
     ]
    }
   ],
   "source": [
    "fruits = ['apple', 'orange', 'mango', 'orange']\n",
    "fruits.append('grapes')\n",
    "print(fruits)"
   ]
  },
  {
   "cell_type": "code",
   "execution_count": 41,
   "id": "81053d0c-4e2c-4fba-9a8d-cdf76331fc3d",
   "metadata": {},
   "outputs": [
    {
     "name": "stdout",
     "output_type": "stream",
     "text": [
      "[]\n"
     ]
    }
   ],
   "source": [
    "fruits = ['apple', 'orange', 'mango', 'orange']\n",
    "fruits.clear()\n",
    "print(fruits)"
   ]
  },
  {
   "cell_type": "code",
   "execution_count": 43,
   "id": "a84f60f9-19cd-4768-b9ea-842b5caaecc6",
   "metadata": {},
   "outputs": [
    {
     "name": "stdout",
     "output_type": "stream",
     "text": [
      "4414955840\n",
      "4414955840\n",
      "['apple', 'banana', 'mango', 'orange', 'grapes'] ['apple', 'banana', 'mango', 'orange', 'grapes']\n"
     ]
    }
   ],
   "source": [
    "fruits1 = ['apple', 'banana', 'mango', 'orange']\n",
    "fruits2 = fruits1\n",
    "\n",
    "print(id(fruits1))\n",
    "print(id(fruits2))\n",
    "fruits2.append('grapes')\n",
    "print(fruits1 , fruits2)"
   ]
  },
  {
   "cell_type": "code",
   "execution_count": 44,
   "id": "469178ae-843c-450b-bfd8-c8249ebebf56",
   "metadata": {},
   "outputs": [
    {
     "name": "stdout",
     "output_type": "stream",
     "text": [
      "4415264448\n",
      "4414928000\n",
      "['apple', 'banana', 'mango', 'orange'] ['apple', 'banana', 'mango', 'orange', 'grapes']\n"
     ]
    }
   ],
   "source": [
    "fruits1 = ['apple', 'banana', 'mango', 'orange']\n",
    "fruits2 = fruits1.copy()\n",
    "\n",
    "print(id(fruits1))\n",
    "print(id(fruits2))\n",
    "fruits2.append('grapes')\n",
    "print(fruits1 , fruits2)"
   ]
  },
  {
   "cell_type": "code",
   "execution_count": 46,
   "id": "e601837a-249c-48a7-b6bb-6ff90f24e00b",
   "metadata": {},
   "outputs": [
    {
     "name": "stdout",
     "output_type": "stream",
     "text": [
      "['apple', 'orange', 'mango', 'orange', ['grapes', 'tomato', 'litchi']]\n"
     ]
    }
   ],
   "source": [
    "fruits = ['apple', 'orange', 'mango', 'orange']\n",
    "fruits.append(['grapes', 'tomato', 'litchi'])\n",
    "print(fruits)"
   ]
  },
  {
   "cell_type": "code",
   "execution_count": 49,
   "id": "360ebce8-62b2-46a0-b232-288ba484c0f6",
   "metadata": {},
   "outputs": [
    {
     "name": "stdout",
     "output_type": "stream",
     "text": [
      "['apple', 'orange', 'mango', 'orange', 'grapes', 'tomato', 'litchi']\n"
     ]
    }
   ],
   "source": [
    "fruits = ['apple', 'orange', 'mango', 'orange']\n",
    "fruits.extend(['grapes', 'tomato', 'litchi'])\n",
    "print(fruits)"
   ]
  },
  {
   "cell_type": "code",
   "execution_count": 50,
   "id": "1256ebc5-256a-4010-bccb-87460fb7d60d",
   "metadata": {},
   "outputs": [
    {
     "name": "stdout",
     "output_type": "stream",
     "text": [
      "['apple', 'orange', 'mango', 'orange', 'g', 'r', 'a', 'p', 'e', 's']\n"
     ]
    }
   ],
   "source": [
    "fruits = ['apple', 'orange', 'mango', 'orange']\n",
    "fruits.extend('grapes')\n",
    "print(fruits)"
   ]
  },
  {
   "cell_type": "code",
   "execution_count": 51,
   "id": "8798c5bb-bd1d-4143-a584-4f1b90e0b356",
   "metadata": {},
   "outputs": [
    {
     "name": "stdout",
     "output_type": "stream",
     "text": [
      "['apple', 'orange', 'mango', 'orange', 1]\n"
     ]
    }
   ],
   "source": [
    "fruits = ['apple', 'orange', 'mango', 'orange']\n",
    "fruits.append(1)\n",
    "print(fruits)"
   ]
  },
  {
   "cell_type": "code",
   "execution_count": 52,
   "id": "9d0e09a2-c715-42f4-92b5-34d2a0f6769c",
   "metadata": {},
   "outputs": [
    {
     "ename": "TypeError",
     "evalue": "'int' object is not iterable",
     "output_type": "error",
     "traceback": [
      "\u001b[31m---------------------------------------------------------------------------\u001b[39m",
      "\u001b[31mTypeError\u001b[39m                                 Traceback (most recent call last)",
      "\u001b[36mCell\u001b[39m\u001b[36m \u001b[39m\u001b[32mIn[52]\u001b[39m\u001b[32m, line 2\u001b[39m\n\u001b[32m      1\u001b[39m fruits = [\u001b[33m'\u001b[39m\u001b[33mapple\u001b[39m\u001b[33m'\u001b[39m, \u001b[33m'\u001b[39m\u001b[33morange\u001b[39m\u001b[33m'\u001b[39m, \u001b[33m'\u001b[39m\u001b[33mmango\u001b[39m\u001b[33m'\u001b[39m, \u001b[33m'\u001b[39m\u001b[33morange\u001b[39m\u001b[33m'\u001b[39m]\n\u001b[32m----> \u001b[39m\u001b[32m2\u001b[39m \u001b[43mfruits\u001b[49m\u001b[43m.\u001b[49m\u001b[43mextend\u001b[49m\u001b[43m(\u001b[49m\u001b[32;43m1\u001b[39;49m\u001b[43m)\u001b[49m\n\u001b[32m      3\u001b[39m \u001b[38;5;28mprint\u001b[39m(fruits)\n",
      "\u001b[31mTypeError\u001b[39m: 'int' object is not iterable"
     ]
    }
   ],
   "source": [
    "fruits = ['apple', 'orange', 'mango', 'orange']\n",
    "fruits.extend(1)\n",
    "print(fruits)"
   ]
  },
  {
   "cell_type": "code",
   "execution_count": 58,
   "id": "867ca575-ab1b-4216-a328-b56eb1083c58",
   "metadata": {},
   "outputs": [
    {
     "name": "stdout",
     "output_type": "stream",
     "text": [
      "['apple', 'orange', 'mango', 'orange', '1']\n"
     ]
    }
   ],
   "source": [
    "fruits = ['apple', 'orange', 'mango', 'orange']\n",
    "fruits.extend('1')\n",
    "print(fruits)"
   ]
  },
  {
   "cell_type": "code",
   "execution_count": 67,
   "id": "9cf27a37-af41-4af7-842d-83fc16675ddd",
   "metadata": {},
   "outputs": [
    {
     "data": {
      "text/plain": [
       "0"
      ]
     },
     "execution_count": 67,
     "metadata": {},
     "output_type": "execute_result"
    }
   ],
   "source": [
    "fruits = ['apple', 'orange', 'mango', 'orange']\n",
    "fruits.index('apple')\n"
   ]
  },
  {
   "cell_type": "code",
   "execution_count": 71,
   "id": "3838df22-95b6-4680-a96b-133c348d4ced",
   "metadata": {},
   "outputs": [
    {
     "name": "stdout",
     "output_type": "stream",
     "text": [
      "orange\n",
      "['apple', 'orange', 'mango']\n"
     ]
    }
   ],
   "source": [
    "fruits = ['apple', 'orange', 'mango', 'orange']\n",
    "print(fruits.pop(1))#index is -1 \n",
    "print(fruits)"
   ]
  },
  {
   "cell_type": "code",
   "execution_count": 73,
   "id": "cc32ef2c-78fa-49f0-9748-09967ccd30bb",
   "metadata": {},
   "outputs": [
    {
     "name": "stdout",
     "output_type": "stream",
     "text": [
      "['orange', 'mango', 'orange']\n"
     ]
    }
   ],
   "source": [
    "fruits = ['apple', 'orange', 'mango', 'orange']\n",
    "fruits.remove('apple')\n",
    "print(fruits)"
   ]
  },
  {
   "cell_type": "code",
   "execution_count": 74,
   "id": "d86773f3-5d12-42c9-bf52-29122d292db3",
   "metadata": {},
   "outputs": [
    {
     "name": "stdout",
     "output_type": "stream",
     "text": [
      "[1, 2, 3, 4, 4, 5, 8, 9]\n"
     ]
    }
   ],
   "source": [
    "x = [1, 4,5,8,9,2,3,4]\n",
    "x.sort()\n",
    "print(x)"
   ]
  },
  {
   "cell_type": "code",
   "execution_count": 75,
   "id": "eeaf7e5d-4b73-4209-8af2-ddc0fec0b02b",
   "metadata": {},
   "outputs": [
    {
     "name": "stdout",
     "output_type": "stream",
     "text": [
      "[9, 8, 5, 4, 4, 3, 2, 1]\n"
     ]
    }
   ],
   "source": [
    "x = [1, 4,5,8,9,2,3,4]\n",
    "x.sort(reverse = True)\n",
    "print(x)"
   ]
  },
  {
   "cell_type": "code",
   "execution_count": null,
   "id": "f5df9c65-c320-4437-9c97-8e4148190b97",
   "metadata": {},
   "outputs": [],
   "source": []
  }
 ],
 "metadata": {
  "kernelspec": {
   "display_name": "Python 3 (ipykernel)",
   "language": "python",
   "name": "python3"
  },
  "language_info": {
   "codemirror_mode": {
    "name": "ipython",
    "version": 3
   },
   "file_extension": ".py",
   "mimetype": "text/x-python",
   "name": "python",
   "nbconvert_exporter": "python",
   "pygments_lexer": "ipython3",
   "version": "3.13.3"
  }
 },
 "nbformat": 4,
 "nbformat_minor": 5
}
