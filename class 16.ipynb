{
 "cells": [
  {
   "cell_type": "code",
   "execution_count": 1,
   "id": "b9c03e69-a115-466b-bdca-03f9abb0ef41",
   "metadata": {},
   "outputs": [],
   "source": [
    "class Person:\n",
    "    def __init__(self, name ,age, address):\n",
    "        self.name = name\n",
    "        self.age = age\n",
    "        self.address = address\n",
    "    \n",
    "    def eat(self):\n",
    "        print(f'{self.name} is eating')\n",
    "    \n",
    "    def sleep(self):\n",
    "        print(f'{self.name} is sleeping')\n",
    "    \n",
    "    def walk(self):\n",
    "        print(f'{self.name} is walking')\n",
    "        \n",
    "    def info(self):\n",
    "        print(f\"Name: {self.name}\")\n",
    "        print(f\"Age: {self.age}\")\n",
    "        print(f\"Address: {self.address}\")\n",
    "\n",
    "class Student:\n",
    "    def __init__(self, name, age, address, college, faculty, roll_no):\n",
    "        self.name = name\n",
    "        self.age = age        \n",
    "        self.address = address        \n",
    "        self.college = college\n",
    "        self.faculty = faculty        \n",
    "        self.roll_no = roll_no\n",
    "        self.subjects = []\n",
    "        \n",
    "    def learn(self):\n",
    "        print(f\"Student is learning: {self.subjects}\")\n",
    "\n",
    "    def add_subject(self, name):\n",
    "        if name not in self.subjects:\n",
    "            self.subjects.append(name)\n",
    "\n",
    "    def eat(self):\n",
    "        print(f'{self.name} is eating')\n",
    "    \n",
    "    def sleep(self):\n",
    "        print(f'{self.name} is sleeping')\n",
    "    \n",
    "    def walk(self):\n",
    "        print(f'{self.name} is walking')\n",
    "        \n",
    "    def info(self):\n",
    "        print(f\"Name: {self.name}\")\n",
    "        print(f\"Age: {self.age}\")\n",
    "        print(f\"Address: {self.address}\")\n",
    "        print(f\"College: {self.college}\")\n",
    "        print(f\"Faculty: {self.faculty}\")\n",
    "        print(f\"Roll no: {self.roll_no}\")\n",
    "        print(f\"Subjects: {self.subjects}\")"
   ]
  },
  {
   "cell_type": "code",
   "execution_count": 86,
   "id": "bfa50867-cf4d-491f-ba8e-22191040d5f5",
   "metadata": {},
   "outputs": [],
   "source": [
    "class Parent:\n",
    "    \n",
    "    def hi(self):\n",
    "        print('hello world')"
   ]
  },
  {
   "cell_type": "code",
   "execution_count": 87,
   "id": "14138c1d-527a-4d73-99b1-25ec4705f168",
   "metadata": {},
   "outputs": [],
   "source": [
    "class Child(Parent):\n",
    "    pass"
   ]
  },
  {
   "cell_type": "code",
   "execution_count": 6,
   "id": "93bc80ab-2908-497f-a182-21ac31a1a836",
   "metadata": {},
   "outputs": [],
   "source": [
    "c = Child()"
   ]
  },
  {
   "cell_type": "code",
   "execution_count": 8,
   "id": "8b5e64c2-3117-47c4-8313-4f16ed6eb80c",
   "metadata": {},
   "outputs": [
    {
     "name": "stdout",
     "output_type": "stream",
     "text": [
      "hello world\n"
     ]
    }
   ],
   "source": [
    "c.hi()"
   ]
  },
  {
   "cell_type": "code",
   "execution_count": 88,
   "id": "0937c8da-22ab-4728-b78f-568b23bebd3f",
   "metadata": {},
   "outputs": [],
   "source": [
    "class Person:\n",
    "    def __init__(self, name ,age, address):\n",
    "        self.name = name\n",
    "        self.age = age\n",
    "        self.address = address\n",
    "    \n",
    "    def eat(self):\n",
    "        print(f'{self.name} is eating')\n",
    "    \n",
    "    def sleep(self):\n",
    "        print(f'{self.name} is sleeping')\n",
    "    \n",
    "    def walk(self):\n",
    "        print(f'{self.name} is walking')\n",
    "        \n",
    "    def info(self):\n",
    "        print(f\"Name: {self.name}\")\n",
    "        print(f\"Age: {self.age}\")\n",
    "        print(f\"Address: {self.address}\")\n",
    "\n",
    "class Student(Person): #single inheritance\n",
    "    def __init__(self, name, age, address, college, faculty, roll_no):\n",
    "        self.name = name\n",
    "        self.age = age        \n",
    "        self.address = address        \n",
    "        self.college = college\n",
    "        self.faculty = faculty        \n",
    "        self.roll_no = roll_no\n",
    "        self.subjects = []\n",
    "        \n",
    "    def learn(self):\n",
    "        print(f\"Student is learning: {self.subjects}\")\n",
    "\n",
    "    def add_subject(self, name):\n",
    "        if name not in self.subjects:\n",
    "            self.subjects.append(name)\n",
    "            \n",
    "    def info(self):\n",
    "        print(f\"Name: {self.name}\")\n",
    "        print(f\"Age: {self.age}\")\n",
    "        print(f\"Address: {self.address}\")\n",
    "        print(f\"College: {self.college}\")\n",
    "        print(f\"Faculty: {self.faculty}\")\n",
    "        print(f\"Roll no: {self.roll_no}\")\n",
    "        print(f\"Subjects: {self.subjects}\")"
   ]
  },
  {
   "cell_type": "code",
   "execution_count": 89,
   "id": "b9eccfc1-1307-4f84-898d-767744d60486",
   "metadata": {},
   "outputs": [],
   "source": [
    "s1 = Student('Ram', 21, 'KTM', 'KMC', 'SCI', 2)"
   ]
  },
  {
   "cell_type": "code",
   "execution_count": 90,
   "id": "88adb360-7d9d-4f60-9ae7-ddcedc9c0881",
   "metadata": {},
   "outputs": [
    {
     "name": "stdout",
     "output_type": "stream",
     "text": [
      "Ram is eating\n"
     ]
    }
   ],
   "source": [
    "s1.eat()"
   ]
  },
  {
   "cell_type": "code",
   "execution_count": 91,
   "id": "32bacdac-5b0a-4915-a3d5-ec8e00e14399",
   "metadata": {},
   "outputs": [
    {
     "name": "stdout",
     "output_type": "stream",
     "text": [
      "Name: Ram\n",
      "Age: 21\n",
      "Address: KTM\n",
      "College: KMC\n",
      "Faculty: SCI\n",
      "Roll no: 2\n",
      "Subjects: []\n"
     ]
    }
   ],
   "source": [
    "s1.info()"
   ]
  },
  {
   "cell_type": "code",
   "execution_count": 92,
   "id": "337abbaa-e6c7-4853-afbc-8492e46996d2",
   "metadata": {},
   "outputs": [],
   "source": [
    "s1.add_subject('python')"
   ]
  },
  {
   "cell_type": "code",
   "execution_count": 93,
   "id": "dde6ffbe-ab99-4bd3-80ff-f864156302f5",
   "metadata": {},
   "outputs": [],
   "source": [
    "s1.add_subject('python')"
   ]
  },
  {
   "cell_type": "code",
   "execution_count": 94,
   "id": "b0d99847-64a1-4375-acd0-4049bb9883a9",
   "metadata": {},
   "outputs": [
    {
     "name": "stdout",
     "output_type": "stream",
     "text": [
      "Name: Ram\n",
      "Age: 21\n",
      "Address: KTM\n",
      "College: KMC\n",
      "Faculty: SCI\n",
      "Roll no: 2\n",
      "Subjects: ['python']\n"
     ]
    }
   ],
   "source": [
    "s1.info()"
   ]
  },
  {
   "cell_type": "code",
   "execution_count": 95,
   "id": "bef3d4c6-776a-45a4-9d39-f9b07e375b5f",
   "metadata": {},
   "outputs": [],
   "source": [
    "class Person:\n",
    "    def __init__(self, name ,age, address):\n",
    "        self.name = name\n",
    "        self.age = age\n",
    "        self.address = address\n",
    "    \n",
    "    def eat(self):\n",
    "        print(f'{self.name} is eating')\n",
    "    \n",
    "    def sleep(self):\n",
    "        print(f'{self.name} is sleeping')\n",
    "    \n",
    "    def walk(self):\n",
    "        print(f'{self.name} is walking')\n",
    "        \n",
    "    def info(self):\n",
    "        print(f\"Name: {self.name}\")\n",
    "        print(f\"Age: {self.age}\")\n",
    "        print(f\"Address: {self.address}\")\n",
    "\n",
    "class Student(Person):\n",
    "    def __init__(self, name, age, address, college, faculty, roll_no):\n",
    "        super().__init__(name,age,address)        \n",
    "        self.college = college\n",
    "        self.faculty = faculty        \n",
    "        self.roll_no = roll_no\n",
    "        self.subjects = []\n",
    "        \n",
    "    def learn(self):\n",
    "        print(f\"Student is learning: {self.subjects}\")\n",
    "\n",
    "    def add_subject(self, name):\n",
    "        if name not in self.subjects:\n",
    "            self.subjects.append(name)\n",
    "            \n",
    "    def info(self):\n",
    "        super().info()\n",
    "        print(f\"College: {self.college}\")\n",
    "        print(f\"Faculty: {self.faculty}\")\n",
    "        print(f\"Roll no: {self.roll_no}\")\n",
    "        print(f\"Subjects: {self.subjects}\")"
   ]
  },
  {
   "cell_type": "code",
   "execution_count": 96,
   "id": "bd8d0253-1ce5-407d-a1fa-04d75b1fd5e2",
   "metadata": {},
   "outputs": [],
   "source": [
    "s1 = Student('Ram', 21, 'KTM', 'kmc', 'sci',2)"
   ]
  },
  {
   "cell_type": "code",
   "execution_count": 97,
   "id": "da71744c-3725-4d26-9703-408b40cee5ae",
   "metadata": {},
   "outputs": [
    {
     "name": "stdout",
     "output_type": "stream",
     "text": [
      "Name: Ram\n",
      "Age: 21\n",
      "Address: KTM\n",
      "College: kmc\n",
      "Faculty: sci\n",
      "Roll no: 2\n",
      "Subjects: []\n"
     ]
    }
   ],
   "source": [
    "s1.info()"
   ]
  },
  {
   "cell_type": "code",
   "execution_count": 98,
   "id": "c70b4b27-da9f-4940-9b80-153ab408b5f3",
   "metadata": {},
   "outputs": [],
   "source": [
    "class Father:\n",
    "    pass\n",
    "class Mother:  \n",
    "    pass\n",
    "class Child(Father,Mother):  #multiple inheritance\n",
    "    pass"
   ]
  },
  {
   "cell_type": "code",
   "execution_count": 99,
   "id": "c1351667-310b-402a-91db-92744bc415df",
   "metadata": {},
   "outputs": [],
   "source": [
    "#Multiple Inheritance\n",
    "#Parent Class -1\n",
    "class Person:\n",
    "    def person_info(self,name,age):\n",
    "        print('Inside Person Class')\n",
    "        print(f'Name : {name} , Age : {age}')\n",
    "#Parent Class - 2\n",
    "class Company:\n",
    "    def company_info(self, company_name, location):\n",
    "        print('Inside Company Class')\n",
    "        print(f'company_name : {company_name} , location : {location}')\n",
    "# Child Class\n",
    "class Employee(Person, Company):\n",
    "    \n",
    "    def employee_info(self, salary, skill):\n",
    "        print('Inside Employee class')\n",
    "        print(f'Salary : {salary} , Skill : {skill}')\n",
    "        \n"
   ]
  },
  {
   "cell_type": "code",
   "execution_count": 42,
   "id": "e69bbc54-db6c-4294-b9fb-8bc7be94b85a",
   "metadata": {},
   "outputs": [],
   "source": [
    "e1 = Employee()"
   ]
  },
  {
   "cell_type": "code",
   "execution_count": 43,
   "id": "62b03dbc-dbcf-4ee0-9084-5b716f445e72",
   "metadata": {},
   "outputs": [
    {
     "name": "stdout",
     "output_type": "stream",
     "text": [
      "Inside Person Class\n",
      "Name : Ram , Age : 21\n"
     ]
    }
   ],
   "source": [
    "e1.person_info('Ram' , 21)"
   ]
  },
  {
   "cell_type": "code",
   "execution_count": 44,
   "id": "240106b1-17f6-477d-a34d-e32c61ff90a4",
   "metadata": {},
   "outputs": [
    {
     "name": "stdout",
     "output_type": "stream",
     "text": [
      "Inside Company Class\n",
      "company_name : IT , location : PKR\n"
     ]
    }
   ],
   "source": [
    "e1.company_info('IT', 'PKR')"
   ]
  },
  {
   "cell_type": "code",
   "execution_count": 46,
   "id": "6b8dc933-b581-4a8a-ae89-1ed53e95714e",
   "metadata": {},
   "outputs": [],
   "source": [
    "#Multi-Level Inheritance\n",
    "class Person:\n",
    "    pass\n",
    "class Student(Person):\n",
    "    pass\n",
    "class BachelorStudent(Student):\n",
    "    pass"
   ]
  },
  {
   "cell_type": "code",
   "execution_count": 48,
   "id": "c56b6781-1ea5-43b5-ad4d-8dcd36f120fa",
   "metadata": {},
   "outputs": [],
   "source": [
    "class Person:\n",
    "    def __init__(self, name ,age, address):\n",
    "        self.name = name\n",
    "        self.age = age\n",
    "        self.address = address\n",
    "    \n",
    "    def eat(self):\n",
    "        print(f'{self.name} is eating')\n",
    "    \n",
    "    def sleep(self):\n",
    "        print(f'{self.name} is sleeping')\n",
    "    \n",
    "    def walk(self):\n",
    "        print(f'{self.name} is walking')\n",
    "        \n",
    "    def info(self):\n",
    "        print(f\"Name: {self.name}\")\n",
    "        print(f\"Age: {self.age}\")\n",
    "        print(f\"Address: {self.address}\")\n",
    "\n",
    "class Student(Person):\n",
    "    def __init__(self, name, age, address, college, faculty, roll_no):\n",
    "        super().__init__(name,age,address)        \n",
    "        self.college = college\n",
    "        self.faculty = faculty        \n",
    "        self.roll_no = roll_no\n",
    "        self.subjects = []\n",
    "        \n",
    "    def learn(self):\n",
    "        print(f\"Student is learning: {self.subjects}\")\n",
    "\n",
    "    def add_subject(self, name):\n",
    "        if name not in self.subjects:\n",
    "            self.subjects.append(name)\n",
    "            \n",
    "    def info(self):\n",
    "        super().info()\n",
    "        print(f\"College: {self.college}\")\n",
    "        print(f\"Faculty: {self.faculty}\")\n",
    "        print(f\"Roll no: {self.roll_no}\")\n",
    "        print(f\"Subjects: {self.subjects}\")\n",
    "\n",
    "class BachelorStudent(Student):\n",
    "    def __init__(self, name, age, address, college, faculty, roll_no, university):\n",
    "        super().__init__(name, age, address, college, faculty, roll_no)\n",
    "        self.university = university\n",
    "\n",
    "    def info(self):\n",
    "        super().info()\n",
    "        print(f'University : {self.university}')\n",
    "        "
   ]
  },
  {
   "cell_type": "code",
   "execution_count": 49,
   "id": "4e7082ca-b546-4cf8-8d57-b1b04dcf6ac8",
   "metadata": {},
   "outputs": [],
   "source": [
    "bs1 = BachelorStudent('Ram', 21, 'KTM', 'KMC', 'SCI', 2, 'Tribhuban')"
   ]
  },
  {
   "cell_type": "code",
   "execution_count": 50,
   "id": "5d946d53-c1c3-4c7f-9f1c-1450bb491581",
   "metadata": {},
   "outputs": [
    {
     "name": "stdout",
     "output_type": "stream",
     "text": [
      "Name: Ram\n",
      "Age: 21\n",
      "Address: KTM\n",
      "College: KMC\n",
      "Faculty: SCI\n",
      "Roll no: 2\n",
      "Subjects: []\n",
      "University : Tribhuban\n"
     ]
    }
   ],
   "source": [
    "bs1.info()"
   ]
  },
  {
   "cell_type": "code",
   "execution_count": 51,
   "id": "26172051-ea03-4f76-8a5b-6ae2d8324f61",
   "metadata": {},
   "outputs": [],
   "source": [
    "# Hierarchical inheritance\n",
    "class Person:\n",
    "    pass\n",
    "class Student(Person):\n",
    "    pass\n",
    "class Teacher(Person):\n",
    "    pass\n",
    "class Employee(Person):\n",
    "    pass\n",
    "class Principle(Person):\n",
    "    pass\n",
    "    "
   ]
  },
  {
   "cell_type": "code",
   "execution_count": 71,
   "id": "c6417f24-6993-40df-9fd7-440dcaf4b42a",
   "metadata": {},
   "outputs": [],
   "source": [
    "class Vehicle:\n",
    "    def info(self):\n",
    "        print('This is a vehicle')\n",
    "class Car(Vehicle):\n",
    "    def car_info(self,name):\n",
    "        print(name)\n",
    "class Truck(Vehicle):\n",
    "    def truck_info(self,name):\n",
    "        print(name)"
   ]
  },
  {
   "cell_type": "code",
   "execution_count": 72,
   "id": "febd731d-43aa-4b57-b51f-dba85bce4d7a",
   "metadata": {},
   "outputs": [],
   "source": [
    "t1 = Truck()"
   ]
  },
  {
   "cell_type": "code",
   "execution_count": 73,
   "id": "7d6fd1f8-47fd-40af-8e64-0f8b37ec88d7",
   "metadata": {},
   "outputs": [
    {
     "name": "stdout",
     "output_type": "stream",
     "text": [
      "This is a vehicle\n"
     ]
    }
   ],
   "source": [
    "t1.info()"
   ]
  },
  {
   "cell_type": "code",
   "execution_count": 74,
   "id": "4f45f14f-ed59-4431-abc9-135df5875fe0",
   "metadata": {},
   "outputs": [
    {
     "name": "stdout",
     "output_type": "stream",
     "text": [
      "mercedes\n"
     ]
    }
   ],
   "source": [
    "t1.truck_info('mercedes')"
   ]
  },
  {
   "cell_type": "code",
   "execution_count": 77,
   "id": "288b5027-d59f-4292-b96b-e2f50065d6d2",
   "metadata": {},
   "outputs": [],
   "source": [
    "# Hybrid inheritancfe => sphagetti code\n",
    "class Vehicle:\n",
    "    def vehicle_info(self):\n",
    "        print('Inside Vehicle Class')\n",
    "class Car(Vehicle):\n",
    "    def car_info(self):\n",
    "        print('Inside Car Class')\n",
    "class Truck(Vehicle):\n",
    "    def truck_info(self):\n",
    "        print('Inside Vehicle Class')\n",
    "\n",
    "class SportsCar(Car,Vehicle):\n",
    "    def sportscar_info(self):\n",
    "        print('Inside Sports Car')"
   ]
  },
  {
   "cell_type": "code",
   "execution_count": 78,
   "id": "106e1233-568b-4c2e-a548-7aecce3fe21a",
   "metadata": {},
   "outputs": [],
   "source": [
    "sc1 = SportsCar()"
   ]
  },
  {
   "cell_type": "code",
   "execution_count": 80,
   "id": "8d770997-a7e2-4b35-89fa-71a6e60ed52d",
   "metadata": {},
   "outputs": [
    {
     "name": "stdout",
     "output_type": "stream",
     "text": [
      "Inside Vehicle Class\n"
     ]
    }
   ],
   "source": [
    "sc1.vehicle_info()"
   ]
  },
  {
   "cell_type": "code",
   "execution_count": 81,
   "id": "d8221e68-12b4-47f0-a5c6-dd31533322b7",
   "metadata": {},
   "outputs": [],
   "source": [
    "class Hello():\n",
    "    def hi(self):\n",
    "        print(self)"
   ]
  },
  {
   "cell_type": "code",
   "execution_count": 82,
   "id": "7ef75782-530f-4c57-b81d-c3eb6479041b",
   "metadata": {},
   "outputs": [],
   "source": [
    "h = Hello()"
   ]
  },
  {
   "cell_type": "code",
   "execution_count": 83,
   "id": "de6793b3-90ec-4f44-b00f-3294fbcdd5e1",
   "metadata": {},
   "outputs": [
    {
     "name": "stdout",
     "output_type": "stream",
     "text": [
      "<__main__.Hello object at 0x105c59e80>\n"
     ]
    }
   ],
   "source": [
    "h.hi()"
   ]
  },
  {
   "cell_type": "code",
   "execution_count": 84,
   "id": "861fa703-92bb-484d-bb62-63af1e77cb81",
   "metadata": {},
   "outputs": [
    {
     "name": "stdout",
     "output_type": "stream",
     "text": [
      "<__main__.Hello object at 0x105c59e80>\n"
     ]
    }
   ],
   "source": [
    "print(h)"
   ]
  },
  {
   "cell_type": "code",
   "execution_count": 85,
   "id": "92122955-af51-49a3-93ee-3b2177f35ca4",
   "metadata": {},
   "outputs": [
    {
     "name": "stdout",
     "output_type": "stream",
     "text": [
      "<__main__.Hello object at 0x105c59e80>\n"
     ]
    }
   ],
   "source": [
    "Hello.hi(h)"
   ]
  },
  {
   "cell_type": "code",
   "execution_count": null,
   "id": "7af013fe-a4d5-40e0-ab17-42a1fafa5869",
   "metadata": {},
   "outputs": [],
   "source": []
  }
 ],
 "metadata": {
  "kernelspec": {
   "display_name": "Python 3 (ipykernel)",
   "language": "python",
   "name": "python3"
  },
  "language_info": {
   "codemirror_mode": {
    "name": "ipython",
    "version": 3
   },
   "file_extension": ".py",
   "mimetype": "text/x-python",
   "name": "python",
   "nbconvert_exporter": "python",
   "pygments_lexer": "ipython3",
   "version": "3.13.3"
  }
 },
 "nbformat": 4,
 "nbformat_minor": 5
}
