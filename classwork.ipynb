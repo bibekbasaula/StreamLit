{
 "cells": [
  {
   "cell_type": "code",
   "execution_count": 15,
   "id": "f338d7a6-b613-4584-956d-66db4c1ea193",
   "metadata": {},
   "outputs": [
    {
     "name": "stdout",
     "output_type": "stream",
     "text": [
      "34\n"
     ]
    }
   ],
   "source": [
    "x = 34\n",
    "print(x)"
   ]
  },
  {
   "cell_type": "code",
   "execution_count": 16,
   "id": "58fe0a7b-8cd8-4c7a-bf6b-9b220508fa74",
   "metadata": {},
   "outputs": [
    {
     "name": "stdout",
     "output_type": "stream",
     "text": [
      "even\n"
     ]
    }
   ],
   "source": [
    "if(x%2==0):\n",
    "    print('even')\n",
    "elif(x%2!=0):\n",
    "    print('odd')"
   ]
  },
  {
   "cell_type": "code",
   "execution_count": 8,
   "id": "19792f14-a3c1-4a10-aa5b-c4637b215a3e",
   "metadata": {},
   "outputs": [
    {
     "name": "stdout",
     "output_type": "stream",
     "text": [
      "addition 10 + 20 = 30 \n",
      "subtraction 10 - 20 = -10\n",
      "multiplication 10 * 20 = 200\n",
      "division 10 / 20 = 0.5\n",
      "\n"
     ]
    }
   ],
   "source": [
    "num1 = 10\n",
    "num2 = 20\n",
    "print(f'''addition {num1} + {num2} = {num1 + num2} \n",
    "subtraction {num1} - {num2} = {num1 - num2}\n",
    "multiplication {num1} * {num2} = {num1 * num2}\n",
    "division {num1} / {num2} = {num1 / num2}\n",
    "''')"
   ]
  },
  {
   "cell_type": "code",
   "execution_count": 9,
   "id": "aa6613db-e4d2-4982-989d-e26637a7a0ec",
   "metadata": {},
   "outputs": [
    {
     "data": {
      "text/plain": [
       "0"
      ]
     },
     "execution_count": 9,
     "metadata": {},
     "output_type": "execute_result"
    }
   ],
   "source": [
    "num2 % num1"
   ]
  },
  {
   "cell_type": "code",
   "execution_count": 18,
   "id": "6707b121-96f7-411f-8ce3-3183d8d93200",
   "metadata": {},
   "outputs": [
    {
     "data": {
      "text/plain": [
       "45"
      ]
     },
     "execution_count": 18,
     "metadata": {},
     "output_type": "execute_result"
    }
   ],
   "source": [
    "x = 45.235\n",
    "int(x)"
   ]
  },
  {
   "cell_type": "code",
   "execution_count": 19,
   "id": "10ae4710-841f-471a-b7a7-b47005d5dff7",
   "metadata": {},
   "outputs": [
    {
     "data": {
      "text/plain": [
       "34"
      ]
     },
     "execution_count": 19,
     "metadata": {},
     "output_type": "execute_result"
    }
   ],
   "source": [
    "x = -34\n",
    "abs(x)"
   ]
  },
  {
   "cell_type": "code",
   "execution_count": 22,
   "id": "23cde08d-88c2-477e-8b3a-54dbd46ec9f3",
   "metadata": {},
   "outputs": [
    {
     "data": {
      "text/plain": [
       "(3.5704282870022457e-16+5.830951894845301j)"
      ]
     },
     "execution_count": 22,
     "metadata": {},
     "output_type": "execute_result"
    }
   ],
   "source": [
    "x ** 0.5"
   ]
  },
  {
   "cell_type": "code",
   "execution_count": 27,
   "id": "b4eb30d8-fb37-4d5f-b1c0-15ad482f5182",
   "metadata": {},
   "outputs": [
    {
     "name": "stdout",
     "output_type": "stream",
     "text": [
      "3.141592653589793\n"
     ]
    },
    {
     "data": {
      "text/plain": [
       "3.14"
      ]
     },
     "execution_count": 27,
     "metadata": {},
     "output_type": "execute_result"
    }
   ],
   "source": [
    "from math import pi\n",
    "print(pi)\n",
    "float(pi)\n",
    "round(pi,2)"
   ]
  },
  {
   "cell_type": "code",
   "execution_count": 29,
   "id": "586ef848-b71d-4013-b1f0-e6c37e4b8edc",
   "metadata": {},
   "outputs": [
    {
     "name": "stdin",
     "output_type": "stream",
     "text": [
      "Enter 1st number 24\n",
      "Enter 2nd number 45\n",
      "Enter 3rd number 21\n"
     ]
    },
    {
     "name": "stdout",
     "output_type": "stream",
     "text": [
      "45 is greatest\n"
     ]
    }
   ],
   "source": [
    "num1 = int(input('Enter 1st number'))\n",
    "num2 = int(input('Enter 2nd number'))\n",
    "num3 = int(input('Enter 3rd number'))\n",
    "\n",
    "if(num1 > num2 and num1 > num3):\n",
    "    print(f'{num1} is greatest')\n",
    "elif(num2 > num1 and num2 > num3):\n",
    "    print(f'{num2} is greatest')\n",
    "else:\n",
    "    print(f'{num3} is greatest')\n",
    "    \n",
    "    "
   ]
  },
  {
   "cell_type": "code",
   "execution_count": null,
   "id": "6c80678a-cd15-4210-8677-34fa27c8a95f",
   "metadata": {},
   "outputs": [],
   "source": []
  }
 ],
 "metadata": {
  "kernelspec": {
   "display_name": "Python 3 (ipykernel)",
   "language": "python",
   "name": "python3"
  },
  "language_info": {
   "codemirror_mode": {
    "name": "ipython",
    "version": 3
   },
   "file_extension": ".py",
   "mimetype": "text/x-python",
   "name": "python",
   "nbconvert_exporter": "python",
   "pygments_lexer": "ipython3",
   "version": "3.13.3"
  }
 },
 "nbformat": 4,
 "nbformat_minor": 5
}
