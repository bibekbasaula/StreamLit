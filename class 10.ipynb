{
 "cells": [
  {
   "cell_type": "code",
   "execution_count": 1,
   "id": "070c4d9b-6487-4ff3-b67f-fbe200aeaf71",
   "metadata": {},
   "outputs": [],
   "source": [
    "#flow control\n",
    "# if else"
   ]
  },
  {
   "cell_type": "code",
   "execution_count": 2,
   "id": "9e6b0bae-e61c-4a62-98b0-813181185be1",
   "metadata": {},
   "outputs": [
    {
     "name": "stdout",
     "output_type": "stream",
     "text": [
      "Unautorized\n"
     ]
    }
   ],
   "source": [
    "age = 17\n",
    "\n",
    "if age < 18:\n",
    "    print('Unautorized') #identation"
   ]
  },
  {
   "cell_type": "code",
   "execution_count": 7,
   "id": "b8ff6aa6-fd5f-42da-8207-510eb842b7a8",
   "metadata": {},
   "outputs": [
    {
     "name": "stdout",
     "output_type": "stream",
     "text": [
      "hello\n"
     ]
    }
   ],
   "source": [
    "age = 17\n",
    "\n",
    "if age >= 18: #false\n",
    "    print('Authorized')\n",
    "    print('hi')\n",
    "\n",
    "print('hello')"
   ]
  },
  {
   "cell_type": "code",
   "execution_count": 10,
   "id": "742eba66-47fd-4402-9f6e-90e5b2045546",
   "metadata": {},
   "outputs": [
    {
     "name": "stdin",
     "output_type": "stream",
     "text": [
      "Enter your age 14\n"
     ]
    },
    {
     "name": "stdout",
     "output_type": "stream",
     "text": [
      "Invalid\n"
     ]
    }
   ],
   "source": [
    "age = int(input('Enter your age'))\n",
    "\n",
    "if age >= 18:\n",
    "    print('Valid')\n",
    "else:\n",
    "    print('Invalid')"
   ]
  },
  {
   "cell_type": "code",
   "execution_count": 11,
   "id": "0ef04613-19db-4d6a-8a0f-dedcaadb14a5",
   "metadata": {},
   "outputs": [
    {
     "name": "stdin",
     "output_type": "stream",
     "text": [
      "Enter your age 17\n"
     ]
    },
    {
     "name": "stdout",
     "output_type": "stream",
     "text": [
      "invalid\n"
     ]
    }
   ],
   "source": [
    "age = int(input('Enter your age'))\n",
    "\n",
    "if age >= 18:\n",
    "    print('Valid')\n",
    "if age<18:\n",
    "    print('invalid')"
   ]
  },
  {
   "cell_type": "code",
   "execution_count": 16,
   "id": "d82a8b0b-320f-4608-87da-93d0aa1cffd5",
   "metadata": {},
   "outputs": [
    {
     "name": "stdin",
     "output_type": "stream",
     "text": [
      "Enter value of integer I 12\n",
      "Enter value of integer II 12\n"
     ]
    },
    {
     "name": "stdout",
     "output_type": "stream",
     "text": [
      "12 and 12 are equal\n"
     ]
    }
   ],
   "source": [
    "x = int(input('Enter value of integer I'))\n",
    "y = int(input('Enter value of integer II'))\n",
    "\n",
    "if x>y: #False\n",
    "    print(f'{x} is greater')\n",
    "if y>x: #False\n",
    "    print(f'{y} if greater')\n",
    "if x==y: #True\n",
    "    print(f'{x} and {y} are equal')"
   ]
  },
  {
   "cell_type": "code",
   "execution_count": 17,
   "id": "f25898ff-af35-450c-8087-7654a1798b6c",
   "metadata": {},
   "outputs": [
    {
     "name": "stdin",
     "output_type": "stream",
     "text": [
      "Enter your age 14\n"
     ]
    },
    {
     "name": "stdout",
     "output_type": "stream",
     "text": [
      "Invalid\n"
     ]
    }
   ],
   "source": [
    "age = int(input('Enter your age'))\n",
    "\n",
    "if age >= 18:\n",
    "    print('Valid')\n",
    "else:\n",
    "    print('Invalid')"
   ]
  },
  {
   "cell_type": "code",
   "execution_count": 46,
   "id": "476ea10f-621b-4f8c-a058-cfbfc37958de",
   "metadata": {},
   "outputs": [
    {
     "name": "stdin",
     "output_type": "stream",
     "text": [
      "Enter value of integer I 12\n",
      "Enter value of integer II 15\n"
     ]
    },
    {
     "name": "stdout",
     "output_type": "stream",
     "text": [
      "15 is greater\n"
     ]
    }
   ],
   "source": [
    "x = int(input('Enter value of integer I'))\n",
    "y = int(input('Enter value of integer II'))\n",
    "\n",
    "if x>y: #False\n",
    "    print(f'{x} is greater')\n",
    "elif y>x: #False\n",
    "    print(f'{y} is greater')\n",
    "elif x==y: #True\n",
    "    print(f'{x} and {y} are equal')"
   ]
  },
  {
   "cell_type": "code",
   "execution_count": 19,
   "id": "7b75f060-01fe-4545-bcae-1f132ea237c6",
   "metadata": {},
   "outputs": [
    {
     "name": "stdout",
     "output_type": "stream",
     "text": [
      "hello1\n"
     ]
    }
   ],
   "source": [
    "if True:\n",
    "    print('hello1')\n",
    "elif True:\n",
    "    print('hello2')\n",
    "elif True:\n",
    "    print('hello3')\n",
    "elif True:\n",
    "    print('hello4')\n",
    "else:\n",
    "    print('hello5')"
   ]
  },
  {
   "cell_type": "code",
   "execution_count": 21,
   "id": "bc55b907-40d0-4536-94e7-685bcba372da",
   "metadata": {},
   "outputs": [
    {
     "name": "stdout",
     "output_type": "stream",
     "text": [
      "hello2\n"
     ]
    }
   ],
   "source": [
    "if False:\n",
    "    print('hello1')\n",
    "elif True:\n",
    "    print('hello2')\n",
    "elif True:\n",
    "    print('hello3')\n",
    "elif True:\n",
    "    print('hello4')\n",
    "else:\n",
    "    print('hello5')"
   ]
  },
  {
   "cell_type": "code",
   "execution_count": 22,
   "id": "3bc7b476-b344-445c-af94-0e9301e824c8",
   "metadata": {},
   "outputs": [
    {
     "name": "stdout",
     "output_type": "stream",
     "text": [
      "hello2\n",
      "hello3\n",
      "hello4\n"
     ]
    }
   ],
   "source": [
    "if False:\n",
    "    print('hello1')\n",
    "if True:\n",
    "    print('hello2')\n",
    "if True:\n",
    "    print('hello3')\n",
    "if True:\n",
    "    print('hello4')\n",
    "else:\n",
    "    print('hello5')"
   ]
  },
  {
   "cell_type": "code",
   "execution_count": 25,
   "id": "ec886eb5-ea27-4563-a499-ddcd7539830e",
   "metadata": {},
   "outputs": [
    {
     "name": "stdout",
     "output_type": "stream",
     "text": [
      "6\n",
      "9\n"
     ]
    }
   ],
   "source": [
    "if False:\n",
    "    print('1')\n",
    "    \n",
    "if False:\n",
    "    print('2')\n",
    "elif True:\n",
    "    print('6')\n",
    "    \n",
    "if False:\n",
    "    print('3')\n",
    "elif False:\n",
    "    print('5')\n",
    "else:\n",
    "    print('9')"
   ]
  },
  {
   "cell_type": "code",
   "execution_count": 26,
   "id": "1e1c27cc-cfc1-462a-bba0-f040e4dfb4e9",
   "metadata": {},
   "outputs": [
    {
     "name": "stdin",
     "output_type": "stream",
     "text": [
      "Enter username admin\n",
      "Enter password admin123\n"
     ]
    },
    {
     "name": "stdout",
     "output_type": "stream",
     "text": [
      "Successfully login\n"
     ]
    }
   ],
   "source": [
    "username = str(input('Enter username'))\n",
    "password = str(input(\"Enter password\"))\n",
    "\n",
    "\n",
    "if username == 'admin' and password == 'admin123':\n",
    "    print('Successfully login')\n",
    "else:\n",
    "    print('Invalid username password')\n",
    "    \n",
    "                     "
   ]
  },
  {
   "cell_type": "code",
   "execution_count": 44,
   "id": "ccce5af5-98af-4008-abf6-72d8dd04b628",
   "metadata": {},
   "outputs": [
    {
     "name": "stdin",
     "output_type": "stream",
     "text": [
      "Enter username admin\n",
      "Enter password ergwe\n",
      "Enter secret key rghw\n"
     ]
    },
    {
     "name": "stdout",
     "output_type": "stream",
     "text": [
      "Invalid username password\n"
     ]
    }
   ],
   "source": [
    "username = str(input('Enter username'))\n",
    "password = str(input(\"Enter password\"))\n",
    "secret_key = str(input('Enter secret key'))\n",
    "\n",
    "if username == 'admin' and password == 'admin123' or secret_key == 'secret123':\n",
    "    print('Successfully login')\n",
    "else:\n",
    "    print('Invalid username password')"
   ]
  },
  {
   "cell_type": "code",
   "execution_count": 43,
   "id": "e5c42c16-1764-4a55-afa5-172cd6552520",
   "metadata": {},
   "outputs": [
    {
     "name": "stdin",
     "output_type": "stream",
     "text": [
      "Enter username admin\n",
      "Enter password admin123\n"
     ]
    },
    {
     "name": "stdout",
     "output_type": "stream",
     "text": [
      "Successfully login\n"
     ]
    }
   ],
   "source": [
    "username = str(input('Enter username'))\n",
    "password = str(input(\"Enter password\"))\n",
    "#secret_key = str(input('Enter secret key'))\n",
    "\n",
    "if username == 'admin' and password == 'admin123' :\n",
    "    print('Successfully login')\n",
    "    \n",
    "else:\n",
    "    secret_key = str(input('Enter secret key'))\n",
    "    if secret_key == 'secret123':\n",
    "        print('Successfully login')\n",
    "    else:\n",
    "        print('Invalid')"
   ]
  },
  {
   "cell_type": "code",
   "execution_count": 50,
   "id": "7ccff92f-e0bb-4feb-8ec2-8374386da4e5",
   "metadata": {},
   "outputs": [
    {
     "name": "stdin",
     "output_type": "stream",
     "text": [
      "Enter marks obtained in english 78\n",
      "Enter marks obtained in nepali 79\n",
      "Enter marks obtained in science 80\n",
      "Enter marks obtained in math 85\n",
      "Enter marks obtained in social 89\n",
      "Enter marks obtained in computer 45\n"
     ]
    },
    {
     "name": "stdout",
     "output_type": "stream",
     "text": [
      "The average is 76.0 and percentage is 82.9090909090909\n",
      "Distinction\n"
     ]
    }
   ],
   "source": [
    "m_english = int(input('Enter marks obtained in english'))\n",
    "m_nepali = int(input('Enter marks obtained in nepali'))\n",
    "m_science = int(input('Enter marks obtained in science'))\n",
    "m_math = int(input('Enter marks obtained in math'))\n",
    "m_social = int(input('Enter marks obtained in social'))\n",
    "m_computer = int(input('Enter marks obtained in computer'))\n",
    "average = (m_english + m_nepali + m_science + m_math + m_social + m_computer)/6\n",
    "percentage = ((m_english + m_nepali + m_science + m_math + m_social + m_computer)/550)*100\n",
    "print(f'The average is {average} and percentage is {percentage}')\n",
    "\n",
    "if(percentage >= 80):\n",
    "    print('Distinction')\n",
    "elif(percentage >= 70):\n",
    "    print('first division')\n",
    "elif(percentage >= 60):\n",
    "    print('second division')\n",
    "elif(percentage >= 50):\n",
    "    print('third division')\n",
    "elif(percentage >= 40):\n",
    "    print('fourth division')\n",
    "else:\n",
    "    print('Fail')\n"
   ]
  },
  {
   "cell_type": "code",
   "execution_count": 53,
   "id": "dc42f88b-7923-46fe-9c33-b2e57c8b9d91",
   "metadata": {},
   "outputs": [
    {
     "name": "stdout",
     "output_type": "stream",
     "text": [
      "1\n",
      "69\n",
      "3\n",
      "4\n",
      "5\n"
     ]
    }
   ],
   "source": [
    "x = [1,69,3,4,5]\n",
    "for i in x:\n",
    "    print(i)"
   ]
  },
  {
   "cell_type": "code",
   "execution_count": 59,
   "id": "e46b3a59-06be-42aa-8c72-804f14e13cca",
   "metadata": {},
   "outputs": [
    {
     "ename": "TypeError",
     "evalue": "'int' object is not iterable",
     "output_type": "error",
     "traceback": [
      "\u001b[31m---------------------------------------------------------------------------\u001b[39m",
      "\u001b[31mTypeError\u001b[39m                                 Traceback (most recent call last)",
      "\u001b[36mCell\u001b[39m\u001b[36m \u001b[39m\u001b[32mIn[59]\u001b[39m\u001b[32m, line 1\u001b[39m\n\u001b[32m----> \u001b[39m\u001b[32m1\u001b[39m \u001b[38;5;28;43;01mfor\u001b[39;49;00m\u001b[43m \u001b[49m\u001b[43mi\u001b[49m\u001b[43m \u001b[49m\u001b[38;5;129;43;01min\u001b[39;49;00m\u001b[43m \u001b[49m\u001b[32;43m20\u001b[39;49m\u001b[43m:\u001b[49m\n\u001b[32m      2\u001b[39m \u001b[43m    \u001b[49m\u001b[38;5;28;43mprint\u001b[39;49m\u001b[43m(\u001b[49m\u001b[43mi\u001b[49m\u001b[43m)\u001b[49m\n",
      "\u001b[31mTypeError\u001b[39m: 'int' object is not iterable"
     ]
    }
   ],
   "source": [
    "for i in 20:\n",
    "    print(i)"
   ]
  },
  {
   "cell_type": "code",
   "execution_count": 2,
   "id": "7fd93def-7ed4-47f0-8e0f-43aac03cf725",
   "metadata": {},
   "outputs": [
    {
     "name": "stdout",
     "output_type": "stream",
     "text": [
      "15\n"
     ]
    }
   ],
   "source": [
    "x = [1,2,3,4,5]\n",
    "a = 0\n",
    "for i in x:\n",
    "    \n",
    "     a += i\n",
    "    \n",
    "print(a)"
   ]
  },
  {
   "cell_type": "code",
   "execution_count": 6,
   "id": "923a51cb-bca9-4876-b771-6f2198be0b71",
   "metadata": {},
   "outputs": [
    {
     "name": "stdout",
     "output_type": "stream",
     "text": [
      "120\n"
     ]
    }
   ],
   "source": [
    "x = [1,2,3,4,5]\n",
    "a = 1\n",
    "for i in x:\n",
    "    \n",
    "     a *= i\n",
    "    #a = a * i\n",
    "print(a)"
   ]
  },
  {
   "cell_type": "code",
   "execution_count": 27,
   "id": "d9ef822c-c0d4-4c98-a9ee-090ff33d44c4",
   "metadata": {},
   "outputs": [
    {
     "name": "stdout",
     "output_type": "stream",
     "text": [
      "[1, 4, 9, 16, 25]\n"
     ]
    }
   ],
   "source": [
    "x = [1,2,3,4,5]\n",
    "a = 0\n",
    "output = []\n",
    "for i in x:\n",
    "    \n",
    "    a = i*i\n",
    "    output.append(a)\n",
    "\n",
    "print(output)"
   ]
  },
  {
   "cell_type": "code",
   "execution_count": 28,
   "id": "86cad204-c1cf-4b91-b4a8-554cc0c230bc",
   "metadata": {},
   "outputs": [
    {
     "name": "stdout",
     "output_type": "stream",
     "text": [
      "['odd', 'even', 'odd', 'even', 'odd']\n"
     ]
    }
   ],
   "source": [
    "x = [1,2,3,4,5]\n",
    "a = 0\n",
    "output = []\n",
    "for i in x:\n",
    "    if(i%2 == 0):\n",
    "        output.append('even')\n",
    "    else:\n",
    "        output.append('odd')\n",
    "\n",
    "\n",
    "print(output)\n",
    "    "
   ]
  },
  {
   "cell_type": "code",
   "execution_count": 33,
   "id": "b2b5364a-8d54-4c39-8f7d-6e454a269342",
   "metadata": {},
   "outputs": [
    {
     "name": "stdout",
     "output_type": "stream",
     "text": [
      "4\n"
     ]
    }
   ],
   "source": [
    "name = 'rAmesh pradhan'\n",
    "\n",
    "c = 0\n",
    "for i in name:\n",
    "    if( i == 'a' or i == 'e' or i == 'i' or i == 'o' or i == 'u' or i == 'A' or i == 'E' or i == 'I' or i == 'O' or i == 'U'):\n",
    "        c = c + 1\n",
    "\n",
    "print(c)"
   ]
  },
  {
   "cell_type": "code",
   "execution_count": 35,
   "id": "81d0f4fb-fcc1-4fa8-9d21-33876aa61f37",
   "metadata": {},
   "outputs": [
    {
     "name": "stdout",
     "output_type": "stream",
     "text": [
      "4\n"
     ]
    }
   ],
   "source": [
    "name = 'rAmesh pradhan'\n",
    "c = 0\n",
    "for i in name:\n",
    "    if i in 'aeiouAEIOU':\n",
    "        c = c+1\n",
    "print(c)"
   ]
  },
  {
   "cell_type": "code",
   "execution_count": 45,
   "id": "2310f0e6-e174-4449-8f2e-ea4616997e3c",
   "metadata": {},
   "outputs": [
    {
     "name": "stdout",
     "output_type": "stream",
     "text": [
      "231\n"
     ]
    }
   ],
   "source": [
    "marks = {'Alan': 99, 'Bill':55, 'Cory':77}\n",
    "total_marks = 0\n",
    "for i in marks.values():\n",
    "    total_marks = i+total_marks\n",
    "\n",
    "print(total_marks)"
   ]
  },
  {
   "cell_type": "code",
   "execution_count": 55,
   "id": "d384659f-0bf2-48dd-80cd-394f130df0a2",
   "metadata": {},
   "outputs": [
    {
     "name": "stdout",
     "output_type": "stream",
     "text": [
      "{'Alan': 4, 'Bill': 4, 'Ramesh': 6, 'Corry': 5, 'Ram': 3, 'Shyam Bahadur': 13, 'Gita': 4}\n",
      "{'Alan': 4, 'Bill': 4, 'Ramesh': 6, 'Corry': 5, 'Ram': 3, 'Shyam Bahadur': 13, 'Gita': 4}\n"
     ]
    }
   ],
   "source": [
    "students = ['Alan', 'Bill' , 'Ramesh', 'Corry', 'Ram', 'Shyam Bahadur', 'Gita']\n",
    "dic = {}\n",
    "dic1 = {}\n",
    "for i in students:\n",
    "    dic.update({i : len(i)})\n",
    "    dic1[i] = len(i)\n",
    "print(dic)\n",
    "print(dic1)"
   ]
  },
  {
   "cell_type": "code",
   "execution_count": 71,
   "id": "023d1529-48a5-4259-bc17-7328ee2a2649",
   "metadata": {},
   "outputs": [
    {
     "name": "stdout",
     "output_type": "stream",
     "text": [
      "{'Alan': 0, 'Bill': 1, 'Ramesh': 2, 'Corry': 3, 'Ram': 4, 'Shyam Bahadur': 5, 'Gita': 6}\n",
      "Alan\n"
     ]
    }
   ],
   "source": [
    "students = ['Alan', 'Bill' , 'Ramesh', 'Corry', 'Ram', 'Shyam Bahadur', 'Gita']\n",
    "dic = {}\n",
    "a = 0\n",
    "for i in students:\n",
    "    dic[i] = a\n",
    "    a += 1\n",
    "print(dic)\n",
    "\n",
    "print((students[0]))\n"
   ]
  },
  {
   "cell_type": "code",
   "execution_count": 63,
   "id": "0fdca7b9-76cb-4a9b-a1a0-98051c1986e8",
   "metadata": {},
   "outputs": [
    {
     "name": "stdout",
     "output_type": "stream",
     "text": [
      "Help on class dict in module builtins:\n",
      "\n",
      "class dict(object)\n",
      " |  dict() -> new empty dictionary\n",
      " |  dict(mapping) -> new dictionary initialized from a mapping object's\n",
      " |      (key, value) pairs\n",
      " |  dict(iterable) -> new dictionary initialized as if via:\n",
      " |      d = {}\n",
      " |      for k, v in iterable:\n",
      " |          d[k] = v\n",
      " |  dict(**kwargs) -> new dictionary initialized with the name=value pairs\n",
      " |      in the keyword argument list.  For example:  dict(one=1, two=2)\n",
      " |\n",
      " |  Methods defined here:\n",
      " |\n",
      " |  __contains__(self, key, /)\n",
      " |      True if the dictionary has the specified key, else False.\n",
      " |\n",
      " |  __delitem__(self, key, /)\n",
      " |      Delete self[key].\n",
      " |\n",
      " |  __eq__(self, value, /)\n",
      " |      Return self==value.\n",
      " |\n",
      " |  __ge__(self, value, /)\n",
      " |      Return self>=value.\n",
      " |\n",
      " |  __getattribute__(self, name, /)\n",
      " |      Return getattr(self, name).\n",
      " |\n",
      " |  __getitem__(self, key, /)\n",
      " |      Return self[key].\n",
      " |\n",
      " |  __gt__(self, value, /)\n",
      " |      Return self>value.\n",
      " |\n",
      " |  __init__(self, /, *args, **kwargs)\n",
      " |      Initialize self.  See help(type(self)) for accurate signature.\n",
      " |\n",
      " |  __ior__(self, value, /)\n",
      " |      Return self|=value.\n",
      " |\n",
      " |  __iter__(self, /)\n",
      " |      Implement iter(self).\n",
      " |\n",
      " |  __le__(self, value, /)\n",
      " |      Return self<=value.\n",
      " |\n",
      " |  __len__(self, /)\n",
      " |      Return len(self).\n",
      " |\n",
      " |  __lt__(self, value, /)\n",
      " |      Return self<value.\n",
      " |\n",
      " |  __ne__(self, value, /)\n",
      " |      Return self!=value.\n",
      " |\n",
      " |  __or__(self, value, /)\n",
      " |      Return self|value.\n",
      " |\n",
      " |  __repr__(self, /)\n",
      " |      Return repr(self).\n",
      " |\n",
      " |  __reversed__(self, /)\n",
      " |      Return a reverse iterator over the dict keys.\n",
      " |\n",
      " |  __ror__(self, value, /)\n",
      " |      Return value|self.\n",
      " |\n",
      " |  __setitem__(self, key, value, /)\n",
      " |      Set self[key] to value.\n",
      " |\n",
      " |  __sizeof__(self, /)\n",
      " |      Return the size of the dict in memory, in bytes.\n",
      " |\n",
      " |  clear(self, /)\n",
      " |      Remove all items from the dict.\n",
      " |\n",
      " |  copy(self, /)\n",
      " |      Return a shallow copy of the dict.\n",
      " |\n",
      " |  get(self, key, default=None, /)\n",
      " |      Return the value for key if key is in the dictionary, else default.\n",
      " |\n",
      " |  items(self, /)\n",
      " |      Return a set-like object providing a view on the dict's items.\n",
      " |\n",
      " |  keys(self, /)\n",
      " |      Return a set-like object providing a view on the dict's keys.\n",
      " |\n",
      " |  pop(self, key, default=<unrepresentable>, /)\n",
      " |      D.pop(k[,d]) -> v, remove specified key and return the corresponding value.\n",
      " |\n",
      " |      If the key is not found, return the default if given; otherwise,\n",
      " |      raise a KeyError.\n",
      " |\n",
      " |  popitem(self, /)\n",
      " |      Remove and return a (key, value) pair as a 2-tuple.\n",
      " |\n",
      " |      Pairs are returned in LIFO (last-in, first-out) order.\n",
      " |      Raises KeyError if the dict is empty.\n",
      " |\n",
      " |  setdefault(self, key, default=None, /)\n",
      " |      Insert key with a value of default if key is not in the dictionary.\n",
      " |\n",
      " |      Return the value for key if key is in the dictionary, else default.\n",
      " |\n",
      " |  update(...)\n",
      " |      D.update([E, ]**F) -> None.  Update D from mapping/iterable E and F.\n",
      " |      If E is present and has a .keys() method, then does:  for k in E.keys(): D[k] = E[k]\n",
      " |      If E is present and lacks a .keys() method, then does:  for k, v in E: D[k] = v\n",
      " |      In either case, this is followed by: for k in F:  D[k] = F[k]\n",
      " |\n",
      " |  values(self, /)\n",
      " |      Return an object providing a view on the dict's values.\n",
      " |\n",
      " |  ----------------------------------------------------------------------\n",
      " |  Class methods defined here:\n",
      " |\n",
      " |  __class_getitem__(object, /)\n",
      " |      See PEP 585\n",
      " |\n",
      " |  fromkeys(iterable, value=None, /)\n",
      " |      Create a new dictionary with keys from iterable and values set to value.\n",
      " |\n",
      " |  ----------------------------------------------------------------------\n",
      " |  Static methods defined here:\n",
      " |\n",
      " |  __new__(*args, **kwargs)\n",
      " |      Create and return a new object.  See help(type) for accurate signature.\n",
      " |\n",
      " |  ----------------------------------------------------------------------\n",
      " |  Data and other attributes defined here:\n",
      " |\n",
      " |  __hash__ = None\n",
      "\n"
     ]
    }
   ],
   "source": [
    "help(dict) \n",
    "id()"
   ]
  },
  {
   "cell_type": "code",
   "execution_count": null,
   "id": "3cb3ed3a-2c83-4257-b3d8-e4985ff529ae",
   "metadata": {},
   "outputs": [],
   "source": []
  },
  {
   "cell_type": "code",
   "execution_count": null,
   "id": "efa75634-68c1-4afc-aceb-194bcd376df5",
   "metadata": {},
   "outputs": [],
   "source": []
  }
 ],
 "metadata": {
  "kernelspec": {
   "display_name": "Python 3 (ipykernel)",
   "language": "python",
   "name": "python3"
  },
  "language_info": {
   "codemirror_mode": {
    "name": "ipython",
    "version": 3
   },
   "file_extension": ".py",
   "mimetype": "text/x-python",
   "name": "python",
   "nbconvert_exporter": "python",
   "pygments_lexer": "ipython3",
   "version": "3.13.3"
  }
 },
 "nbformat": 4,
 "nbformat_minor": 5
}
