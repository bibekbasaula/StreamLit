{
 "cells": [
  {
   "cell_type": "code",
   "execution_count": 1,
   "id": "2a73c3ba-52fa-4278-9700-89aaecfa6dd6",
   "metadata": {},
   "outputs": [
    {
     "data": {
      "text/plain": [
       "tuple"
      ]
     },
     "execution_count": 1,
     "metadata": {},
     "output_type": "execute_result"
    }
   ],
   "source": [
    "x = ()\n",
    "type(x)"
   ]
  },
  {
   "cell_type": "code",
   "execution_count": 2,
   "id": "439ac2d2-e48a-4b45-8450-eff91d233717",
   "metadata": {},
   "outputs": [],
   "source": [
    "fruits = ('apple', 'banana', 'cherries')\n"
   ]
  },
  {
   "cell_type": "code",
   "execution_count": 4,
   "id": "ae4ed359-10ee-47c1-9f8d-0c85ed44d0f0",
   "metadata": {},
   "outputs": [
    {
     "data": {
      "text/plain": [
       "('apple', 'cherries')"
      ]
     },
     "execution_count": 4,
     "metadata": {},
     "output_type": "execute_result"
    }
   ],
   "source": [
    "fruits[0], fruits[-1]"
   ]
  },
  {
   "cell_type": "code",
   "execution_count": 5,
   "id": "7851c7b7-7407-4bb3-b72d-5833fc34bbe5",
   "metadata": {},
   "outputs": [
    {
     "data": {
      "text/plain": [
       "('apple', 'banana')"
      ]
     },
     "execution_count": 5,
     "metadata": {},
     "output_type": "execute_result"
    }
   ],
   "source": [
    "fruits[0:2]"
   ]
  },
  {
   "cell_type": "code",
   "execution_count": 7,
   "id": "87b9d03e-3b1e-47d5-a888-64ac061a2e08",
   "metadata": {},
   "outputs": [
    {
     "data": {
      "text/plain": [
       "True"
      ]
     },
     "execution_count": 7,
     "metadata": {},
     "output_type": "execute_result"
    }
   ],
   "source": [
    "'banana' in fruits"
   ]
  },
  {
   "cell_type": "code",
   "execution_count": 8,
   "id": "f4656af6-7a26-4bab-9e02-a87316493f5c",
   "metadata": {},
   "outputs": [
    {
     "data": {
      "text/plain": [
       "3"
      ]
     },
     "execution_count": 8,
     "metadata": {},
     "output_type": "execute_result"
    }
   ],
   "source": [
    "len(fruits)"
   ]
  },
  {
   "cell_type": "code",
   "execution_count": 9,
   "id": "e3ac151f-962e-4d4d-8577-317051f6ddd9",
   "metadata": {},
   "outputs": [
    {
     "data": {
      "text/plain": [
       "(1, 2, 3, 4, 5)"
      ]
     },
     "execution_count": 9,
     "metadata": {},
     "output_type": "execute_result"
    }
   ],
   "source": [
    "tuple([1,2,3,4,5])"
   ]
  },
  {
   "cell_type": "code",
   "execution_count": 13,
   "id": "162a6fe4-0eca-4f9f-9f5a-aea8a8777191",
   "metadata": {},
   "outputs": [
    {
     "data": {
      "text/plain": [
       "(1, 2, 3, 4, 5, 2, 3, 4, 5)"
      ]
     },
     "execution_count": 13,
     "metadata": {},
     "output_type": "execute_result"
    }
   ],
   "source": [
    "x = (1,2,3,4,5) + (2,3,4,5)\n",
    "x"
   ]
  },
  {
   "cell_type": "code",
   "execution_count": 15,
   "id": "95a54b11-a05f-44c0-8b26-08889b46f227",
   "metadata": {},
   "outputs": [
    {
     "name": "stdout",
     "output_type": "stream",
     "text": [
      "('apple', 'banana', 'cherries', 'apple', 'banana', 'cherries', 'apple', 'banana', 'cherries')\n"
     ]
    }
   ],
   "source": [
    "print(fruits * 3)"
   ]
  },
  {
   "cell_type": "code",
   "execution_count": 16,
   "id": "6c567f51-182d-4391-865c-91359476c0aa",
   "metadata": {},
   "outputs": [
    {
     "data": {
      "text/plain": [
       "0"
      ]
     },
     "execution_count": 16,
     "metadata": {},
     "output_type": "execute_result"
    }
   ],
   "source": [
    "fruits.index('apple')"
   ]
  },
  {
   "cell_type": "code",
   "execution_count": 17,
   "id": "4fd27a33-6913-49d0-bdfa-5fc32efef594",
   "metadata": {},
   "outputs": [
    {
     "data": {
      "text/plain": [
       "1"
      ]
     },
     "execution_count": 17,
     "metadata": {},
     "output_type": "execute_result"
    }
   ],
   "source": [
    "fruits.count('banana')"
   ]
  },
  {
   "cell_type": "code",
   "execution_count": 31,
   "id": "45d99107-d3a9-4eab-8402-7b4248a3ed44",
   "metadata": {},
   "outputs": [
    {
     "name": "stdout",
     "output_type": "stream",
     "text": [
      "('Apple', 'Banana', 'Onion', 'Cabbage', 'Lettuce')\n"
     ]
    },
    {
     "data": {
      "text/plain": [
       "5"
      ]
     },
     "execution_count": 31,
     "metadata": {},
     "output_type": "execute_result"
    }
   ],
   "source": [
    "fruits = ('Apple', 'Banana')\n",
    "vegetables = ('Onion', 'Cabbage', 'Lettuce')\n",
    "fruits_vegetables = (fruits + vegetables)\n",
    "print(fruits_vegetables)\n",
    "len(fruits_vegetables)"
   ]
  },
  {
   "cell_type": "code",
   "execution_count": 35,
   "id": "76aec690-c8c2-4613-9107-8556de315f4c",
   "metadata": {},
   "outputs": [
    {
     "data": {
      "text/plain": [
       "('Apple', 'Banana', 'Onion', 'Cabbage', 'Lettuce', 'mushroom', 'coffee')"
      ]
     },
     "execution_count": 35,
     "metadata": {},
     "output_type": "execute_result"
    }
   ],
   "source": [
    "extras = ('mushroom', 'coffee')\n",
    "food_tuple = fruits_vegetables + extras\n",
    "food_tuple"
   ]
  },
  {
   "cell_type": "code",
   "execution_count": 41,
   "id": "52e42500-f697-4b69-9aae-c892dc44929b",
   "metadata": {},
   "outputs": [
    {
     "name": "stdout",
     "output_type": "stream",
     "text": [
      "('Apple', 'Banana', 'Onion', 'Cabbage', 'Lettuce')\n",
      "mushroom\n",
      "coffee\n"
     ]
    }
   ],
   "source": [
    "print(food_tuple[:5])\n",
    "print(food_tuple[5]) \n",
    "print(food_tuple[6])"
   ]
  },
  {
   "cell_type": "code",
   "execution_count": 42,
   "id": "c2aa56e0-46f5-4d1f-b98d-666a4a945938",
   "metadata": {},
   "outputs": [
    {
     "data": {
      "text/plain": [
       "['Apple', 'Banana', 'Onion', 'Cabbage', 'Lettuce', 'mushroom', 'coffee']"
      ]
     },
     "execution_count": 42,
     "metadata": {},
     "output_type": "execute_result"
    }
   ],
   "source": [
    "list(food_tuple)"
   ]
  },
  {
   "cell_type": "code",
   "execution_count": 45,
   "id": "23b73300-5bf0-49f9-ab50-18a26df6f2f1",
   "metadata": {},
   "outputs": [
    {
     "data": {
      "text/plain": [
       "'Cabbage'"
      ]
     },
     "execution_count": 45,
     "metadata": {},
     "output_type": "execute_result"
    }
   ],
   "source": [
    "food_tuple[int(len(food_tuple)/2)]"
   ]
  },
  {
   "cell_type": "code",
   "execution_count": 47,
   "id": "7dba2404-e79e-4627-ba0b-b2f98300aa23",
   "metadata": {},
   "outputs": [
    {
     "data": {
      "text/plain": [
       "('Apple', 'Banana', 'Onion')"
      ]
     },
     "execution_count": 47,
     "metadata": {},
     "output_type": "execute_result"
    }
   ],
   "source": [
    "food_tuple[:3]"
   ]
  },
  {
   "cell_type": "code",
   "execution_count": 48,
   "id": "a46e63c4-e1a8-460d-b1be-68c3d70a9cef",
   "metadata": {},
   "outputs": [
    {
     "data": {
      "text/plain": [
       "('Lettuce', 'mushroom', 'coffee')"
      ]
     },
     "execution_count": 48,
     "metadata": {},
     "output_type": "execute_result"
    }
   ],
   "source": [
    "food_tuple[-3:]"
   ]
  },
  {
   "cell_type": "code",
   "execution_count": 49,
   "id": "6db76f17-7296-4b56-bcc6-ca879c814f13",
   "metadata": {},
   "outputs": [],
   "source": [
    "del food_tuple"
   ]
  },
  {
   "cell_type": "code",
   "execution_count": 54,
   "id": "00fc909f-9f3e-4162-8a63-bd1681f3dd63",
   "metadata": {},
   "outputs": [
    {
     "name": "stdout",
     "output_type": "stream",
     "text": [
      "False\n",
      "True\n"
     ]
    }
   ],
   "source": [
    "asian_countries = ('India','China','Singapore','Thailand','Indonesia')\n",
    "print('Finland' in asian_countries)\n",
    "print('India' in asian_countries)"
   ]
  },
  {
   "cell_type": "code",
   "execution_count": 55,
   "id": "8b6edda6-bdf2-45c2-93b8-d58e604cf96b",
   "metadata": {},
   "outputs": [],
   "source": [
    "#dictionary "
   ]
  },
  {
   "cell_type": "code",
   "execution_count": 56,
   "id": "a1287391-3670-4bc9-b7d5-6c2dc8fddbb2",
   "metadata": {},
   "outputs": [
    {
     "data": {
      "text/plain": [
       "dict"
      ]
     },
     "execution_count": 56,
     "metadata": {},
     "output_type": "execute_result"
    }
   ],
   "source": [
    "bird = {}\n",
    "type(bird)"
   ]
  },
  {
   "cell_type": "code",
   "execution_count": 59,
   "id": "a0da30d4-0c1a-4cc2-9c13-015bedb9bd50",
   "metadata": {},
   "outputs": [],
   "source": [
    "bird = {\n",
    "    'name' : 'bebo',\n",
    "    'color' : 'black',\n",
    "    'breed' : 'African',\n",
    "    'legs' : 2,\n",
    "    'age' : 1,\n",
    "}\n"
   ]
  },
  {
   "cell_type": "code",
   "execution_count": 80,
   "id": "68296574-fd16-4451-acd5-f00b1aef0cc3",
   "metadata": {},
   "outputs": [],
   "source": [
    "student = {\n",
    "    'first_name' : 'Ram',\n",
    "    'last_name' : 'Khadka',\n",
    "    'gender' : 'Male',\n",
    "    'age' : 12,\n",
    "    'martial_status' : 'Single',\n",
    "    'skills' : ['Video editing'],\n",
    "    'country' : 'Nepal',\n",
    "    'city' : 'Kathmandu',\n",
    "    'address' : 'Ramkot',\n",
    "}\n",
    "    \n",
    "\n"
   ]
  },
  {
   "cell_type": "code",
   "execution_count": 64,
   "id": "f607340e-7b53-4fb3-8fb4-dab35de2dba9",
   "metadata": {},
   "outputs": [
    {
     "data": {
      "text/plain": [
       "9"
      ]
     },
     "execution_count": 64,
     "metadata": {},
     "output_type": "execute_result"
    }
   ],
   "source": [
    "len(student)"
   ]
  },
  {
   "cell_type": "code",
   "execution_count": 82,
   "id": "9b4385b8-434b-4615-96cd-cabcfcd1fbc0",
   "metadata": {},
   "outputs": [
    {
     "name": "stdout",
     "output_type": "stream",
     "text": [
      "['Video editing']\n"
     ]
    },
    {
     "data": {
      "text/plain": [
       "list"
      ]
     },
     "execution_count": 82,
     "metadata": {},
     "output_type": "execute_result"
    }
   ],
   "source": [
    "print(student.get('skills'))\n",
    "type(student.get('skills'))"
   ]
  },
  {
   "cell_type": "code",
   "execution_count": 95,
   "id": "16742841-c4ef-4ff2-ac18-011dbf5e1257",
   "metadata": {},
   "outputs": [
    {
     "name": "stdout",
     "output_type": "stream",
     "text": [
      "{'first_name': 'Ram', 'last_name': 'Khadka', 'gender': 'Male', 'age': 12, 'martial_status': 'Single', 'skills': ['Video editing', 'Designer'], 'country': 'Nepal', 'city': 'Kathmandu', 'address': 'Ramkot'}\n"
     ]
    }
   ],
   "source": [
    "student = {\n",
    "    'first_name' : 'Ram',\n",
    "    'last_name' : 'Khadka',\n",
    "    'gender' : 'Male',\n",
    "    'age' : 12,\n",
    "    'martial_status' : 'Single',\n",
    "    'skills' : ['Video editing'],\n",
    "    'country' : 'Nepal',\n",
    "    'city' : 'Kathmandu',\n",
    "    'address' : 'Ramkot',\n",
    "}\n",
    "student['skills'].append('Designer')\n",
    "print(student)"
   ]
  },
  {
   "cell_type": "code",
   "execution_count": 96,
   "id": "17a3b2ce-3529-4735-a857-0a96f9c55b56",
   "metadata": {},
   "outputs": [
    {
     "data": {
      "text/plain": [
       "dict_keys(['first_name', 'last_name', 'gender', 'age', 'martial_status', 'skills', 'country', 'city', 'address'])"
      ]
     },
     "execution_count": 96,
     "metadata": {},
     "output_type": "execute_result"
    }
   ],
   "source": [
    "student.keys()"
   ]
  },
  {
   "cell_type": "code",
   "execution_count": 97,
   "id": "6541465e-f647-40df-9e15-f0494eb5a8b8",
   "metadata": {},
   "outputs": [
    {
     "data": {
      "text/plain": [
       "dict_values(['Ram', 'Khadka', 'Male', 12, 'Single', ['Video editing', 'Designer'], 'Nepal', 'Kathmandu', 'Ramkot'])"
      ]
     },
     "execution_count": 97,
     "metadata": {},
     "output_type": "execute_result"
    }
   ],
   "source": [
    "student.values()"
   ]
  },
  {
   "cell_type": "code",
   "execution_count": 98,
   "id": "3133f9c5-3e5a-4b87-8a9b-67b1334ad4c0",
   "metadata": {},
   "outputs": [
    {
     "data": {
      "text/plain": [
       "dict_items([('first_name', 'Ram'), ('last_name', 'Khadka'), ('gender', 'Male'), ('age', 12), ('martial_status', 'Single'), ('skills', ['Video editing', 'Designer']), ('country', 'Nepal'), ('city', 'Kathmandu'), ('address', 'Ramkot')])"
      ]
     },
     "execution_count": 98,
     "metadata": {},
     "output_type": "execute_result"
    }
   ],
   "source": [
    "student.items()"
   ]
  },
  {
   "cell_type": "code",
   "execution_count": 105,
   "id": "8d24e4a4-b4d7-453e-80be-96607e4a1153",
   "metadata": {},
   "outputs": [
    {
     "name": "stdout",
     "output_type": "stream",
     "text": [
      "{'first_name': 'Ram', 'last_name': 'Khadka', 'gender': 'Male', 'age': 12, 'martial_status': 'Single', 'skills': ['Video editing'], 'country': 'Nepal', 'city': 'Kathmandu'}\n"
     ]
    }
   ],
   "source": [
    "student = {\n",
    "    'first_name' : 'Ram',\n",
    "    'last_name' : 'Khadka',\n",
    "    'gender' : 'Male',\n",
    "    'age' : 12,\n",
    "    'martial_status' : 'Single',\n",
    "    'skills' : ['Video editing'],\n",
    "    'country' : 'Nepal',\n",
    "    'city' : 'Kathmandu',\n",
    "    'address' : 'Ramkot',\n",
    "}\n",
    "del student['address']\n",
    "print(student)"
   ]
  },
  {
   "cell_type": "code",
   "execution_count": 106,
   "id": "ca1a8d7f-6bda-4e74-a396-e034f93c9eeb",
   "metadata": {},
   "outputs": [],
   "source": [
    "del student"
   ]
  },
  {
   "cell_type": "code",
   "execution_count": null,
   "id": "33a9b93b-2011-44de-8605-63d98eca517d",
   "metadata": {},
   "outputs": [],
   "source": []
  }
 ],
 "metadata": {
  "kernelspec": {
   "display_name": "Python 3 (ipykernel)",
   "language": "python",
   "name": "python3"
  },
  "language_info": {
   "codemirror_mode": {
    "name": "ipython",
    "version": 3
   },
   "file_extension": ".py",
   "mimetype": "text/x-python",
   "name": "python",
   "nbconvert_exporter": "python",
   "pygments_lexer": "ipython3",
   "version": "3.13.3"
  }
 },
 "nbformat": 4,
 "nbformat_minor": 5
}
