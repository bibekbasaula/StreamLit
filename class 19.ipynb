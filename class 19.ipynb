{
 "cells": [
  {
   "cell_type": "code",
   "execution_count": 11,
   "id": "6943c721-7103-4fd0-97fc-212d15ca1360",
   "metadata": {},
   "outputs": [
    {
     "data": {
      "text/plain": [
       "[1, 4, 9, 16, 25, 36]"
      ]
     },
     "execution_count": 11,
     "metadata": {},
     "output_type": "execute_result"
    }
   ],
   "source": [
    "# non pythonic code\n",
    "ls = [1,2,3,4,5,6]\n",
    "lss = []\n",
    "for i in ls:\n",
    "    lss.append(i**2)\n",
    "\n",
    "lss"
   ]
  },
  {
   "cell_type": "code",
   "execution_count": 12,
   "id": "b99de5c5-29b9-4948-86e9-8bb2e00901a9",
   "metadata": {},
   "outputs": [
    {
     "name": "stdout",
     "output_type": "stream",
     "text": [
      "[1, 4, 9, 16, 25, 36]\n"
     ]
    }
   ],
   "source": [
    "#pythonic code\n",
    "ls = [1,2,3,4,5,6]\n",
    "square = [ i ** 2 for i in ls]\n",
    "print(square)"
   ]
  },
  {
   "cell_type": "code",
   "execution_count": 14,
   "id": "c40d0ce8-37bf-4cae-b8b9-c303819def46",
   "metadata": {},
   "outputs": [
    {
     "name": "stdout",
     "output_type": "stream",
     "text": [
      "Unautorized\n"
     ]
    }
   ],
   "source": [
    "age = 17\n",
    "\n",
    "if age > 18:\n",
    "    print('Authorized')\n",
    "else:\n",
    "    print('Unautorized')"
   ]
  },
  {
   "cell_type": "code",
   "execution_count": 16,
   "id": "72e8e64c-9f2b-4367-a7d2-8068063b76c0",
   "metadata": {},
   "outputs": [
    {
     "name": "stdout",
     "output_type": "stream",
     "text": [
      "Unauthorized\n"
     ]
    }
   ],
   "source": [
    "age = 17\n",
    "is_authorized = 'Authorized' if age > 18 else 'Unauthorized'\n",
    "print(is_authorized)"
   ]
  },
  {
   "cell_type": "code",
   "execution_count": 18,
   "id": "01833162-a30d-4d8e-b347-1b5ff7082771",
   "metadata": {},
   "outputs": [
    {
     "data": {
      "text/plain": [
       "'Unauthorized'"
      ]
     },
     "execution_count": 18,
     "metadata": {},
     "output_type": "execute_result"
    }
   ],
   "source": [
    "age = 17\n",
    "'Authorized' if age > 18 else 'Unauthorized'"
   ]
  },
  {
   "cell_type": "code",
   "execution_count": 21,
   "id": "3ce0b7e8-13cb-4673-9338-ea6bf3c1a6b2",
   "metadata": {},
   "outputs": [
    {
     "data": {
      "text/plain": [
       "['odd', 'odd', 'even', 'odd', 'even', 'even', 'even']"
      ]
     },
     "execution_count": 21,
     "metadata": {},
     "output_type": "execute_result"
    }
   ],
   "source": [
    "#non pythonic\n",
    "numbers = [1,23,4,3,4,2,2]\n",
    "ans = []\n",
    "for i in numbers:\n",
    "    if i%2 == 0:\n",
    "        ans.append('even')\n",
    "    else: \n",
    "        ans.append('odd')\n",
    "ans"
   ]
  },
  {
   "cell_type": "code",
   "execution_count": 65,
   "id": "c48873e8-efbe-42b2-8d9f-09d5645c0ca7",
   "metadata": {},
   "outputs": [
    {
     "data": {
      "text/plain": [
       "['odd', 'odd', 'even', 'odd', 'even', 'even', 'even']"
      ]
     },
     "execution_count": 65,
     "metadata": {},
     "output_type": "execute_result"
    }
   ],
   "source": [
    "#pythonic way\n",
    "#list comphrension\n",
    "numbers = [1,23,4,3,4,2,2]\n",
    "['even' if i%2==0 else 'odd' for i in numbers]"
   ]
  },
  {
   "cell_type": "code",
   "execution_count": 37,
   "id": "66803ba9-9af3-435b-8c0b-7b43e2afc541",
   "metadata": {},
   "outputs": [
    {
     "data": {
      "text/plain": [
       "[3, 1, 3, 4, 5, 6, 8, 10]"
      ]
     },
     "execution_count": 37,
     "metadata": {},
     "output_type": "execute_result"
    }
   ],
   "source": [
    "numbers = [-8 , -7, 3, -1, 0 , 1, 3 , 4, 5, -7, 6,8,10]\n",
    "\n",
    "[i for i in numbers if i > 0 ]"
   ]
  },
  {
   "cell_type": "code",
   "execution_count": 51,
   "id": "1fd0508e-eedc-44e7-9ff3-c4eb351dcc9d",
   "metadata": {},
   "outputs": [
    {
     "name": "stdout",
     "output_type": "stream",
     "text": [
      "{'milk': 268.6935, 'bread': 340.782, 'butter': 340.782}\n"
     ]
    }
   ],
   "source": [
    "us_price = { 'milk' : 2.05, 'bread' : 2.6 , 'butter' : 2.6}\n",
    "nep_price={}\n",
    "for i,j in us_price.items():\n",
    "    nep_price[i] = j*131.07\n",
    "    nep_price.update({i : j*131.07})\n",
    "print(nep_price)"
   ]
  },
  {
   "cell_type": "code",
   "execution_count": 48,
   "id": "e1dd88d4-d6d9-4951-ad76-7d2a8a8452db",
   "metadata": {},
   "outputs": [
    {
     "name": "stdout",
     "output_type": "stream",
     "text": [
      "{'milk': 268.6935, 'bread': 340.782, 'butter': 340.782}\n"
     ]
    }
   ],
   "source": [
    "#pythonic\n",
    "us_price = { 'milk' : 2.05, 'bread' : 2.6 , 'butter' : 2.6}\n",
    "nep_price={ \n",
    "    \n",
    "    i : j*131.07\n",
    "    for i,j in us_price.items() }\n",
    "print(nep_price)"
   ]
  },
  {
   "cell_type": "code",
   "execution_count": 54,
   "id": "ace7f367-4d57-4ff1-9134-56ad97c372f0",
   "metadata": {},
   "outputs": [
    {
     "data": {
      "text/plain": [
       "{'milk': 2.05, 'bread': 2.6, 'butter': 3.6}"
      ]
     },
     "execution_count": 54,
     "metadata": {},
     "output_type": "execute_result"
    }
   ],
   "source": [
    "us_price = { 'milk' : 2.05 , 'bread' : 2.6 , 'butter' : 3.6 , 'mobile' : 50 , 'tv' : 1000 , 'refrigeretor' : 700}\n",
    "result = {}\n",
    "for i,j in us_price.items():\n",
    "    if j < 5:\n",
    "        result.update({i:j}) \n",
    "\n",
    "result"
   ]
  },
  {
   "cell_type": "code",
   "execution_count": 58,
   "id": "fd17c68f-fbc0-4cc0-9569-57f4eb5b6736",
   "metadata": {},
   "outputs": [
    {
     "data": {
      "text/plain": [
       "{'milk': 2.05, 'bread': 2.6, 'butter': 3.6}"
      ]
     },
     "execution_count": 58,
     "metadata": {},
     "output_type": "execute_result"
    }
   ],
   "source": [
    "us_price = { 'milk' : 2.05 , 'bread' : 2.6 , 'butter' : 3.6 , 'mobile' : 50 , 'tv' : 1000 , 'refrigeretor' : 700}\n",
    "result = {\n",
    "    i : j\n",
    "    for i,j in us_price.items()\n",
    "    if j < 5\n",
    "}\n",
    "result"
   ]
  },
  {
   "cell_type": "code",
   "execution_count": 72,
   "id": "8eab424b-0c76-428a-944b-8d6170a7d25f",
   "metadata": {},
   "outputs": [
    {
     "name": "stdout",
     "output_type": "stream",
     "text": [
      "{'milk': 303.46149999999994, 'bread': 384.878, 'butter': 532.9079999999999, 'mobile': 7860.0, 'tv': 157200.0, 'refrigeretor': 110040.0}\n"
     ]
    }
   ],
   "source": [
    "us_price = { 'milk' : 2.05 , 'bread' : 2.6 , 'butter' : 3.6 , 'mobile' : 50 , 'tv' : 1000 , 'refrigeretor' : 700}\n",
    "\n",
    "result = {}\n",
    "for i,j in us_price.items():\n",
    "    if j<5:\n",
    "        result.update({i : j * 1.13 * 131})\n",
    "    else:\n",
    "        result.update({i : j * 1.2 * 131})\n",
    "\n",
    "    \n",
    "print(result)"
   ]
  },
  {
   "cell_type": "code",
   "execution_count": 73,
   "id": "c432d6ba-9154-4c02-b414-5e6f76bb5947",
   "metadata": {},
   "outputs": [
    {
     "data": {
      "text/plain": [
       "{'milk': 303.6236549999999,\n",
       " 'bread': 385.08365999999995,\n",
       " 'butter': 533.1927599999999,\n",
       " 'mobile': 7864.2,\n",
       " 'tv': 157284.0,\n",
       " 'refrigeretor': 110098.79999999999}"
      ]
     },
     "execution_count": 73,
     "metadata": {},
     "output_type": "execute_result"
    }
   ],
   "source": [
    "us_price = { 'milk' : 2.05 , 'bread' : 2.6 , 'butter' : 3.6 , 'mobile' : 50 , 'tv' : 1000 , 'refrigeretor' : 700}\n",
    "result = {\n",
    "    i : (j *1.13 * 131.07 if j<5 else j * 1.2 * 131.07)\n",
    "    for i,j in us_price.items() \n",
    "}\n",
    "result"
   ]
  },
  {
   "cell_type": "code",
   "execution_count": null,
   "id": "743262a7-c97c-4a05-8dd6-65a15aa5d59f",
   "metadata": {},
   "outputs": [],
   "source": []
  }
 ],
 "metadata": {
  "kernelspec": {
   "display_name": "Python 3 (ipykernel)",
   "language": "python",
   "name": "python3"
  },
  "language_info": {
   "codemirror_mode": {
    "name": "ipython",
    "version": 3
   },
   "file_extension": ".py",
   "mimetype": "text/x-python",
   "name": "python",
   "nbconvert_exporter": "python",
   "pygments_lexer": "ipython3",
   "version": "3.13.3"
  }
 },
 "nbformat": 4,
 "nbformat_minor": 5
}
