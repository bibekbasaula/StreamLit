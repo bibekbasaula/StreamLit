{
 "cells": [
  {
   "cell_type": "markdown",
   "metadata": {},
   "source": [
    "# Python `if-elif-else` statement\n",
    "\n",
    "So far, we have presented a Boolean option for conditional statements, with each **[if statement](../../001_Python_if_statement.ipynb)** evaluating to either **`True`** or **`False`**. In Python, the **`if-elif-else`** condition statement has an **`elif`** keyword used to chain multiple conditions one after another."
   ]
  },
  {
   "cell_type": "markdown",
   "metadata": {},
   "source": [
    "### Syntax:\n",
    "\n",
    "```python\n",
    "if condition-1:  \n",
    "     statement 1 \n",
    "elif condition-2:\n",
    "     stetement 2 \n",
    "elif condition-3:\n",
    "     stetement 3 \n",
    "     ...         \n",
    "else:            \n",
    "     statement  \n",
    "```\n",
    "\n",
    "1. The **`elif`** is short for else if. It allows us to check for multiple expressions.\n",
    "\n",
    "2. If the condition for **`if`** is **`False`**, it checks the condition of the next **`elif`** block and so on.\n",
    "\n",
    "3. If all the conditions are **`False`**, the body of **`else`** is executed.\n",
    "\n",
    "4. Only one block among the several **`if-elif-else`** blocks is executed according to the condition.\n",
    "\n",
    "5. The **`if`** block can have only one **`else`** block. But it can have multiple **`elif`** blocks.\n",
    "\n",
    "<div>\n",
    "<img src=\"../../img/eif0.png\" width=\"500\"/>\n",
    "</div>"
   ]
  },
  {
   "cell_type": "code",
   "execution_count": 1,
   "metadata": {
    "ExecuteTime": {
     "end_time": "2021-10-04T08:50:54.861499Z",
     "start_time": "2021-10-04T08:50:54.848803Z"
    }
   },
   "outputs": [
    {
     "name": "stdout",
     "output_type": "stream",
     "text": [
      "Zero\n"
     ]
    }
   ],
   "source": [
    "# Example 1:\n",
    "\n",
    "'''In this program, we check if the number is positive or negative or zero and \n",
    "display an appropriate message'''\n",
    "\n",
    "num = 0\n",
    "\n",
    "# Try these two variations as well:\n",
    "# num = 0\n",
    "# num = -4.5\n",
    "\n",
    "if num > 0:\n",
    "    print(\"Positive number\")\n",
    "elif num == 0:\n",
    "    print(\"Zero\")\n",
    "else:\n",
    "    print(\"Negative number\")"
   ]
  },
  {
   "cell_type": "markdown",
   "metadata": {},
   "source": [
    "**Explanation:**\n",
    "\n",
    "When variable **`num`** is positive, **`Positive number`** is printed.\n",
    "\n",
    "If **`num`** is equal to 0, **`Zero`** is printed.\n",
    "\n",
    "If **`num`** is negative, **`Negative number`** is printed.    "
   ]
  },
  {
   "cell_type": "code",
   "execution_count": 2,
   "metadata": {
    "ExecuteTime": {
     "end_time": "2021-10-04T08:50:55.015301Z",
     "start_time": "2021-10-04T08:50:54.876146Z"
    }
   },
   "outputs": [
    {
     "name": "stdout",
     "output_type": "stream",
     "text": [
      "num1 is equal to num2\n"
     ]
    }
   ],
   "source": [
    "# Example 2:\n",
    "\n",
    "num1, num2 = 5, 5\n",
    "if(num1 > num2):\n",
    "    print(\"num1 is greater than num2\")\n",
    "elif(num1 == num2):\n",
    "    print(\"num1 is equal to num2\")\n",
    "else:\n",
    "    print(\"num1 is less than num2\")"
   ]
  },
  {
   "cell_type": "code",
   "execution_count": 3,
   "metadata": {
    "ExecuteTime": {
     "end_time": "2021-10-04T08:50:55.153487Z",
     "start_time": "2021-10-04T08:50:55.019212Z"
    }
   },
   "outputs": [
    {
     "name": "stdout",
     "output_type": "stream",
     "text": [
      "x<y\n"
     ]
    }
   ],
   "source": [
    "# Example 3:\n",
    "\n",
    "x = 10\n",
    "y = 12\n",
    "if x > y:\n",
    "    print(\"x>y\")\n",
    "elif x < y:\n",
    "    print(\"x<y\")\n",
    "else:\n",
    "    print(\"x=y\")"
   ]
  },
  {
   "cell_type": "code",
   "execution_count": 4,
   "metadata": {
    "ExecuteTime": {
     "end_time": "2021-10-04T08:50:55.277022Z",
     "start_time": "2021-10-04T08:50:55.162277Z"
    }
   },
   "outputs": [
    {
     "name": "stdout",
     "output_type": "stream",
     "text": [
      "A grade\n"
     ]
    }
   ],
   "source": [
    "# Example 4:\n",
    "\n",
    "grade = 96\n",
    "\n",
    "if grade >= 90:\n",
    "    print(\"A grade\")\n",
    "elif grade >=80:\n",
    "    print(\"B grade\")\n",
    "elif grade >=70:\n",
    "    print(\"C grade\")\n",
    "elif grade >= 65:\n",
    "    print(\"D grade\")\n",
    "else:\n",
    "    print(\"Failing grade\")"
   ]
  },
  {
   "cell_type": "code",
   "execution_count": 5,
   "metadata": {
    "ExecuteTime": {
     "end_time": "2021-10-04T08:50:55.446456Z",
     "start_time": "2021-10-04T08:50:55.281905Z"
    },
    "scrolled": true
   },
   "outputs": [
    {
     "name": "stdout",
     "output_type": "stream",
     "text": [
      "Admin\n",
      "Editor\n",
      "Guest\n",
      "Wrong entry\n"
     ]
    }
   ],
   "source": [
    "# Example 5:\n",
    "\n",
    "def user_check(choice):\n",
    "    if choice == 1:\n",
    "        print(\"Admin\")\n",
    "    elif choice == 2:\n",
    "        print(\"Editor\")\n",
    "    elif choice == 3:\n",
    "        print(\"Guest\")\n",
    "    else:\n",
    "        print(\"Wrong entry\")\n",
    "\n",
    "user_check(1)  # Admin\n",
    "user_check(2)  # Editor\n",
    "user_check(3)  # Guest\n",
    "user_check(4)  # Wrong entry"
   ]
  },
  {
   "cell_type": "markdown",
   "metadata": {},
   "source": [
    "## if-elif-else statements with logical operators\n",
    "\n",
    "We can avoid writing nested condition by using logical operator **`and`**."
   ]
  },
  {
   "cell_type": "markdown",
   "metadata": {},
   "source": [
    "### if-elif-else statements `and` Logical Operator\n",
    "\n",
    "**Syntax:**\n",
    "\n",
    "```py\n",
    "if condition and condition:\n",
    "    code\n",
    "```"
   ]
  },
  {
   "cell_type": "code",
   "execution_count": 6,
   "metadata": {
    "ExecuteTime": {
     "end_time": "2021-10-04T08:50:55.556809Z",
     "start_time": "2021-10-04T08:50:55.453294Z"
    }
   },
   "outputs": [
    {
     "name": "stdout",
     "output_type": "stream",
     "text": [
      "A is zero\n"
     ]
    }
   ],
   "source": [
    "a = 0\n",
    "if a > 0 and a % 2 == 0:\n",
    "        print('A is an even and positive integer')\n",
    "elif a > 0 and a % 2 !=  0:\n",
    "     print('A is a positive integer')\n",
    "elif a == 0:\n",
    "    print('A is zero')\n",
    "else:\n",
    "    print('A is negative')"
   ]
  },
  {
   "cell_type": "markdown",
   "metadata": {},
   "source": [
    "### if-elif-else statements `or` Logical Operator\n",
    "\n",
    "**Syntax:**\n",
    "\n",
    "```py\n",
    "if condition or condition:\n",
    "    code\n",
    "```"
   ]
  },
  {
   "cell_type": "code",
   "execution_count": 7,
   "metadata": {
    "ExecuteTime": {
     "end_time": "2021-10-04T08:50:55.708176Z",
     "start_time": "2021-10-04T08:50:55.559738Z"
    }
   },
   "outputs": [
    {
     "name": "stdout",
     "output_type": "stream",
     "text": [
      "Access denied!\n"
     ]
    }
   ],
   "source": [
    "user = 'Arthur'\n",
    "access_level = 3\n",
    "if user == 'admin' or access_level >= 4:\n",
    "        print('Access granted!')\n",
    "else:\n",
    "    print('Access denied!')"
   ]
  },
  {
   "cell_type": "markdown",
   "metadata": {},
   "source": [
    "---\n",
    "\n",
    "## 💻 Exercises ➞ <span class='label label-default'>List</span>\n",
    "\n",
    "### Level 1 ➞ <span class='label label-default'>Exercises</span>\n",
    "\n",
    "1. **Compare two numbers:**\n",
    "   - Get two numbers from the user.\n",
    "   - If **`num_1`** is greater than **`num_2`**, return:  \n",
    "     **`num_1 is greater than num_2`**\n",
    "   - If **`num_1`** is less than **`num_2`**, return:  \n",
    "     **`num_1 is smaller than num_2`**\n",
    "   - If **`num_1`** equals **`num_2`**, return:  \n",
    "     **`num_1 is equal to num_2`**\n",
    "\n",
    "   Example output:\n",
    "   ```shell\n",
    "   Enter number one: 9\n",
    "   Enter number two: 6\n",
    "   9 is greater than 6\n",
    "   ```\n",
    "\n",
    "---\n",
    "\n",
    "### Level 2 ➞ <span class='label label-default'>Exercises</span>\n",
    "\n",
    "1. **Grade Calculator:**\n",
    "   - Write a program that assigns a grade based on a student's score:\n",
    "     - `90-100` ➞ Grade **A**\n",
    "     - `70-89` ➞ Grade **B**\n",
    "     - `60-69` ➞ Grade **C**\n",
    "     - `50-59` ➞ Grade **D**\n",
    "     - `0-49` ➞ Grade **F**\n",
    "\n",
    "2. **Season Finder:**\n",
    "   - Check the season based on the month the user enters:\n",
    "     - If it's **September**, **October**, or **November**, it's **Autumn**.\n",
    "     - If it's **December**, **January**, or **February**, it's **Winter**.\n",
    "     - If it's **March**, **April**, or **May**, it's **Spring**.\n",
    "     - If it's **June**, **July**, or **August**, it's **Summer**.\n",
    "\n",
    "3. **Fruit List Checker:**\n",
    "   - Given the following fruit list:\n",
    "     ```python\n",
    "     fruits = ['banana', 'orange', 'mango', 'pear']\n",
    "     ```\n",
    "   - If the fruit doesn't exist in the list, add it and print the modified list.\n",
    "   - If the fruit is already in the list, print:  \n",
    "     **`That fruit already exists in the list`**\n",
    "\n",
    "---\n",
    "\n",
    "### Level 3 ➞ <span class='label label-default'>Exercises</span>\n",
    "\n",
    "1. **Person Dictionary:**\n",
    "   - We have a dictionary representing a person:\n",
    "     ```python\n",
    "     person = {\n",
    "         'first_name': 'Ramesh',\n",
    "         'last_name': 'Pradhan',\n",
    "         'age': 96,\n",
    "         'country': 'Nepal',\n",
    "         'is_married': True,\n",
    "         'skills': ['Python', 'Matlab', 'R', 'C', 'C++'],\n",
    "         'address': {\n",
    "             'street': 'Tinkune street',\n",
    "             'zipcode': '12345'\n",
    "         }\n",
    "     }\n",
    "     ```\n",
    "\n",
    "   - **Tasks:**\n",
    "     - Check if the dictionary contains the key **`skills`**. If it does, print the middle skill in the list.\n",
    "     - Check if **`Python`** is one of the skills. Print the result.\n",
    "     - Based on the skills, print the corresponding title:\n",
    "       - If the person knows **`Python`** and **`Matlab`**, print **`He knows machine learning`**.\n",
    "       - If the person knows **`Python`** and **`R`**, print **`He knows statistics`**.\n",
    "       - If the person knows **`C`** and **`C++`**, print **`He knows software development`**.\n",
    "       - If the skills don't match any of the above, print **`unknown title`**.\n",
    "     - If the person is married and lives in Finland, print:\n",
    "       ```python\n",
    "       Ramesh Pradhan lives in Nepal. He is married.\n",
    "       ```\n",
    "\n",
    "---"
   ]
  },
  {
   "cell_type": "code",
   "execution_count": null,
   "metadata": {},
   "outputs": [],
   "source": []
  }
 ],
 "metadata": {
  "hide_input": false,
  "kernelspec": {
   "display_name": "Python 3 (ipykernel)",
   "language": "python",
   "name": "python3"
  },
  "language_info": {
   "codemirror_mode": {
    "name": "ipython",
    "version": 3
   },
   "file_extension": ".py",
   "mimetype": "text/x-python",
   "name": "python",
   "nbconvert_exporter": "python",
   "pygments_lexer": "ipython3",
   "version": "3.12.4"
  },
  "toc": {
   "base_numbering": 1,
   "nav_menu": {},
   "number_sections": true,
   "sideBar": true,
   "skip_h1_title": false,
   "title_cell": "Table of Contents",
   "title_sidebar": "Contents",
   "toc_cell": false,
   "toc_position": {
    "height": "calc(100% - 180px)",
    "left": "10px",
    "top": "150px",
    "width": "204.797px"
   },
   "toc_section_display": true,
   "toc_window_display": false
  },
  "varInspector": {
   "cols": {
    "lenName": 16,
    "lenType": 16,
    "lenVar": 40
   },
   "kernels_config": {
    "python": {
     "delete_cmd_postfix": "",
     "delete_cmd_prefix": "del ",
     "library": "var_list.py",
     "varRefreshCmd": "print(var_dic_list())"
    },
    "r": {
     "delete_cmd_postfix": ") ",
     "delete_cmd_prefix": "rm(",
     "library": "var_list.r",
     "varRefreshCmd": "cat(var_dic_list()) "
    }
   },
   "types_to_exclude": [
    "module",
    "function",
    "builtin_function_or_method",
    "instance",
    "_Feature"
   ],
   "window_display": false
  },
  "widgets": {
   "application/vnd.jupyter.widget-state+json": {
    "state": {},
    "version_major": 2,
    "version_minor": 0
   }
  }
 },
 "nbformat": 4,
 "nbformat_minor": 4
}
