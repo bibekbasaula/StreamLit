{
 "cells": [
  {
   "cell_type": "code",
   "execution_count": 1,
   "id": "c7470b28-a028-45e5-b543-2fc0598ed540",
   "metadata": {},
   "outputs": [],
   "source": [
    "#lvl 2"
   ]
  },
  {
   "cell_type": "code",
   "execution_count": 4,
   "id": "333613aa-4a30-4393-b7fc-add80a5c2f85",
   "metadata": {},
   "outputs": [
    {
     "name": "stdout",
     "output_type": "stream",
     "text": [
      "<class 'int'> <class 'str'> <class 'float'> <class 'complex'> <class 'bool'> <class 'NoneType'> <class 'tuple'> <class 'dict'>\n"
     ]
    }
   ],
   "source": [
    "a = 12\n",
    "b = '12'\n",
    "c = 12.5\n",
    "d = 12j\n",
    "e = True\n",
    "f = None \n",
    "g = ()\n",
    "h = {}\n",
    "i = []\n",
    "print(type(a), type(b), type(c), type(d), type(e), type(f), type(g), type(h))"
   ]
  },
  {
   "cell_type": "code",
   "execution_count": 5,
   "id": "a14b433b-35ce-4985-8177-837d43a61717",
   "metadata": {},
   "outputs": [
    {
     "name": "stdout",
     "output_type": "stream",
     "text": [
      "5\n"
     ]
    }
   ],
   "source": [
    "first_name = \"Bibek\"\n",
    "print(len(first_name))"
   ]
  },
  {
   "cell_type": "code",
   "execution_count": 17,
   "id": "217581eb-3a16-4d96-af5b-be65e79d9a60",
   "metadata": {},
   "outputs": [
    {
     "ename": "IndentationError",
     "evalue": "expected an indented block after 'if' statement on line 6 (4193981543.py, line 7)",
     "output_type": "error",
     "traceback": [
      "  \u001b[36mCell\u001b[39m\u001b[36m \u001b[39m\u001b[32mIn[17]\u001b[39m\u001b[32m, line 7\u001b[39m\n\u001b[31m    \u001b[39m\u001b[31mprint(\"first name is longer\")\u001b[39m\n    ^\n\u001b[31mIndentationError\u001b[39m\u001b[31m:\u001b[39m expected an indented block after 'if' statement on line 6\n"
     ]
    }
   ],
   "source": [
    "first_name = \"Bibek\"\n",
    "x = (len(first_name))\n",
    "last_name = \"Basaula\"\n",
    "y = (len(last_name))\n",
    "print(x , y)\n",
    "if(x>y):\n",
    "print(\"first name is longer\")\n",
    "else \n",
    "print(\"last name is longer\")"
   ]
  },
  {
   "cell_type": "code",
   "execution_count": 20,
   "id": "a0fd647d-175e-4234-935f-c9cfa43f8052",
   "metadata": {},
   "outputs": [],
   "source": [
    "num_1 = 6\n",
    "num_2 = 4\n",
    "\n",
    "total = num_1 + num_2\n",
    "Difference = num_1 - num_2\n",
    "multiply = num_1 * num_2\n",
    "divide = float(num_1/num_2)\n",
    "remainder = num_1 % num_2\n",
    "exp = num_1 ** num_2\n",
    "floor_division = num_1 // num_2"
   ]
  },
  {
   "cell_type": "code",
   "execution_count": 21,
   "id": "12225a7b-5bd4-437d-98bb-4b2af05661ab",
   "metadata": {},
   "outputs": [
    {
     "name": "stdin",
     "output_type": "stream",
     "text": [
      "Enter your first name egdsag\n",
      "ENter your last name fdsagw\n",
      "Enter your country dfhshw\n",
      "Enter age 4\n"
     ]
    }
   ],
   "source": [
    "first_name = str(input(\"Enter your first name\"))\n",
    "second_name = str(input(\"ENter your last name\"))\n",
    "country = str(input(\"Enter your country\"))\n",
    "age = int(input(\"Enter age\"))"
   ]
  },
  {
   "cell_type": "code",
   "execution_count": 23,
   "id": "e49fbe13-eece-48ed-991c-4645befc1b9e",
   "metadata": {},
   "outputs": [
    {
     "ename": "SyntaxError",
     "evalue": "invalid syntax (2887214783.py, line 1)",
     "output_type": "error",
     "traceback": [
      "  \u001b[36mCell\u001b[39m\u001b[36m \u001b[39m\u001b[32mIn[23]\u001b[39m\u001b[32m, line 1\u001b[39m\n\u001b[31m    \u001b[39m\u001b[31mhelp (for)\u001b[39m\n          ^\n\u001b[31mSyntaxError\u001b[39m\u001b[31m:\u001b[39m invalid syntax\n"
     ]
    }
   ],
   "source": [
    "help (for)"
   ]
  },
  {
   "cell_type": "code",
   "execution_count": null,
   "id": "01057597-2c7e-4eb8-9c40-6d10c15a6c3d",
   "metadata": {},
   "outputs": [],
   "source": []
  }
 ],
 "metadata": {
  "kernelspec": {
   "display_name": "Python 3 (ipykernel)",
   "language": "python",
   "name": "python3"
  },
  "language_info": {
   "codemirror_mode": {
    "name": "ipython",
    "version": 3
   },
   "file_extension": ".py",
   "mimetype": "text/x-python",
   "name": "python",
   "nbconvert_exporter": "python",
   "pygments_lexer": "ipython3",
   "version": "3.13.3"
  }
 },
 "nbformat": 4,
 "nbformat_minor": 5
}
