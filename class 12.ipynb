{
 "cells": [
  {
   "cell_type": "code",
   "execution_count": 1,
   "id": "8e04f6e2-f5b7-4854-8fd9-cdf8b5571f6f",
   "metadata": {},
   "outputs": [],
   "source": [
    "#for \n",
    "# finite iteration\n",
    "# if you know how many times you are iterating\n",
    "\n",
    "#while\n",
    "# infinite iteration\n",
    "# if you dont know how many times you are iterating\n"
   ]
  },
  {
   "cell_type": "raw",
   "id": "d383ab21-5d3d-4363-b630-db397cddd420",
   "metadata": {},
   "source": [
    "# generate infiniite numbers\n",
    "\n",
    "i = 1\n",
    "while True:\n",
    "    print(i)\n",
    "    i += 1"
   ]
  },
  {
   "cell_type": "code",
   "execution_count": 1,
   "id": "eaa5ccbc-597b-47dd-8700-43836ec558a9",
   "metadata": {},
   "outputs": [
    {
     "name": "stdin",
     "output_type": "stream",
     "text": [
      "Enter your age 18\n"
     ]
    },
    {
     "name": "stdout",
     "output_type": "stream",
     "text": [
      "Welcome\n"
     ]
    }
   ],
   "source": [
    "\n",
    "while True:\n",
    "    age = int(input('Enter your age'))\n",
    "    if(age>=18):\n",
    "        print('Welcome')\n",
    "        break\n",
    "    "
   ]
  },
  {
   "cell_type": "code",
   "execution_count": null,
   "id": "8c2ba30e-7a2d-4950-927f-ad45dac1260b",
   "metadata": {},
   "outputs": [],
   "source": []
  }
 ],
 "metadata": {
  "kernelspec": {
   "display_name": "Python 3 (ipykernel)",
   "language": "python",
   "name": "python3"
  },
  "language_info": {
   "codemirror_mode": {
    "name": "ipython",
    "version": 3
   },
   "file_extension": ".py",
   "mimetype": "text/x-python",
   "name": "python",
   "nbconvert_exporter": "python",
   "pygments_lexer": "ipython3",
   "version": "3.13.3"
  }
 },
 "nbformat": 4,
 "nbformat_minor": 5
}
