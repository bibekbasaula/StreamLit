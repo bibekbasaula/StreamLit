{
 "cells": [
  {
   "cell_type": "code",
   "execution_count": 1,
   "id": "1b4cba60-ee3f-4439-a6af-58add1bbc52f",
   "metadata": {},
   "outputs": [],
   "source": [
    "import pandas as pd"
   ]
  },
  {
   "cell_type": "code",
   "execution_count": 2,
   "id": "2e4f4272-7210-401b-8ef4-60886ca57656",
   "metadata": {},
   "outputs": [
    {
     "data": {
      "text/plain": [
       "0     5\n",
       "1     7\n",
       "2     9\n",
       "3    12\n",
       "dtype: int64"
      ]
     },
     "execution_count": 2,
     "metadata": {},
     "output_type": "execute_result"
    }
   ],
   "source": [
    "# Series\n",
    "# .Series()\n",
    "\n",
    "roll = pd.Series([5,7,9,12])\n",
    "roll\n"
   ]
  },
  {
   "cell_type": "code",
   "execution_count": 12,
   "id": "1a7fb6ce-503e-4934-a7e4-9049f2d702b1",
   "metadata": {},
   "outputs": [],
   "source": [
    "df = {\n",
    "     'roll' : [7,1,2,3,4],\n",
    "    'name' : ['Bibek','Ram','Raju','','',],\n",
    "    'class' : ['AI','','','','',]\n",
    "}"
   ]
  },
  {
   "cell_type": "code",
   "execution_count": 14,
   "id": "ab409033-e3b4-453f-ae22-8726633ef662",
   "metadata": {},
   "outputs": [
    {
     "name": "stdout",
     "output_type": "stream",
     "text": [
      "   roll   name class\n",
      "0     7  Bibek    AI\n",
      "1     1    Ram      \n",
      "2     2   Raju      \n",
      "3     3             \n",
      "4     4             \n"
     ]
    }
   ],
   "source": [
    "# dataframe\n",
    "\n",
    "data = pd.DataFrame(df)\n",
    "print(data)\n"
   ]
  },
  {
   "cell_type": "code",
   "execution_count": 18,
   "id": "d5c8470b-d58b-4e89-84c2-3c9fe527899e",
   "metadata": {},
   "outputs": [
    {
     "name": "stdout",
     "output_type": "stream",
     "text": [
      "    Country  Age  Salary Purchased\n",
      "0    France   44   72000        No\n",
      "1     Spain   45   48000       Yes\n",
      "2   Germany   30   54000        No\n",
      "3       USA   20   35000        N0\n",
      "4     Spain   38   61000        No\n",
      "5   Germany   40   70000       Yes\n",
      "6    France   35   58000       Yes\n",
      "7       USA   45   60000       Yes\n",
      "8     Spain   55   52000        No\n",
      "9   Germany   32   50000       Yes\n",
      "10    Spain   48   79000       Yes\n",
      "11   France   48   79000       Yes\n",
      "12  Germany   50   83000        No\n",
      "13   France   37   67000       Yes\n",
      "14   France   25   40000        No\n"
     ]
    }
   ],
   "source": [
    "df = pd.read_csv('Sample_Data.csv')\n",
    "print(df)"
   ]
  },
  {
   "cell_type": "code",
   "execution_count": 19,
   "id": "63168153-cab4-4735-894e-c5765044cd31",
   "metadata": {},
   "outputs": [
    {
     "data": {
      "text/plain": [
       "(15, 4)"
      ]
     },
     "execution_count": 19,
     "metadata": {},
     "output_type": "execute_result"
    }
   ],
   "source": [
    "df.shape"
   ]
  },
  {
   "cell_type": "markdown",
   "id": "b9198b89-42f0-41a5-9b2c-833168377933",
   "metadata": {},
   "source": [
    "# Functions/Attributes\n",
    "    .head()\n",
    "    .tail()\n",
    "    .sample()\n",
    "    .describe()\n",
    "\n",
    "    .shape\n",
    "    .dtypes"
   ]
  },
  {
   "cell_type": "code",
   "execution_count": 21,
   "id": "c247b70e-082b-42a1-be55-fde620927a8c",
   "metadata": {},
   "outputs": [
    {
     "data": {
      "text/html": [
       "<div>\n",
       "<style scoped>\n",
       "    .dataframe tbody tr th:only-of-type {\n",
       "        vertical-align: middle;\n",
       "    }\n",
       "\n",
       "    .dataframe tbody tr th {\n",
       "        vertical-align: top;\n",
       "    }\n",
       "\n",
       "    .dataframe thead th {\n",
       "        text-align: right;\n",
       "    }\n",
       "</style>\n",
       "<table border=\"1\" class=\"dataframe\">\n",
       "  <thead>\n",
       "    <tr style=\"text-align: right;\">\n",
       "      <th></th>\n",
       "      <th>Country</th>\n",
       "      <th>Age</th>\n",
       "      <th>Salary</th>\n",
       "      <th>Purchased</th>\n",
       "    </tr>\n",
       "  </thead>\n",
       "  <tbody>\n",
       "    <tr>\n",
       "      <th>0</th>\n",
       "      <td>France</td>\n",
       "      <td>44</td>\n",
       "      <td>72000</td>\n",
       "      <td>No</td>\n",
       "    </tr>\n",
       "    <tr>\n",
       "      <th>1</th>\n",
       "      <td>Spain</td>\n",
       "      <td>45</td>\n",
       "      <td>48000</td>\n",
       "      <td>Yes</td>\n",
       "    </tr>\n",
       "    <tr>\n",
       "      <th>2</th>\n",
       "      <td>Germany</td>\n",
       "      <td>30</td>\n",
       "      <td>54000</td>\n",
       "      <td>No</td>\n",
       "    </tr>\n",
       "    <tr>\n",
       "      <th>3</th>\n",
       "      <td>USA</td>\n",
       "      <td>20</td>\n",
       "      <td>35000</td>\n",
       "      <td>N0</td>\n",
       "    </tr>\n",
       "    <tr>\n",
       "      <th>4</th>\n",
       "      <td>Spain</td>\n",
       "      <td>38</td>\n",
       "      <td>61000</td>\n",
       "      <td>No</td>\n",
       "    </tr>\n",
       "  </tbody>\n",
       "</table>\n",
       "</div>"
      ],
      "text/plain": [
       "   Country  Age  Salary Purchased\n",
       "0   France   44   72000        No\n",
       "1    Spain   45   48000       Yes\n",
       "2  Germany   30   54000        No\n",
       "3      USA   20   35000        N0\n",
       "4    Spain   38   61000        No"
      ]
     },
     "execution_count": 21,
     "metadata": {},
     "output_type": "execute_result"
    }
   ],
   "source": [
    "df.head()"
   ]
  },
  {
   "cell_type": "code",
   "execution_count": 25,
   "id": "f0ea5fec-764a-4d24-b10a-d61644131ff1",
   "metadata": {},
   "outputs": [
    {
     "data": {
      "text/html": [
       "<div>\n",
       "<style scoped>\n",
       "    .dataframe tbody tr th:only-of-type {\n",
       "        vertical-align: middle;\n",
       "    }\n",
       "\n",
       "    .dataframe tbody tr th {\n",
       "        vertical-align: top;\n",
       "    }\n",
       "\n",
       "    .dataframe thead th {\n",
       "        text-align: right;\n",
       "    }\n",
       "</style>\n",
       "<table border=\"1\" class=\"dataframe\">\n",
       "  <thead>\n",
       "    <tr style=\"text-align: right;\">\n",
       "      <th></th>\n",
       "      <th>Country</th>\n",
       "      <th>Age</th>\n",
       "      <th>Salary</th>\n",
       "      <th>Purchased</th>\n",
       "    </tr>\n",
       "  </thead>\n",
       "  <tbody>\n",
       "    <tr>\n",
       "      <th>7</th>\n",
       "      <td>USA</td>\n",
       "      <td>45</td>\n",
       "      <td>60000</td>\n",
       "      <td>Yes</td>\n",
       "    </tr>\n",
       "    <tr>\n",
       "      <th>8</th>\n",
       "      <td>Spain</td>\n",
       "      <td>55</td>\n",
       "      <td>52000</td>\n",
       "      <td>No</td>\n",
       "    </tr>\n",
       "    <tr>\n",
       "      <th>9</th>\n",
       "      <td>Germany</td>\n",
       "      <td>32</td>\n",
       "      <td>50000</td>\n",
       "      <td>Yes</td>\n",
       "    </tr>\n",
       "    <tr>\n",
       "      <th>10</th>\n",
       "      <td>Spain</td>\n",
       "      <td>48</td>\n",
       "      <td>79000</td>\n",
       "      <td>Yes</td>\n",
       "    </tr>\n",
       "    <tr>\n",
       "      <th>11</th>\n",
       "      <td>France</td>\n",
       "      <td>48</td>\n",
       "      <td>79000</td>\n",
       "      <td>Yes</td>\n",
       "    </tr>\n",
       "    <tr>\n",
       "      <th>12</th>\n",
       "      <td>Germany</td>\n",
       "      <td>50</td>\n",
       "      <td>83000</td>\n",
       "      <td>No</td>\n",
       "    </tr>\n",
       "    <tr>\n",
       "      <th>13</th>\n",
       "      <td>France</td>\n",
       "      <td>37</td>\n",
       "      <td>67000</td>\n",
       "      <td>Yes</td>\n",
       "    </tr>\n",
       "    <tr>\n",
       "      <th>14</th>\n",
       "      <td>France</td>\n",
       "      <td>25</td>\n",
       "      <td>40000</td>\n",
       "      <td>No</td>\n",
       "    </tr>\n",
       "  </tbody>\n",
       "</table>\n",
       "</div>"
      ],
      "text/plain": [
       "    Country  Age  Salary Purchased\n",
       "7       USA   45   60000       Yes\n",
       "8     Spain   55   52000        No\n",
       "9   Germany   32   50000       Yes\n",
       "10    Spain   48   79000       Yes\n",
       "11   France   48   79000       Yes\n",
       "12  Germany   50   83000        No\n",
       "13   France   37   67000       Yes\n",
       "14   France   25   40000        No"
      ]
     },
     "execution_count": 25,
     "metadata": {},
     "output_type": "execute_result"
    }
   ],
   "source": [
    "df.tail(8)"
   ]
  },
  {
   "cell_type": "code",
   "execution_count": 23,
   "id": "92b61f49-00bf-4eac-a59f-3ca0c355f376",
   "metadata": {},
   "outputs": [
    {
     "data": {
      "text/html": [
       "<div>\n",
       "<style scoped>\n",
       "    .dataframe tbody tr th:only-of-type {\n",
       "        vertical-align: middle;\n",
       "    }\n",
       "\n",
       "    .dataframe tbody tr th {\n",
       "        vertical-align: top;\n",
       "    }\n",
       "\n",
       "    .dataframe thead th {\n",
       "        text-align: right;\n",
       "    }\n",
       "</style>\n",
       "<table border=\"1\" class=\"dataframe\">\n",
       "  <thead>\n",
       "    <tr style=\"text-align: right;\">\n",
       "      <th></th>\n",
       "      <th>Country</th>\n",
       "      <th>Age</th>\n",
       "      <th>Salary</th>\n",
       "      <th>Purchased</th>\n",
       "    </tr>\n",
       "  </thead>\n",
       "  <tbody>\n",
       "    <tr>\n",
       "      <th>12</th>\n",
       "      <td>Germany</td>\n",
       "      <td>50</td>\n",
       "      <td>83000</td>\n",
       "      <td>No</td>\n",
       "    </tr>\n",
       "  </tbody>\n",
       "</table>\n",
       "</div>"
      ],
      "text/plain": [
       "    Country  Age  Salary Purchased\n",
       "12  Germany   50   83000        No"
      ]
     },
     "execution_count": 23,
     "metadata": {},
     "output_type": "execute_result"
    }
   ],
   "source": [
    "df.sample()   #Random values dinxa"
   ]
  },
  {
   "cell_type": "code",
   "execution_count": 29,
   "id": "4d7f0539-a42d-4f66-b950-f8f945818954",
   "metadata": {},
   "outputs": [
    {
     "data": {
      "text/plain": [
       "Country      object\n",
       "Age           int64\n",
       "Salary        int64\n",
       "Purchased    object\n",
       "dtype: object"
      ]
     },
     "execution_count": 29,
     "metadata": {},
     "output_type": "execute_result"
    }
   ],
   "source": [
    "df.dtypes"
   ]
  },
  {
   "cell_type": "code",
   "execution_count": 30,
   "id": "ae495e0b-acd5-41a9-992c-e84f00c632a1",
   "metadata": {},
   "outputs": [
    {
     "data": {
      "text/plain": [
       "60"
      ]
     },
     "execution_count": 30,
     "metadata": {},
     "output_type": "execute_result"
    }
   ],
   "source": [
    "df.size"
   ]
  },
  {
   "cell_type": "code",
   "execution_count": 31,
   "id": "4453f2b4-8327-4016-932f-11687b054351",
   "metadata": {},
   "outputs": [
    {
     "data": {
      "text/plain": [
       "(             Age        Salary\n",
       " count  15.000000     15.000000\n",
       " mean   39.466667  60533.333333\n",
       " std     9.789693  14426.496786\n",
       " min    20.000000  35000.000000\n",
       " 25%    33.500000  51000.000000\n",
       " 50%    40.000000  60000.000000\n",
       " 75%    46.500000  71000.000000\n",
       " max    55.000000  83000.000000,)"
      ]
     },
     "execution_count": 31,
     "metadata": {},
     "output_type": "execute_result"
    }
   ],
   "source": [
    "df.describe(),"
   ]
  },
  {
   "cell_type": "code",
   "execution_count": 33,
   "id": "5b091c7d-8b9c-44ce-b186-d13f6832ef4d",
   "metadata": {},
   "outputs": [
    {
     "data": {
      "text/html": [
       "<div>\n",
       "<style scoped>\n",
       "    .dataframe tbody tr th:only-of-type {\n",
       "        vertical-align: middle;\n",
       "    }\n",
       "\n",
       "    .dataframe tbody tr th {\n",
       "        vertical-align: top;\n",
       "    }\n",
       "\n",
       "    .dataframe thead th {\n",
       "        text-align: right;\n",
       "    }\n",
       "</style>\n",
       "<table border=\"1\" class=\"dataframe\">\n",
       "  <thead>\n",
       "    <tr style=\"text-align: right;\">\n",
       "      <th></th>\n",
       "      <th>Country</th>\n",
       "      <th>Age</th>\n",
       "      <th>Salary</th>\n",
       "      <th>Purchased</th>\n",
       "    </tr>\n",
       "  </thead>\n",
       "  <tbody>\n",
       "    <tr>\n",
       "      <th>0</th>\n",
       "      <td>France</td>\n",
       "      <td>44</td>\n",
       "      <td>72000</td>\n",
       "      <td>No</td>\n",
       "    </tr>\n",
       "    <tr>\n",
       "      <th>1</th>\n",
       "      <td>Spain</td>\n",
       "      <td>45</td>\n",
       "      <td>48000</td>\n",
       "      <td>Yes</td>\n",
       "    </tr>\n",
       "    <tr>\n",
       "      <th>2</th>\n",
       "      <td>Germany</td>\n",
       "      <td>30</td>\n",
       "      <td>54000</td>\n",
       "      <td>No</td>\n",
       "    </tr>\n",
       "    <tr>\n",
       "      <th>3</th>\n",
       "      <td>USA</td>\n",
       "      <td>20</td>\n",
       "      <td>35000</td>\n",
       "      <td>N0</td>\n",
       "    </tr>\n",
       "    <tr>\n",
       "      <th>4</th>\n",
       "      <td>Spain</td>\n",
       "      <td>38</td>\n",
       "      <td>61000</td>\n",
       "      <td>No</td>\n",
       "    </tr>\n",
       "  </tbody>\n",
       "</table>\n",
       "</div>"
      ],
      "text/plain": [
       "   Country  Age  Salary Purchased\n",
       "0   France   44   72000        No\n",
       "1    Spain   45   48000       Yes\n",
       "2  Germany   30   54000        No\n",
       "3      USA   20   35000        N0\n",
       "4    Spain   38   61000        No"
      ]
     },
     "execution_count": 33,
     "metadata": {},
     "output_type": "execute_result"
    }
   ],
   "source": [
    "df.head()"
   ]
  },
  {
   "cell_type": "code",
   "execution_count": 41,
   "id": "70c977ee-bbb6-4224-8ed5-6a4f1cc6dc22",
   "metadata": {},
   "outputs": [
    {
     "data": {
      "text/plain": [
       "0     44\n",
       "1     45\n",
       "2     30\n",
       "3     20\n",
       "4     38\n",
       "5     40\n",
       "6     35\n",
       "7     45\n",
       "8     55\n",
       "9     32\n",
       "10    48\n",
       "11    48\n",
       "12    50\n",
       "13    37\n",
       "14    25\n",
       "Name: Age, dtype: int64"
      ]
     },
     "execution_count": 41,
     "metadata": {},
     "output_type": "execute_result"
    }
   ],
   "source": [
    "#Accesing a single column\n",
    "df['Age']"
   ]
  },
  {
   "cell_type": "code",
   "execution_count": 45,
   "id": "b7723abe-cf03-4222-b352-13759379796e",
   "metadata": {},
   "outputs": [
    {
     "data": {
      "text/plain": [
       "0      France\n",
       "1       Spain\n",
       "2     Germany\n",
       "3         USA\n",
       "4       Spain\n",
       "5     Germany\n",
       "6      France\n",
       "7         USA\n",
       "8       Spain\n",
       "9     Germany\n",
       "10      Spain\n",
       "11     France\n",
       "12    Germany\n",
       "13     France\n",
       "14     France\n",
       "Name: Country, dtype: object"
      ]
     },
     "execution_count": 45,
     "metadata": {},
     "output_type": "execute_result"
    }
   ],
   "source": [
    "df.Country"
   ]
  },
  {
   "cell_type": "code",
   "execution_count": null,
   "id": "2e955c06-9cb1-4372-aa4a-3ad33a31007a",
   "metadata": {},
   "outputs": [],
   "source": []
  }
 ],
 "metadata": {
  "kernelspec": {
   "display_name": "Python 3 (ipykernel)",
   "language": "python",
   "name": "python3"
  },
  "language_info": {
   "codemirror_mode": {
    "name": "ipython",
    "version": 3
   },
   "file_extension": ".py",
   "mimetype": "text/x-python",
   "name": "python",
   "nbconvert_exporter": "python",
   "pygments_lexer": "ipython3",
   "version": "3.13.3"
  }
 },
 "nbformat": 4,
 "nbformat_minor": 5
}
