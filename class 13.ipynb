{
 "cells": [
  {
   "cell_type": "code",
   "execution_count": 5,
   "id": "30b8f73c-72db-478a-ace2-966814323ad8",
   "metadata": {},
   "outputs": [],
   "source": [
    "def addition(): # function defination\n",
    "    x = 1\n",
    "    y = 2\n",
    "    sum = x + y\n",
    "    print(sum)"
   ]
  },
  {
   "cell_type": "code",
   "execution_count": 6,
   "id": "cd650c02-47d5-47ba-a4b3-cad70b252e85",
   "metadata": {},
   "outputs": [
    {
     "name": "stdout",
     "output_type": "stream",
     "text": [
      "3\n"
     ]
    }
   ],
   "source": [
    "addition() #run / execute / call"
   ]
  },
  {
   "cell_type": "code",
   "execution_count": 7,
   "id": "6f917f29-c68d-4648-8d62-af8b5a248b2d",
   "metadata": {},
   "outputs": [
    {
     "name": "stdout",
     "output_type": "stream",
     "text": [
      "3\n"
     ]
    }
   ],
   "source": [
    "addition()"
   ]
  },
  {
   "cell_type": "code",
   "execution_count": 26,
   "id": "54cbffe6-8b71-4990-ba18-e94d3a25e23b",
   "metadata": {},
   "outputs": [],
   "source": [
    "def addition(x,y): # x and y are called positional arguments \n",
    "    \n",
    "    sum = x + y\n",
    "    #print(y)\n",
    "    print(sum)"
   ]
  },
  {
   "cell_type": "code",
   "execution_count": 10,
   "id": "dbc9357c-7101-4aa3-ba92-7bfdf98e3091",
   "metadata": {},
   "outputs": [
    {
     "ename": "TypeError",
     "evalue": "addition() missing 2 required positional arguments: 'x' and 'y'",
     "output_type": "error",
     "traceback": [
      "\u001b[31m---------------------------------------------------------------------------\u001b[39m",
      "\u001b[31mTypeError\u001b[39m                                 Traceback (most recent call last)",
      "\u001b[36mCell\u001b[39m\u001b[36m \u001b[39m\u001b[32mIn[10]\u001b[39m\u001b[32m, line 1\u001b[39m\n\u001b[32m----> \u001b[39m\u001b[32m1\u001b[39m \u001b[43maddition\u001b[49m\u001b[43m(\u001b[49m\u001b[43m)\u001b[49m\n",
      "\u001b[31mTypeError\u001b[39m: addition() missing 2 required positional arguments: 'x' and 'y'"
     ]
    }
   ],
   "source": [
    "addition()"
   ]
  },
  {
   "cell_type": "code",
   "execution_count": 11,
   "id": "93c5df62-21d0-4d35-8bcc-f94130a15c39",
   "metadata": {},
   "outputs": [
    {
     "name": "stdout",
     "output_type": "stream",
     "text": [
      "7\n"
     ]
    }
   ],
   "source": [
    "addition(3,4)"
   ]
  },
  {
   "cell_type": "code",
   "execution_count": 17,
   "id": "2aa73efc-b945-4770-a7e6-fa5b3f22cb6b",
   "metadata": {},
   "outputs": [
    {
     "name": "stdout",
     "output_type": "stream",
     "text": [
      "5\n"
     ]
    }
   ],
   "source": [
    "addition(y = 1 , x = 4)"
   ]
  },
  {
   "cell_type": "code",
   "execution_count": 22,
   "id": "dd849868-e765-4377-a39c-df3de1538a91",
   "metadata": {},
   "outputs": [
    {
     "ename": "SyntaxError",
     "evalue": "positional argument follows keyword argument (1365753876.py, line 1)",
     "output_type": "error",
     "traceback": [
      "  \u001b[36mCell\u001b[39m\u001b[36m \u001b[39m\u001b[32mIn[22]\u001b[39m\u001b[32m, line 1\u001b[39m\n\u001b[31m    \u001b[39m\u001b[31maddition(y = 4 ,5)\u001b[39m\n                     ^\n\u001b[31mSyntaxError\u001b[39m\u001b[31m:\u001b[39m positional argument follows keyword argument\n"
     ]
    }
   ],
   "source": [
    "addition(y = 4 ,5) # x = 2 => keyword arguement , 4 => positional arguement"
   ]
  },
  {
   "cell_type": "code",
   "execution_count": 27,
   "id": "931b8dce-e59a-4fb7-ad94-09e96dff813f",
   "metadata": {},
   "outputs": [
    {
     "name": "stdout",
     "output_type": "stream",
     "text": [
      "9\n"
     ]
    }
   ],
   "source": [
    "addition(4 , y=5)"
   ]
  },
  {
   "cell_type": "code",
   "execution_count": 33,
   "id": "24888b44-8cc7-47f9-81d6-37af9cff58c8",
   "metadata": {},
   "outputs": [],
   "source": [
    "def compressed_pdf(file):\n",
    "    # code for compression algorithm...\n",
    "    compressed_file = 'esdfsgfdsfgdgdfs'\n",
    "    #print(compressed_file)\n",
    "    return compressed_file"
   ]
  },
  {
   "cell_type": "code",
   "execution_count": 31,
   "id": "222f1287-b482-49dd-b469-cf9d1194bc1c",
   "metadata": {},
   "outputs": [
    {
     "name": "stdout",
     "output_type": "stream",
     "text": [
      "esdfsgfdsfgdgdfs\n"
     ]
    },
    {
     "data": {
      "text/plain": [
       "'esdfsgfdsfgdgdfs'"
      ]
     },
     "execution_count": 31,
     "metadata": {},
     "output_type": "execute_result"
    }
   ],
   "source": [
    "compressed_pdf('dfhggfh')"
   ]
  },
  {
   "cell_type": "code",
   "execution_count": 34,
   "id": "640c2e55-ea75-4a9c-a4e2-8d1c999e1ac5",
   "metadata": {},
   "outputs": [
    {
     "name": "stdout",
     "output_type": "stream",
     "text": [
      "esdfsgfdsfgdgdfs\n"
     ]
    }
   ],
   "source": [
    "a = compressed_pdf('dfsdg')\n",
    "print(a)"
   ]
  },
  {
   "cell_type": "code",
   "execution_count": 42,
   "id": "0a3731a5-18e1-4c40-b561-668922eb5e73",
   "metadata": {},
   "outputs": [],
   "source": [
    "def addition(x,y=0): #  y is default argument\n",
    "    \n",
    "    sum = x + y\n",
    "    #print(y)\n",
    "    return(sum)"
   ]
  },
  {
   "cell_type": "code",
   "execution_count": 47,
   "id": "1440b82b-c665-43bf-9f8e-c0df9999e98d",
   "metadata": {},
   "outputs": [
    {
     "data": {
      "text/plain": [
       "4"
      ]
     },
     "execution_count": 47,
     "metadata": {},
     "output_type": "execute_result"
    }
   ],
   "source": [
    "addition(y = 4)"
   ]
  },
  {
   "cell_type": "code",
   "execution_count": 56,
   "id": "197da907-d30a-4509-8fc1-eb35f4d162d6",
   "metadata": {},
   "outputs": [],
   "source": [
    "def calculator(x=0,y=0):\n",
    "    sum = x + y\n",
    "    sub = x - y\n",
    "    mul = x * y\n",
    "    div = x / y\n",
    "    return [sum,sub,mul,div]\n"
   ]
  },
  {
   "cell_type": "code",
   "execution_count": 57,
   "id": "8944b684-fcc7-4619-b68c-f9a141a7144b",
   "metadata": {},
   "outputs": [
    {
     "name": "stdout",
     "output_type": "stream",
     "text": [
      "[5, -1, 6, 0.6666666666666666]\n"
     ]
    }
   ],
   "source": [
    "a = calculator(2,3)\n",
    "print(a)"
   ]
  },
  {
   "cell_type": "code",
   "execution_count": 54,
   "id": "b788451e-2e9e-43dd-874a-4145630f3120",
   "metadata": {},
   "outputs": [],
   "source": [
    "def calculator(x=0,y=0):\n",
    "    sum = x + y\n",
    "    sub = x - y\n",
    "    mul = x * y\n",
    "    div = x / y\n",
    "    return sum # exit from function\n",
    "    print('hello world')\n",
    "    return sub\n",
    "    return mul\n",
    "    return div\n"
   ]
  },
  {
   "cell_type": "code",
   "execution_count": 55,
   "id": "5007a5a1-ce5c-43c9-8210-0383ee3a8124",
   "metadata": {},
   "outputs": [
    {
     "data": {
      "text/plain": [
       "6"
      ]
     },
     "execution_count": 55,
     "metadata": {},
     "output_type": "execute_result"
    }
   ],
   "source": [
    "calculator(2,4)"
   ]
  },
  {
   "cell_type": "code",
   "execution_count": 61,
   "id": "5246f164-4210-49cc-9db7-93ffb89feae1",
   "metadata": {},
   "outputs": [],
   "source": [
    "def sum(*x): # any number of positional arguments doesnt support keyword argument  \n",
    "    # x is a tuple which accepts infinite value\n",
    "    s = 0\n",
    "    for i in x:\n",
    "        s += i\n",
    "    print(s)\n"
   ]
  },
  {
   "cell_type": "code",
   "execution_count": 63,
   "id": "14456bab-b99b-4afa-ae6e-4edfd01882eb",
   "metadata": {},
   "outputs": [
    {
     "name": "stdout",
     "output_type": "stream",
     "text": [
      "15\n"
     ]
    }
   ],
   "source": [
    "sum(1,2,3,4,5)"
   ]
  },
  {
   "cell_type": "code",
   "execution_count": 88,
   "id": "76488f5a-17ce-49f7-a848-665a04166b19",
   "metadata": {},
   "outputs": [],
   "source": [
    "def sum(*x,**y):\n",
    "    s = 0 \n",
    "    a = 0\n",
    "    for k,v in y.items():\n",
    "        s += v\n",
    "    for i in x:\n",
    "        a += i\n",
    "        \n",
    "    return s+a\n",
    "        "
   ]
  },
  {
   "cell_type": "code",
   "execution_count": 90,
   "id": "9c2833c6-66b4-437a-9a57-9dbe107f99bc",
   "metadata": {},
   "outputs": [
    {
     "data": {
      "text/plain": [
       "6"
      ]
     },
     "execution_count": 90,
     "metadata": {},
     "output_type": "execute_result"
    }
   ],
   "source": [
    "sum(1,2,p=1,q=2)"
   ]
  },
  {
   "cell_type": "code",
   "execution_count": null,
   "id": "9dd04a4c-3adb-48d0-9a1f-a21f6e9374b5",
   "metadata": {},
   "outputs": [],
   "source": []
  },
  {
   "cell_type": "code",
   "execution_count": null,
   "id": "c5c54d71-1eee-434f-ba0e-d31236467f0d",
   "metadata": {},
   "outputs": [],
   "source": []
  }
 ],
 "metadata": {
  "kernelspec": {
   "display_name": "Python 3 (ipykernel)",
   "language": "python",
   "name": "python3"
  },
  "language_info": {
   "codemirror_mode": {
    "name": "ipython",
    "version": 3
   },
   "file_extension": ".py",
   "mimetype": "text/x-python",
   "name": "python",
   "nbconvert_exporter": "python",
   "pygments_lexer": "ipython3",
   "version": "3.13.3"
  }
 },
 "nbformat": 4,
 "nbformat_minor": 5
}
