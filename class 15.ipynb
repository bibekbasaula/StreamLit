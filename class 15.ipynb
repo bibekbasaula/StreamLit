{
 "cells": [
  {
   "cell_type": "code",
   "execution_count": 1,
   "id": "5c3c5bd1-72e8-4da8-b9ac-128f564a3c62",
   "metadata": {},
   "outputs": [
    {
     "name": "stdout",
     "output_type": "stream",
     "text": [
      "Help on class map in module builtins:\n",
      "\n",
      "class map(object)\n",
      " |  map(function, iterable, /, *iterables)\n",
      " |\n",
      " |  Make an iterator that computes the function using arguments from\n",
      " |  each of the iterables.  Stops when the shortest iterable is exhausted.\n",
      " |\n",
      " |  Methods defined here:\n",
      " |\n",
      " |  __getattribute__(self, name, /)\n",
      " |      Return getattr(self, name).\n",
      " |\n",
      " |  __iter__(self, /)\n",
      " |      Implement iter(self).\n",
      " |\n",
      " |  __next__(self, /)\n",
      " |      Implement next(self).\n",
      " |\n",
      " |  __reduce__(self, /)\n",
      " |      Return state information for pickling.\n",
      " |\n",
      " |  ----------------------------------------------------------------------\n",
      " |  Static methods defined here:\n",
      " |\n",
      " |  __new__(*args, **kwargs)\n",
      " |      Create and return a new object.  See help(type) for accurate signature.\n",
      "\n"
     ]
    }
   ],
   "source": [
    "help(map)"
   ]
  },
  {
   "cell_type": "code",
   "execution_count": 2,
   "id": "9febb65e-d857-4aaf-b36d-529f028f076e",
   "metadata": {},
   "outputs": [],
   "source": [
    "def square(n):\n",
    "    return n ** 2\n",
    "    "
   ]
  },
  {
   "cell_type": "code",
   "execution_count": 130,
   "id": "deda665c-2a6b-4cb2-8a45-4e1dd338cb87",
   "metadata": {},
   "outputs": [
    {
     "data": {
      "text/plain": [
       "[1, 4, 9, 16, 25]"
      ]
     },
     "execution_count": 130,
     "metadata": {},
     "output_type": "execute_result"
    }
   ],
   "source": [
    "list(map(square,[1,2,3,4,5]))"
   ]
  },
  {
   "cell_type": "code",
   "execution_count": 7,
   "id": "28f43f51-a4bc-4a10-a8d8-5c92b315dff7",
   "metadata": {},
   "outputs": [],
   "source": [
    "def conversion():\n",
    "    string = ['1','2','3','4']\n",
    "    st = []\n",
    "    for i in string:\n",
    "        st.append(int(i))\n",
    "    return(st)"
   ]
  },
  {
   "cell_type": "code",
   "execution_count": 8,
   "id": "0e83a300-39f1-4fe2-90b8-4e61a1eecdb5",
   "metadata": {},
   "outputs": [
    {
     "data": {
      "text/plain": [
       "[1, 2, 3, 4]"
      ]
     },
     "execution_count": 8,
     "metadata": {},
     "output_type": "execute_result"
    }
   ],
   "source": [
    "conversion()"
   ]
  },
  {
   "cell_type": "code",
   "execution_count": 10,
   "id": "0c26178c-592e-4a21-bbb0-e817c3227627",
   "metadata": {},
   "outputs": [
    {
     "data": {
      "text/plain": [
       "[1, 2, 3, 4]"
      ]
     },
     "execution_count": 10,
     "metadata": {},
     "output_type": "execute_result"
    }
   ],
   "source": [
    "list(map(int,string))"
   ]
  },
  {
   "cell_type": "code",
   "execution_count": 12,
   "id": "568c27f4-24e3-41da-8b9a-9ebfa9d254ec",
   "metadata": {},
   "outputs": [
    {
     "name": "stdout",
     "output_type": "stream",
     "text": [
      "Help on built-in function reduce in module _functools:\n",
      "\n",
      "reduce(...)\n",
      "    reduce(function, iterable[, initial], /) -> value\n",
      "\n",
      "    Apply a function of two arguments cumulatively to the items of an iterable, from left to right.\n",
      "\n",
      "    This effectively reduces the iterable to a single value.  If initial is present,\n",
      "    it is placed before the items of the iterable in the calculation, and serves as\n",
      "    a default when the iterable is empty.\n",
      "\n",
      "    For example, reduce(lambda x, y: x+y, [1, 2, 3, 4, 5])\n",
      "    calculates ((((1 + 2) + 3) + 4) + 5).\n",
      "\n"
     ]
    }
   ],
   "source": [
    "from functools import reduce\n",
    "help(reduce)"
   ]
  },
  {
   "cell_type": "code",
   "execution_count": 16,
   "id": "68e19d39-523e-496d-b216-2a5af5ef83cf",
   "metadata": {},
   "outputs": [
    {
     "data": {
      "text/plain": [
       "10"
      ]
     },
     "execution_count": 16,
     "metadata": {},
     "output_type": "execute_result"
    }
   ],
   "source": [
    "def addition(x,y):\n",
    "    return x + y\n",
    "\n",
    "reduce(addition,[1,2,3,4])"
   ]
  },
  {
   "cell_type": "code",
   "execution_count": 17,
   "id": "fabe4cb1-7a9d-4c76-9f29-c1336c87c898",
   "metadata": {},
   "outputs": [],
   "source": [
    "# OOP => Obect Oriented Programming\n",
    "# class => Person => Structure / Blueprint / Template\n",
    "# obect => ram => actually exits / instance of class"
   ]
  },
  {
   "cell_type": "code",
   "execution_count": 18,
   "id": "91150f77-b29b-40ce-ab63-2893c090659a",
   "metadata": {},
   "outputs": [],
   "source": [
    "class Television:\n",
    "    dimension = 'wide'\n",
    "    price  = 1_00_000\n",
    "    brand = 'Samsung'\n",
    "    color = 'Black'\n",
    "    resooultion = '4k'\n",
    "    \n",
    "    "
   ]
  },
  {
   "cell_type": "code",
   "execution_count": 22,
   "id": "61b49c1b-8b6b-4a41-b531-3c4579ae1945",
   "metadata": {},
   "outputs": [],
   "source": [
    "class Person:\n",
    "    name = 'Ram'\n",
    "    age = 22\n",
    "    address = 'ktm'\n",
    "    gender = 'M'\n",
    "    height = 6\n",
    "    weight = 90\n",
    "\n",
    "    # action / behaviour / characterstics / method\n",
    "    def eat():\n",
    "        print('Eating.....')\n",
    "        \n",
    "    def sleep():\n",
    "        print('Sleeping....')\n",
    "        \n",
    "    def walk():\n",
    "        print('Walking....')\n",
    "        "
   ]
  },
  {
   "cell_type": "code",
   "execution_count": 23,
   "id": "02a6d46a-a4f2-41a1-89a3-b91292becad1",
   "metadata": {},
   "outputs": [],
   "source": [
    "p1 = Person() # object of class Person"
   ]
  },
  {
   "cell_type": "code",
   "execution_count": 24,
   "id": "c479472d-4bd8-4322-8513-98b578b0dd3a",
   "metadata": {},
   "outputs": [
    {
     "name": "stdout",
     "output_type": "stream",
     "text": [
      "<__main__.Person object at 0x104586ba0>\n"
     ]
    }
   ],
   "source": [
    "print(p1)"
   ]
  },
  {
   "cell_type": "code",
   "execution_count": 25,
   "id": "8cdb5637-befb-4a2e-aa1b-7119c9008777",
   "metadata": {},
   "outputs": [
    {
     "name": "stdout",
     "output_type": "stream",
     "text": [
      "<__main__.Person object at 0x104bd8a50>\n"
     ]
    }
   ],
   "source": [
    "p2 = Person()\n",
    "print(p2)"
   ]
  },
  {
   "cell_type": "code",
   "execution_count": 26,
   "id": "73f53549-02db-44ff-8f0d-79d14b393de7",
   "metadata": {},
   "outputs": [
    {
     "data": {
      "text/plain": [
       "'Ram'"
      ]
     },
     "execution_count": 26,
     "metadata": {},
     "output_type": "execute_result"
    }
   ],
   "source": [
    "p1.name"
   ]
  },
  {
   "cell_type": "code",
   "execution_count": 27,
   "id": "13e14953-07fb-4e40-ad85-db86651454e4",
   "metadata": {},
   "outputs": [
    {
     "data": {
      "text/plain": [
       "'Ram'"
      ]
     },
     "execution_count": 27,
     "metadata": {},
     "output_type": "execute_result"
    }
   ],
   "source": [
    "p2.name"
   ]
  },
  {
   "cell_type": "code",
   "execution_count": 29,
   "id": "eb1dca1c-3bf8-4b15-b088-88d5ca97ea00",
   "metadata": {},
   "outputs": [
    {
     "name": "stdout",
     "output_type": "stream",
     "text": [
      "ram 22 ktm\n"
     ]
    }
   ],
   "source": [
    "def person(name , age , address):\n",
    "    print(name, age, address)\n",
    "person('ram', 22, 'ktm')"
   ]
  },
  {
   "cell_type": "code",
   "execution_count": 30,
   "id": "e1382e16-1fad-4071-b04c-d1a5aa3f1c27",
   "metadata": {},
   "outputs": [
    {
     "ename": "NameError",
     "evalue": "name 'name' is not defined",
     "output_type": "error",
     "traceback": [
      "\u001b[31m---------------------------------------------------------------------------\u001b[39m",
      "\u001b[31mNameError\u001b[39m                                 Traceback (most recent call last)",
      "\u001b[36mCell\u001b[39m\u001b[36m \u001b[39m\u001b[32mIn[30]\u001b[39m\u001b[32m, line 1\u001b[39m\n\u001b[32m----> \u001b[39m\u001b[32m1\u001b[39m \u001b[38;5;28;01mclass\u001b[39;00m\u001b[38;5;250m \u001b[39m\u001b[34;01mPerson\u001b[39;00m(\u001b[43mname\u001b[49m, age, address):\n\u001b[32m      2\u001b[39m     name = \u001b[33m'\u001b[39m\u001b[33mRam\u001b[39m\u001b[33m'\u001b[39m\n\u001b[32m      3\u001b[39m     age = \u001b[32m22\u001b[39m\n",
      "\u001b[31mNameError\u001b[39m: name 'name' is not defined"
     ]
    }
   ],
   "source": [
    "class Person(name, age, address):\n",
    "    name = 'Ram'\n",
    "    age = 22\n",
    "    address = 'ktm'\n",
    "    gender = 'M'\n",
    "    height = 6\n",
    "    weight = 90\n",
    "\n",
    "    # action / behaviour / characterstics / method\n",
    "    def eat():\n",
    "        print('Eating.....')\n",
    "        \n",
    "    def sleep():\n",
    "        print('Sleeping....')\n",
    "        \n",
    "    def walk():\n",
    "        print('Walking....')\n",
    "        "
   ]
  },
  {
   "cell_type": "code",
   "execution_count": 50,
   "id": "0a448632-5f02-4411-9f9a-9e8e2055156b",
   "metadata": {},
   "outputs": [],
   "source": [
    "class Person:\n",
    "\n",
    "    def __init__(self, name, age,address): #value initialize\n",
    "        self.name = name\n",
    "        self.age = age\n",
    "        self.address = address\n",
    "\n",
    "    # action / behaviour / characterstics / method\n",
    "    def eat(self):\n",
    "        print('Eating.....')\n",
    "        \n",
    "    def sleep(self):\n",
    "        print('Sleeping....')\n",
    "        \n",
    "    def walk(self):\n",
    "        print('Walking....')\n",
    "        "
   ]
  },
  {
   "cell_type": "code",
   "execution_count": 51,
   "id": "d498fcb5-dcb3-4d71-9cff-b38f019de215",
   "metadata": {},
   "outputs": [],
   "source": [
    "p1 = Person('Ram', 22, 'Ktm')"
   ]
  },
  {
   "cell_type": "code",
   "execution_count": 52,
   "id": "1cb7733c-118c-4664-9be2-1c268d853342",
   "metadata": {},
   "outputs": [
    {
     "name": "stdout",
     "output_type": "stream",
     "text": [
      "Ram\n"
     ]
    }
   ],
   "source": [
    "print(p1.name)"
   ]
  },
  {
   "cell_type": "code",
   "execution_count": 75,
   "id": "e12fd310-0ec7-4cc8-a523-fbfd18176662",
   "metadata": {},
   "outputs": [],
   "source": [
    "# name , age , address, college , faculty\n",
    "\n",
    "class Student:\n",
    "\n",
    "    def __init__(self,name,age,address,college,faculty):\n",
    "        self.name = name\n",
    "        self.age = age\n",
    "        self.address = address\n",
    "        self.college = college\n",
    "        self.faculty = faculty\n",
    "\n",
    "    def learn(self):\n",
    "        print(f'{self.name} is learning')\n",
    "    "
   ]
  },
  {
   "cell_type": "code",
   "execution_count": 76,
   "id": "a9f0092e-7b9e-4d0f-ab43-11ab909970c4",
   "metadata": {},
   "outputs": [],
   "source": [
    "s1 = student('Ram' , 22, 'ktm', 'kmc', 'sci') #making object"
   ]
  },
  {
   "cell_type": "code",
   "execution_count": 77,
   "id": "911caf9d-8d5b-4f24-9b68-98f6c1966c0e",
   "metadata": {},
   "outputs": [
    {
     "data": {
      "text/plain": [
       "'Ram'"
      ]
     },
     "execution_count": 77,
     "metadata": {},
     "output_type": "execute_result"
    }
   ],
   "source": [
    "s1.name"
   ]
  },
  {
   "cell_type": "code",
   "execution_count": 78,
   "id": "c7bbb95c-c8e1-46f6-bfb7-b331304a3985",
   "metadata": {},
   "outputs": [
    {
     "data": {
      "text/plain": [
       "'ktm'"
      ]
     },
     "execution_count": 78,
     "metadata": {},
     "output_type": "execute_result"
    }
   ],
   "source": [
    "s1.address"
   ]
  },
  {
   "cell_type": "code",
   "execution_count": 79,
   "id": "f174dcb5-9a13-4510-8104-0e891eb4c296",
   "metadata": {},
   "outputs": [
    {
     "name": "stdout",
     "output_type": "stream",
     "text": [
      "Ram is learning\n"
     ]
    }
   ],
   "source": [
    "s1.learn()"
   ]
  },
  {
   "cell_type": "code",
   "execution_count": 131,
   "id": "575dd65a-6b58-4265-93fc-50a41e26bd35",
   "metadata": {},
   "outputs": [],
   "source": [
    "class Student:\n",
    "\n",
    "    def __init__(self,name,age,gender,faculty):\n",
    "        self.name = name\n",
    "        self.age = age \n",
    "        self.gender = gender\n",
    "        self.faculty = faculty\n",
    "        self.subject = []\n",
    "        \n",
    "    def add_subjects(self,subject_name):\n",
    "        if subject_name not in  self.subject:\n",
    "            self.subject.append(subject_name)\n",
    "        else:\n",
    "            print('Already added')"
   ]
  },
  {
   "cell_type": "code",
   "execution_count": 132,
   "id": "d560b6d4-9b6f-4eda-a86e-3bddce282757",
   "metadata": {},
   "outputs": [],
   "source": [
    "s1 = Student('Ram',22,'M','Science')\n"
   ]
  },
  {
   "cell_type": "code",
   "execution_count": 133,
   "id": "90f5f9da-132a-4bfa-8bd6-7b9431971c6e",
   "metadata": {},
   "outputs": [],
   "source": [
    "s1.add_subjects('Science')"
   ]
  },
  {
   "cell_type": "code",
   "execution_count": 134,
   "id": "3b998a25-1ae1-4360-8d00-7787ae264991",
   "metadata": {},
   "outputs": [
    {
     "name": "stdout",
     "output_type": "stream",
     "text": [
      "Already added\n"
     ]
    }
   ],
   "source": [
    "s1.add_subjects('Science')"
   ]
  },
  {
   "cell_type": "code",
   "execution_count": 151,
   "id": "72d6f556-ad4b-4e7e-b85c-638f162a2b40",
   "metadata": {},
   "outputs": [],
   "source": [
    "class rectangle:\n",
    "    def __init__(self,length,breadth):\n",
    "        self.length = length\n",
    "        self.breadth = breadth\n",
    "    def area(self):\n",
    "        return self.length * self.breadth\n",
    "\n",
    "    def perimeter(self):\n",
    "        return 2*(self.length+self.breadth)\n",
    "    "
   ]
  },
  {
   "cell_type": "code",
   "execution_count": 153,
   "id": "197ebb3a-b077-4e24-936e-b6034d4df7e9",
   "metadata": {},
   "outputs": [],
   "source": [
    "t1 = rectangle(3,5)"
   ]
  },
  {
   "cell_type": "code",
   "execution_count": 154,
   "id": "50759ebf-1320-4758-858c-f56e09395bc6",
   "metadata": {},
   "outputs": [
    {
     "data": {
      "text/plain": [
       "15"
      ]
     },
     "execution_count": 154,
     "metadata": {},
     "output_type": "execute_result"
    }
   ],
   "source": [
    "t1.area()"
   ]
  },
  {
   "cell_type": "code",
   "execution_count": 155,
   "id": "a4f836c9-c80b-49f1-9915-ce22fab844a6",
   "metadata": {},
   "outputs": [
    {
     "data": {
      "text/plain": [
       "16"
      ]
     },
     "execution_count": 155,
     "metadata": {},
     "output_type": "execute_result"
    }
   ],
   "source": [
    "t1.perimeter()"
   ]
  },
  {
   "cell_type": "code",
   "execution_count": 147,
   "id": "ac5403ef-07a0-4424-8878-b7e932ee75c3",
   "metadata": {},
   "outputs": [],
   "source": [
    "from math import pi\n",
    "class circle:\n",
    "    def __init__(self,radius):\n",
    "        self.radius = radius\n",
    "\n",
    "    def area(self):\n",
    "        return pi * self.radius ** 2\n",
    "\n",
    "    def perimeter(self):\n",
    "        return 2 * pi * self.radius\n",
    "\n",
    "    "
   ]
  },
  {
   "cell_type": "code",
   "execution_count": 148,
   "id": "6a456d9a-ac8a-46b5-9d09-5eecf3a7b332",
   "metadata": {},
   "outputs": [],
   "source": [
    "c1 = circle(7)"
   ]
  },
  {
   "cell_type": "code",
   "execution_count": 149,
   "id": "57930cbd-b28a-49cc-afa4-be0cab5fed36",
   "metadata": {},
   "outputs": [
    {
     "data": {
      "text/plain": [
       "153.93804002589985"
      ]
     },
     "execution_count": 149,
     "metadata": {},
     "output_type": "execute_result"
    }
   ],
   "source": [
    "c1.area()"
   ]
  },
  {
   "cell_type": "code",
   "execution_count": 150,
   "id": "f4410177-db1e-4c24-81ee-53334e795f65",
   "metadata": {},
   "outputs": [
    {
     "data": {
      "text/plain": [
       "43.982297150257104"
      ]
     },
     "execution_count": 150,
     "metadata": {},
     "output_type": "execute_result"
    }
   ],
   "source": [
    "c1.perimeter()"
   ]
  },
  {
   "cell_type": "code",
   "execution_count": 156,
   "id": "eac91680-eade-464a-b0c0-5fd1bde654f5",
   "metadata": {},
   "outputs": [],
   "source": [
    "c2 = circle(49)"
   ]
  },
  {
   "cell_type": "code",
   "execution_count": 157,
   "id": "52e9f255-0cd1-486b-8193-a46f6981da01",
   "metadata": {},
   "outputs": [
    {
     "data": {
      "text/plain": [
       "7542.9639612690935"
      ]
     },
     "execution_count": 157,
     "metadata": {},
     "output_type": "execute_result"
    }
   ],
   "source": [
    "c2.area()"
   ]
  },
  {
   "cell_type": "code",
   "execution_count": 158,
   "id": "4c939492-46ab-4627-8af5-6f5125a236be",
   "metadata": {},
   "outputs": [
    {
     "data": {
      "text/plain": [
       "153.93804002589985"
      ]
     },
     "execution_count": 158,
     "metadata": {},
     "output_type": "execute_result"
    }
   ],
   "source": [
    "c1.area()"
   ]
  },
  {
   "cell_type": "code",
   "execution_count": 159,
   "id": "a43d8ca8-db30-407e-b9f6-f333150cac1c",
   "metadata": {},
   "outputs": [
    {
     "ename": "NameError",
     "evalue": "name 'c3' is not defined",
     "output_type": "error",
     "traceback": [
      "\u001b[31m---------------------------------------------------------------------------\u001b[39m",
      "\u001b[31mNameError\u001b[39m                                 Traceback (most recent call last)",
      "\u001b[36mCell\u001b[39m\u001b[36m \u001b[39m\u001b[32mIn[159]\u001b[39m\u001b[32m, line 1\u001b[39m\n\u001b[32m----> \u001b[39m\u001b[32m1\u001b[39m \u001b[43mc3\u001b[49m.area()\n",
      "\u001b[31mNameError\u001b[39m: name 'c3' is not defined"
     ]
    }
   ],
   "source": [
    "c3.area()"
   ]
  },
  {
   "cell_type": "code",
   "execution_count": null,
   "id": "c6369ed5-2d71-4815-a7c6-1214df9c779f",
   "metadata": {},
   "outputs": [],
   "source": []
  }
 ],
 "metadata": {
  "kernelspec": {
   "display_name": "Python 3 (ipykernel)",
   "language": "python",
   "name": "python3"
  },
  "language_info": {
   "codemirror_mode": {
    "name": "ipython",
    "version": 3
   },
   "file_extension": ".py",
   "mimetype": "text/x-python",
   "name": "python",
   "nbconvert_exporter": "python",
   "pygments_lexer": "ipython3",
   "version": "3.13.3"
  }
 },
 "nbformat": 4,
 "nbformat_minor": 5
}
