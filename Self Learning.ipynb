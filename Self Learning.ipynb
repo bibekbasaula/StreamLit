{
 "cells": [
  {
   "cell_type": "code",
   "execution_count": 1,
   "id": "76e8be25-17f3-496d-b2a2-a3d3404f94b7",
   "metadata": {},
   "outputs": [
    {
     "name": "stdin",
     "output_type": "stream",
     "text": [
      "Enter your name Ram\n",
      "Enter your age 12\n"
     ]
    }
   ],
   "source": [
    "name = input('Enter your name')\n",
    "age = int(input('Enter your age'))\n"
   ]
  },
  {
   "cell_type": "code",
   "execution_count": 9,
   "id": "6f30d450-2219-43ba-8a35-210ed81bfcfa",
   "metadata": {},
   "outputs": [
    {
     "data": {
      "text/plain": [
       "False"
      ]
     },
     "execution_count": 9,
     "metadata": {},
     "output_type": "execute_result"
    }
   ],
   "source": [
    "def is_prime(n):\n",
    "    c = 0\n",
    "    for i in range(1,n+1):\n",
    "        if n % i == 0:\n",
    "            c = c+1\n",
    "    if c==2:\n",
    "        return True\n",
    "    else: \n",
    "        return False\n",
    "\n",
    "is_prime(10)\n",
    "        "
   ]
  },
  {
   "cell_type": "code",
   "execution_count": 1,
   "id": "6d102161-92d9-4433-b3b2-b031b62aa303",
   "metadata": {},
   "outputs": [
    {
     "name": "stdin",
     "output_type": "stream",
     "text": [
      "Enter numbers separated by spaces:  4 7 1 10\n"
     ]
    },
    {
     "name": "stdout",
     "output_type": "stream",
     "text": [
      "[1, 4, 7, 10]\n"
     ]
    }
   ],
   "source": [
    "#list = []\n",
    "#temp = ''\n",
    "#d = ''\n",
    "#while d != 'y':\n",
    "#    a = int(input('Enter a number to add'))\n",
    "#    list.append(a)\n",
    "#    d = input('Enter \"y\" if you want to end')\n",
    "numbers = []\n",
    "numbers = list(map(int, input(\"Enter numbers separated by spaces: \").split()))\n",
    "\n",
    "for i in range(0,len(numbers)):\n",
    "    for j in range(i+1, len(numbers)):\n",
    "        if numbers[i]>numbers[j]:\n",
    "            temp = numbers[i]\n",
    "            numbers[i]=numbers[j]\n",
    "            numbers[j] = temp\n",
    "\n",
    "print(numbers)\n",
    "            \n",
    "        "
   ]
  },
  {
   "cell_type": "code",
   "execution_count": null,
   "id": "c76c4abf-ed20-42a0-b920-5c08969a1138",
   "metadata": {},
   "outputs": [],
   "source": []
  },
  {
   "cell_type": "code",
   "execution_count": null,
   "id": "b8c2f4f9-98e2-4e86-948f-4f05bd9b6678",
   "metadata": {},
   "outputs": [],
   "source": []
  },
  {
   "cell_type": "code",
   "execution_count": null,
   "id": "323569da-cff3-4016-8abf-b5da72406a23",
   "metadata": {},
   "outputs": [],
   "source": [
    "\n"
   ]
  }
 ],
 "metadata": {
  "kernelspec": {
   "display_name": "Python 3 (ipykernel)",
   "language": "python",
   "name": "python3"
  },
  "language_info": {
   "codemirror_mode": {
    "name": "ipython",
    "version": 3
   },
   "file_extension": ".py",
   "mimetype": "text/x-python",
   "name": "python",
   "nbconvert_exporter": "python",
   "pygments_lexer": "ipython3",
   "version": "3.13.3"
  }
 },
 "nbformat": 4,
 "nbformat_minor": 5
}
