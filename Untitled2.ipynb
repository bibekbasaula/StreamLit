{
 "cells": [
  {
   "cell_type": "code",
   "execution_count": 6,
   "id": "f641e02c-923e-48f1-bd87-a35034d06c01",
   "metadata": {},
   "outputs": [],
   "source": [
    "import requests\n",
    "from bs4 import BeautifulSoup\n",
    "import csv\n",
    "import json\n",
    "dic = {}\n",
    "books = []\n",
    "\n",
    "\n",
    "url = 'https://books.toscrape.com/'\n",
    "\n",
    "def books_scrapper(url):\n",
    "\n",
    "    response = requests.get(url)\n",
    "    if response.status_code != 200:\n",
    "        print('Data not fetchable')\n",
    "        return []\n",
    "    \n",
    "    soup = BeautifulSoup(response.text , 'html.parser' )\n",
    "    articles = soup.find_all('article', class_='product_pod')\n",
    "\n",
    "    for article in articles:\n",
    "        title = article.h3.a['title']\n",
    "        price_raw = article.find('p', class_='price_color').text.strip()\n",
    "        price = price_raw.encode('latin-1').decode('utf-8')\n",
    "        available = article.find('p', class_='instock availability').text\n",
    "\n",
    "        dic = {\n",
    "            'title' : title,\n",
    "            'currency': price[0],\n",
    "            'amount' : price[1:],\n",
    "            'availabe' : available\n",
    "        }\n",
    "        books.append(dic)\n",
    "\n",
    "    return books\n",
    "\n",
    "all_books = books_scrapper(url)\n",
    "\n",
    "with open('file1.csv','w') as f:\n",
    "    writer = csv.DictWriter(f , fieldnames=books[0].keys())\n",
    "    writer.writeheader()\n",
    "    writer.writerows(all_books)\n",
    "\n",
    "with open('file2.json','w') as f:\n",
    "    json.dump(all_books, f , indent = 2)\n",
    "\n",
    "    \n"
   ]
  }
 ],
 "metadata": {
  "kernelspec": {
   "display_name": "Python 3 (ipykernel)",
   "language": "python",
   "name": "python3"
  },
  "language_info": {
   "codemirror_mode": {
    "name": "ipython",
    "version": 3
   },
   "file_extension": ".py",
   "mimetype": "text/x-python",
   "name": "python",
   "nbconvert_exporter": "python",
   "pygments_lexer": "ipython3",
   "version": "3.13.3"
  }
 },
 "nbformat": 4,
 "nbformat_minor": 5
}
