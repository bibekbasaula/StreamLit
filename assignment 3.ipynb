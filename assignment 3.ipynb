{
 "cells": [
  {
   "cell_type": "code",
   "execution_count": 2,
   "id": "647ebab3-1fa8-434e-893a-e2d679c6c6f8",
   "metadata": {},
   "outputs": [
    {
     "data": {
      "text/plain": [
       "int"
      ]
     },
     "execution_count": 2,
     "metadata": {},
     "output_type": "execute_result"
    }
   ],
   "source": [
    "age = int(12)\n",
    "type(age)"
   ]
  },
  {
   "cell_type": "code",
   "execution_count": 3,
   "id": "d1b00772-2527-4c7d-8540-6b565fb92378",
   "metadata": {},
   "outputs": [
    {
     "data": {
      "text/plain": [
       "float"
      ]
     },
     "execution_count": 3,
     "metadata": {},
     "output_type": "execute_result"
    }
   ],
   "source": [
    "height = float(6.1)\n",
    "type(height)"
   ]
  },
  {
   "cell_type": "code",
   "execution_count": 6,
   "id": "73df39cb-ec76-4d76-b709-9703a26b3f94",
   "metadata": {},
   "outputs": [
    {
     "data": {
      "text/plain": [
       "complex"
      ]
     },
     "execution_count": 6,
     "metadata": {},
     "output_type": "execute_result"
    }
   ],
   "source": [
    "x = 3j\n",
    "type(x)"
   ]
  },
  {
   "cell_type": "code",
   "execution_count": 8,
   "id": "e9d3d931-041a-44f7-831b-adfd2e1b5a9d",
   "metadata": {},
   "outputs": [
    {
     "name": "stdin",
     "output_type": "stream",
     "text": [
      "Enter the base of the triangle 13\n",
      "Enter the height of the triangle 15\n"
     ]
    },
    {
     "name": "stdout",
     "output_type": "stream",
     "text": [
      "The area of triangle having base 13 and height 15 is 97.5\n"
     ]
    }
   ],
   "source": [
    "base = int(input('Enter the base of the triangle'))\n",
    "height = int(input('Enter the height of the triangle'))\n",
    "area = float(0.5 * base * height)\n",
    "print(f'The area of triangle having base {base} and height {height} is {area}')"
   ]
  },
  {
   "cell_type": "code",
   "execution_count": null,
   "id": "83dbd43d-1aef-47c2-b3ea-7f3e481874af",
   "metadata": {},
   "outputs": [],
   "source": [
    "a = int(input('Enter side a'))\n",
    "b = int(input('Enter side b'))\n",
    "c = int(input('Enter side c'))\n",
    "peri = a + b + c\n",
    "print(f'The perimeter of the triangle having sides {a}, {b} and {c} is {peri}')  "
   ]
  },
  {
   "cell_type": "code",
   "execution_count": 10,
   "id": "10a03f3d-baab-4074-97c0-27e0131d4cba",
   "metadata": {},
   "outputs": [
    {
     "name": "stdin",
     "output_type": "stream",
     "text": [
      "Enter the length 12\n",
      "Enter the breadth 5\n"
     ]
    },
    {
     "name": "stdout",
     "output_type": "stream",
     "text": [
      "The area is 60 and perimeter is 34\n"
     ]
    }
   ],
   "source": [
    "length = int(input('Enter the length'))\n",
    "breadth = int(input('Enter the breadth'))\n",
    "area = length * breadth\n",
    "peri = 2 * (length + breadth)\n",
    "print(f'The area is {area} and perimeter is {peri}')"
   ]
  },
  {
   "cell_type": "code",
   "execution_count": 15,
   "id": "195515af-0d32-4b8a-a904-63aa7c4058a0",
   "metadata": {},
   "outputs": [
    {
     "name": "stdin",
     "output_type": "stream",
     "text": [
      "Enter the radius 7\n"
     ]
    },
    {
     "name": "stdout",
     "output_type": "stream",
     "text": [
      "The area is 153.93804002589985 and circumference is 43.982297150257104\n"
     ]
    }
   ],
   "source": [
    "r = int(input('Enter the radius'))\n",
    "from math import pi\n",
    "area = pi * r ** 2\n",
    "circ = 2 * pi * r\n",
    "print(f'The area is {area} and circumference is {circ}')\n"
   ]
  },
  {
   "cell_type": "code",
   "execution_count": 19,
   "id": "ee0abca4-b481-42f2-8414-0d5be8da920d",
   "metadata": {},
   "outputs": [
    {
     "data": {
      "text/plain": [
       "False"
      ]
     },
     "execution_count": 19,
     "metadata": {},
     "output_type": "execute_result"
    }
   ],
   "source": [
    "x = len('python') \n",
    "y = len('datascience')\n",
    "x > y"
   ]
  },
  {
   "cell_type": "code",
   "execution_count": 21,
   "id": "3f180ada-547b-4a3e-b974-a74b4a28f387",
   "metadata": {},
   "outputs": [
    {
     "data": {
      "text/plain": [
       "True"
      ]
     },
     "execution_count": 21,
     "metadata": {},
     "output_type": "execute_result"
    }
   ],
   "source": [
    "'on' in 'python' or 'on' in 'cannon'"
   ]
  },
  {
   "cell_type": "code",
   "execution_count": 22,
   "id": "b2c48f71-e6e3-451d-bda8-b9e74692ad97",
   "metadata": {},
   "outputs": [
    {
     "data": {
      "text/plain": [
       "True"
      ]
     },
     "execution_count": 22,
     "metadata": {},
     "output_type": "execute_result"
    }
   ],
   "source": [
    "'jargon' in 'I hope this course is not full of jargon'"
   ]
  },
  {
   "cell_type": "code",
   "execution_count": 24,
   "id": "a894e1bb-3e47-482a-9e57-0c5e06335421",
   "metadata": {},
   "outputs": [
    {
     "name": "stdout",
     "output_type": "stream",
     "text": [
      "6\n",
      "6.0 6.0\n"
     ]
    }
   ],
   "source": [
    "x = len('python')\n",
    "print(x)\n",
    "y = float(x)\n",
    "z = str(y)\n",
    "print(y , z)"
   ]
  },
  {
   "cell_type": "code",
   "execution_count": 25,
   "id": "8e507a39-3abf-4b0b-a851-6e3536f2e069",
   "metadata": {},
   "outputs": [
    {
     "data": {
      "text/plain": [
       "True"
      ]
     },
     "execution_count": 25,
     "metadata": {},
     "output_type": "execute_result"
    }
   ],
   "source": [
    "7//3 == int(2.7)"
   ]
  },
  {
   "cell_type": "code",
   "execution_count": 26,
   "id": "23c5c871-4c60-4943-a3fe-55d0418c8e89",
   "metadata": {},
   "outputs": [
    {
     "data": {
      "text/plain": [
       "False"
      ]
     },
     "execution_count": 26,
     "metadata": {},
     "output_type": "execute_result"
    }
   ],
   "source": [
    "type('10') == type(10)"
   ]
  },
  {
   "cell_type": "code",
   "execution_count": 29,
   "id": "9b718ab8-476d-46fb-8c1b-04fe6ae01a58",
   "metadata": {},
   "outputs": [
    {
     "ename": "ValueError",
     "evalue": "invalid literal for int() with base 10: '9.6'",
     "output_type": "error",
     "traceback": [
      "\u001b[31m---------------------------------------------------------------------------\u001b[39m",
      "\u001b[31mValueError\u001b[39m                                Traceback (most recent call last)",
      "\u001b[36mCell\u001b[39m\u001b[36m \u001b[39m\u001b[32mIn[29]\u001b[39m\u001b[32m, line 1\u001b[39m\n\u001b[32m----> \u001b[39m\u001b[32m1\u001b[39m \u001b[38;5;28;43mint\u001b[39;49m\u001b[43m(\u001b[49m\u001b[33;43m\"\u001b[39;49m\u001b[33;43m9.6\u001b[39;49m\u001b[33;43m\"\u001b[39;49m\u001b[43m)\u001b[49m == \u001b[32m10\u001b[39m\n",
      "\u001b[31mValueError\u001b[39m: invalid literal for int() with base 10: '9.6'"
     ]
    }
   ],
   "source": [
    "int(\"9.6\") == 10"
   ]
  },
  {
   "cell_type": "code",
   "execution_count": 30,
   "id": "cd8c2790-4973-4006-86c9-faeee03dfc3b",
   "metadata": {},
   "outputs": [
    {
     "data": {
      "text/plain": [
       "False"
      ]
     },
     "execution_count": 30,
     "metadata": {},
     "output_type": "execute_result"
    }
   ],
   "source": [
    "int(float(\"9.6\")) == 10"
   ]
  },
  {
   "cell_type": "code",
   "execution_count": 31,
   "id": "3f4c0eb3-7e41-404d-92cf-5d8f39faac9e",
   "metadata": {},
   "outputs": [
    {
     "name": "stdin",
     "output_type": "stream",
     "text": [
      "Enter no of hours 8\n",
      "Enter the rate/hr 20\n"
     ]
    },
    {
     "name": "stdout",
     "output_type": "stream",
     "text": [
      "The salary is 160 \n"
     ]
    }
   ],
   "source": [
    "hours = int(input('Enter no of hours'))\n",
    "rate = int(input('Enter the rate/hr'))\n",
    "pay = hours * rate\n",
    "print(f'The salary is {pay} ')"
   ]
  },
  {
   "cell_type": "code",
   "execution_count": 34,
   "id": "bc29d557-b08b-4b9e-84b2-4b59a9a661f0",
   "metadata": {},
   "outputs": [
    {
     "name": "stdin",
     "output_type": "stream",
     "text": [
      "Enter the no of yrs you lived 18\n"
     ]
    },
    {
     "name": "stdout",
     "output_type": "stream",
     "text": [
      "You have lived 567648000 seconds\n"
     ]
    }
   ],
   "source": [
    "x = int(input('Enter the no of yrs you lived'))\n",
    "sec = 365 * 86400 * x\n",
    "print(f'You have lived { sec} seconds')"
   ]
  },
  {
   "cell_type": "code",
   "execution_count": null,
   "id": "36aaf4f5-aab9-455c-b591-6579421adf57",
   "metadata": {},
   "outputs": [],
   "source": []
  }
 ],
 "metadata": {
  "kernelspec": {
   "display_name": "Python 3 (ipykernel)",
   "language": "python",
   "name": "python3"
  },
  "language_info": {
   "codemirror_mode": {
    "name": "ipython",
    "version": 3
   },
   "file_extension": ".py",
   "mimetype": "text/x-python",
   "name": "python",
   "nbconvert_exporter": "python",
   "pygments_lexer": "ipython3",
   "version": "3.13.3"
  }
 },
 "nbformat": 4,
 "nbformat_minor": 5
}
