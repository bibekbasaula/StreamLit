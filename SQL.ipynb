{
 "cells": [
  {
   "cell_type": "code",
   "execution_count": 86,
   "id": "df2609ac-10ef-4299-970e-8000024d1bf8",
   "metadata": {},
   "outputs": [],
   "source": [
    "import sqlite3"
   ]
  },
  {
   "cell_type": "code",
   "execution_count": 7,
   "id": "98e9f2ea-4f89-45a9-a11a-9bdfe300c2aa",
   "metadata": {},
   "outputs": [],
   "source": [
    "con = sqlite3.connect('student2.sqlite3')"
   ]
  },
  {
   "cell_type": "code",
   "execution_count": 9,
   "id": "2cad6dce-0f90-4e35-91db-12f1d95d4308",
   "metadata": {},
   "outputs": [],
   "source": [
    "cur = con.cursor()"
   ]
  },
  {
   "cell_type": "code",
   "execution_count": 13,
   "id": "593f7e76-21d8-4851-b13d-06914d7f7779",
   "metadata": {},
   "outputs": [
    {
     "ename": "OperationalError",
     "evalue": "table student2 already exists",
     "output_type": "error",
     "traceback": [
      "\u001b[31m---------------------------------------------------------------------------\u001b[39m",
      "\u001b[31mOperationalError\u001b[39m                          Traceback (most recent call last)",
      "\u001b[36mCell\u001b[39m\u001b[36m \u001b[39m\u001b[32mIn[13]\u001b[39m\u001b[32m, line 14\u001b[39m\n\u001b[32m      1\u001b[39m create_table_query = \u001b[33m'''\u001b[39m\n\u001b[32m      2\u001b[39m \n\u001b[32m      3\u001b[39m \u001b[33mcreate table student2(\u001b[39m\n\u001b[32m   (...)\u001b[39m\u001b[32m     12\u001b[39m \n\u001b[32m     13\u001b[39m \u001b[33m'''\u001b[39m\n\u001b[32m---> \u001b[39m\u001b[32m14\u001b[39m \u001b[43mcur\u001b[49m\u001b[43m.\u001b[49m\u001b[43mexecute\u001b[49m\u001b[43m \u001b[49m\u001b[43m(\u001b[49m\u001b[43mcreate_table_query\u001b[49m\u001b[43m)\u001b[49m\n",
      "\u001b[31mOperationalError\u001b[39m: table student2 already exists"
     ]
    }
   ],
   "source": [
    "create_table_query = '''\n",
    "\n",
    "create table student2(\n",
    "id int primary key,\n",
    "name varchar(200) not null,\n",
    "address varchar(200) not null,\n",
    "college varchar(200) not null,\n",
    "faculty varchar(20) not null,\n",
    "age int not null,\n",
    "gender varchar(1) not null\n",
    ");\n",
    "\n",
    "'''\n",
    "cur.execute (create_table_query)"
   ]
  },
  {
   "cell_type": "code",
   "execution_count": 20,
   "id": "d408ec9d-19a3-4757-9520-f06010e4d783",
   "metadata": {},
   "outputs": [
    {
     "ename": "IntegrityError",
     "evalue": "UNIQUE constraint failed: student2.id",
     "output_type": "error",
     "traceback": [
      "\u001b[31m---------------------------------------------------------------------------\u001b[39m",
      "\u001b[31mIntegrityError\u001b[39m                            Traceback (most recent call last)",
      "\u001b[36mCell\u001b[39m\u001b[36m \u001b[39m\u001b[32mIn[20]\u001b[39m\u001b[32m, line 10\u001b[39m\n\u001b[32m      1\u001b[39m insert_data = \u001b[33m'''\u001b[39m\n\u001b[32m      2\u001b[39m \u001b[33minsert into student2\u001b[39m\n\u001b[32m      3\u001b[39m \u001b[33m(id, name, address, college, faculty, age, gender)\u001b[39m\n\u001b[32m   (...)\u001b[39m\u001b[32m      8\u001b[39m \u001b[33m(4, \u001b[39m\u001b[33m'\u001b[39m\u001b[33msita\u001b[39m\u001b[33m'\u001b[39m\u001b[33m, \u001b[39m\u001b[33m'\u001b[39m\u001b[33mkathmandu\u001b[39m\u001b[33m'\u001b[39m\u001b[33m, \u001b[39m\u001b[33m'\u001b[39m\u001b[33mioe pulchowk\u001b[39m\u001b[33m'\u001b[39m\u001b[33m, \u001b[39m\u001b[33m'\u001b[39m\u001b[33mCE\u001b[39m\u001b[33m'\u001b[39m\u001b[33m, 24, \u001b[39m\u001b[33m'\u001b[39m\u001b[33mf\u001b[39m\u001b[33m'\u001b[39m\u001b[33m);\u001b[39m\n\u001b[32m      9\u001b[39m \u001b[33m'''\u001b[39m\n\u001b[32m---> \u001b[39m\u001b[32m10\u001b[39m \u001b[43mcur\u001b[49m\u001b[43m.\u001b[49m\u001b[43mexecute\u001b[49m\u001b[43m(\u001b[49m\u001b[43minsert_data\u001b[49m\u001b[43m)\u001b[49m\n\u001b[32m     11\u001b[39m con.commit()\n",
      "\u001b[31mIntegrityError\u001b[39m: UNIQUE constraint failed: student2.id"
     ]
    }
   ],
   "source": [
    "insert_data = '''\n",
    "insert into student2\n",
    "(id, name, address, college, faculty, age, gender)\n",
    "values\n",
    "(1, 'ram', 'kathmandu', 'ncit', 'IT', 18, 'm'),\n",
    "(2, 'shyam', 'lalitpur', 'kmc', 'CSIT', 20, 'm'),\n",
    "(3, 'gita', 'pokhara', 'ncit', 'SE', 20, 'm'),\n",
    "(4, 'sita', 'kathmandu', 'ioe pulchowk', 'CE', 24, 'f');\n",
    "'''\n",
    "cur.execute(insert_data)\n"
   ]
  },
  {
   "cell_type": "code",
   "execution_count": 22,
   "id": "b2563550-7559-4dbe-b1ea-95aa216c0b00",
   "metadata": {},
   "outputs": [],
   "source": [
    "con.commit()"
   ]
  },
  {
   "cell_type": "code",
   "execution_count": 24,
   "id": "38437521-3a63-44de-926d-2b6071889b7a",
   "metadata": {},
   "outputs": [
    {
     "name": "stdout",
     "output_type": "stream",
     "text": [
      "(1, 'ram', 'kathmandu', 'ncit', 'IT', 18, 'm')\n",
      "(2, 'shyam', 'lalitpur', 'kmc', 'CSIT', 20, 'm')\n",
      "(3, 'gita', 'pokhara', 'ncit', 'SE', 20, 'm')\n",
      "(4, 'sita', 'kathmandu', 'ioe pulchowk', 'CE', 24, 'f')\n"
     ]
    }
   ],
   "source": [
    "students = cur.execute('select * from student2')\n",
    "\n",
    "for i in students:\n",
    "    print(i)\n"
   ]
  },
  {
   "cell_type": "code",
   "execution_count": 27,
   "id": "90ce01fd-938e-4349-ab1d-60c6f8511436",
   "metadata": {},
   "outputs": [
    {
     "data": {
      "text/plain": [
       "<sqlite3.Cursor at 0x1106693c0>"
      ]
     },
     "execution_count": 27,
     "metadata": {},
     "output_type": "execute_result"
    }
   ],
   "source": [
    "cur.execute (\"alter table student2 add university varchar(200) not null default 'TU';\")"
   ]
  },
  {
   "cell_type": "code",
   "execution_count": 55,
   "id": "8cbc012f-b508-46b7-b1d4-47f5c1192d0b",
   "metadata": {},
   "outputs": [],
   "source": [
    "o = cur.execute(\"select * from student2 where address = 'Lalitpur' \")\n",
    "\n",
    "for i in o:\n",
    "    print(i)"
   ]
  },
  {
   "cell_type": "code",
   "execution_count": 70,
   "id": "cffa581f-625c-4a4c-8620-686ff3db4802",
   "metadata": {},
   "outputs": [
    {
     "name": "stdin",
     "output_type": "stream",
     "text": [
      "Enter address lalitpur' or true or address = 'kathmandu\n"
     ]
    },
    {
     "name": "stdout",
     "output_type": "stream",
     "text": [
      "(1, 'ram', 'kathmandu', 'ncit', 'IT', 18, 'm', 'TU')\n",
      "(2, 'shyam', 'lalitpur', 'kmc', 'CSIT', 20, 'm', 'TU')\n",
      "(3, 'gita', 'pokhara', 'ncit', 'SE', 20, 'm', 'TU')\n",
      "(4, 'sita', 'kathmandu', 'ioe pulchowk', 'CE', 24, 'f', 'TU')\n"
     ]
    }
   ],
   "source": [
    "a = str(input('Enter address'))\n",
    "#sql injection\n",
    "o = cur.execute(f\"select * from student2 where address = '{a}' \")\n",
    "\n",
    "for i in o:\n",
    "    print (i)"
   ]
  },
  {
   "cell_type": "code",
   "execution_count": 72,
   "id": "5ce92aeb-bb98-4382-a077-cb84d5eb497f",
   "metadata": {},
   "outputs": [],
   "source": [
    "#select * from student where address = 'lalitpur' or true or address = 'kathmandu';"
   ]
  },
  {
   "cell_type": "code",
   "execution_count": 76,
   "id": "7035c39a-4386-4f08-8b7f-3ef940ce2771",
   "metadata": {},
   "outputs": [
    {
     "name": "stdin",
     "output_type": "stream",
     "text": [
      "Enter the address lalitpur' or true or address = 'kathmandu\n"
     ]
    }
   ],
   "source": [
    "address = input('Enter the address')\n",
    "# sql injection prevention\n",
    "o = cur.execute('select * from student2 where address = ? ', (address,))\n",
    "\n",
    "for i in o: \n",
    "    print(i)\n",
    "    \n"
   ]
  },
  {
   "cell_type": "code",
   "execution_count": 83,
   "id": "69cb2758-a8ea-4df9-a4a4-bc00c0c6dee6",
   "metadata": {},
   "outputs": [],
   "source": [
    "student = (6, 'bob', 'kathmandu', 'ncit', 'IT' , 21, 'm', 'TU')\n",
    "\n",
    "insert =('''\n",
    "\n",
    "    insert into student2\n",
    "    (id , name, address, college, faculty, age, gender, university)\n",
    "    values\n",
    "    (?,?,?,?,?,?,?,?);\n",
    "    '''\n",
    "           )\n",
    "\n",
    "cur.execute(insert , student)\n",
    "con.commit()\n"
   ]
  },
  {
   "cell_type": "code",
   "execution_count": 85,
   "id": "39654b95-da95-4d1d-82d6-83df679b3730",
   "metadata": {},
   "outputs": [],
   "source": [
    "students = [ (7, 'ronaldo', 'lisbon', 'man u', 'cf', 30, 'm', 'porto'),\n",
    "             (8, 'iniesta', 'sapin', 'barca', 'amf', 25, 'm', 'barca'),\n",
    "             (9, 'suarez', 'urugay', 'barca', 'cf', 30, 'm', 'liverpool'),\n",
    "             (10, 'messi', 'argentina', 'barca', 'rwf', 35, 'm', 'boca'),\n",
    "           ]\n",
    "\n",
    "insert = '''\n",
    "\n",
    "    insert into student2\n",
    "    (id , name, address , college, faculty , age , gender , university)\n",
    "    values \n",
    "    (?,?,?,?,?,?,?,?)\n",
    "    '''\n",
    "\n",
    "for i in students:\n",
    "    cur.execute(insert , i)\n",
    "    con.commit()"
   ]
  },
  {
   "cell_type": "code",
   "execution_count": null,
   "id": "f412c142-4fba-4095-8a34-c2f98ff89115",
   "metadata": {},
   "outputs": [],
   "source": [
    "students = [(11 , 'neyamr', 'brazil', 'barca', 'lwf', 28, 'm', 'santos'),\n",
    "            (12 , 'henry', 'france', 'brazil' ,'cf' , 25, 'm' , 'dsgdg')]\n",
    "\n",
    "insert = '''\n",
    "                insert into student2\n",
    "                (id , name ,address , college , faculty , age , gender , university)\n",
    "                values \n",
    "                (?,?,?,?,?,?,?,?)\n",
    "             \n",
    "        "
   ]
  }
 ],
 "metadata": {
  "kernelspec": {
   "display_name": "Python 3 (ipykernel)",
   "language": "python",
   "name": "python3"
  },
  "language_info": {
   "codemirror_mode": {
    "name": "ipython",
    "version": 3
   },
   "file_extension": ".py",
   "mimetype": "text/x-python",
   "name": "python",
   "nbconvert_exporter": "python",
   "pygments_lexer": "ipython3",
   "version": "3.13.3"
  }
 },
 "nbformat": 4,
 "nbformat_minor": 5
}
