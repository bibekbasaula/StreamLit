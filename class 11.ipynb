{
 "cells": [
  {
   "cell_type": "code",
   "execution_count": 1,
   "id": "bbca137a-d034-4c73-a8c9-1f464a971b51",
   "metadata": {},
   "outputs": [
    {
     "data": {
      "text/plain": [
       "range(0, 10)"
      ]
     },
     "execution_count": 1,
     "metadata": {},
     "output_type": "execute_result"
    }
   ],
   "source": [
    "range(0 , 10)"
   ]
  },
  {
   "cell_type": "code",
   "execution_count": 2,
   "id": "50f3c631-e3b0-4ed3-a0c6-1c6bf7030dd7",
   "metadata": {},
   "outputs": [
    {
     "data": {
      "text/plain": [
       "[0, 1, 2, 3, 4, 5, 6, 7, 8, 9]"
      ]
     },
     "execution_count": 2,
     "metadata": {},
     "output_type": "execute_result"
    }
   ],
   "source": [
    "list(range(0,10))"
   ]
  },
  {
   "cell_type": "code",
   "execution_count": 5,
   "id": "d63c5596-fc57-4e77-873f-e4f8de207929",
   "metadata": {},
   "outputs": [
    {
     "name": "stdout",
     "output_type": "stream",
     "text": [
      "0\n",
      "1\n",
      "2\n",
      "3\n",
      "4\n",
      "5\n",
      "6\n",
      "7\n",
      "8\n",
      "9\n"
     ]
    }
   ],
   "source": [
    "for i in range(0,10):\n",
    "    print(i)"
   ]
  },
  {
   "cell_type": "code",
   "execution_count": 6,
   "id": "b55324cf-8187-48c2-bf5c-f6387bd4ae3e",
   "metadata": {},
   "outputs": [
    {
     "name": "stdout",
     "output_type": "stream",
     "text": [
      "0\n",
      "2\n",
      "4\n",
      "6\n",
      "8\n"
     ]
    }
   ],
   "source": [
    "for i in range(0,10,2): #start, stop, step\n",
    "    print(i)"
   ]
  },
  {
   "cell_type": "code",
   "execution_count": 7,
   "id": "04709164-34b9-45f9-add3-f12bda57ec26",
   "metadata": {},
   "outputs": [
    {
     "name": "stdout",
     "output_type": "stream",
     "text": [
      "10\n",
      "9\n",
      "8\n",
      "7\n",
      "6\n",
      "5\n",
      "4\n",
      "3\n",
      "2\n",
      "1\n"
     ]
    }
   ],
   "source": [
    "for i in range(10,0,-1): #start, stop, step\n",
    "    print(i)"
   ]
  },
  {
   "cell_type": "code",
   "execution_count": 14,
   "id": "788e4c31-47c7-422a-bc9a-6572c9d22a1e",
   "metadata": {},
   "outputs": [
    {
     "name": "stdout",
     "output_type": "stream",
     "text": [
      "{'Alan': 0, 'Bil': 1, 'Ramesh': 2, 'Corry': 3, 'Ram': 4, 'Shyam Bahadur': 5, 'Gita': 6}\n"
     ]
    }
   ],
   "source": [
    "students = ['Alan' , 'Bil', 'Ramesh', 'Corry', 'Ram', 'Shyam Bahadur', 'Gita']\n",
    "\n",
    "index = 0\n",
    "dic = {}\n",
    "\n",
    "for i in range(0,len(students)):\n",
    "    #dic.update({students[i]:i})\n",
    "    dic[students[i]] = i\n",
    "print(dic)\n"
   ]
  },
  {
   "cell_type": "code",
   "execution_count": 21,
   "id": "c9c3b4c0-0e75-4ce8-8d1c-e143fb787eff",
   "metadata": {},
   "outputs": [
    {
     "name": "stdout",
     "output_type": "stream",
     "text": [
      "{'milk': 267.96, 'bread': 343.2, 'butter': 475.2}\n"
     ]
    }
   ],
   "source": [
    "us_price = {'milk': 2.03 , 'bread':2.6, 'butter':3.6}\n",
    "\n",
    "\n",
    "dic = {}\n",
    "\n",
    "for k , v in us_price.items():\n",
    "    dic[k] = v * 132\n",
    "\n",
    "print(dic)\n",
    "\n"
   ]
  },
  {
   "cell_type": "code",
   "execution_count": 22,
   "id": "e9aab88a-6533-41e9-8bed-ff2bbf9ad474",
   "metadata": {},
   "outputs": [
    {
     "name": "stdout",
     "output_type": "stream",
     "text": [
      "{'milk': 302.79479999999995, 'bread': 387.816, 'butter': 536.976}\n"
     ]
    }
   ],
   "source": [
    "us_price = {'milk': 2.03 , 'bread':2.6, 'butter':3.6}\n",
    "\n",
    "dic = {}\n",
    "\n",
    "for k,v in us_price.items():\n",
    "    dic[k] = (v * (13/100))*132 + v*132\n",
    "print(dic)"
   ]
  },
  {
   "cell_type": "code",
   "execution_count": 23,
   "id": "960ea9e7-69bf-4dd9-9b2a-8c53552c8d88",
   "metadata": {},
   "outputs": [
    {
     "name": "stdout",
     "output_type": "stream",
     "text": [
      "{'milk': 302.79479999999995, 'bread': 387.816, 'butter': 536.976, 'iphone': 158241.6, 'mobile': 79200.0, 'laptop': 158400.0, 'television': 53856.0}\n"
     ]
    }
   ],
   "source": [
    "us_price = {'milk': 2.03 , 'bread':2.6, 'butter':3.6, 'iphone':999, 'meat':5, 'mobile':500, 'laptop':1000, 'television':340}\n",
    "dic = {}\n",
    "\n",
    "for k,v in us_price.items():\n",
    "    if v < 5:\n",
    "        dic[k] = (v * (13/100))*132 + v*132\n",
    "    elif v > 5:\n",
    "        dic[k] = (v * (20/100))*132 + v*132\n",
    "\n",
    "print(dic)"
   ]
  },
  {
   "cell_type": "code",
   "execution_count": null,
   "id": "17d26f41-cba9-43eb-9e5e-7759201f8834",
   "metadata": {},
   "outputs": [],
   "source": [
    "#pass , continue, break"
   ]
  },
  {
   "cell_type": "code",
   "execution_count": 24,
   "id": "20d73014-8fad-4357-87c6-cc284ee30292",
   "metadata": {},
   "outputs": [
    {
     "ename": "_IncompleteInputError",
     "evalue": "incomplete input (531034232.py, line 3)",
     "output_type": "error",
     "traceback": [
      "  \u001b[36mCell\u001b[39m\u001b[36m \u001b[39m\u001b[32mIn[24]\u001b[39m\u001b[32m, line 3\u001b[39m\n\u001b[31m    \u001b[39m\n    ^\n\u001b[31m_IncompleteInputError\u001b[39m\u001b[31m:\u001b[39m incomplete input\n"
     ]
    }
   ],
   "source": [
    "age = 17\n",
    "if age > 17:\n",
    "    "
   ]
  },
  {
   "cell_type": "code",
   "execution_count": 25,
   "id": "c913bdc6-e46a-46b3-9393-8bf51d9473df",
   "metadata": {},
   "outputs": [],
   "source": [
    "age = 17\n",
    "if age > 17:\n",
    "    pass"
   ]
  },
  {
   "cell_type": "code",
   "execution_count": 26,
   "id": "992e3080-efae-42dd-8e3b-d88f14782a1c",
   "metadata": {},
   "outputs": [
    {
     "name": "stdout",
     "output_type": "stream",
     "text": [
      "hello\n"
     ]
    }
   ],
   "source": [
    "age = 17\n",
    "if age > 17:\n",
    "    pass\n",
    "print('hello')"
   ]
  },
  {
   "cell_type": "code",
   "execution_count": 33,
   "id": "bb9cd215-8c4a-4e47-ab71-078e382fe308",
   "metadata": {},
   "outputs": [
    {
     "name": "stdout",
     "output_type": "stream",
     "text": [
      "17\n"
     ]
    }
   ],
   "source": [
    "age = 17\n",
    "if age == 17:\n",
    "    pass\n",
    "    print(age)"
   ]
  },
  {
   "cell_type": "code",
   "execution_count": 38,
   "id": "9cf0ae4b-070f-4065-aa7e-5d982462f7f5",
   "metadata": {},
   "outputs": [],
   "source": [
    "for i in range(0,9):\n",
    "    pass"
   ]
  },
  {
   "cell_type": "code",
   "execution_count": 47,
   "id": "85717847-5002-4ced-a47f-61315d747fdb",
   "metadata": {},
   "outputs": [
    {
     "name": "stdout",
     "output_type": "stream",
     "text": [
      "30\n"
     ]
    }
   ],
   "source": [
    "number = [1,2,6,8,9,6,10]\n",
    "a=0\n",
    "for i in number:\n",
    "    if i == 6:\n",
    "        pass\n",
    "    else:\n",
    "        a = i + a\n",
    "print(a)\n"
   ]
  },
  {
   "cell_type": "code",
   "execution_count": 43,
   "id": "554ec4f7-6f7e-4b71-94aa-ae2311dde192",
   "metadata": {},
   "outputs": [
    {
     "name": "stdout",
     "output_type": "stream",
     "text": [
      "42\n"
     ]
    }
   ],
   "source": [
    "number = [1,2,6,8,9,6,10]\n",
    "a=0\n",
    "for i in number:\n",
    "    if i == 6:\n",
    "        pass\n",
    " \n",
    "    a = i + a\n",
    "\n",
    "print(a)\n"
   ]
  },
  {
   "cell_type": "code",
   "execution_count": 44,
   "id": "6c3c1701-7412-43d1-ad3d-cd822eb0f248",
   "metadata": {},
   "outputs": [
    {
     "name": "stdout",
     "output_type": "stream",
     "text": [
      "30\n"
     ]
    }
   ],
   "source": [
    "number = [1,2,6,8,9,6,10]\n",
    "a=0\n",
    "for i in number:\n",
    "    if i == 6:\n",
    "        continue\n",
    "         #skips the currently iterated item\n",
    "        #does not run anything below \n",
    "    a = i + a\n",
    "\n",
    "print(a)"
   ]
  },
  {
   "cell_type": "code",
   "execution_count": 45,
   "id": "8479c59a-7e4b-4984-b8ab-c34715994c6b",
   "metadata": {},
   "outputs": [
    {
     "name": "stdout",
     "output_type": "stream",
     "text": [
      "3\n"
     ]
    }
   ],
   "source": [
    "number = [1,2,6,8,9,6,10]\n",
    "a=0\n",
    "for i in number:\n",
    "    if i == 6:\n",
    "        break\n",
    "        #completely terminates the loop when condition met\n",
    "    a = i + a\n",
    "\n",
    "print(a)"
   ]
  },
  {
   "cell_type": "code",
   "execution_count": 2,
   "id": "fc2e02fe-f9f6-4172-beb3-07a31ea0877b",
   "metadata": {},
   "outputs": [
    {
     "name": "stdout",
     "output_type": "stream",
     "text": [
      "ram eats momo\n",
      "ram eats chowmein\n",
      "ram eats thukpa\n",
      "shyam eats momo\n",
      "shyam eats chowmein\n",
      "shyam eats thukpa\n",
      "gita eats momo\n",
      "gita eats chowmein\n",
      "gita eats thukpa\n",
      "sita eats momo\n",
      "sita eats chowmein\n",
      "sita eats thukpa\n"
     ]
    }
   ],
   "source": [
    "name = ['ram', 'shyam', 'gita', 'sita']\n",
    "foods = ['momo', 'chowmein', 'thukpa']\n",
    "\n",
    "for i in name:\n",
    "    for j in foods:\n",
    "        print('{} eats {}'.format(i,j))"
   ]
  },
  {
   "cell_type": "code",
   "execution_count": 1,
   "id": "34ddef83-5859-4bab-99a7-655aca7c6ed4",
   "metadata": {},
   "outputs": [
    {
     "name": "stdout",
     "output_type": "stream",
     "text": [
      "ram\n",
      "shyam\n",
      "gita\n",
      "sita\n"
     ]
    }
   ],
   "source": [
    "name = ['ram', 'shyam', 'gita', 'sita']\n",
    "\n",
    "i=0 #initializer\n",
    "\n",
    "while i<4:\n",
    "    print(name[i]) #condition\n",
    "    i += 1 # increment/decrement"
   ]
  },
  {
   "cell_type": "code",
   "execution_count": 2,
   "id": "18727f9e-d91e-4586-91cd-9873808cfedc",
   "metadata": {},
   "outputs": [
    {
     "name": "stdout",
     "output_type": "stream",
     "text": [
      "10\n"
     ]
    }
   ],
   "source": [
    "numbers = [1,2,3,4]\n",
    "i = 0\n",
    "sum = 0\n",
    "while i < len(numbers):\n",
    "    sum = numbers[i]+sum\n",
    "    i+=1\n",
    "print(sum)"
   ]
  },
  {
   "cell_type": "code",
   "execution_count": null,
   "id": "6406e15f-039a-4785-ae43-a9e8d7068fab",
   "metadata": {},
   "outputs": [],
   "source": []
  },
  {
   "cell_type": "code",
   "execution_count": null,
   "id": "97d17a3c-f77d-4407-b0d0-b360ced5627b",
   "metadata": {},
   "outputs": [],
   "source": []
  }
 ],
 "metadata": {
  "kernelspec": {
   "display_name": "Python 3 (ipykernel)",
   "language": "python",
   "name": "python3"
  },
  "language_info": {
   "codemirror_mode": {
    "name": "ipython",
    "version": 3
   },
   "file_extension": ".py",
   "mimetype": "text/x-python",
   "name": "python",
   "nbconvert_exporter": "python",
   "pygments_lexer": "ipython3",
   "version": "3.13.3"
  }
 },
 "nbformat": 4,
 "nbformat_minor": 5
}
