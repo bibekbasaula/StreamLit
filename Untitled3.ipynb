{
 "cells": [
  {
   "cell_type": "code",
   "execution_count": 33,
   "id": "a0069e09-e6c8-4dce-adac-bba455182c35",
   "metadata": {},
   "outputs": [],
   "source": [
    "# num pyn / Pandas"
   ]
  },
  {
   "cell_type": "code",
   "execution_count": 2,
   "id": "fee62ea2-3f9d-4d5b-8032-8a0b2e7d1281",
   "metadata": {},
   "outputs": [
    {
     "name": "stdout",
     "output_type": "stream",
     "text": [
      "Collecting umpy\n",
      "  Downloading umpy-0.1.0.tar.gz (4.5 kB)\n",
      "  Installing build dependencies ... \u001b[?25ldone\n",
      "\u001b[?25h  Getting requirements to build wheel ... \u001b[?25ldone\n",
      "\u001b[?25h  Preparing metadata (pyproject.toml) ... \u001b[?25ldone\n",
      "\u001b[?25hBuilding wheels for collected packages: umpy\n",
      "  Building wheel for umpy (pyproject.toml) ... \u001b[?25ldone\n",
      "\u001b[?25h  Created wheel for umpy: filename=umpy-0.1.0-py3-none-any.whl size=4858 sha256=2b3c13e854d30b999829863f206506adeadde98e8981816648667a96cdcec445\n",
      "  Stored in directory: /Users/bibekbasaula/Library/Caches/pip/wheels/76/94/78/bf8b5dc70c91a6c8ef9b03da49862e080dad0c333f56a7054b\n",
      "Successfully built umpy\n",
      "Installing collected packages: umpy\n",
      "Successfully installed umpy-0.1.0\n",
      "\n",
      "\u001b[1m[\u001b[0m\u001b[34;49mnotice\u001b[0m\u001b[1;39;49m]\u001b[0m\u001b[39;49m A new release of pip is available: \u001b[0m\u001b[31;49m25.0.1\u001b[0m\u001b[39;49m -> \u001b[0m\u001b[32;49m25.1.1\u001b[0m\n",
      "\u001b[1m[\u001b[0m\u001b[34;49mnotice\u001b[0m\u001b[1;39;49m]\u001b[0m\u001b[39;49m To update, run: \u001b[0m\u001b[32;49mpip3 install --upgrade pip\u001b[0m\n",
      "Note: you may need to restart the kernel to use updated packages.\n"
     ]
    }
   ],
   "source": [
    "pip install umpy"
   ]
  },
  {
   "cell_type": "code",
   "execution_count": 3,
   "id": "bf3ffec4-a794-4057-b7ed-0de465add3a3",
   "metadata": {},
   "outputs": [
    {
     "name": "stdout",
     "output_type": "stream",
     "text": [
      "Requirement already satisfied: numpy in /Library/Frameworks/Python.framework/Versions/3.13/lib/python3.13/site-packages (2.3.1)\n",
      "\n",
      "\u001b[1m[\u001b[0m\u001b[34;49mnotice\u001b[0m\u001b[1;39;49m]\u001b[0m\u001b[39;49m A new release of pip is available: \u001b[0m\u001b[31;49m25.0.1\u001b[0m\u001b[39;49m -> \u001b[0m\u001b[32;49m25.1.1\u001b[0m\n",
      "\u001b[1m[\u001b[0m\u001b[34;49mnotice\u001b[0m\u001b[1;39;49m]\u001b[0m\u001b[39;49m To update, run: \u001b[0m\u001b[32;49mpip3 install --upgrade pip\u001b[0m\n",
      "Note: you may need to restart the kernel to use updated packages.\n"
     ]
    }
   ],
   "source": [
    "pip install numpy"
   ]
  },
  {
   "cell_type": "markdown",
   "id": "b5e9f5fd-e2d5-4abf-887e-49e3642c0813",
   "metadata": {},
   "source": [
    "# 1. Numpy / Pandas  - open source library of python\n",
    "\n",
    "# Numpy\n",
    "\n",
    "    - Collection of homogenous data\n",
    "    - functions\n",
    "    - Collection of elements\n",
    "    - Numerical Python\n",
    "    - Computing Efficient\n",
    "\n"
   ]
  },
  {
   "cell_type": "markdown",
   "id": "a35145b2-ac72-48fa-bfe9-4cd1dc59d244",
   "metadata": {},
   "source": [
    "# Collection of elements\n",
    "ids = 5\n",
    "list,  set, tuple, dictionary\n",
    "supports heteregenous also\n",
    "\n",
    "ids = [10, 'Sunbright' , 3.6]"
   ]
  },
  {
   "cell_type": "code",
   "execution_count": 9,
   "id": "f0e7dc0b-0d9c-40e5-8d6f-336e53e589c3",
   "metadata": {},
   "outputs": [],
   "source": [
    "import numpy as np\n",
    "\n"
   ]
  },
  {
   "cell_type": "code",
   "execution_count": 25,
   "id": "92f348a7-b0b7-454f-a923-409cd7b9a853",
   "metadata": {},
   "outputs": [
    {
     "name": "stdout",
     "output_type": "stream",
     "text": [
      "[5 7 8 9 2]\n",
      "<class 'numpy.ndarray'>\n"
     ]
    }
   ],
   "source": [
    "# Creation :  .array()\n",
    "ids = np.array([5,7,8,9,2])\n",
    "print(ids)\n",
    "\n",
    "print(type(ids))"
   ]
  },
  {
   "cell_type": "markdown",
   "id": "7bee73d0-a79e-4d1c-84b2-6d2b13130dae",
   "metadata": {},
   "source": [
    "# Attribute \n",
    ".shape\n",
    ".size\n",
    ".ndim\n",
    ".ndim"
   ]
  },
  {
   "cell_type": "code",
   "execution_count": 22,
   "id": "85ec4525-91c7-45f5-a327-597d5ddae378",
   "metadata": {},
   "outputs": [
    {
     "name": "stdout",
     "output_type": "stream",
     "text": [
      "(5,)\n",
      "5\n",
      "1\n",
      "1\n"
     ]
    }
   ],
   "source": [
    "print(ids.shape)\n",
    "print(ids.size)\n",
    "print(ids.ndim)\n",
    "print(ids.ndim)"
   ]
  },
  {
   "cell_type": "markdown",
   "id": "b1db7782-f182-4ba9-89b6-fa715664114d",
   "metadata": {},
   "source": [
    " # Functions of numpy array\n",
    "\n",
    "    .np.sum()\n",
    "    .np.prod()\n",
    "    .np.mean()\n",
    "    .np.min()\n",
    "    .np.max()\n",
    "    .np.median()\n",
    "    .np.unique()\n",
    "    .np.sort()\n"
   ]
  },
  {
   "cell_type": "markdown",
   "id": "be3629ad-fbe5-47dd-9677-99b20e8b95e4",
   "metadata": {},
   "source": [
    "# Array Arthimetics\n",
    "\n",
    "    np.add()\n",
    "    np.subtract()\n",
    "    np.multiply()\n",
    "    np.divide()\n",
    "    np.floor_divide()\n",
    "    np.power()\n",
    "    np.mod()\n",
    "    np.sqrt()"
   ]
  },
  {
   "cell_type": "code",
   "execution_count": 60,
   "id": "e9acecae-7eee-493d-b1e2-17f1b1118832",
   "metadata": {},
   "outputs": [],
   "source": [
    "# Pandas"
   ]
  },
  {
   "cell_type": "code",
   "execution_count": 28,
   "id": "c91e9cef-9623-416f-b51d-9894b522193d",
   "metadata": {},
   "outputs": [
    {
     "name": "stdout",
     "output_type": "stream",
     "text": [
      "Requirement already satisfied: pandas in /Library/Frameworks/Python.framework/Versions/3.13/lib/python3.13/site-packages (2.3.1)\n",
      "Requirement already satisfied: numpy>=1.26.0 in /Library/Frameworks/Python.framework/Versions/3.13/lib/python3.13/site-packages (from pandas) (2.3.1)\n",
      "Requirement already satisfied: python-dateutil>=2.8.2 in /Library/Frameworks/Python.framework/Versions/3.13/lib/python3.13/site-packages (from pandas) (2.9.0.post0)\n",
      "Requirement already satisfied: pytz>=2020.1 in /Library/Frameworks/Python.framework/Versions/3.13/lib/python3.13/site-packages (from pandas) (2025.2)\n",
      "Requirement already satisfied: tzdata>=2022.7 in /Library/Frameworks/Python.framework/Versions/3.13/lib/python3.13/site-packages (from pandas) (2025.2)\n",
      "Requirement already satisfied: six>=1.5 in /Library/Frameworks/Python.framework/Versions/3.13/lib/python3.13/site-packages (from python-dateutil>=2.8.2->pandas) (1.17.0)\n",
      "\n",
      "\u001b[1m[\u001b[0m\u001b[34;49mnotice\u001b[0m\u001b[1;39;49m]\u001b[0m\u001b[39;49m A new release of pip is available: \u001b[0m\u001b[31;49m25.0.1\u001b[0m\u001b[39;49m -> \u001b[0m\u001b[32;49m25.1.1\u001b[0m\n",
      "\u001b[1m[\u001b[0m\u001b[34;49mnotice\u001b[0m\u001b[1;39;49m]\u001b[0m\u001b[39;49m To update, run: \u001b[0m\u001b[32;49mpip3 install --upgrade pip\u001b[0m\n",
      "Note: you may need to restart the kernel to use updated packages.\n"
     ]
    }
   ],
   "source": [
    "pip install pandas"
   ]
  },
  {
   "cell_type": "code",
   "execution_count": 31,
   "id": "37730123-a9bc-47db-bf4a-e27f45d4411e",
   "metadata": {},
   "outputs": [],
   "source": [
    "import pandas as pd"
   ]
  },
  {
   "cell_type": "code",
   "execution_count": 34,
   "id": "0a51217c-c8f5-4c87-b268-a85da6f13dc8",
   "metadata": {},
   "outputs": [
    {
     "data": {
      "text/html": [
       "<div>\n",
       "<style scoped>\n",
       "    .dataframe tbody tr th:only-of-type {\n",
       "        vertical-align: middle;\n",
       "    }\n",
       "\n",
       "    .dataframe tbody tr th {\n",
       "        vertical-align: top;\n",
       "    }\n",
       "\n",
       "    .dataframe thead th {\n",
       "        text-align: right;\n",
       "    }\n",
       "</style>\n",
       "<table border=\"1\" class=\"dataframe\">\n",
       "  <thead>\n",
       "    <tr style=\"text-align: right;\">\n",
       "      <th></th>\n",
       "      <th>Country</th>\n",
       "      <th>Age</th>\n",
       "      <th>Salary</th>\n",
       "      <th>Purchased</th>\n",
       "    </tr>\n",
       "  </thead>\n",
       "  <tbody>\n",
       "    <tr>\n",
       "      <th>0</th>\n",
       "      <td>France</td>\n",
       "      <td>44</td>\n",
       "      <td>72000</td>\n",
       "      <td>No</td>\n",
       "    </tr>\n",
       "    <tr>\n",
       "      <th>1</th>\n",
       "      <td>Spain</td>\n",
       "      <td>45</td>\n",
       "      <td>48000</td>\n",
       "      <td>Yes</td>\n",
       "    </tr>\n",
       "    <tr>\n",
       "      <th>2</th>\n",
       "      <td>Germany</td>\n",
       "      <td>30</td>\n",
       "      <td>54000</td>\n",
       "      <td>No</td>\n",
       "    </tr>\n",
       "    <tr>\n",
       "      <th>3</th>\n",
       "      <td>USA</td>\n",
       "      <td>20</td>\n",
       "      <td>35000</td>\n",
       "      <td>N0</td>\n",
       "    </tr>\n",
       "    <tr>\n",
       "      <th>4</th>\n",
       "      <td>Spain</td>\n",
       "      <td>38</td>\n",
       "      <td>61000</td>\n",
       "      <td>No</td>\n",
       "    </tr>\n",
       "    <tr>\n",
       "      <th>5</th>\n",
       "      <td>Germany</td>\n",
       "      <td>40</td>\n",
       "      <td>70000</td>\n",
       "      <td>Yes</td>\n",
       "    </tr>\n",
       "    <tr>\n",
       "      <th>6</th>\n",
       "      <td>France</td>\n",
       "      <td>35</td>\n",
       "      <td>58000</td>\n",
       "      <td>Yes</td>\n",
       "    </tr>\n",
       "    <tr>\n",
       "      <th>7</th>\n",
       "      <td>USA</td>\n",
       "      <td>45</td>\n",
       "      <td>60000</td>\n",
       "      <td>Yes</td>\n",
       "    </tr>\n",
       "    <tr>\n",
       "      <th>8</th>\n",
       "      <td>Spain</td>\n",
       "      <td>55</td>\n",
       "      <td>52000</td>\n",
       "      <td>No</td>\n",
       "    </tr>\n",
       "    <tr>\n",
       "      <th>9</th>\n",
       "      <td>Germany</td>\n",
       "      <td>32</td>\n",
       "      <td>50000</td>\n",
       "      <td>Yes</td>\n",
       "    </tr>\n",
       "    <tr>\n",
       "      <th>10</th>\n",
       "      <td>Spain</td>\n",
       "      <td>48</td>\n",
       "      <td>79000</td>\n",
       "      <td>Yes</td>\n",
       "    </tr>\n",
       "    <tr>\n",
       "      <th>11</th>\n",
       "      <td>France</td>\n",
       "      <td>48</td>\n",
       "      <td>79000</td>\n",
       "      <td>Yes</td>\n",
       "    </tr>\n",
       "    <tr>\n",
       "      <th>12</th>\n",
       "      <td>Germany</td>\n",
       "      <td>50</td>\n",
       "      <td>83000</td>\n",
       "      <td>No</td>\n",
       "    </tr>\n",
       "    <tr>\n",
       "      <th>13</th>\n",
       "      <td>France</td>\n",
       "      <td>37</td>\n",
       "      <td>67000</td>\n",
       "      <td>Yes</td>\n",
       "    </tr>\n",
       "    <tr>\n",
       "      <th>14</th>\n",
       "      <td>France</td>\n",
       "      <td>25</td>\n",
       "      <td>40000</td>\n",
       "      <td>No</td>\n",
       "    </tr>\n",
       "  </tbody>\n",
       "</table>\n",
       "</div>"
      ],
      "text/plain": [
       "    Country  Age  Salary Purchased\n",
       "0    France   44   72000        No\n",
       "1     Spain   45   48000       Yes\n",
       "2   Germany   30   54000        No\n",
       "3       USA   20   35000        N0\n",
       "4     Spain   38   61000        No\n",
       "5   Germany   40   70000       Yes\n",
       "6    France   35   58000       Yes\n",
       "7       USA   45   60000       Yes\n",
       "8     Spain   55   52000        No\n",
       "9   Germany   32   50000       Yes\n",
       "10    Spain   48   79000       Yes\n",
       "11   France   48   79000       Yes\n",
       "12  Germany   50   83000        No\n",
       "13   France   37   67000       Yes\n",
       "14   France   25   40000        No"
      ]
     },
     "execution_count": 34,
     "metadata": {},
     "output_type": "execute_result"
    }
   ],
   "source": [
    "# Open csv file \n",
    "pd.read_csv('Sample_Data.csv') "
   ]
  },
  {
   "cell_type": "code",
   "execution_count": 37,
   "id": "e9191f1f-89aa-4884-b7a6-4b4014cd5466",
   "metadata": {},
   "outputs": [
    {
     "name": "stdout",
     "output_type": "stream",
     "text": [
      "[[ 5 10 15 20]\n",
      " [ 2  4  6  8]] [1 3 5 7]\n"
     ]
    }
   ],
   "source": [
    "num1 = np.array([[5,10,15,20],[2,4,6,8]])\n",
    "num2 = np.array([1,3,5,7])\n",
    "\n",
    "print(num1,num2)"
   ]
  },
  {
   "cell_type": "code",
   "execution_count": 58,
   "id": "e7d59277-2c09-479f-9280-100f7f3aeeea",
   "metadata": {},
   "outputs": [
    {
     "name": "stdout",
     "output_type": "stream",
     "text": [
      "(2, 4)\n",
      "8\n",
      "2\n",
      "70\n",
      "5760000\n",
      "8.75\n",
      "2\n",
      "20\n",
      "7.0\n",
      "[[ 5 10 15 20]\n",
      " [ 2  4  6  8]]\n"
     ]
    }
   ],
   "source": [
    "print(num1.shape)\n",
    "print(num1.size)\n",
    "print(num1.ndim)\n",
    "print(num1.sum())\n",
    "print(num1.prod())\n",
    "print(num1.mean())\n",
    "print(num1.min())\n",
    "print(num1.max())\n",
    "print(np.median(num1))\n",
    "print(np.sort(num1))"
   ]
  },
  {
   "cell_type": "code",
   "execution_count": 59,
   "id": "e677242b-36a8-46fe-bdd1-eed7c8e9bf8f",
   "metadata": {},
   "outputs": [
    {
     "name": "stdout",
     "output_type": "stream",
     "text": [
      "[[ 6 13 20 27]\n",
      " [ 3  7 11 15]]\n"
     ]
    }
   ],
   "source": [
    "print(np.add(num1,num2))"
   ]
  }
 ],
 "metadata": {
  "kernelspec": {
   "display_name": "Python 3 (ipykernel)",
   "language": "python",
   "name": "python3"
  },
  "language_info": {
   "codemirror_mode": {
    "name": "ipython",
    "version": 3
   },
   "file_extension": ".py",
   "mimetype": "text/x-python",
   "name": "python",
   "nbconvert_exporter": "python",
   "pygments_lexer": "ipython3",
   "version": "3.13.3"
  }
 },
 "nbformat": 4,
 "nbformat_minor": 5
}
